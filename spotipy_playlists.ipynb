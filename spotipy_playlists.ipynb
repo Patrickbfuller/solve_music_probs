{
 "cells": [
  {
   "cell_type": "code",
   "execution_count": 2,
   "metadata": {},
   "outputs": [],
   "source": [
    "# !pip install spotipy"
   ]
  },
  {
   "cell_type": "code",
   "execution_count": 230,
   "metadata": {},
   "outputs": [
    {
     "name": "stdout",
     "output_type": "stream",
     "text": [
      "The autoreload extension is already loaded. To reload it, use:\n",
      "  %reload_ext autoreload\n"
     ]
    }
   ],
   "source": [
    "import spotipy\n",
    "from spotipy.oauth2 import SpotifyClientCredentials\n",
    "from sklearn.preprocessing import OneHotEncoder\n",
    "import pandas as pd\n",
    "import json\n",
    "import time\n",
    "import homebrew as hb\n",
    "%load_ext autoreload\n",
    "%autoreload 2"
   ]
  },
  {
   "cell_type": "code",
   "execution_count": 2,
   "metadata": {},
   "outputs": [],
   "source": [
    "with open('/Users/patrickfuller/.secrets/spotify_api.json') as f:\n",
    "    creds = json.load(f)\n",
    "client_id = creds['client_id']\n",
    "key = creds['api_key']"
   ]
  },
  {
   "cell_type": "markdown",
   "metadata": {},
   "source": [
    "Spotipy's client credential manager takes id and key when instantiating the object  \n",
    "The manager is then input when instantiating the spotify object"
   ]
  },
  {
   "cell_type": "code",
   "execution_count": 3,
   "metadata": {},
   "outputs": [],
   "source": [
    "client_credentials_manager = SpotifyClientCredentials(client_id=client_id,\n",
    "                                                      client_secret=key)\n",
    "\n",
    "spotify = spotipy.Spotify(client_credentials_manager=client_credentials_manager)"
   ]
  },
  {
   "cell_type": "markdown",
   "metadata": {},
   "source": [
    "The featured playlists method will return playlits that were featured at a given time.\n",
    "I also suspect they may be user specific. "
   ]
  },
  {
   "cell_type": "code",
   "execution_count": 4,
   "metadata": {},
   "outputs": [],
   "source": [
    "# yyyy-MM-ddTHH:mm:ss\n",
    "response = spotify.featured_playlists(limit=50)#, timestamp='2019-06-22T12:00:00')"
   ]
  },
  {
   "cell_type": "code",
   "execution_count": 5,
   "metadata": {},
   "outputs": [
    {
     "data": {
      "text/plain": [
       "dict_keys(['message', 'playlists'])"
      ]
     },
     "execution_count": 5,
     "metadata": {},
     "output_type": "execute_result"
    }
   ],
   "source": [
    "response.keys()"
   ]
  },
  {
   "cell_type": "code",
   "execution_count": 6,
   "metadata": {},
   "outputs": [
    {
     "data": {
      "text/plain": [
       "dict_keys(['href', 'items', 'limit', 'next', 'offset', 'previous', 'total'])"
      ]
     },
     "execution_count": 6,
     "metadata": {},
     "output_type": "execute_result"
    }
   ],
   "source": [
    "response['playlists'].keys()"
   ]
  },
  {
   "cell_type": "code",
   "execution_count": 7,
   "metadata": {},
   "outputs": [],
   "source": [
    "featured_playlists = response['playlists']['items']"
   ]
  },
  {
   "cell_type": "code",
   "execution_count": 8,
   "metadata": {},
   "outputs": [
    {
     "data": {
      "text/plain": [
       "11"
      ]
     },
     "execution_count": 8,
     "metadata": {},
     "output_type": "execute_result"
    }
   ],
   "source": [
    "len(featured_playlists)"
   ]
  },
  {
   "cell_type": "code",
   "execution_count": 9,
   "metadata": {},
   "outputs": [
    {
     "data": {
      "text/plain": [
       "[{'collaborative': False,\n",
       "  'external_urls': {'spotify': 'https://open.spotify.com/playlist/37i9dQZF1DXdQvOLqzNHSW'},\n",
       "  'href': 'https://api.spotify.com/v1/playlists/37i9dQZF1DXdQvOLqzNHSW',\n",
       "  'id': '37i9dQZF1DXdQvOLqzNHSW',\n",
       "  'images': [{'height': None,\n",
       "    'url': 'https://pl.scdn.co/images/pl/default/ed8ca7d059f668db5a86c73cf16262507cb0137a',\n",
       "    'width': None}],\n",
       "  'name': 'Late Night Vibes',\n",
       "  'owner': {'display_name': 'Spotify',\n",
       "   'external_urls': {'spotify': 'https://open.spotify.com/user/spotify'},\n",
       "   'href': 'https://api.spotify.com/v1/users/spotify',\n",
       "   'id': 'spotify',\n",
       "   'type': 'user',\n",
       "   'uri': 'spotify:user:spotify'},\n",
       "  'primary_color': None,\n",
       "  'public': None,\n",
       "  'snapshot_id': 'MTU2MTQ5NzUxNSwwMDAwMDAwMGQ0MWQ4Y2Q5OGYwMGIyMDRlOTgwMDk5OGVjZjg0Mjdl',\n",
       "  'tracks': {'href': 'https://api.spotify.com/v1/playlists/37i9dQZF1DXdQvOLqzNHSW/tracks',\n",
       "   'total': 75},\n",
       "  'type': 'playlist',\n",
       "  'uri': 'spotify:playlist:37i9dQZF1DXdQvOLqzNHSW'},\n",
       " {'collaborative': False,\n",
       "  'external_urls': {'spotify': 'https://open.spotify.com/playlist/37i9dQZF1DX1gRalH1mWrP'},\n",
       "  'href': 'https://api.spotify.com/v1/playlists/37i9dQZF1DX1gRalH1mWrP',\n",
       "  'id': '37i9dQZF1DX1gRalH1mWrP',\n",
       "  'images': [{'height': None,\n",
       "    'url': 'https://pl.scdn.co/images/pl/default/2f02947f1a4acbd139ca82b3288c82e29b6b70bd',\n",
       "    'width': None}],\n",
       "  'name': 'Summer Hits',\n",
       "  'owner': {'display_name': 'Spotify',\n",
       "   'external_urls': {'spotify': 'https://open.spotify.com/user/spotify'},\n",
       "   'href': 'https://api.spotify.com/v1/users/spotify',\n",
       "   'id': 'spotify',\n",
       "   'type': 'user',\n",
       "   'uri': 'spotify:user:spotify'},\n",
       "  'primary_color': None,\n",
       "  'public': None,\n",
       "  'snapshot_id': 'MTU2MTQ3MjcwOSwwMDAwMDA2ODAwMDAwMTZiOGYwNmIzZmYwMDAwMDE2ODk4YzZiMGFl',\n",
       "  'tracks': {'href': 'https://api.spotify.com/v1/playlists/37i9dQZF1DX1gRalH1mWrP/tracks',\n",
       "   'total': 70},\n",
       "  'type': 'playlist',\n",
       "  'uri': 'spotify:playlist:37i9dQZF1DX1gRalH1mWrP'},\n",
       " {'collaborative': False,\n",
       "  'external_urls': {'spotify': 'https://open.spotify.com/playlist/37i9dQZF1DXcWBRiUaG3o5'},\n",
       "  'href': 'https://api.spotify.com/v1/playlists/37i9dQZF1DXcWBRiUaG3o5',\n",
       "  'id': '37i9dQZF1DXcWBRiUaG3o5',\n",
       "  'images': [{'height': None,\n",
       "    'url': 'https://pl.scdn.co/images/pl/default/307b8ea5c11fdaadb34eacd3ffb9177cea0ad104',\n",
       "    'width': None}],\n",
       "  'name': 'Evening Acoustic',\n",
       "  'owner': {'display_name': 'Spotify',\n",
       "   'external_urls': {'spotify': 'https://open.spotify.com/user/spotify'},\n",
       "   'href': 'https://api.spotify.com/v1/users/spotify',\n",
       "   'id': 'spotify',\n",
       "   'type': 'user',\n",
       "   'uri': 'spotify:user:spotify'},\n",
       "  'primary_color': None,\n",
       "  'public': None,\n",
       "  'snapshot_id': 'MTU1MTkzMjMwMiwwMDAwMDA0NzAwMDAwMTY5NTY1ZmEzMWEwMDAwMDE2ODk5NzZjZTc0',\n",
       "  'tracks': {'href': 'https://api.spotify.com/v1/playlists/37i9dQZF1DXcWBRiUaG3o5/tracks',\n",
       "   'total': 100},\n",
       "  'type': 'playlist',\n",
       "  'uri': 'spotify:playlist:37i9dQZF1DXcWBRiUaG3o5'},\n",
       " {'collaborative': False,\n",
       "  'external_urls': {'spotify': 'https://open.spotify.com/playlist/37i9dQZF1DWXRqgorJj26U'},\n",
       "  'href': 'https://api.spotify.com/v1/playlists/37i9dQZF1DWXRqgorJj26U',\n",
       "  'id': '37i9dQZF1DWXRqgorJj26U',\n",
       "  'images': [{'height': None,\n",
       "    'url': 'https://pl.scdn.co/images/pl/default/22aa4f9c1057c444088c8b21eb9504fbba7f6ef7',\n",
       "    'width': None}],\n",
       "  'name': 'Rock Classics',\n",
       "  'owner': {'display_name': 'Spotify',\n",
       "   'external_urls': {'spotify': 'https://open.spotify.com/user/spotify'},\n",
       "   'href': 'https://api.spotify.com/v1/users/spotify',\n",
       "   'id': 'spotify',\n",
       "   'type': 'user',\n",
       "   'uri': 'spotify:user:spotify'},\n",
       "  'primary_color': None,\n",
       "  'public': None,\n",
       "  'snapshot_id': 'MTU2MTQ5NzU3NSwwMDAwMDAwMGQ0MWQ4Y2Q5OGYwMGIyMDRlOTgwMDk5OGVjZjg0Mjdl',\n",
       "  'tracks': {'href': 'https://api.spotify.com/v1/playlists/37i9dQZF1DWXRqgorJj26U/tracks',\n",
       "   'total': 150},\n",
       "  'type': 'playlist',\n",
       "  'uri': 'spotify:playlist:37i9dQZF1DWXRqgorJj26U'},\n",
       " {'collaborative': False,\n",
       "  'external_urls': {'spotify': 'https://open.spotify.com/playlist/37i9dQZF1DX4wta20PHgwo'},\n",
       "  'href': 'https://api.spotify.com/v1/playlists/37i9dQZF1DX4wta20PHgwo',\n",
       "  'id': '37i9dQZF1DX4wta20PHgwo',\n",
       "  'images': [{'height': None,\n",
       "    'url': 'https://pl.scdn.co/images/pl/default/5adc0ac3cfd246f4e321d40f8e096db365299299',\n",
       "    'width': None}],\n",
       "  'name': 'Late Night Jazz',\n",
       "  'owner': {'display_name': 'Spotify',\n",
       "   'external_urls': {'spotify': 'https://open.spotify.com/user/spotify'},\n",
       "   'href': 'https://api.spotify.com/v1/users/spotify',\n",
       "   'id': 'spotify',\n",
       "   'type': 'user',\n",
       "   'uri': 'spotify:user:spotify'},\n",
       "  'primary_color': None,\n",
       "  'public': None,\n",
       "  'snapshot_id': 'MTU2MTQ5NzUxNiwwMDAwMDAwMGQ0MWQ4Y2Q5OGYwMGIyMDRlOTgwMDk5OGVjZjg0Mjdl',\n",
       "  'tracks': {'href': 'https://api.spotify.com/v1/playlists/37i9dQZF1DX4wta20PHgwo/tracks',\n",
       "   'total': 50},\n",
       "  'type': 'playlist',\n",
       "  'uri': 'spotify:playlist:37i9dQZF1DX4wta20PHgwo'},\n",
       " {'collaborative': False,\n",
       "  'external_urls': {'spotify': 'https://open.spotify.com/playlist/37i9dQZF1DX7rOY2tZUw1k'},\n",
       "  'href': 'https://api.spotify.com/v1/playlists/37i9dQZF1DX7rOY2tZUw1k',\n",
       "  'id': '37i9dQZF1DX7rOY2tZUw1k',\n",
       "  'images': [{'height': None,\n",
       "    'url': 'https://pl.scdn.co/images/pl/default/e9876382b7a82d2a1ba26cb49c44ca37e194060c',\n",
       "    'width': None}],\n",
       "  'name': 'Timeless Love Songs',\n",
       "  'owner': {'display_name': 'Spotify',\n",
       "   'external_urls': {'spotify': 'https://open.spotify.com/user/spotify'},\n",
       "   'href': 'https://api.spotify.com/v1/users/spotify',\n",
       "   'id': 'spotify',\n",
       "   'type': 'user',\n",
       "   'uri': 'spotify:user:spotify'},\n",
       "  'primary_color': None,\n",
       "  'public': None,\n",
       "  'snapshot_id': 'MTU1ODM1ODk1OSwwMDAwMDAyNjAwMDAwMTZhZDU2ZWE0NzgwMDAwMDE2ODk4YmFhZGYw',\n",
       "  'tracks': {'href': 'https://api.spotify.com/v1/playlists/37i9dQZF1DX7rOY2tZUw1k/tracks',\n",
       "   'total': 90},\n",
       "  'type': 'playlist',\n",
       "  'uri': 'spotify:playlist:37i9dQZF1DX7rOY2tZUw1k'},\n",
       " {'collaborative': False,\n",
       "  'external_urls': {'spotify': 'https://open.spotify.com/playlist/37i9dQZF1DX1s9knjP51Oa'},\n",
       "  'href': 'https://api.spotify.com/v1/playlists/37i9dQZF1DX1s9knjP51Oa',\n",
       "  'id': '37i9dQZF1DX1s9knjP51Oa',\n",
       "  'images': [{'height': None,\n",
       "    'url': 'https://pl.scdn.co/images/pl/default/d2ef67cd3838806a7682c23a86ca0327252b6335',\n",
       "    'width': None}],\n",
       "  'name': 'Calm Vibes',\n",
       "  'owner': {'display_name': 'Spotify',\n",
       "   'external_urls': {'spotify': 'https://open.spotify.com/user/spotify'},\n",
       "   'href': 'https://api.spotify.com/v1/users/spotify',\n",
       "   'id': 'spotify',\n",
       "   'type': 'user',\n",
       "   'uri': 'spotify:user:spotify'},\n",
       "  'primary_color': None,\n",
       "  'public': None,\n",
       "  'snapshot_id': 'MTU2MDI2MzUwMCwwMDAwMDAyMzAwMDAwMTZiNDZmM2EzMTgwMDAwMDE2ODk1NDk1MDk0',\n",
       "  'tracks': {'href': 'https://api.spotify.com/v1/playlists/37i9dQZF1DX1s9knjP51Oa/tracks',\n",
       "   'total': 55},\n",
       "  'type': 'playlist',\n",
       "  'uri': 'spotify:playlist:37i9dQZF1DX1s9knjP51Oa'},\n",
       " {'collaborative': False,\n",
       "  'external_urls': {'spotify': 'https://open.spotify.com/playlist/37i9dQZF1DX5lDysu4GbKR'},\n",
       "  'href': 'https://api.spotify.com/v1/playlists/37i9dQZF1DX5lDysu4GbKR',\n",
       "  'id': '37i9dQZF1DX5lDysu4GbKR',\n",
       "  'images': [{'height': None,\n",
       "    'url': 'https://pl.scdn.co/images/pl/default/8955eeaf80717212e48bcec82490f1380b606afb',\n",
       "    'width': None}],\n",
       "  'name': 'Acoustic Soul',\n",
       "  'owner': {'display_name': 'Spotify',\n",
       "   'external_urls': {'spotify': 'https://open.spotify.com/user/spotify'},\n",
       "   'href': 'https://api.spotify.com/v1/users/spotify',\n",
       "   'id': 'spotify',\n",
       "   'type': 'user',\n",
       "   'uri': 'spotify:user:spotify'},\n",
       "  'primary_color': None,\n",
       "  'public': None,\n",
       "  'snapshot_id': 'MTU2MTA3NTUwMCwwMDAwMDAyZDAwMDAwMTZiNzc1OWM0MzAwMDAwMDE2YjczYWE1YWJl',\n",
       "  'tracks': {'href': 'https://api.spotify.com/v1/playlists/37i9dQZF1DX5lDysu4GbKR/tracks',\n",
       "   'total': 60},\n",
       "  'type': 'playlist',\n",
       "  'uri': 'spotify:playlist:37i9dQZF1DX5lDysu4GbKR'},\n",
       " {'collaborative': False,\n",
       "  'external_urls': {'spotify': 'https://open.spotify.com/playlist/37i9dQZF1DX79Y9Kr2M2tM'},\n",
       "  'href': 'https://api.spotify.com/v1/playlists/37i9dQZF1DX79Y9Kr2M2tM',\n",
       "  'id': '37i9dQZF1DX79Y9Kr2M2tM',\n",
       "  'images': [{'height': None,\n",
       "    'url': 'https://pl.scdn.co/images/pl/default/2f9344eba6ed7603a6eb55c8f8a5c17ebe84613d',\n",
       "    'width': None}],\n",
       "  'name': 'Lush + Atmospheric',\n",
       "  'owner': {'display_name': 'Spotify',\n",
       "   'external_urls': {'spotify': 'https://open.spotify.com/user/spotify'},\n",
       "   'href': 'https://api.spotify.com/v1/users/spotify',\n",
       "   'id': 'spotify',\n",
       "   'type': 'user',\n",
       "   'uri': 'spotify:user:spotify'},\n",
       "  'primary_color': None,\n",
       "  'public': None,\n",
       "  'snapshot_id': 'MTU1NzUwNzY0NiwwMDAwMDA0MTAwMDAwMTZhYTJiMGE0N2EwMDAwMDE2ODk4ZGU2NTU0',\n",
       "  'tracks': {'href': 'https://api.spotify.com/v1/playlists/37i9dQZF1DX79Y9Kr2M2tM/tracks',\n",
       "   'total': 93},\n",
       "  'type': 'playlist',\n",
       "  'uri': 'spotify:playlist:37i9dQZF1DX79Y9Kr2M2tM'},\n",
       " {'collaborative': False,\n",
       "  'external_urls': {'spotify': 'https://open.spotify.com/playlist/37i9dQZF1DWVl5gPCRkquk'},\n",
       "  'href': 'https://api.spotify.com/v1/playlists/37i9dQZF1DWVl5gPCRkquk',\n",
       "  'id': '37i9dQZF1DWVl5gPCRkquk',\n",
       "  'images': [{'height': None,\n",
       "    'url': 'https://pl.scdn.co/images/pl/default/52cff7eb1653bacd4e2e6235694600c2e5a1988c',\n",
       "    'width': None}],\n",
       "  'name': 'Chill as Folk',\n",
       "  'owner': {'display_name': 'Spotify',\n",
       "   'external_urls': {'spotify': 'https://open.spotify.com/user/spotify'},\n",
       "   'href': 'https://api.spotify.com/v1/users/spotify',\n",
       "   'id': 'spotify',\n",
       "   'type': 'user',\n",
       "   'uri': 'spotify:user:spotify'},\n",
       "  'primary_color': None,\n",
       "  'public': None,\n",
       "  'snapshot_id': 'MTU1ODc0ODY4MCwwMDAwMDA0NDAwMDAwMTZhZWNhOTUyNGIwMDAwMDE2YWU1ODA5ZDg0',\n",
       "  'tracks': {'href': 'https://api.spotify.com/v1/playlists/37i9dQZF1DWVl5gPCRkquk/tracks',\n",
       "   'total': 102},\n",
       "  'type': 'playlist',\n",
       "  'uri': 'spotify:playlist:37i9dQZF1DWVl5gPCRkquk'},\n",
       " {'collaborative': False,\n",
       "  'external_urls': {'spotify': 'https://open.spotify.com/playlist/37i9dQZF1DWVA1Gq4XHa6U'},\n",
       "  'href': 'https://api.spotify.com/v1/playlists/37i9dQZF1DWVA1Gq4XHa6U',\n",
       "  'id': '37i9dQZF1DWVA1Gq4XHa6U',\n",
       "  'images': [{'height': None,\n",
       "    'url': 'https://pl.scdn.co/images/pl/default/d15143607c021449d25a537df60cc46b16c5581a',\n",
       "    'width': None}],\n",
       "  'name': 'Gold School',\n",
       "  'owner': {'display_name': 'Spotify',\n",
       "   'external_urls': {'spotify': 'https://open.spotify.com/user/spotify'},\n",
       "   'href': 'https://api.spotify.com/v1/users/spotify',\n",
       "   'id': 'spotify',\n",
       "   'type': 'user',\n",
       "   'uri': 'spotify:user:spotify'},\n",
       "  'primary_color': None,\n",
       "  'public': None,\n",
       "  'snapshot_id': 'MTU2MDE5MzA0NSwwMDAwMDA4MDAwMDAwMTZiNDJjMDk0MzUwMDAwMDE2YjQxNmVlZTI5',\n",
       "  'tracks': {'href': 'https://api.spotify.com/v1/playlists/37i9dQZF1DWVA1Gq4XHa6U/tracks',\n",
       "   'total': 50},\n",
       "  'type': 'playlist',\n",
       "  'uri': 'spotify:playlist:37i9dQZF1DWVA1Gq4XHa6U'}]"
      ]
     },
     "execution_count": 9,
     "metadata": {},
     "output_type": "execute_result"
    }
   ],
   "source": [
    "featured_playlists"
   ]
  },
  {
   "cell_type": "markdown",
   "metadata": {},
   "source": [
    "The id and name are nested deep"
   ]
  },
  {
   "cell_type": "code",
   "execution_count": 10,
   "metadata": {},
   "outputs": [
    {
     "data": {
      "text/plain": [
       "('37i9dQZF1DXdQvOLqzNHSW', 'Late Night Vibes')"
      ]
     },
     "execution_count": 10,
     "metadata": {},
     "output_type": "execute_result"
    }
   ],
   "source": [
    "featured_playlists[0]['id'], featured_playlists[0]['name']"
   ]
  },
  {
   "cell_type": "code",
   "execution_count": 11,
   "metadata": {},
   "outputs": [
    {
     "data": {
      "text/plain": [
       "'spotify'"
      ]
     },
     "execution_count": 11,
     "metadata": {},
     "output_type": "execute_result"
    }
   ],
   "source": [
    "#We will also use the owner id\n",
    "featured_playlists[0]['owner']['id']"
   ]
  },
  {
   "cell_type": "markdown",
   "metadata": {},
   "source": [
    "Using an abstracted custom function to retreive many id and name pairs at once"
   ]
  },
  {
   "cell_type": "code",
   "execution_count": 12,
   "metadata": {},
   "outputs": [
    {
     "data": {
      "text/plain": [
       "{'37i9dQZF1DXdQvOLqzNHSW': {'name': 'Late Night Vibes', 'owner_id': 'spotify'},\n",
       " '37i9dQZF1DX1gRalH1mWrP': {'name': 'Summer Hits', 'owner_id': 'spotify'},\n",
       " '37i9dQZF1DXcWBRiUaG3o5': {'name': 'Evening Acoustic', 'owner_id': 'spotify'},\n",
       " '37i9dQZF1DWXRqgorJj26U': {'name': 'Rock Classics', 'owner_id': 'spotify'},\n",
       " '37i9dQZF1DX4wta20PHgwo': {'name': 'Late Night Jazz', 'owner_id': 'spotify'},\n",
       " '37i9dQZF1DX7rOY2tZUw1k': {'name': 'Timeless Love Songs',\n",
       "  'owner_id': 'spotify'},\n",
       " '37i9dQZF1DX1s9knjP51Oa': {'name': 'Calm Vibes', 'owner_id': 'spotify'},\n",
       " '37i9dQZF1DX5lDysu4GbKR': {'name': 'Acoustic Soul', 'owner_id': 'spotify'},\n",
       " '37i9dQZF1DX79Y9Kr2M2tM': {'name': 'Lush + Atmospheric',\n",
       "  'owner_id': 'spotify'},\n",
       " '37i9dQZF1DWVl5gPCRkquk': {'name': 'Chill as Folk', 'owner_id': 'spotify'},\n",
       " '37i9dQZF1DWVA1Gq4XHa6U': {'name': 'Gold School', 'owner_id': 'spotify'}}"
      ]
     },
     "execution_count": 12,
     "metadata": {},
     "output_type": "execute_result"
    }
   ],
   "source": [
    "hb.extract_name_and_id(response)"
   ]
  },
  {
   "cell_type": "code",
   "execution_count": 13,
   "metadata": {},
   "outputs": [],
   "source": [
    "acoustic = spotify.search('acoustic', type='playlist', market = 'US', limit=50)"
   ]
  },
  {
   "cell_type": "code",
   "execution_count": 14,
   "metadata": {},
   "outputs": [
    {
     "data": {
      "text/plain": [
       "{'37i9dQZF1DXb9LIXaj5WhL': {'name': '90s Acoustic', 'owner_id': 'spotify'},\n",
       " '37i9dQZF1DWXmlLSKkfdAk': {'name': 'Acoustic Covers', 'owner_id': 'spotify'},\n",
       " '37i9dQZF1DWX9VXBLRgDqu': {'name': 'Acoustic Favorites',\n",
       "  'owner_id': 'spotify'},\n",
       " '37i9dQZF1DX8TvdyVZSYFY': {'name': 'Acoustic Throwbacks',\n",
       "  'owner_id': 'spotify'},\n",
       " '37i9dQZF1DX0rCrO4CFRfM': {'name': 'Acoustic Rock', 'owner_id': 'spotify'},\n",
       " '37i9dQZF1DX504r1DvyvxG': {'name': 'Classic Acoustic', 'owner_id': 'spotify'},\n",
       " '37i9dQZF1DX4VvfRBFClxm': {'name': 'Acoustic Hits', 'owner_id': 'spotify'},\n",
       " '37i9dQZF1DWSlwBojgQEcN': {'name': 'Acoustic Love', 'owner_id': 'spotify'},\n",
       " '37i9dQZF1DX4CgJVlGEIo5': {'name': 'Easy Acoustic', 'owner_id': 'spotify'},\n",
       " '37i9dQZF1DWUNIrSzKgQbP': {'name': 'Summer Acoustic', 'owner_id': 'spotify'},\n",
       " '37i9dQZF1DXc3FQfFV3K6V': {'name': 'Laidback Acoustic',\n",
       "  'owner_id': 'spotify'},\n",
       " '37i9dQZF1DWYGZAMYFDM8S': {'name': 'Acoustic Chill', 'owner_id': 'spotify'},\n",
       " '37i9dQZF1DXaImRpG7HXqp': {'name': 'Acoustic Calm', 'owner_id': 'spotify'},\n",
       " '37i9dQZF1DX6z20IXmBjWI': {'name': 'Infinite Acoustic',\n",
       "  'owner_id': 'spotify'},\n",
       " '37i9dQZF1DX5lDysu4GbKR': {'name': 'Acoustic Soul', 'owner_id': 'spotify'},\n",
       " '37i9dQZF1DXdd3gw5QVjt9': {'name': 'Morning Acoustic', 'owner_id': 'spotify'},\n",
       " '37i9dQZF1DX2iUghHXGIjj': {'name': 'Acoustic Blues', 'owner_id': 'spotify'},\n",
       " '37i9dQZF1DX4E3UdUs7fUx': {'name': 'Afternoon Acoustic',\n",
       "  'owner_id': 'spotify'},\n",
       " '37i9dQZF1DWX3xqQKu0Sgn': {'name': 'Pop Acoustic', 'owner_id': 'spotify'},\n",
       " '37i9dQZF1DXcWBRiUaG3o5': {'name': 'Evening Acoustic', 'owner_id': 'spotify'},\n",
       " '37i9dQZF1DX5GiUwx1edLZ': {'name': 'mint Acoustic', 'owner_id': 'spotify'},\n",
       " '37i9dQZF1DWSwxyU5zGZYe': {'name': 'Bollywood Acoustic',\n",
       "  'owner_id': 'spotify'},\n",
       " '37i9dQZF1DXcLDm348RRYK': {'name': 'Acoustic Concentration',\n",
       "  'owner_id': 'spotify'},\n",
       " '37i9dQZF1DX4je779Ww5L2': {'name': 'Acoustic Summer', 'owner_id': 'spotify'},\n",
       " '37i9dQZF1DXdxjdZwLamNx': {'name': 'Gentle Acoustic', 'owner_id': 'spotify'},\n",
       " '2JtkUgJumiz7K4AblbFlgK': {'name': 'Acoustic Room',\n",
       "  'owner_id': 'digster.co.uk'},\n",
       " '37i9dQZF1DX0JKUIfwQSJh': {'name': '70s & 80s Acoustic',\n",
       "  'owner_id': 'spotify'},\n",
       " '37i9dQZF1DXaiAJKcabR16': {'name': 'Acoustic Grit', 'owner_id': 'spotify'},\n",
       " '37i9dQZF1DWUDoJcM4v6Tm': {'name': 'Indie Acoustic Chill',\n",
       "  'owner_id': 'spotify'},\n",
       " '37i9dQZF1DX0jgyAiPl8Af': {'name': 'Peaceful Guitar', 'owner_id': 'spotify'},\n",
       " '6prLaAk2sOPeDpJKY6LZZ9': {'name': 'Starbucks Acoustic',\n",
       "  'owner_id': 'starbucks'},\n",
       " '2V8qoHWpiJ1HlCxiYT7Vsb': {'name': 'Acoustic Worship',\n",
       "  'owner_id': 'bethelmusic'},\n",
       " '3ZJ3tiNi2aKblhloHgz9R8': {'name': 'Acoustic Covers 💿',\n",
       "  'owner_id': 'doublejmusicltd'},\n",
       " '37i9dQZF1DWUH2AzNQzWua': {'name': 'Acoustic Hits: Oldies but Goodies',\n",
       "  'owner_id': 'spotify'},\n",
       " '4ARhwf75lsNra3UD9KIYPy': {'name': 'Acoustic 2019',\n",
       "  'owner_id': 'gabrielsjbv'},\n",
       " '37i9dQZF1DX571ttkrxAeN': {'name': 'Acoustic Cafe International',\n",
       "  'owner_id': 'spotify'},\n",
       " '37i9dQZF1DWXYO300IYLDB': {'name': 'Acoustic Melodies Tokyo',\n",
       "  'owner_id': 'spotify'},\n",
       " '37i9dQZF1DXaByxqE5mcbB': {'name': 'Acoustic sa Umaga',\n",
       "  'owner_id': 'spotify'},\n",
       " '4XkMSl1R3f7WsNeTZgrxv5': {'name': 'Boyce Avenue Acoustic Covers',\n",
       "  'owner_id': 'boyceavenue'},\n",
       " '0XxgvmqDKDYsYoCiEjlTzv': {'name': 'HILLSONG ACOUSTIC',\n",
       "  'owner_id': '1231514602'},\n",
       " '37i9dQZF1DWY8U6Zq7nvbE': {'name': 'Hot Acoustics', 'owner_id': 'spotify'},\n",
       " '37i9dQZF1DWUI804Xnly9d': {'name': 'Chai & Acoustic', 'owner_id': 'spotify'},\n",
       " '6ssHgVFDNaWmXcvFJttFmW': {'name': 'Acoustic OPM', 'owner_id': 'ren_x7'},\n",
       " '37i9dQZF1DXcJMm7qL65rU': {'name': 'Acoustic Lounge', 'owner_id': 'spotify'},\n",
       " '37i9dQZF1DX6MOpsDRQkA4': {'name': 'Acoustic Party', 'owner_id': 'spotify'},\n",
       " '0irp5Jir8rllPr2dlOdnJb': {'name': 'Acoustic Guitar Instrumentals',\n",
       "  'owner_id': 'koreanry'},\n",
       " '37i9dQZF1DX7XF2hFaHoss': {'name': 'Women of Acoustic',\n",
       "  'owner_id': 'spotify'},\n",
       " '4mgONdF300kCTcppGtsy7A': {'name': 'Acoustic Sleep',\n",
       "  'owner_id': 'sleepsoundlibrary'},\n",
       " '4gIuecj8CQrFih0rwyEYMs': {'name': 'Corey Taylor Acoustic',\n",
       "  'owner_id': 'lygiamaciel70'},\n",
       " '1nRpJkW26d0LrHM5Ar6rk8': {'name': 'All Acoustic',\n",
       "  'owner_id': 'z4acg8jkhhqn4euyb73n64v8e'}}"
      ]
     },
     "execution_count": 14,
     "metadata": {},
     "output_type": "execute_result"
    }
   ],
   "source": [
    "hb.extract_name_and_id(acoustic)"
   ]
  },
  {
   "cell_type": "markdown",
   "metadata": {},
   "source": [
    "It seems to work for other playlists as well. We can now begin to compile a master playlist... list  \n",
    "But first lets compile a list of potential playlist queries."
   ]
  },
  {
   "cell_type": "code",
   "execution_count": 15,
   "metadata": {},
   "outputs": [
    {
     "data": {
      "text/plain": [
       "{'categories': {'href': 'https://api.spotify.com/v1/browse/categories?country=US&offset=0&limit=2',\n",
       "  'items': [{'href': 'https://api.spotify.com/v1/browse/categories/toplists',\n",
       "    'icons': [{'height': 275,\n",
       "      'url': 'https://t.scdn.co/media/derived/toplists_11160599e6a04ac5d6f2757f5511778f_0_0_275_275.jpg',\n",
       "      'width': 275}],\n",
       "    'id': 'toplists',\n",
       "    'name': 'Top Lists'},\n",
       "   {'href': 'https://api.spotify.com/v1/browse/categories/pride',\n",
       "    'icons': [{'height': None,\n",
       "      'url': 'https://t.scdn.co/images/90f4c163-46f6-4cda-bd84-e78ff90d4959.jpg',\n",
       "      'width': None}],\n",
       "    'id': 'pride',\n",
       "    'name': 'Pride'}],\n",
       "  'limit': 2,\n",
       "  'next': 'https://api.spotify.com/v1/browse/categories?country=US&offset=2&limit=2',\n",
       "  'offset': 0,\n",
       "  'previous': None,\n",
       "  'total': 44}}"
      ]
     },
     "execution_count": 15,
     "metadata": {},
     "output_type": "execute_result"
    }
   ],
   "source": [
    "spotify.categories(country='US', limit=2)"
   ]
  },
  {
   "cell_type": "code",
   "execution_count": 16,
   "metadata": {},
   "outputs": [
    {
     "data": {
      "text/plain": [
       "[{'href': 'https://api.spotify.com/v1/browse/categories/toplists',\n",
       "  'icons': [{'height': 275,\n",
       "    'url': 'https://t.scdn.co/media/derived/toplists_11160599e6a04ac5d6f2757f5511778f_0_0_275_275.jpg',\n",
       "    'width': 275}],\n",
       "  'id': 'toplists',\n",
       "  'name': 'Top Lists'},\n",
       " {'href': 'https://api.spotify.com/v1/browse/categories/pride',\n",
       "  'icons': [{'height': None,\n",
       "    'url': 'https://t.scdn.co/images/90f4c163-46f6-4cda-bd84-e78ff90d4959.jpg',\n",
       "    'width': None}],\n",
       "  'id': 'pride',\n",
       "  'name': 'Pride'}]"
      ]
     },
     "execution_count": 16,
     "metadata": {},
     "output_type": "execute_result"
    }
   ],
   "source": [
    "spotify.categories(country='US', limit=50)['categories']['items'][:2]"
   ]
  },
  {
   "cell_type": "code",
   "execution_count": 17,
   "metadata": {},
   "outputs": [],
   "source": [
    "# These are nested similar to the playlist items\n",
    "categories_list = []\n",
    "for category in spotify.categories(country='US',\n",
    "                                   limit=50)['categories']['items']:\n",
    "    categories_list.append(category['id'])"
   ]
  },
  {
   "cell_type": "code",
   "execution_count": 18,
   "metadata": {},
   "outputs": [
    {
     "data": {
      "text/plain": [
       "['toplists',\n",
       " 'pride',\n",
       " 'summer',\n",
       " 'pop',\n",
       " 'hiphop',\n",
       " 'mood',\n",
       " 'workout',\n",
       " 'decades',\n",
       " 'country',\n",
       " 'focus',\n",
       " 'latin',\n",
       " 'chill',\n",
       " 'edm_dance',\n",
       " 'rnb',\n",
       " 'rock',\n",
       " 'soul',\n",
       " 'indie_alt',\n",
       " 'roots',\n",
       " 'party',\n",
       " 'sleep',\n",
       " 'classical',\n",
       " 'jazz',\n",
       " 'inspirational',\n",
       " 'gaming',\n",
       " 'romance',\n",
       " 'kpop',\n",
       " 'popculture',\n",
       " 'arab',\n",
       " 'desi',\n",
       " 'afro',\n",
       " 'ellen',\n",
       " 'metal',\n",
       " 'reggae',\n",
       " 'blues',\n",
       " 'punk',\n",
       " 'funk',\n",
       " 'dinner',\n",
       " 'blackhistorymonth',\n",
       " 'sessions',\n",
       " 'travel',\n",
       " 'family',\n",
       " 'comedy',\n",
       " 'word',\n",
       " 'mexican']"
      ]
     },
     "execution_count": 18,
     "metadata": {},
     "output_type": "execute_result"
    }
   ],
   "source": [
    "categories_list"
   ]
  },
  {
   "cell_type": "code",
   "execution_count": 43,
   "metadata": {},
   "outputs": [
    {
     "data": {
      "text/plain": [
       "['toplists',\n",
       " 'pride',\n",
       " 'summer',\n",
       " 'pop',\n",
       " 'hiphop',\n",
       " 'mood',\n",
       " 'workout',\n",
       " 'decades',\n",
       " 'country',\n",
       " 'focus',\n",
       " 'latin',\n",
       " 'chill',\n",
       " 'edm_dance',\n",
       " 'rnb',\n",
       " 'rock',\n",
       " 'soul',\n",
       " 'indie_alt',\n",
       " 'roots',\n",
       " 'party',\n",
       " 'classical',\n",
       " 'jazz',\n",
       " 'inspirational',\n",
       " 'gaming',\n",
       " 'romance',\n",
       " 'kpop',\n",
       " 'popculture',\n",
       " 'arab',\n",
       " 'desi',\n",
       " 'afro',\n",
       " 'metal',\n",
       " 'reggae',\n",
       " 'blues',\n",
       " 'punk',\n",
       " 'funk',\n",
       " 'dinner',\n",
       " 'blackhistorymonth',\n",
       " 'sessions',\n",
       " 'travel',\n",
       " 'mexican']"
      ]
     },
     "execution_count": 43,
     "metadata": {},
     "output_type": "execute_result"
    }
   ],
   "source": [
    "for cat in ['family', 'comedy', 'word', 'ellen', 'sleep']:   \n",
    "    categories_list.remove(cat)\n",
    "categories_list                      # Think we can pass on these categories for now."
   ]
  },
  {
   "cell_type": "code",
   "execution_count": 44,
   "metadata": {},
   "outputs": [
    {
     "name": "stdout",
     "output_type": "stream",
     "text": [
      "toplists has 14 playlists\n",
      "pride has 24 playlists\n",
      "summer has 44 playlists\n",
      "pop has 41 playlists\n",
      "hiphop has 46 playlists\n",
      "mood has 50 playlists\n",
      "workout has 50 playlists\n",
      "decades has 50 playlists\n",
      "country has 50 playlists\n",
      "focus has 41 playlists\n",
      "latin has 50 playlists\n",
      "chill has 50 playlists\n",
      "edm_dance has 49 playlists\n",
      "rnb has 25 playlists\n",
      "rock has 50 playlists\n",
      "soul has 23 playlists\n",
      "indie_alt has 50 playlists\n",
      "roots has 50 playlists\n",
      "party has 42 playlists\n",
      "classical has 50 playlists\n",
      "jazz has 39 playlists\n",
      "inspirational has 50 playlists\n",
      "gaming has 48 playlists\n",
      "romance has 50 playlists\n",
      "kpop has 31 playlists\n",
      "popculture has 42 playlists\n",
      "arab has 38 playlists\n",
      "desi has 50 playlists\n",
      "afro has 50 playlists\n",
      "metal has 33 playlists\n",
      "reggae has 17 playlists\n",
      "blues has 24 playlists\n",
      "punk has 27 playlists\n",
      "funk has 12 playlists\n",
      "dinner has 19 playlists\n",
      "blackhistorymonth has 22 playlists\n",
      "sessions has 10 playlists\n",
      "travel has 30 playlists\n",
      "mexican has 40 playlists\n"
     ]
    }
   ],
   "source": [
    "big_categories_50 = []\n",
    "for category in categories_list:\n",
    "    playlist_list = spotify.category_playlists(category_id=category,\n",
    "                           limit=50, country='US', offset=0\n",
    "                           )['playlists']['items']\n",
    "    n = len(playlist_list)\n",
    "    if n == 50:                             # If there are 50 playlists it may be only because\n",
    "                                            # the limit is trimming the result and there are\n",
    "                                            # actually more that we want to get\n",
    "        big_categories_50.append(category)\n",
    "    print(f'{category} has {n} playlists')"
   ]
  },
  {
   "cell_type": "code",
   "execution_count": 45,
   "metadata": {},
   "outputs": [
    {
     "data": {
      "text/plain": [
       "['mood',\n",
       " 'workout',\n",
       " 'decades',\n",
       " 'country',\n",
       " 'latin',\n",
       " 'chill',\n",
       " 'rock',\n",
       " 'indie_alt',\n",
       " 'roots',\n",
       " 'classical',\n",
       " 'inspirational',\n",
       " 'romance',\n",
       " 'desi',\n",
       " 'afro']"
      ]
     },
     "execution_count": 45,
     "metadata": {},
     "output_type": "execute_result"
    }
   ],
   "source": [
    "big_categories_50"
   ]
  },
  {
   "cell_type": "code",
   "execution_count": 46,
   "metadata": {},
   "outputs": [
    {
     "name": "stdout",
     "output_type": "stream",
     "text": [
      "mood has 35 playlists\n",
      "workout has 16 playlists\n",
      "decades has 6 playlists\n",
      "country has 7 playlists\n",
      "latin has 50 playlists\n",
      "chill has 48 playlists\n",
      "rock has 29 playlists\n",
      "indie_alt has 1 playlists\n",
      "roots has 50 playlists\n",
      "classical has 50 playlists\n",
      "inspirational has 34 playlists\n",
      "romance has 2 playlists\n",
      "desi has 13 playlists\n",
      "afro has 28 playlists\n"
     ]
    }
   ],
   "source": [
    "big_categories_100 = []\n",
    "for category in big_categories_50:\n",
    "    playlist_list = spotify.category_playlists(category_id=category,\n",
    "                           limit=50, country='US', offset=50\n",
    "                           )['playlists']['items']\n",
    "    n = len(playlist_list)\n",
    "    if n == 50:\n",
    "        big_categories_100.append(category)\n",
    "    print(f'{category} has {n} playlists')"
   ]
  },
  {
   "cell_type": "code",
   "execution_count": 47,
   "metadata": {},
   "outputs": [
    {
     "name": "stdout",
     "output_type": "stream",
     "text": [
      "latin has 50 playlists\n",
      "roots has 7 playlists\n",
      "classical has 15 playlists\n"
     ]
    }
   ],
   "source": [
    "big_categories_150 = []\n",
    "for category in big_categories_100:\n",
    "    playlist_list = spotify.category_playlists(category_id=category,\n",
    "                           limit=50, country='US', offset=100\n",
    "                           )['playlists']['items']\n",
    "    n = len(playlist_list)\n",
    "    if n == 50:\n",
    "        big_categories_150.append(category)\n",
    "    print(f'{category} has {n} playlists')"
   ]
  },
  {
   "cell_type": "code",
   "execution_count": 48,
   "metadata": {},
   "outputs": [
    {
     "data": {
      "text/plain": [
       "50"
      ]
     },
     "execution_count": 48,
     "metadata": {},
     "output_type": "execute_result"
    }
   ],
   "source": [
    "playlist_list = spotify.category_playlists(category_id='latin',\n",
    "                       limit=50, country='US', offset=150\n",
    "                       )['playlists']['items']\n",
    "len(playlist_list)"
   ]
  },
  {
   "cell_type": "markdown",
   "metadata": {},
   "source": [
    "WOW! 200 Playlists for Latin!! 200 will probably be enough. "
   ]
  },
  {
   "cell_type": "markdown",
   "metadata": {},
   "source": [
    "Lets start smashing some playlist lists together.  \n",
    "Thankfully the dictionary class will not add any playlist twice,  \n",
    "and the update function will allow us to merge new playlists."
   ]
  },
  {
   "cell_type": "code",
   "execution_count": 49,
   "metadata": {},
   "outputs": [],
   "source": [
    "master_playlist_dict = {}"
   ]
  },
  {
   "cell_type": "code",
   "execution_count": 50,
   "metadata": {},
   "outputs": [],
   "source": [
    "for category in categories_list:\n",
    "    offset = 0\n",
    "    while True:\n",
    "        response = spotify.category_playlists(category_id=category,\n",
    "                                                             offset=offset,\n",
    "                                                             limit=50, country='US',\n",
    "                                                             )\n",
    "        current_names_ids = hb.extract_name_and_id(response)\n",
    "        if current_names_ids == {}:                     # If we run out of playlists in a category\n",
    "            break                                       # we move on to the next category\n",
    "        master_playlist_dict.update(current_names_ids)\n",
    "        offset += 50"
   ]
  },
  {
   "cell_type": "code",
   "execution_count": 51,
   "metadata": {},
   "outputs": [
    {
     "data": {
      "text/plain": [
       "1752"
      ]
     },
     "execution_count": 51,
     "metadata": {},
     "output_type": "execute_result"
    }
   ],
   "source": [
    "len(master_playlist_dict.keys())"
   ]
  },
  {
   "cell_type": "code",
   "execution_count": 52,
   "metadata": {},
   "outputs": [
    {
     "data": {
      "text/plain": [
       "('37i9dQZF1DXcBWIGoYBM5M', {'name': \"Today's Top Hits\", 'owner_id': 'spotify'})"
      ]
     },
     "execution_count": 52,
     "metadata": {},
     "output_type": "execute_result"
    }
   ],
   "source": [
    "list(master_playlist_dict.items())[0]"
   ]
  },
  {
   "cell_type": "markdown",
   "metadata": {},
   "source": [
    "Lets see if we can find artists in a playlist!"
   ]
  },
  {
   "cell_type": "code",
   "execution_count": 53,
   "metadata": {},
   "outputs": [
    {
     "data": {
      "text/plain": [
       "dict_keys(['href', 'items', 'limit', 'next', 'offset', 'previous', 'total'])"
      ]
     },
     "execution_count": 53,
     "metadata": {},
     "output_type": "execute_result"
    }
   ],
   "source": [
    "playlist_tracks_response = spotify.user_playlist_tracks(user='spotify',\n",
    "                                             playlist_id='37i9dQZF1DXcBWIGoYBM5M',\n",
    "                                             offset=0,)\n",
    "playlist_tracks_response.keys()"
   ]
  },
  {
   "cell_type": "code",
   "execution_count": 54,
   "metadata": {},
   "outputs": [
    {
     "data": {
      "text/plain": [
       "list"
      ]
     },
     "execution_count": 54,
     "metadata": {},
     "output_type": "execute_result"
    }
   ],
   "source": [
    "type(playlist_tracks_response['items'])"
   ]
  },
  {
   "cell_type": "code",
   "execution_count": 55,
   "metadata": {},
   "outputs": [
    {
     "name": "stdout",
     "output_type": "stream",
     "text": [
      "There are 50 songs in this response\n"
     ]
    }
   ],
   "source": [
    "n = len(playlist_tracks_response['items'])\n",
    "print(f'There are {n} songs in this response')"
   ]
  },
  {
   "cell_type": "code",
   "execution_count": 56,
   "metadata": {},
   "outputs": [],
   "source": [
    "first_track = playlist_tracks_response['items'][0]"
   ]
  },
  {
   "cell_type": "code",
   "execution_count": 57,
   "metadata": {},
   "outputs": [
    {
     "data": {
      "text/plain": [
       "dict_keys(['added_at', 'added_by', 'is_local', 'primary_color', 'track', 'video_thumbnail'])"
      ]
     },
     "execution_count": 57,
     "metadata": {},
     "output_type": "execute_result"
    }
   ],
   "source": [
    "first_track.keys()"
   ]
  },
  {
   "cell_type": "code",
   "execution_count": 58,
   "metadata": {},
   "outputs": [
    {
     "data": {
      "text/plain": [
       "dict_keys(['album', 'artists', 'available_markets', 'disc_number', 'duration_ms', 'episode', 'explicit', 'external_ids', 'external_urls', 'href', 'id', 'is_local', 'name', 'popularity', 'preview_url', 'track', 'track_number', 'type', 'uri'])"
      ]
     },
     "execution_count": 58,
     "metadata": {},
     "output_type": "execute_result"
    }
   ],
   "source": [
    "first_track['track'].keys()"
   ]
  },
  {
   "cell_type": "code",
   "execution_count": 59,
   "metadata": {},
   "outputs": [
    {
     "data": {
      "text/plain": [
       "[{'external_urls': {'spotify': 'https://open.spotify.com/artist/7n2wHs1TKAczGzO7Dd2rGr'},\n",
       "  'href': 'https://api.spotify.com/v1/artists/7n2wHs1TKAczGzO7Dd2rGr',\n",
       "  'id': '7n2wHs1TKAczGzO7Dd2rGr',\n",
       "  'name': 'Shawn Mendes',\n",
       "  'type': 'artist',\n",
       "  'uri': 'spotify:artist:7n2wHs1TKAczGzO7Dd2rGr'},\n",
       " {'external_urls': {'spotify': 'https://open.spotify.com/artist/4nDoRrQiYLoBzwC5BhVJzF'},\n",
       "  'href': 'https://api.spotify.com/v1/artists/4nDoRrQiYLoBzwC5BhVJzF',\n",
       "  'id': '4nDoRrQiYLoBzwC5BhVJzF',\n",
       "  'name': 'Camila Cabello',\n",
       "  'type': 'artist',\n",
       "  'uri': 'spotify:artist:4nDoRrQiYLoBzwC5BhVJzF'}]"
      ]
     },
     "execution_count": 59,
     "metadata": {},
     "output_type": "execute_result"
    }
   ],
   "source": [
    "first_track['track']['artists']"
   ]
  },
  {
   "cell_type": "code",
   "execution_count": 60,
   "metadata": {},
   "outputs": [
    {
     "name": "stdout",
     "output_type": "stream",
     "text": [
      "Shawn Mendes\n",
      "Camila Cabello\n"
     ]
    }
   ],
   "source": [
    "for artist in first_track['track']['artists']:\n",
    "    print(artist['name'])"
   ]
  },
  {
   "cell_type": "markdown",
   "metadata": {},
   "source": [
    "Whew. Really nested in there. Lets abstract that to a homebrew function."
   ]
  },
  {
   "cell_type": "code",
   "execution_count": 61,
   "metadata": {},
   "outputs": [
    {
     "name": "stdout",
     "output_type": "stream",
     "text": [
      "72 artists in this playlist\n",
      "Five artists featured in this playlist: ['RANI', 'Tyler, The Creator', 'Miley Cyrus', '21 Savage', 'Tiësto']\n"
     ]
    }
   ],
   "source": [
    "playlist_artists = hb.get_artists_in_playlist(playlist_tracks_response)\n",
    "\n",
    "print(f'{len(playlist_artists)} artists in this playlist')\n",
    "print(f'Five artists featured in this playlist: {playlist_artists[:5]}')"
   ]
  },
  {
   "cell_type": "code",
   "execution_count": 62,
   "metadata": {},
   "outputs": [
    {
     "data": {
      "text/plain": [
       "('37i9dQZF1DXcBWIGoYBM5M', {'name': \"Today's Top Hits\", 'owner_id': 'spotify'})"
      ]
     },
     "execution_count": 62,
     "metadata": {},
     "output_type": "execute_result"
    }
   ],
   "source": [
    "list(master_playlist_dict.items())[0]"
   ]
  },
  {
   "cell_type": "code",
   "execution_count": 65,
   "metadata": {},
   "outputs": [],
   "source": [
    "with open('playlists_with_artists.json', 'w') as f:\n",
    "    \n",
    "    for playlist_id, values in master_playlist_dict.items():\n",
    "        try:\n",
    "            owner_id = values['owner_id']\n",
    "            name = values['name']\n",
    "            artists_in_playlist = []\n",
    "            offset = 0\n",
    "            for _ in range(2):\n",
    "                    # Just going to look at the first 200 songs in a playlist\n",
    "                response = spotify.user_playlist_tracks(user=owner_id, playlist_id=playlist_id)\n",
    "                artists = hb.get_artists_in_playlist(response)\n",
    "                artists_in_playlist.extend(artists)\n",
    "                offset += 100\n",
    "            unique = list(set(artists_in_playlist))\n",
    "            row = {'playlist_id': playlist_id,\n",
    "                       'name': name,\n",
    "                       'artists': unique\n",
    "                      }\n",
    "            json.dump(row, f)\n",
    "            f.write('\\n')\n",
    "        except:\n",
    "            pass "
   ]
  },
  {
   "cell_type": "code",
   "execution_count": 69,
   "metadata": {},
   "outputs": [
    {
     "data": {
      "text/html": [
       "<div>\n",
       "<style scoped>\n",
       "    .dataframe tbody tr th:only-of-type {\n",
       "        vertical-align: middle;\n",
       "    }\n",
       "\n",
       "    .dataframe tbody tr th {\n",
       "        vertical-align: top;\n",
       "    }\n",
       "\n",
       "    .dataframe thead th {\n",
       "        text-align: right;\n",
       "    }\n",
       "</style>\n",
       "<table border=\"1\" class=\"dataframe\">\n",
       "  <thead>\n",
       "    <tr style=\"text-align: right;\">\n",
       "      <th></th>\n",
       "      <th>artists</th>\n",
       "      <th>name</th>\n",
       "      <th>playlist_id</th>\n",
       "    </tr>\n",
       "  </thead>\n",
       "  <tbody>\n",
       "    <tr>\n",
       "      <th>0</th>\n",
       "      <td>[RANI, Tyler, The Creator, Miley Cyrus, Tiësto...</td>\n",
       "      <td>Today's Top Hits</td>\n",
       "      <td>37i9dQZF1DXcBWIGoYBM5M</td>\n",
       "    </tr>\n",
       "    <tr>\n",
       "      <th>1</th>\n",
       "      <td>[Bas, Lil Baby, French Montana, NAV, Tyler, Th...</td>\n",
       "      <td>RapCaviar</td>\n",
       "      <td>37i9dQZF1DX0XUsuxWHRQd</td>\n",
       "    </tr>\n",
       "    <tr>\n",
       "      <th>2</th>\n",
       "      <td>[Slipknot, Sam Fender, Bad Religion, Sum 41, A...</td>\n",
       "      <td>Rock This</td>\n",
       "      <td>37i9dQZF1DXcF6B6QPhFDv</td>\n",
       "    </tr>\n",
       "    <tr>\n",
       "      <th>3</th>\n",
       "      <td>[James Hype, Shaun Ross, SACHI, Dimitri Vegas ...</td>\n",
       "      <td>mint</td>\n",
       "      <td>37i9dQZF1DX4dyzvuaRJ0n</td>\n",
       "    </tr>\n",
       "    <tr>\n",
       "      <th>4</th>\n",
       "      <td>[Scotty McCreery, Dylan Scott, Dustin Lynch, D...</td>\n",
       "      <td>Hot Country</td>\n",
       "      <td>37i9dQZF1DX1lVhptIYRda</td>\n",
       "    </tr>\n",
       "  </tbody>\n",
       "</table>\n",
       "</div>"
      ],
      "text/plain": [
       "                                             artists              name  \\\n",
       "0  [RANI, Tyler, The Creator, Miley Cyrus, Tiësto...  Today's Top Hits   \n",
       "1  [Bas, Lil Baby, French Montana, NAV, Tyler, Th...         RapCaviar   \n",
       "2  [Slipknot, Sam Fender, Bad Religion, Sum 41, A...         Rock This   \n",
       "3  [James Hype, Shaun Ross, SACHI, Dimitri Vegas ...              mint   \n",
       "4  [Scotty McCreery, Dylan Scott, Dustin Lynch, D...       Hot Country   \n",
       "\n",
       "              playlist_id  \n",
       "0  37i9dQZF1DXcBWIGoYBM5M  \n",
       "1  37i9dQZF1DX0XUsuxWHRQd  \n",
       "2  37i9dQZF1DXcF6B6QPhFDv  \n",
       "3  37i9dQZF1DX4dyzvuaRJ0n  \n",
       "4  37i9dQZF1DX1lVhptIYRda  "
      ]
     },
     "execution_count": 69,
     "metadata": {},
     "output_type": "execute_result"
    }
   ],
   "source": [
    "playlists_df = pd.read_json('playlists_with_artists.json', lines=True)\n",
    "playlists_df.head()"
   ]
  },
  {
   "cell_type": "code",
   "execution_count": 72,
   "metadata": {},
   "outputs": [],
   "source": [
    "master_artist_list = []\n",
    "for artist_list in df.artists:\n",
    "    for artist in artist_list:\n",
    "        if artist not in master_artist_list:\n",
    "            master_artist_list.append(artist)"
   ]
  },
  {
   "cell_type": "code",
   "execution_count": 74,
   "metadata": {},
   "outputs": [
    {
     "data": {
      "text/plain": [
       "43869"
      ]
     },
     "execution_count": 74,
     "metadata": {},
     "output_type": "execute_result"
    }
   ],
   "source": [
    "len(master_artist_list)"
   ]
  },
  {
   "cell_type": "code",
   "execution_count": 158,
   "metadata": {},
   "outputs": [
    {
     "data": {
      "text/html": [
       "<div>\n",
       "<style scoped>\n",
       "    .dataframe tbody tr th:only-of-type {\n",
       "        vertical-align: middle;\n",
       "    }\n",
       "\n",
       "    .dataframe tbody tr th {\n",
       "        vertical-align: top;\n",
       "    }\n",
       "\n",
       "    .dataframe thead th {\n",
       "        text-align: right;\n",
       "    }\n",
       "</style>\n",
       "<table border=\"1\" class=\"dataframe\">\n",
       "  <thead>\n",
       "    <tr style=\"text-align: right;\">\n",
       "      <th></th>\n",
       "      <th>artist</th>\n",
       "    </tr>\n",
       "  </thead>\n",
       "  <tbody>\n",
       "    <tr>\n",
       "      <th>0</th>\n",
       "      <td>RANI</td>\n",
       "    </tr>\n",
       "    <tr>\n",
       "      <th>1</th>\n",
       "      <td>Tyler, The Creator</td>\n",
       "    </tr>\n",
       "    <tr>\n",
       "      <th>2</th>\n",
       "      <td>Miley Cyrus</td>\n",
       "    </tr>\n",
       "    <tr>\n",
       "      <th>3</th>\n",
       "      <td>Tiësto</td>\n",
       "    </tr>\n",
       "    <tr>\n",
       "      <th>4</th>\n",
       "      <td>YG</td>\n",
       "    </tr>\n",
       "  </tbody>\n",
       "</table>\n",
       "</div>"
      ],
      "text/plain": [
       "               artist\n",
       "0                RANI\n",
       "1  Tyler, The Creator\n",
       "2         Miley Cyrus\n",
       "3              Tiësto\n",
       "4                  YG"
      ]
     },
     "execution_count": 158,
     "metadata": {},
     "output_type": "execute_result"
    }
   ],
   "source": [
    "artists_df = pd.DataFrame(master_artist_list, columns=['artist'])\n",
    "artists_df.head()"
   ]
  },
  {
   "cell_type": "code",
   "execution_count": 159,
   "metadata": {},
   "outputs": [
    {
     "name": "stdout",
     "output_type": "stream",
     "text": [
      "37i9dQZF1DXcBWIGoYBM5M\n",
      "37i9dQZEVXbLiRSasKsNU9\n",
      "37i9dQZEVXbKuaTI1Z1Afx\n",
      "37i9dQZF1DX1gRalH1mWrP\n",
      "37i9dQZF1DWUa8ZRTfalHk\n",
      "37i9dQZF1DX3rxVfibe1L0\n",
      "37i9dQZF1DWUSyphfcc6aL\n",
      "37i9dQZF1DX8tZsk68tuDw\n",
      "37i9dQZF1DXdIpacQDPDV5\n",
      "3CVqLcJ1CeZ4Ejp22yU1iG\n"
     ]
    }
   ],
   "source": [
    "for artist_list, playlist_id in zip(playlists_df.artists, playlists_df.playlist_id):\n",
    "    if 'RANI' in artist_list:\n",
    "        print(playlist_id)"
   ]
  },
  {
   "cell_type": "code",
   "execution_count": 160,
   "metadata": {},
   "outputs": [
    {
     "data": {
      "text/plain": [
       "['37i9dQZF1DXcBWIGoYBM5M',\n",
       " '37i9dQZEVXbLiRSasKsNU9',\n",
       " '37i9dQZEVXbKuaTI1Z1Afx',\n",
       " '37i9dQZF1DX1gRalH1mWrP',\n",
       " '37i9dQZF1DWUa8ZRTfalHk',\n",
       " '37i9dQZF1DX3rxVfibe1L0',\n",
       " '37i9dQZF1DWUSyphfcc6aL',\n",
       " '37i9dQZF1DX8tZsk68tuDw',\n",
       " '37i9dQZF1DXdIpacQDPDV5',\n",
       " '3CVqLcJ1CeZ4Ejp22yU1iG']"
      ]
     },
     "execution_count": 160,
     "metadata": {},
     "output_type": "execute_result"
    }
   ],
   "source": [
    "hb.get_playlists_w_artist(artist='RANI', df=playlists_df)"
   ]
  },
  {
   "cell_type": "code",
   "execution_count": 166,
   "metadata": {},
   "outputs": [],
   "source": [
    "# for artist in artists_df['artist']:\n",
    "#     playlist_list = hb.get_playlists_w_artist(artist=artist,\n",
    "#                                               df=playlists_df)\n",
    "#     for playlist in playlist_list:\n",
    "#         artists_df.loc[artists_df['artist']==artist, playlist] = 1\n",
    "    "
   ]
  },
  {
   "cell_type": "code",
   "execution_count": 167,
   "metadata": {},
   "outputs": [
    {
     "data": {
      "text/html": [
       "<div>\n",
       "<style scoped>\n",
       "    .dataframe tbody tr th:only-of-type {\n",
       "        vertical-align: middle;\n",
       "    }\n",
       "\n",
       "    .dataframe tbody tr th {\n",
       "        vertical-align: top;\n",
       "    }\n",
       "\n",
       "    .dataframe thead th {\n",
       "        text-align: right;\n",
       "    }\n",
       "</style>\n",
       "<table border=\"1\" class=\"dataframe\">\n",
       "  <thead>\n",
       "    <tr style=\"text-align: right;\">\n",
       "      <th></th>\n",
       "      <th>artist</th>\n",
       "      <th>37i9dQZF1DXcBWIGoYBM5M</th>\n",
       "      <th>37i9dQZEVXbLiRSasKsNU9</th>\n",
       "      <th>37i9dQZEVXbKuaTI1Z1Afx</th>\n",
       "      <th>37i9dQZF1DX1gRalH1mWrP</th>\n",
       "      <th>37i9dQZF1DWUa8ZRTfalHk</th>\n",
       "      <th>37i9dQZF1DX3rxVfibe1L0</th>\n",
       "      <th>37i9dQZF1DWUSyphfcc6aL</th>\n",
       "      <th>37i9dQZF1DX8tZsk68tuDw</th>\n",
       "      <th>37i9dQZF1DXdIpacQDPDV5</th>\n",
       "      <th>...</th>\n",
       "      <th>37i9dQZF1DX37bXS7EGI3f</th>\n",
       "      <th>37i9dQZF1DWVw3oyaj4jsN</th>\n",
       "      <th>37i9dQZF1DXdTb8AG95jne</th>\n",
       "      <th>37i9dQZF1DX1cJWWyylDuw</th>\n",
       "      <th>37i9dQZF1DX5dWVbnmtiDv</th>\n",
       "      <th>37i9dQZF1DXaGNG7NmtmZv</th>\n",
       "      <th>37i9dQZF1DWXhcuQw7KIeM</th>\n",
       "      <th>37i9dQZF1DWY3X53lmPYk9</th>\n",
       "      <th>37i9dQZF1DWY7TEf86LRjN</th>\n",
       "      <th>37i9dQZF1DWVr1Mv0HkuSR</th>\n",
       "    </tr>\n",
       "  </thead>\n",
       "  <tbody>\n",
       "    <tr>\n",
       "      <th>0</th>\n",
       "      <td>RANI</td>\n",
       "      <td>1.0</td>\n",
       "      <td>1.0</td>\n",
       "      <td>1.0</td>\n",
       "      <td>1.0</td>\n",
       "      <td>1.0</td>\n",
       "      <td>1.0</td>\n",
       "      <td>1.0</td>\n",
       "      <td>1.0</td>\n",
       "      <td>1.0</td>\n",
       "      <td>...</td>\n",
       "      <td>NaN</td>\n",
       "      <td>NaN</td>\n",
       "      <td>NaN</td>\n",
       "      <td>NaN</td>\n",
       "      <td>NaN</td>\n",
       "      <td>NaN</td>\n",
       "      <td>NaN</td>\n",
       "      <td>NaN</td>\n",
       "      <td>NaN</td>\n",
       "      <td>NaN</td>\n",
       "    </tr>\n",
       "    <tr>\n",
       "      <th>1</th>\n",
       "      <td>Tyler, The Creator</td>\n",
       "      <td>1.0</td>\n",
       "      <td>NaN</td>\n",
       "      <td>1.0</td>\n",
       "      <td>NaN</td>\n",
       "      <td>1.0</td>\n",
       "      <td>NaN</td>\n",
       "      <td>NaN</td>\n",
       "      <td>NaN</td>\n",
       "      <td>NaN</td>\n",
       "      <td>...</td>\n",
       "      <td>NaN</td>\n",
       "      <td>NaN</td>\n",
       "      <td>NaN</td>\n",
       "      <td>NaN</td>\n",
       "      <td>NaN</td>\n",
       "      <td>NaN</td>\n",
       "      <td>NaN</td>\n",
       "      <td>NaN</td>\n",
       "      <td>NaN</td>\n",
       "      <td>NaN</td>\n",
       "    </tr>\n",
       "    <tr>\n",
       "      <th>2</th>\n",
       "      <td>Miley Cyrus</td>\n",
       "      <td>1.0</td>\n",
       "      <td>1.0</td>\n",
       "      <td>1.0</td>\n",
       "      <td>1.0</td>\n",
       "      <td>1.0</td>\n",
       "      <td>1.0</td>\n",
       "      <td>NaN</td>\n",
       "      <td>NaN</td>\n",
       "      <td>NaN</td>\n",
       "      <td>...</td>\n",
       "      <td>NaN</td>\n",
       "      <td>NaN</td>\n",
       "      <td>NaN</td>\n",
       "      <td>NaN</td>\n",
       "      <td>NaN</td>\n",
       "      <td>NaN</td>\n",
       "      <td>NaN</td>\n",
       "      <td>NaN</td>\n",
       "      <td>NaN</td>\n",
       "      <td>NaN</td>\n",
       "    </tr>\n",
       "    <tr>\n",
       "      <th>3</th>\n",
       "      <td>Tiësto</td>\n",
       "      <td>1.0</td>\n",
       "      <td>NaN</td>\n",
       "      <td>NaN</td>\n",
       "      <td>1.0</td>\n",
       "      <td>1.0</td>\n",
       "      <td>1.0</td>\n",
       "      <td>1.0</td>\n",
       "      <td>NaN</td>\n",
       "      <td>1.0</td>\n",
       "      <td>...</td>\n",
       "      <td>NaN</td>\n",
       "      <td>NaN</td>\n",
       "      <td>NaN</td>\n",
       "      <td>NaN</td>\n",
       "      <td>NaN</td>\n",
       "      <td>NaN</td>\n",
       "      <td>NaN</td>\n",
       "      <td>NaN</td>\n",
       "      <td>NaN</td>\n",
       "      <td>NaN</td>\n",
       "    </tr>\n",
       "    <tr>\n",
       "      <th>4</th>\n",
       "      <td>YG</td>\n",
       "      <td>1.0</td>\n",
       "      <td>1.0</td>\n",
       "      <td>1.0</td>\n",
       "      <td>NaN</td>\n",
       "      <td>1.0</td>\n",
       "      <td>NaN</td>\n",
       "      <td>NaN</td>\n",
       "      <td>NaN</td>\n",
       "      <td>NaN</td>\n",
       "      <td>...</td>\n",
       "      <td>NaN</td>\n",
       "      <td>NaN</td>\n",
       "      <td>NaN</td>\n",
       "      <td>NaN</td>\n",
       "      <td>NaN</td>\n",
       "      <td>NaN</td>\n",
       "      <td>NaN</td>\n",
       "      <td>NaN</td>\n",
       "      <td>NaN</td>\n",
       "      <td>NaN</td>\n",
       "    </tr>\n",
       "  </tbody>\n",
       "</table>\n",
       "<p>5 rows × 1629 columns</p>\n",
       "</div>"
      ],
      "text/plain": [
       "               artist  37i9dQZF1DXcBWIGoYBM5M  37i9dQZEVXbLiRSasKsNU9  \\\n",
       "0                RANI                     1.0                     1.0   \n",
       "1  Tyler, The Creator                     1.0                     NaN   \n",
       "2         Miley Cyrus                     1.0                     1.0   \n",
       "3              Tiësto                     1.0                     NaN   \n",
       "4                  YG                     1.0                     1.0   \n",
       "\n",
       "   37i9dQZEVXbKuaTI1Z1Afx  37i9dQZF1DX1gRalH1mWrP  37i9dQZF1DWUa8ZRTfalHk  \\\n",
       "0                     1.0                     1.0                     1.0   \n",
       "1                     1.0                     NaN                     1.0   \n",
       "2                     1.0                     1.0                     1.0   \n",
       "3                     NaN                     1.0                     1.0   \n",
       "4                     1.0                     NaN                     1.0   \n",
       "\n",
       "   37i9dQZF1DX3rxVfibe1L0  37i9dQZF1DWUSyphfcc6aL  37i9dQZF1DX8tZsk68tuDw  \\\n",
       "0                     1.0                     1.0                     1.0   \n",
       "1                     NaN                     NaN                     NaN   \n",
       "2                     1.0                     NaN                     NaN   \n",
       "3                     1.0                     1.0                     NaN   \n",
       "4                     NaN                     NaN                     NaN   \n",
       "\n",
       "   37i9dQZF1DXdIpacQDPDV5           ...            37i9dQZF1DX37bXS7EGI3f  \\\n",
       "0                     1.0           ...                               NaN   \n",
       "1                     NaN           ...                               NaN   \n",
       "2                     NaN           ...                               NaN   \n",
       "3                     1.0           ...                               NaN   \n",
       "4                     NaN           ...                               NaN   \n",
       "\n",
       "   37i9dQZF1DWVw3oyaj4jsN  37i9dQZF1DXdTb8AG95jne  37i9dQZF1DX1cJWWyylDuw  \\\n",
       "0                     NaN                     NaN                     NaN   \n",
       "1                     NaN                     NaN                     NaN   \n",
       "2                     NaN                     NaN                     NaN   \n",
       "3                     NaN                     NaN                     NaN   \n",
       "4                     NaN                     NaN                     NaN   \n",
       "\n",
       "   37i9dQZF1DX5dWVbnmtiDv  37i9dQZF1DXaGNG7NmtmZv  37i9dQZF1DWXhcuQw7KIeM  \\\n",
       "0                     NaN                     NaN                     NaN   \n",
       "1                     NaN                     NaN                     NaN   \n",
       "2                     NaN                     NaN                     NaN   \n",
       "3                     NaN                     NaN                     NaN   \n",
       "4                     NaN                     NaN                     NaN   \n",
       "\n",
       "   37i9dQZF1DWY3X53lmPYk9  37i9dQZF1DWY7TEf86LRjN  37i9dQZF1DWVr1Mv0HkuSR  \n",
       "0                     NaN                     NaN                     NaN  \n",
       "1                     NaN                     NaN                     NaN  \n",
       "2                     NaN                     NaN                     NaN  \n",
       "3                     NaN                     NaN                     NaN  \n",
       "4                     NaN                     NaN                     NaN  \n",
       "\n",
       "[5 rows x 1629 columns]"
      ]
     },
     "execution_count": 167,
     "metadata": {},
     "output_type": "execute_result"
    }
   ],
   "source": [
    "artists_df.head()"
   ]
  },
  {
   "cell_type": "code",
   "execution_count": 176,
   "metadata": {},
   "outputs": [],
   "source": [
    "artists_shard = master_artist_list[:2000:250]"
   ]
  },
  {
   "cell_type": "code",
   "execution_count": 177,
   "metadata": {},
   "outputs": [
    {
     "data": {
      "text/plain": [
       "['RANI',\n",
       " 'Matt Nash',\n",
       " 'Jorge & Mateus',\n",
       " 'Annie Lennox',\n",
       " 'WNNR',\n",
       " 'Lauren Bousfield',\n",
       " 'Fredrik Ullen',\n",
       " 'Sonny & Cher']"
      ]
     },
     "execution_count": 177,
     "metadata": {},
     "output_type": "execute_result"
    }
   ],
   "source": [
    "artists_shard"
   ]
  },
  {
   "cell_type": "code",
   "execution_count": 243,
   "metadata": {},
   "outputs": [
    {
     "data": {
      "text/html": [
       "<div>\n",
       "<style scoped>\n",
       "    .dataframe tbody tr th:only-of-type {\n",
       "        vertical-align: middle;\n",
       "    }\n",
       "\n",
       "    .dataframe tbody tr th {\n",
       "        vertical-align: top;\n",
       "    }\n",
       "\n",
       "    .dataframe thead th {\n",
       "        text-align: right;\n",
       "    }\n",
       "</style>\n",
       "<table border=\"1\" class=\"dataframe\">\n",
       "  <thead>\n",
       "    <tr style=\"text-align: right;\">\n",
       "      <th></th>\n",
       "      <th>artists</th>\n",
       "      <th>name</th>\n",
       "      <th>playlist_id</th>\n",
       "    </tr>\n",
       "  </thead>\n",
       "  <tbody>\n",
       "    <tr>\n",
       "      <th>0</th>\n",
       "      <td>[RANI, Tyler, The Creator, Miley Cyrus, Tiësto...</td>\n",
       "      <td>Today's Top Hits</td>\n",
       "      <td>37i9dQZF1DXcBWIGoYBM5M</td>\n",
       "    </tr>\n",
       "    <tr>\n",
       "      <th>1</th>\n",
       "      <td>[Bas, Lil Baby, French Montana, NAV, Tyler, Th...</td>\n",
       "      <td>RapCaviar</td>\n",
       "      <td>37i9dQZF1DX0XUsuxWHRQd</td>\n",
       "    </tr>\n",
       "    <tr>\n",
       "      <th>2</th>\n",
       "      <td>[Slipknot, Sam Fender, Bad Religion, Sum 41, A...</td>\n",
       "      <td>Rock This</td>\n",
       "      <td>37i9dQZF1DXcF6B6QPhFDv</td>\n",
       "    </tr>\n",
       "    <tr>\n",
       "      <th>3</th>\n",
       "      <td>[James Hype, Shaun Ross, SACHI, Dimitri Vegas ...</td>\n",
       "      <td>mint</td>\n",
       "      <td>37i9dQZF1DX4dyzvuaRJ0n</td>\n",
       "    </tr>\n",
       "    <tr>\n",
       "      <th>4</th>\n",
       "      <td>[Scotty McCreery, Dylan Scott, Dustin Lynch, D...</td>\n",
       "      <td>Hot Country</td>\n",
       "      <td>37i9dQZF1DX1lVhptIYRda</td>\n",
       "    </tr>\n",
       "  </tbody>\n",
       "</table>\n",
       "</div>"
      ],
      "text/plain": [
       "                                             artists              name  \\\n",
       "0  [RANI, Tyler, The Creator, Miley Cyrus, Tiësto...  Today's Top Hits   \n",
       "1  [Bas, Lil Baby, French Montana, NAV, Tyler, Th...         RapCaviar   \n",
       "2  [Slipknot, Sam Fender, Bad Religion, Sum 41, A...         Rock This   \n",
       "3  [James Hype, Shaun Ross, SACHI, Dimitri Vegas ...              mint   \n",
       "4  [Scotty McCreery, Dylan Scott, Dustin Lynch, D...       Hot Country   \n",
       "\n",
       "              playlist_id  \n",
       "0  37i9dQZF1DXcBWIGoYBM5M  \n",
       "1  37i9dQZF1DX0XUsuxWHRQd  \n",
       "2  37i9dQZF1DXcF6B6QPhFDv  \n",
       "3  37i9dQZF1DX4dyzvuaRJ0n  \n",
       "4  37i9dQZF1DX1lVhptIYRda  "
      ]
     },
     "execution_count": 243,
     "metadata": {},
     "output_type": "execute_result"
    }
   ],
   "source": [
    "toy = playlists_df.head().copy()\n",
    "toy"
   ]
  },
  {
   "cell_type": "code",
   "execution_count": 220,
   "metadata": {},
   "outputs": [],
   "source": [
    "taco = pd.DataFrame(toy['artists'].tolist(),\n",
    "             index=toy.index).stack()"
   ]
  },
  {
   "cell_type": "code",
   "execution_count": 225,
   "metadata": {},
   "outputs": [],
   "source": [
    "taco = taco.reset_index().drop('level_1', axis=1)"
   ]
  },
  {
   "cell_type": "code",
   "execution_count": 227,
   "metadata": {},
   "outputs": [
    {
     "data": {
      "text/html": [
       "<div>\n",
       "<style scoped>\n",
       "    .dataframe tbody tr th:only-of-type {\n",
       "        vertical-align: middle;\n",
       "    }\n",
       "\n",
       "    .dataframe tbody tr th {\n",
       "        vertical-align: top;\n",
       "    }\n",
       "\n",
       "    .dataframe thead th {\n",
       "        text-align: right;\n",
       "    }\n",
       "</style>\n",
       "<table border=\"1\" class=\"dataframe\">\n",
       "  <thead>\n",
       "    <tr style=\"text-align: right;\">\n",
       "      <th></th>\n",
       "      <th>playlist_index</th>\n",
       "      <th>artists</th>\n",
       "    </tr>\n",
       "  </thead>\n",
       "  <tbody>\n",
       "    <tr>\n",
       "      <th>0</th>\n",
       "      <td>0</td>\n",
       "      <td>RANI</td>\n",
       "    </tr>\n",
       "    <tr>\n",
       "      <th>1</th>\n",
       "      <td>0</td>\n",
       "      <td>Tyler, The Creator</td>\n",
       "    </tr>\n",
       "    <tr>\n",
       "      <th>2</th>\n",
       "      <td>0</td>\n",
       "      <td>Miley Cyrus</td>\n",
       "    </tr>\n",
       "    <tr>\n",
       "      <th>3</th>\n",
       "      <td>0</td>\n",
       "      <td>Tiësto</td>\n",
       "    </tr>\n",
       "    <tr>\n",
       "      <th>4</th>\n",
       "      <td>0</td>\n",
       "      <td>YG</td>\n",
       "    </tr>\n",
       "  </tbody>\n",
       "</table>\n",
       "</div>"
      ],
      "text/plain": [
       "   playlist_index             artists\n",
       "0               0                RANI\n",
       "1               0  Tyler, The Creator\n",
       "2               0         Miley Cyrus\n",
       "3               0              Tiësto\n",
       "4               0                  YG"
      ]
     },
     "execution_count": 227,
     "metadata": {},
     "output_type": "execute_result"
    }
   ],
   "source": [
    "taco.columns = ['playlist_index', 'artists']\n",
    "taco.head()"
   ]
  },
  {
   "cell_type": "markdown",
   "metadata": {},
   "source": [
    "* join `toy` onto `taco` via index\n",
    "* drop index in favor of `playlist_id`\n",
    "* OHE `playlist_id`"
   ]
  },
  {
   "cell_type": "code",
   "execution_count": 229,
   "metadata": {},
   "outputs": [
    {
     "name": "stdout",
     "output_type": "stream",
     "text": [
      "<class 'pandas.core.frame.DataFrame'>\n",
      "RangeIndex: 361 entries, 0 to 360\n",
      "Data columns (total 2 columns):\n",
      "playlist_index    361 non-null int64\n",
      "artists           361 non-null object\n",
      "dtypes: int64(1), object(1)\n",
      "memory usage: 5.7+ KB\n"
     ]
    }
   ],
   "source": [
    "taco.info()"
   ]
  },
  {
   "cell_type": "code",
   "execution_count": 232,
   "metadata": {},
   "outputs": [
    {
     "data": {
      "text/html": [
       "<div>\n",
       "<style scoped>\n",
       "    .dataframe tbody tr th:only-of-type {\n",
       "        vertical-align: middle;\n",
       "    }\n",
       "\n",
       "    .dataframe tbody tr th {\n",
       "        vertical-align: top;\n",
       "    }\n",
       "\n",
       "    .dataframe thead th {\n",
       "        text-align: right;\n",
       "    }\n",
       "</style>\n",
       "<table border=\"1\" class=\"dataframe\">\n",
       "  <thead>\n",
       "    <tr style=\"text-align: right;\">\n",
       "      <th></th>\n",
       "      <th>artist_21 Savage</th>\n",
       "      <th>artist_3LAU</th>\n",
       "      <th>artist_5 Seconds of Summer</th>\n",
       "      <th>artist_6ix9ine</th>\n",
       "      <th>artist_A Boogie Wit da Hoodie</th>\n",
       "      <th>artist_A R I Z O N A</th>\n",
       "      <th>artist_A Touch Of Class</th>\n",
       "      <th>artist_A$AP Ferg</th>\n",
       "      <th>artist_A$AP Rocky</th>\n",
       "      <th>artist_ARTY</th>\n",
       "      <th>...</th>\n",
       "      <th>artist_Young Nudy</th>\n",
       "      <th>artist_Young Thug</th>\n",
       "      <th>artist_YoungBoy Never Broke Again</th>\n",
       "      <th>artist_Zac Brown Band</th>\n",
       "      <th>artist_Zero</th>\n",
       "      <th>artist_blink-182</th>\n",
       "      <th>artist_grandson</th>\n",
       "      <th>artist_josh pan</th>\n",
       "      <th>artist_ricky retro</th>\n",
       "      <th>artist_twoloud</th>\n",
       "    </tr>\n",
       "  </thead>\n",
       "  <tbody>\n",
       "    <tr>\n",
       "      <th>0</th>\n",
       "      <td>0.0</td>\n",
       "      <td>0.0</td>\n",
       "      <td>0.0</td>\n",
       "      <td>0.0</td>\n",
       "      <td>0.0</td>\n",
       "      <td>0.0</td>\n",
       "      <td>0.0</td>\n",
       "      <td>0.0</td>\n",
       "      <td>0.0</td>\n",
       "      <td>0.0</td>\n",
       "      <td>...</td>\n",
       "      <td>0.0</td>\n",
       "      <td>0.0</td>\n",
       "      <td>0.0</td>\n",
       "      <td>0.0</td>\n",
       "      <td>0.0</td>\n",
       "      <td>0.0</td>\n",
       "      <td>0.0</td>\n",
       "      <td>0.0</td>\n",
       "      <td>0.0</td>\n",
       "      <td>0.0</td>\n",
       "    </tr>\n",
       "    <tr>\n",
       "      <th>1</th>\n",
       "      <td>0.0</td>\n",
       "      <td>0.0</td>\n",
       "      <td>0.0</td>\n",
       "      <td>0.0</td>\n",
       "      <td>0.0</td>\n",
       "      <td>0.0</td>\n",
       "      <td>0.0</td>\n",
       "      <td>0.0</td>\n",
       "      <td>0.0</td>\n",
       "      <td>0.0</td>\n",
       "      <td>...</td>\n",
       "      <td>0.0</td>\n",
       "      <td>0.0</td>\n",
       "      <td>0.0</td>\n",
       "      <td>0.0</td>\n",
       "      <td>0.0</td>\n",
       "      <td>0.0</td>\n",
       "      <td>0.0</td>\n",
       "      <td>0.0</td>\n",
       "      <td>0.0</td>\n",
       "      <td>0.0</td>\n",
       "    </tr>\n",
       "    <tr>\n",
       "      <th>2</th>\n",
       "      <td>0.0</td>\n",
       "      <td>0.0</td>\n",
       "      <td>0.0</td>\n",
       "      <td>0.0</td>\n",
       "      <td>0.0</td>\n",
       "      <td>0.0</td>\n",
       "      <td>0.0</td>\n",
       "      <td>0.0</td>\n",
       "      <td>0.0</td>\n",
       "      <td>0.0</td>\n",
       "      <td>...</td>\n",
       "      <td>0.0</td>\n",
       "      <td>0.0</td>\n",
       "      <td>0.0</td>\n",
       "      <td>0.0</td>\n",
       "      <td>0.0</td>\n",
       "      <td>0.0</td>\n",
       "      <td>0.0</td>\n",
       "      <td>0.0</td>\n",
       "      <td>0.0</td>\n",
       "      <td>0.0</td>\n",
       "    </tr>\n",
       "    <tr>\n",
       "      <th>3</th>\n",
       "      <td>0.0</td>\n",
       "      <td>0.0</td>\n",
       "      <td>0.0</td>\n",
       "      <td>0.0</td>\n",
       "      <td>0.0</td>\n",
       "      <td>0.0</td>\n",
       "      <td>0.0</td>\n",
       "      <td>0.0</td>\n",
       "      <td>0.0</td>\n",
       "      <td>0.0</td>\n",
       "      <td>...</td>\n",
       "      <td>0.0</td>\n",
       "      <td>0.0</td>\n",
       "      <td>0.0</td>\n",
       "      <td>0.0</td>\n",
       "      <td>0.0</td>\n",
       "      <td>0.0</td>\n",
       "      <td>0.0</td>\n",
       "      <td>0.0</td>\n",
       "      <td>0.0</td>\n",
       "      <td>0.0</td>\n",
       "    </tr>\n",
       "    <tr>\n",
       "      <th>4</th>\n",
       "      <td>0.0</td>\n",
       "      <td>0.0</td>\n",
       "      <td>0.0</td>\n",
       "      <td>0.0</td>\n",
       "      <td>0.0</td>\n",
       "      <td>0.0</td>\n",
       "      <td>0.0</td>\n",
       "      <td>0.0</td>\n",
       "      <td>0.0</td>\n",
       "      <td>0.0</td>\n",
       "      <td>...</td>\n",
       "      <td>0.0</td>\n",
       "      <td>0.0</td>\n",
       "      <td>0.0</td>\n",
       "      <td>0.0</td>\n",
       "      <td>0.0</td>\n",
       "      <td>0.0</td>\n",
       "      <td>0.0</td>\n",
       "      <td>0.0</td>\n",
       "      <td>0.0</td>\n",
       "      <td>0.0</td>\n",
       "    </tr>\n",
       "  </tbody>\n",
       "</table>\n",
       "<p>5 rows × 332 columns</p>\n",
       "</div>"
      ],
      "text/plain": [
       "   artist_21 Savage  artist_3LAU  artist_5 Seconds of Summer  artist_6ix9ine  \\\n",
       "0               0.0          0.0                         0.0             0.0   \n",
       "1               0.0          0.0                         0.0             0.0   \n",
       "2               0.0          0.0                         0.0             0.0   \n",
       "3               0.0          0.0                         0.0             0.0   \n",
       "4               0.0          0.0                         0.0             0.0   \n",
       "\n",
       "   artist_A Boogie Wit da Hoodie  artist_A R I Z O N A  \\\n",
       "0                            0.0                   0.0   \n",
       "1                            0.0                   0.0   \n",
       "2                            0.0                   0.0   \n",
       "3                            0.0                   0.0   \n",
       "4                            0.0                   0.0   \n",
       "\n",
       "   artist_A Touch Of Class  artist_A$AP Ferg  artist_A$AP Rocky  artist_ARTY  \\\n",
       "0                      0.0               0.0                0.0          0.0   \n",
       "1                      0.0               0.0                0.0          0.0   \n",
       "2                      0.0               0.0                0.0          0.0   \n",
       "3                      0.0               0.0                0.0          0.0   \n",
       "4                      0.0               0.0                0.0          0.0   \n",
       "\n",
       "        ...        artist_Young Nudy  artist_Young Thug  \\\n",
       "0       ...                      0.0                0.0   \n",
       "1       ...                      0.0                0.0   \n",
       "2       ...                      0.0                0.0   \n",
       "3       ...                      0.0                0.0   \n",
       "4       ...                      0.0                0.0   \n",
       "\n",
       "   artist_YoungBoy Never Broke Again  artist_Zac Brown Band  artist_Zero  \\\n",
       "0                                0.0                    0.0          0.0   \n",
       "1                                0.0                    0.0          0.0   \n",
       "2                                0.0                    0.0          0.0   \n",
       "3                                0.0                    0.0          0.0   \n",
       "4                                0.0                    0.0          0.0   \n",
       "\n",
       "   artist_blink-182  artist_grandson  artist_josh pan  artist_ricky retro  \\\n",
       "0               0.0              0.0              0.0                 0.0   \n",
       "1               0.0              0.0              0.0                 0.0   \n",
       "2               0.0              0.0              0.0                 0.0   \n",
       "3               0.0              0.0              0.0                 0.0   \n",
       "4               0.0              0.0              0.0                 0.0   \n",
       "\n",
       "   artist_twoloud  \n",
       "0             0.0  \n",
       "1             0.0  \n",
       "2             0.0  \n",
       "3             0.0  \n",
       "4             0.0  \n",
       "\n",
       "[5 rows x 332 columns]"
      ]
     },
     "execution_count": 232,
     "metadata": {},
     "output_type": "execute_result"
    }
   ],
   "source": [
    "encoder = OneHotEncoder(drop='first', categories='auto')\n",
    "encoder.fit(taco[['artists']])\n",
    "ohe = pd.DataFrame(encoder.transform(taco[['artists']]).toarray(),\n",
    "                   columns=encoder.get_feature_names(['artist']))\n",
    "ohe.head()"
   ]
  },
  {
   "cell_type": "code",
   "execution_count": 234,
   "metadata": {},
   "outputs": [
    {
     "data": {
      "text/html": [
       "<div>\n",
       "<style scoped>\n",
       "    .dataframe tbody tr th:only-of-type {\n",
       "        vertical-align: middle;\n",
       "    }\n",
       "\n",
       "    .dataframe tbody tr th {\n",
       "        vertical-align: top;\n",
       "    }\n",
       "\n",
       "    .dataframe thead th {\n",
       "        text-align: right;\n",
       "    }\n",
       "</style>\n",
       "<table border=\"1\" class=\"dataframe\">\n",
       "  <thead>\n",
       "    <tr style=\"text-align: right;\">\n",
       "      <th></th>\n",
       "      <th>playlist_index</th>\n",
       "      <th>artist_21 Savage</th>\n",
       "      <th>artist_3LAU</th>\n",
       "      <th>artist_5 Seconds of Summer</th>\n",
       "      <th>artist_6ix9ine</th>\n",
       "      <th>artist_A Boogie Wit da Hoodie</th>\n",
       "      <th>artist_A R I Z O N A</th>\n",
       "      <th>artist_A Touch Of Class</th>\n",
       "      <th>artist_A$AP Ferg</th>\n",
       "      <th>artist_A$AP Rocky</th>\n",
       "      <th>...</th>\n",
       "      <th>artist_Young Nudy</th>\n",
       "      <th>artist_Young Thug</th>\n",
       "      <th>artist_YoungBoy Never Broke Again</th>\n",
       "      <th>artist_Zac Brown Band</th>\n",
       "      <th>artist_Zero</th>\n",
       "      <th>artist_blink-182</th>\n",
       "      <th>artist_grandson</th>\n",
       "      <th>artist_josh pan</th>\n",
       "      <th>artist_ricky retro</th>\n",
       "      <th>artist_twoloud</th>\n",
       "    </tr>\n",
       "  </thead>\n",
       "  <tbody>\n",
       "    <tr>\n",
       "      <th>0</th>\n",
       "      <td>0</td>\n",
       "      <td>0.0</td>\n",
       "      <td>0.0</td>\n",
       "      <td>0.0</td>\n",
       "      <td>0.0</td>\n",
       "      <td>0.0</td>\n",
       "      <td>0.0</td>\n",
       "      <td>0.0</td>\n",
       "      <td>0.0</td>\n",
       "      <td>0.0</td>\n",
       "      <td>...</td>\n",
       "      <td>0.0</td>\n",
       "      <td>0.0</td>\n",
       "      <td>0.0</td>\n",
       "      <td>0.0</td>\n",
       "      <td>0.0</td>\n",
       "      <td>0.0</td>\n",
       "      <td>0.0</td>\n",
       "      <td>0.0</td>\n",
       "      <td>0.0</td>\n",
       "      <td>0.0</td>\n",
       "    </tr>\n",
       "    <tr>\n",
       "      <th>1</th>\n",
       "      <td>0</td>\n",
       "      <td>0.0</td>\n",
       "      <td>0.0</td>\n",
       "      <td>0.0</td>\n",
       "      <td>0.0</td>\n",
       "      <td>0.0</td>\n",
       "      <td>0.0</td>\n",
       "      <td>0.0</td>\n",
       "      <td>0.0</td>\n",
       "      <td>0.0</td>\n",
       "      <td>...</td>\n",
       "      <td>0.0</td>\n",
       "      <td>0.0</td>\n",
       "      <td>0.0</td>\n",
       "      <td>0.0</td>\n",
       "      <td>0.0</td>\n",
       "      <td>0.0</td>\n",
       "      <td>0.0</td>\n",
       "      <td>0.0</td>\n",
       "      <td>0.0</td>\n",
       "      <td>0.0</td>\n",
       "    </tr>\n",
       "    <tr>\n",
       "      <th>2</th>\n",
       "      <td>0</td>\n",
       "      <td>0.0</td>\n",
       "      <td>0.0</td>\n",
       "      <td>0.0</td>\n",
       "      <td>0.0</td>\n",
       "      <td>0.0</td>\n",
       "      <td>0.0</td>\n",
       "      <td>0.0</td>\n",
       "      <td>0.0</td>\n",
       "      <td>0.0</td>\n",
       "      <td>...</td>\n",
       "      <td>0.0</td>\n",
       "      <td>0.0</td>\n",
       "      <td>0.0</td>\n",
       "      <td>0.0</td>\n",
       "      <td>0.0</td>\n",
       "      <td>0.0</td>\n",
       "      <td>0.0</td>\n",
       "      <td>0.0</td>\n",
       "      <td>0.0</td>\n",
       "      <td>0.0</td>\n",
       "    </tr>\n",
       "    <tr>\n",
       "      <th>3</th>\n",
       "      <td>0</td>\n",
       "      <td>0.0</td>\n",
       "      <td>0.0</td>\n",
       "      <td>0.0</td>\n",
       "      <td>0.0</td>\n",
       "      <td>0.0</td>\n",
       "      <td>0.0</td>\n",
       "      <td>0.0</td>\n",
       "      <td>0.0</td>\n",
       "      <td>0.0</td>\n",
       "      <td>...</td>\n",
       "      <td>0.0</td>\n",
       "      <td>0.0</td>\n",
       "      <td>0.0</td>\n",
       "      <td>0.0</td>\n",
       "      <td>0.0</td>\n",
       "      <td>0.0</td>\n",
       "      <td>0.0</td>\n",
       "      <td>0.0</td>\n",
       "      <td>0.0</td>\n",
       "      <td>0.0</td>\n",
       "    </tr>\n",
       "    <tr>\n",
       "      <th>4</th>\n",
       "      <td>0</td>\n",
       "      <td>0.0</td>\n",
       "      <td>0.0</td>\n",
       "      <td>0.0</td>\n",
       "      <td>0.0</td>\n",
       "      <td>0.0</td>\n",
       "      <td>0.0</td>\n",
       "      <td>0.0</td>\n",
       "      <td>0.0</td>\n",
       "      <td>0.0</td>\n",
       "      <td>...</td>\n",
       "      <td>0.0</td>\n",
       "      <td>0.0</td>\n",
       "      <td>0.0</td>\n",
       "      <td>0.0</td>\n",
       "      <td>0.0</td>\n",
       "      <td>0.0</td>\n",
       "      <td>0.0</td>\n",
       "      <td>0.0</td>\n",
       "      <td>0.0</td>\n",
       "      <td>0.0</td>\n",
       "    </tr>\n",
       "  </tbody>\n",
       "</table>\n",
       "<p>5 rows × 333 columns</p>\n",
       "</div>"
      ],
      "text/plain": [
       "   playlist_index  artist_21 Savage  artist_3LAU  artist_5 Seconds of Summer  \\\n",
       "0               0               0.0          0.0                         0.0   \n",
       "1               0               0.0          0.0                         0.0   \n",
       "2               0               0.0          0.0                         0.0   \n",
       "3               0               0.0          0.0                         0.0   \n",
       "4               0               0.0          0.0                         0.0   \n",
       "\n",
       "   artist_6ix9ine  artist_A Boogie Wit da Hoodie  artist_A R I Z O N A  \\\n",
       "0             0.0                            0.0                   0.0   \n",
       "1             0.0                            0.0                   0.0   \n",
       "2             0.0                            0.0                   0.0   \n",
       "3             0.0                            0.0                   0.0   \n",
       "4             0.0                            0.0                   0.0   \n",
       "\n",
       "   artist_A Touch Of Class  artist_A$AP Ferg  artist_A$AP Rocky  \\\n",
       "0                      0.0               0.0                0.0   \n",
       "1                      0.0               0.0                0.0   \n",
       "2                      0.0               0.0                0.0   \n",
       "3                      0.0               0.0                0.0   \n",
       "4                      0.0               0.0                0.0   \n",
       "\n",
       "        ...        artist_Young Nudy  artist_Young Thug  \\\n",
       "0       ...                      0.0                0.0   \n",
       "1       ...                      0.0                0.0   \n",
       "2       ...                      0.0                0.0   \n",
       "3       ...                      0.0                0.0   \n",
       "4       ...                      0.0                0.0   \n",
       "\n",
       "   artist_YoungBoy Never Broke Again  artist_Zac Brown Band  artist_Zero  \\\n",
       "0                                0.0                    0.0          0.0   \n",
       "1                                0.0                    0.0          0.0   \n",
       "2                                0.0                    0.0          0.0   \n",
       "3                                0.0                    0.0          0.0   \n",
       "4                                0.0                    0.0          0.0   \n",
       "\n",
       "   artist_blink-182  artist_grandson  artist_josh pan  artist_ricky retro  \\\n",
       "0               0.0              0.0              0.0                 0.0   \n",
       "1               0.0              0.0              0.0                 0.0   \n",
       "2               0.0              0.0              0.0                 0.0   \n",
       "3               0.0              0.0              0.0                 0.0   \n",
       "4               0.0              0.0              0.0                 0.0   \n",
       "\n",
       "   artist_twoloud  \n",
       "0             0.0  \n",
       "1             0.0  \n",
       "2             0.0  \n",
       "3             0.0  \n",
       "4             0.0  \n",
       "\n",
       "[5 rows x 333 columns]"
      ]
     },
     "execution_count": 234,
     "metadata": {},
     "output_type": "execute_result"
    }
   ],
   "source": [
    "taco_ohe = pd.concat([taco.drop('artists', axis=1), ohe], axis=1)\n",
    "taco_ohe.head()"
   ]
  },
  {
   "cell_type": "code",
   "execution_count": 236,
   "metadata": {},
   "outputs": [
    {
     "data": {
      "text/plain": [
       "(361, 333)"
      ]
     },
     "execution_count": 236,
     "metadata": {},
     "output_type": "execute_result"
    }
   ],
   "source": [
    "taco_ohe.shape"
   ]
  },
  {
   "cell_type": "code",
   "execution_count": 237,
   "metadata": {},
   "outputs": [
    {
     "data": {
      "text/plain": [
       "(5, 3)"
      ]
     },
     "execution_count": 237,
     "metadata": {},
     "output_type": "execute_result"
    }
   ],
   "source": [
    "toy.shape"
   ]
  },
  {
   "cell_type": "code",
   "execution_count": 238,
   "metadata": {},
   "outputs": [],
   "source": [
    "taco_ohe_dedup = taco_ohe.groupby('playlist_index')[ohe.columns].agg('sum').reset_index()"
   ]
  },
  {
   "cell_type": "code",
   "execution_count": 239,
   "metadata": {},
   "outputs": [
    {
     "data": {
      "text/html": [
       "<div>\n",
       "<style scoped>\n",
       "    .dataframe tbody tr th:only-of-type {\n",
       "        vertical-align: middle;\n",
       "    }\n",
       "\n",
       "    .dataframe tbody tr th {\n",
       "        vertical-align: top;\n",
       "    }\n",
       "\n",
       "    .dataframe thead th {\n",
       "        text-align: right;\n",
       "    }\n",
       "</style>\n",
       "<table border=\"1\" class=\"dataframe\">\n",
       "  <thead>\n",
       "    <tr style=\"text-align: right;\">\n",
       "      <th></th>\n",
       "      <th>playlist_index</th>\n",
       "      <th>artist_21 Savage</th>\n",
       "      <th>artist_3LAU</th>\n",
       "      <th>artist_5 Seconds of Summer</th>\n",
       "      <th>artist_6ix9ine</th>\n",
       "      <th>artist_A Boogie Wit da Hoodie</th>\n",
       "      <th>artist_A R I Z O N A</th>\n",
       "      <th>artist_A Touch Of Class</th>\n",
       "      <th>artist_A$AP Ferg</th>\n",
       "      <th>artist_A$AP Rocky</th>\n",
       "      <th>...</th>\n",
       "      <th>artist_Young Nudy</th>\n",
       "      <th>artist_Young Thug</th>\n",
       "      <th>artist_YoungBoy Never Broke Again</th>\n",
       "      <th>artist_Zac Brown Band</th>\n",
       "      <th>artist_Zero</th>\n",
       "      <th>artist_blink-182</th>\n",
       "      <th>artist_grandson</th>\n",
       "      <th>artist_josh pan</th>\n",
       "      <th>artist_ricky retro</th>\n",
       "      <th>artist_twoloud</th>\n",
       "    </tr>\n",
       "  </thead>\n",
       "  <tbody>\n",
       "    <tr>\n",
       "      <th>0</th>\n",
       "      <td>0</td>\n",
       "      <td>1.0</td>\n",
       "      <td>0.0</td>\n",
       "      <td>1.0</td>\n",
       "      <td>0.0</td>\n",
       "      <td>0.0</td>\n",
       "      <td>1.0</td>\n",
       "      <td>1.0</td>\n",
       "      <td>0.0</td>\n",
       "      <td>0.0</td>\n",
       "      <td>...</td>\n",
       "      <td>0.0</td>\n",
       "      <td>1.0</td>\n",
       "      <td>0.0</td>\n",
       "      <td>0.0</td>\n",
       "      <td>0.0</td>\n",
       "      <td>0.0</td>\n",
       "      <td>0.0</td>\n",
       "      <td>0.0</td>\n",
       "      <td>0.0</td>\n",
       "      <td>0.0</td>\n",
       "    </tr>\n",
       "    <tr>\n",
       "      <th>1</th>\n",
       "      <td>1</td>\n",
       "      <td>1.0</td>\n",
       "      <td>0.0</td>\n",
       "      <td>0.0</td>\n",
       "      <td>1.0</td>\n",
       "      <td>1.0</td>\n",
       "      <td>0.0</td>\n",
       "      <td>0.0</td>\n",
       "      <td>1.0</td>\n",
       "      <td>1.0</td>\n",
       "      <td>...</td>\n",
       "      <td>1.0</td>\n",
       "      <td>1.0</td>\n",
       "      <td>1.0</td>\n",
       "      <td>0.0</td>\n",
       "      <td>0.0</td>\n",
       "      <td>0.0</td>\n",
       "      <td>0.0</td>\n",
       "      <td>0.0</td>\n",
       "      <td>0.0</td>\n",
       "      <td>0.0</td>\n",
       "    </tr>\n",
       "    <tr>\n",
       "      <th>2</th>\n",
       "      <td>2</td>\n",
       "      <td>0.0</td>\n",
       "      <td>0.0</td>\n",
       "      <td>0.0</td>\n",
       "      <td>0.0</td>\n",
       "      <td>0.0</td>\n",
       "      <td>0.0</td>\n",
       "      <td>0.0</td>\n",
       "      <td>0.0</td>\n",
       "      <td>0.0</td>\n",
       "      <td>...</td>\n",
       "      <td>0.0</td>\n",
       "      <td>0.0</td>\n",
       "      <td>0.0</td>\n",
       "      <td>0.0</td>\n",
       "      <td>1.0</td>\n",
       "      <td>1.0</td>\n",
       "      <td>1.0</td>\n",
       "      <td>0.0</td>\n",
       "      <td>0.0</td>\n",
       "      <td>0.0</td>\n",
       "    </tr>\n",
       "    <tr>\n",
       "      <th>3</th>\n",
       "      <td>3</td>\n",
       "      <td>0.0</td>\n",
       "      <td>1.0</td>\n",
       "      <td>0.0</td>\n",
       "      <td>0.0</td>\n",
       "      <td>0.0</td>\n",
       "      <td>0.0</td>\n",
       "      <td>0.0</td>\n",
       "      <td>0.0</td>\n",
       "      <td>0.0</td>\n",
       "      <td>...</td>\n",
       "      <td>0.0</td>\n",
       "      <td>0.0</td>\n",
       "      <td>0.0</td>\n",
       "      <td>0.0</td>\n",
       "      <td>0.0</td>\n",
       "      <td>0.0</td>\n",
       "      <td>0.0</td>\n",
       "      <td>1.0</td>\n",
       "      <td>1.0</td>\n",
       "      <td>1.0</td>\n",
       "    </tr>\n",
       "    <tr>\n",
       "      <th>4</th>\n",
       "      <td>4</td>\n",
       "      <td>0.0</td>\n",
       "      <td>0.0</td>\n",
       "      <td>0.0</td>\n",
       "      <td>0.0</td>\n",
       "      <td>0.0</td>\n",
       "      <td>0.0</td>\n",
       "      <td>0.0</td>\n",
       "      <td>0.0</td>\n",
       "      <td>0.0</td>\n",
       "      <td>...</td>\n",
       "      <td>0.0</td>\n",
       "      <td>0.0</td>\n",
       "      <td>0.0</td>\n",
       "      <td>1.0</td>\n",
       "      <td>0.0</td>\n",
       "      <td>0.0</td>\n",
       "      <td>0.0</td>\n",
       "      <td>0.0</td>\n",
       "      <td>0.0</td>\n",
       "      <td>0.0</td>\n",
       "    </tr>\n",
       "  </tbody>\n",
       "</table>\n",
       "<p>5 rows × 333 columns</p>\n",
       "</div>"
      ],
      "text/plain": [
       "   playlist_index  artist_21 Savage  artist_3LAU  artist_5 Seconds of Summer  \\\n",
       "0               0               1.0          0.0                         1.0   \n",
       "1               1               1.0          0.0                         0.0   \n",
       "2               2               0.0          0.0                         0.0   \n",
       "3               3               0.0          1.0                         0.0   \n",
       "4               4               0.0          0.0                         0.0   \n",
       "\n",
       "   artist_6ix9ine  artist_A Boogie Wit da Hoodie  artist_A R I Z O N A  \\\n",
       "0             0.0                            0.0                   1.0   \n",
       "1             1.0                            1.0                   0.0   \n",
       "2             0.0                            0.0                   0.0   \n",
       "3             0.0                            0.0                   0.0   \n",
       "4             0.0                            0.0                   0.0   \n",
       "\n",
       "   artist_A Touch Of Class  artist_A$AP Ferg  artist_A$AP Rocky  \\\n",
       "0                      1.0               0.0                0.0   \n",
       "1                      0.0               1.0                1.0   \n",
       "2                      0.0               0.0                0.0   \n",
       "3                      0.0               0.0                0.0   \n",
       "4                      0.0               0.0                0.0   \n",
       "\n",
       "        ...        artist_Young Nudy  artist_Young Thug  \\\n",
       "0       ...                      0.0                1.0   \n",
       "1       ...                      1.0                1.0   \n",
       "2       ...                      0.0                0.0   \n",
       "3       ...                      0.0                0.0   \n",
       "4       ...                      0.0                0.0   \n",
       "\n",
       "   artist_YoungBoy Never Broke Again  artist_Zac Brown Band  artist_Zero  \\\n",
       "0                                0.0                    0.0          0.0   \n",
       "1                                1.0                    0.0          0.0   \n",
       "2                                0.0                    0.0          1.0   \n",
       "3                                0.0                    0.0          0.0   \n",
       "4                                0.0                    1.0          0.0   \n",
       "\n",
       "   artist_blink-182  artist_grandson  artist_josh pan  artist_ricky retro  \\\n",
       "0               0.0              0.0              0.0                 0.0   \n",
       "1               0.0              0.0              0.0                 0.0   \n",
       "2               1.0              1.0              0.0                 0.0   \n",
       "3               0.0              0.0              1.0                 1.0   \n",
       "4               0.0              0.0              0.0                 0.0   \n",
       "\n",
       "   artist_twoloud  \n",
       "0             0.0  \n",
       "1             0.0  \n",
       "2             0.0  \n",
       "3             1.0  \n",
       "4             0.0  \n",
       "\n",
       "[5 rows x 333 columns]"
      ]
     },
     "execution_count": 239,
     "metadata": {},
     "output_type": "execute_result"
    }
   ],
   "source": [
    "taco_ohe_dedup.head()"
   ]
  },
  {
   "cell_type": "code",
   "execution_count": 240,
   "metadata": {},
   "outputs": [],
   "source": [
    "output = pd.merge(toy, taco_ohe_dedup, left_index=True,\n",
    "                  right_on='playlist_index', how='left'\n",
    "                 ).drop('playlist_index', axis=1)"
   ]
  },
  {
   "cell_type": "code",
   "execution_count": 244,
   "metadata": {},
   "outputs": [
    {
     "data": {
      "text/html": [
       "<div>\n",
       "<style scoped>\n",
       "    .dataframe tbody tr th:only-of-type {\n",
       "        vertical-align: middle;\n",
       "    }\n",
       "\n",
       "    .dataframe tbody tr th {\n",
       "        vertical-align: top;\n",
       "    }\n",
       "\n",
       "    .dataframe thead th {\n",
       "        text-align: right;\n",
       "    }\n",
       "</style>\n",
       "<table border=\"1\" class=\"dataframe\">\n",
       "  <thead>\n",
       "    <tr style=\"text-align: right;\">\n",
       "      <th></th>\n",
       "      <th>artists</th>\n",
       "      <th>name</th>\n",
       "      <th>playlist_id</th>\n",
       "      <th>artist_21 Savage</th>\n",
       "      <th>artist_3LAU</th>\n",
       "      <th>artist_5 Seconds of Summer</th>\n",
       "      <th>artist_6ix9ine</th>\n",
       "      <th>artist_A Boogie Wit da Hoodie</th>\n",
       "      <th>artist_A R I Z O N A</th>\n",
       "      <th>artist_A Touch Of Class</th>\n",
       "      <th>...</th>\n",
       "      <th>artist_Young Nudy</th>\n",
       "      <th>artist_Young Thug</th>\n",
       "      <th>artist_YoungBoy Never Broke Again</th>\n",
       "      <th>artist_Zac Brown Band</th>\n",
       "      <th>artist_Zero</th>\n",
       "      <th>artist_blink-182</th>\n",
       "      <th>artist_grandson</th>\n",
       "      <th>artist_josh pan</th>\n",
       "      <th>artist_ricky retro</th>\n",
       "      <th>artist_twoloud</th>\n",
       "    </tr>\n",
       "  </thead>\n",
       "  <tbody>\n",
       "    <tr>\n",
       "      <th>0</th>\n",
       "      <td>[RANI, Tyler, The Creator, Miley Cyrus, Tiësto...</td>\n",
       "      <td>Today's Top Hits</td>\n",
       "      <td>37i9dQZF1DXcBWIGoYBM5M</td>\n",
       "      <td>1.0</td>\n",
       "      <td>0.0</td>\n",
       "      <td>1.0</td>\n",
       "      <td>0.0</td>\n",
       "      <td>0.0</td>\n",
       "      <td>1.0</td>\n",
       "      <td>1.0</td>\n",
       "      <td>...</td>\n",
       "      <td>0.0</td>\n",
       "      <td>1.0</td>\n",
       "      <td>0.0</td>\n",
       "      <td>0.0</td>\n",
       "      <td>0.0</td>\n",
       "      <td>0.0</td>\n",
       "      <td>0.0</td>\n",
       "      <td>0.0</td>\n",
       "      <td>0.0</td>\n",
       "      <td>0.0</td>\n",
       "    </tr>\n",
       "    <tr>\n",
       "      <th>1</th>\n",
       "      <td>[Bas, Lil Baby, French Montana, NAV, Tyler, Th...</td>\n",
       "      <td>RapCaviar</td>\n",
       "      <td>37i9dQZF1DX0XUsuxWHRQd</td>\n",
       "      <td>1.0</td>\n",
       "      <td>0.0</td>\n",
       "      <td>0.0</td>\n",
       "      <td>1.0</td>\n",
       "      <td>1.0</td>\n",
       "      <td>0.0</td>\n",
       "      <td>0.0</td>\n",
       "      <td>...</td>\n",
       "      <td>1.0</td>\n",
       "      <td>1.0</td>\n",
       "      <td>1.0</td>\n",
       "      <td>0.0</td>\n",
       "      <td>0.0</td>\n",
       "      <td>0.0</td>\n",
       "      <td>0.0</td>\n",
       "      <td>0.0</td>\n",
       "      <td>0.0</td>\n",
       "      <td>0.0</td>\n",
       "    </tr>\n",
       "    <tr>\n",
       "      <th>2</th>\n",
       "      <td>[Slipknot, Sam Fender, Bad Religion, Sum 41, A...</td>\n",
       "      <td>Rock This</td>\n",
       "      <td>37i9dQZF1DXcF6B6QPhFDv</td>\n",
       "      <td>0.0</td>\n",
       "      <td>0.0</td>\n",
       "      <td>0.0</td>\n",
       "      <td>0.0</td>\n",
       "      <td>0.0</td>\n",
       "      <td>0.0</td>\n",
       "      <td>0.0</td>\n",
       "      <td>...</td>\n",
       "      <td>0.0</td>\n",
       "      <td>0.0</td>\n",
       "      <td>0.0</td>\n",
       "      <td>0.0</td>\n",
       "      <td>1.0</td>\n",
       "      <td>1.0</td>\n",
       "      <td>1.0</td>\n",
       "      <td>0.0</td>\n",
       "      <td>0.0</td>\n",
       "      <td>0.0</td>\n",
       "    </tr>\n",
       "    <tr>\n",
       "      <th>3</th>\n",
       "      <td>[James Hype, Shaun Ross, SACHI, Dimitri Vegas ...</td>\n",
       "      <td>mint</td>\n",
       "      <td>37i9dQZF1DX4dyzvuaRJ0n</td>\n",
       "      <td>0.0</td>\n",
       "      <td>1.0</td>\n",
       "      <td>0.0</td>\n",
       "      <td>0.0</td>\n",
       "      <td>0.0</td>\n",
       "      <td>0.0</td>\n",
       "      <td>0.0</td>\n",
       "      <td>...</td>\n",
       "      <td>0.0</td>\n",
       "      <td>0.0</td>\n",
       "      <td>0.0</td>\n",
       "      <td>0.0</td>\n",
       "      <td>0.0</td>\n",
       "      <td>0.0</td>\n",
       "      <td>0.0</td>\n",
       "      <td>1.0</td>\n",
       "      <td>1.0</td>\n",
       "      <td>1.0</td>\n",
       "    </tr>\n",
       "    <tr>\n",
       "      <th>4</th>\n",
       "      <td>[Scotty McCreery, Dylan Scott, Dustin Lynch, D...</td>\n",
       "      <td>Hot Country</td>\n",
       "      <td>37i9dQZF1DX1lVhptIYRda</td>\n",
       "      <td>0.0</td>\n",
       "      <td>0.0</td>\n",
       "      <td>0.0</td>\n",
       "      <td>0.0</td>\n",
       "      <td>0.0</td>\n",
       "      <td>0.0</td>\n",
       "      <td>0.0</td>\n",
       "      <td>...</td>\n",
       "      <td>0.0</td>\n",
       "      <td>0.0</td>\n",
       "      <td>0.0</td>\n",
       "      <td>1.0</td>\n",
       "      <td>0.0</td>\n",
       "      <td>0.0</td>\n",
       "      <td>0.0</td>\n",
       "      <td>0.0</td>\n",
       "      <td>0.0</td>\n",
       "      <td>0.0</td>\n",
       "    </tr>\n",
       "  </tbody>\n",
       "</table>\n",
       "<p>5 rows × 335 columns</p>\n",
       "</div>"
      ],
      "text/plain": [
       "                                             artists              name  \\\n",
       "0  [RANI, Tyler, The Creator, Miley Cyrus, Tiësto...  Today's Top Hits   \n",
       "1  [Bas, Lil Baby, French Montana, NAV, Tyler, Th...         RapCaviar   \n",
       "2  [Slipknot, Sam Fender, Bad Religion, Sum 41, A...         Rock This   \n",
       "3  [James Hype, Shaun Ross, SACHI, Dimitri Vegas ...              mint   \n",
       "4  [Scotty McCreery, Dylan Scott, Dustin Lynch, D...       Hot Country   \n",
       "\n",
       "              playlist_id  artist_21 Savage  artist_3LAU  \\\n",
       "0  37i9dQZF1DXcBWIGoYBM5M               1.0          0.0   \n",
       "1  37i9dQZF1DX0XUsuxWHRQd               1.0          0.0   \n",
       "2  37i9dQZF1DXcF6B6QPhFDv               0.0          0.0   \n",
       "3  37i9dQZF1DX4dyzvuaRJ0n               0.0          1.0   \n",
       "4  37i9dQZF1DX1lVhptIYRda               0.0          0.0   \n",
       "\n",
       "   artist_5 Seconds of Summer  artist_6ix9ine  artist_A Boogie Wit da Hoodie  \\\n",
       "0                         1.0             0.0                            0.0   \n",
       "1                         0.0             1.0                            1.0   \n",
       "2                         0.0             0.0                            0.0   \n",
       "3                         0.0             0.0                            0.0   \n",
       "4                         0.0             0.0                            0.0   \n",
       "\n",
       "   artist_A R I Z O N A  artist_A Touch Of Class       ...        \\\n",
       "0                   1.0                      1.0       ...         \n",
       "1                   0.0                      0.0       ...         \n",
       "2                   0.0                      0.0       ...         \n",
       "3                   0.0                      0.0       ...         \n",
       "4                   0.0                      0.0       ...         \n",
       "\n",
       "   artist_Young Nudy  artist_Young Thug  artist_YoungBoy Never Broke Again  \\\n",
       "0                0.0                1.0                                0.0   \n",
       "1                1.0                1.0                                1.0   \n",
       "2                0.0                0.0                                0.0   \n",
       "3                0.0                0.0                                0.0   \n",
       "4                0.0                0.0                                0.0   \n",
       "\n",
       "   artist_Zac Brown Band  artist_Zero  artist_blink-182  artist_grandson  \\\n",
       "0                    0.0          0.0               0.0              0.0   \n",
       "1                    0.0          0.0               0.0              0.0   \n",
       "2                    0.0          1.0               1.0              1.0   \n",
       "3                    0.0          0.0               0.0              0.0   \n",
       "4                    1.0          0.0               0.0              0.0   \n",
       "\n",
       "   artist_josh pan  artist_ricky retro  artist_twoloud  \n",
       "0              0.0                 0.0             0.0  \n",
       "1              0.0                 0.0             0.0  \n",
       "2              0.0                 0.0             0.0  \n",
       "3              1.0                 1.0             1.0  \n",
       "4              0.0                 0.0             0.0  \n",
       "\n",
       "[5 rows x 335 columns]"
      ]
     },
     "execution_count": 244,
     "metadata": {},
     "output_type": "execute_result"
    }
   ],
   "source": [
    "output"
   ]
  },
  {
   "cell_type": "code",
   "execution_count": null,
   "metadata": {},
   "outputs": [],
   "source": []
  }
 ],
 "metadata": {
  "kernelspec": {
   "display_name": "learn-env",
   "language": "python",
   "name": "learn-env"
  },
  "language_info": {
   "codemirror_mode": {
    "name": "ipython",
    "version": 3
   },
   "file_extension": ".py",
   "mimetype": "text/x-python",
   "name": "python",
   "nbconvert_exporter": "python",
   "pygments_lexer": "ipython3",
   "version": "3.6.6"
  }
 },
 "nbformat": 4,
 "nbformat_minor": 2
}
