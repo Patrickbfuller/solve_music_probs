{
 "cells": [
  {
   "cell_type": "code",
   "execution_count": 2,
   "metadata": {},
   "outputs": [],
   "source": [
    "# !pip install spotipy"
   ]
  },
  {
   "cell_type": "code",
   "execution_count": 56,
   "metadata": {},
   "outputs": [
    {
     "name": "stdout",
     "output_type": "stream",
     "text": [
      "The autoreload extension is already loaded. To reload it, use:\n",
      "  %reload_ext autoreload\n"
     ]
    }
   ],
   "source": [
    "import spotipy\n",
    "from spotipy.oauth2 import SpotifyClientCredentials\n",
    "import json\n",
    "import homebrew as hb\n",
    "%load_ext autoreload\n",
    "%autoreload 2"
   ]
  },
  {
   "cell_type": "code",
   "execution_count": 2,
   "metadata": {},
   "outputs": [],
   "source": [
    "with open('/Users/patrickfuller/.secrets/spotify_api.json') as f:\n",
    "    creds = json.load(f)\n",
    "client_id = creds['client_id']\n",
    "key = creds['api_key']"
   ]
  },
  {
   "cell_type": "markdown",
   "metadata": {},
   "source": [
    "Spotipy's client credential manager takes id and key when instantiating the object  \n",
    "The manager is then input when instantiating the spotify object"
   ]
  },
  {
   "cell_type": "code",
   "execution_count": 4,
   "metadata": {},
   "outputs": [],
   "source": [
    "client_credentials_manager = SpotifyClientCredentials(client_id=client_id,\n",
    "                                                      client_secret=key)\n",
    "\n",
    "spotify = spotipy.Spotify(client_credentials_manager=client_credentials_manager)"
   ]
  },
  {
   "cell_type": "markdown",
   "metadata": {},
   "source": [
    "The featured playlists method will return playlits that were featured at a given time.\n",
    "I also suspect they may be user specific. "
   ]
  },
  {
   "cell_type": "code",
   "execution_count": 198,
   "metadata": {},
   "outputs": [],
   "source": [
    "# yyyy-MM-ddTHH:mm:ss\n",
    "response = spotify.featured_playlists(limit=50)#, timestamp='2019-06-22T12:00:00')"
   ]
  },
  {
   "cell_type": "code",
   "execution_count": 199,
   "metadata": {},
   "outputs": [
    {
     "data": {
      "text/plain": [
       "dict_keys(['message', 'playlists'])"
      ]
     },
     "execution_count": 199,
     "metadata": {},
     "output_type": "execute_result"
    }
   ],
   "source": [
    "response.keys()"
   ]
  },
  {
   "cell_type": "code",
   "execution_count": 200,
   "metadata": {},
   "outputs": [
    {
     "data": {
      "text/plain": [
       "dict_keys(['href', 'items', 'limit', 'next', 'offset', 'previous', 'total'])"
      ]
     },
     "execution_count": 200,
     "metadata": {},
     "output_type": "execute_result"
    }
   ],
   "source": [
    "response['playlists'].keys()"
   ]
  },
  {
   "cell_type": "code",
   "execution_count": 201,
   "metadata": {},
   "outputs": [],
   "source": [
    "featured_playlists = response['playlists']['items']"
   ]
  },
  {
   "cell_type": "code",
   "execution_count": 202,
   "metadata": {},
   "outputs": [
    {
     "data": {
      "text/plain": [
       "10"
      ]
     },
     "execution_count": 202,
     "metadata": {},
     "output_type": "execute_result"
    }
   ],
   "source": [
    "len(featured_playlists)"
   ]
  },
  {
   "cell_type": "code",
   "execution_count": 203,
   "metadata": {},
   "outputs": [
    {
     "data": {
      "text/plain": [
       "[{'collaborative': False,\n",
       "  'external_urls': {'spotify': 'https://open.spotify.com/playlist/37i9dQZF1DXbm6HfkbMtFZ'},\n",
       "  'href': 'https://api.spotify.com/v1/playlists/37i9dQZF1DXbm6HfkbMtFZ',\n",
       "  'id': '37i9dQZF1DXbm6HfkbMtFZ',\n",
       "  'images': [{'height': None,\n",
       "    'url': 'https://pl.scdn.co/images/pl/default/291bd84ec507be73375b8ded7d68773e7bfb50d9',\n",
       "    'width': None}],\n",
       "  'name': 'Feel Good Dinner',\n",
       "  'owner': {'display_name': 'Spotify',\n",
       "   'external_urls': {'spotify': 'https://open.spotify.com/user/spotify'},\n",
       "   'href': 'https://api.spotify.com/v1/users/spotify',\n",
       "   'id': 'spotify',\n",
       "   'type': 'user',\n",
       "   'uri': 'spotify:user:spotify'},\n",
       "  'primary_color': None,\n",
       "  'public': None,\n",
       "  'snapshot_id': 'MTU2MTQ4NTk4MiwwMDAwMDAwMGQ0MWQ4Y2Q5OGYwMGIyMDRlOTgwMDk5OGVjZjg0Mjdl',\n",
       "  'tracks': {'href': 'https://api.spotify.com/v1/playlists/37i9dQZF1DXbm6HfkbMtFZ/tracks',\n",
       "   'total': 115},\n",
       "  'type': 'playlist',\n",
       "  'uri': 'spotify:playlist:37i9dQZF1DXbm6HfkbMtFZ'},\n",
       " {'collaborative': False,\n",
       "  'external_urls': {'spotify': 'https://open.spotify.com/playlist/37i9dQZF1DX1tW4VlEfDSS'},\n",
       "  'href': 'https://api.spotify.com/v1/playlists/37i9dQZF1DX1tW4VlEfDSS',\n",
       "  'id': '37i9dQZF1DX1tW4VlEfDSS',\n",
       "  'images': [{'height': None,\n",
       "    'url': 'https://pl.scdn.co/images/pl/default/fe67e7165b2b517cb5225db53bffe54d51c66ee4',\n",
       "    'width': None}],\n",
       "  'name': 'Groove Theory',\n",
       "  'owner': {'display_name': 'Spotify',\n",
       "   'external_urls': {'spotify': 'https://open.spotify.com/user/spotify'},\n",
       "   'href': 'https://api.spotify.com/v1/users/spotify',\n",
       "   'id': 'spotify',\n",
       "   'type': 'user',\n",
       "   'uri': 'spotify:user:spotify'},\n",
       "  'primary_color': None,\n",
       "  'public': None,\n",
       "  'snapshot_id': 'MTU2MTA3MTY2MCwwMDAwMDAzZDAwMDAwMTZiNzcxZjJjNTcwMDAwMDE2OTQ5MjIzMWVh',\n",
       "  'tracks': {'href': 'https://api.spotify.com/v1/playlists/37i9dQZF1DX1tW4VlEfDSS/tracks',\n",
       "   'total': 82},\n",
       "  'type': 'playlist',\n",
       "  'uri': 'spotify:playlist:37i9dQZF1DX1tW4VlEfDSS'},\n",
       " {'collaborative': False,\n",
       "  'external_urls': {'spotify': 'https://open.spotify.com/playlist/37i9dQZF1DXcDxnC0UqHJa'},\n",
       "  'href': 'https://api.spotify.com/v1/playlists/37i9dQZF1DXcDxnC0UqHJa',\n",
       "  'id': '37i9dQZF1DXcDxnC0UqHJa',\n",
       "  'images': [{'height': None,\n",
       "    'url': 'https://pl.scdn.co/images/pl/default/4d57a72c8da36d8f430a45efda0d4da4f1a05074',\n",
       "    'width': None}],\n",
       "  'name': 'Folksy Covers',\n",
       "  'owner': {'display_name': 'Spotify',\n",
       "   'external_urls': {'spotify': 'https://open.spotify.com/user/spotify'},\n",
       "   'href': 'https://api.spotify.com/v1/users/spotify',\n",
       "   'id': 'spotify',\n",
       "   'type': 'user',\n",
       "   'uri': 'spotify:user:spotify'},\n",
       "  'primary_color': None,\n",
       "  'public': None,\n",
       "  'snapshot_id': 'MTU1NzUyNDU2MCwwMDAwMDAzMjAwMDAwMTZhYTNiMmI5ZmQwMDAwMDE2ODk4YzVlMGIw',\n",
       "  'tracks': {'href': 'https://api.spotify.com/v1/playlists/37i9dQZF1DXcDxnC0UqHJa/tracks',\n",
       "   'total': 150},\n",
       "  'type': 'playlist',\n",
       "  'uri': 'spotify:playlist:37i9dQZF1DXcDxnC0UqHJa'},\n",
       " {'collaborative': False,\n",
       "  'external_urls': {'spotify': 'https://open.spotify.com/playlist/37i9dQZF1DWTbzY5gOVvKd'},\n",
       "  'href': 'https://api.spotify.com/v1/playlists/37i9dQZF1DWTbzY5gOVvKd',\n",
       "  'id': '37i9dQZF1DWTbzY5gOVvKd',\n",
       "  'images': [{'height': None,\n",
       "    'url': 'https://pl.scdn.co/images/pl/default/18c2f43df33b660ac847b9860f4192dd184f97a7',\n",
       "    'width': None}],\n",
       "  'name': 'Jazzy Romance',\n",
       "  'owner': {'display_name': 'Spotify',\n",
       "   'external_urls': {'spotify': 'https://open.spotify.com/user/spotify'},\n",
       "   'href': 'https://api.spotify.com/v1/users/spotify',\n",
       "   'id': 'spotify',\n",
       "   'type': 'user',\n",
       "   'uri': 'spotify:user:spotify'},\n",
       "  'primary_color': None,\n",
       "  'public': None,\n",
       "  'snapshot_id': 'MTU2MTQ4NTk5MSwwMDAwMDAwMGQ0MWQ4Y2Q5OGYwMGIyMDRlOTgwMDk5OGVjZjg0Mjdl',\n",
       "  'tracks': {'href': 'https://api.spotify.com/v1/playlists/37i9dQZF1DWTbzY5gOVvKd/tracks',\n",
       "   'total': 66},\n",
       "  'type': 'playlist',\n",
       "  'uri': 'spotify:playlist:37i9dQZF1DWTbzY5gOVvKd'},\n",
       " {'collaborative': False,\n",
       "  'external_urls': {'spotify': 'https://open.spotify.com/playlist/37i9dQZF1DX44dZ4p5QLf4'},\n",
       "  'href': 'https://api.spotify.com/v1/playlists/37i9dQZF1DX44dZ4p5QLf4',\n",
       "  'id': '37i9dQZF1DX44dZ4p5QLf4',\n",
       "  'images': [{'height': None,\n",
       "    'url': 'https://pl.scdn.co/images/pl/default/cca8457e7e8db6041f5cc0e113db3cdc40872530',\n",
       "    'width': None}],\n",
       "  'name': 'I Love My Neo-Soul',\n",
       "  'owner': {'display_name': 'Spotify',\n",
       "   'external_urls': {'spotify': 'https://open.spotify.com/user/spotify'},\n",
       "   'href': 'https://api.spotify.com/v1/users/spotify',\n",
       "   'id': 'spotify',\n",
       "   'type': 'user',\n",
       "   'uri': 'spotify:user:spotify'},\n",
       "  'primary_color': None,\n",
       "  'public': None,\n",
       "  'snapshot_id': 'MTU1OTg2MjQ2MiwwMDAwMDAyYTAwMDAwMTZiMmYwYzRhMDgwMDAwMDE2YjBkMWQwZjMx',\n",
       "  'tracks': {'href': 'https://api.spotify.com/v1/playlists/37i9dQZF1DX44dZ4p5QLf4/tracks',\n",
       "   'total': 50},\n",
       "  'type': 'playlist',\n",
       "  'uri': 'spotify:playlist:37i9dQZF1DX44dZ4p5QLf4'},\n",
       " {'collaborative': False,\n",
       "  'external_urls': {'spotify': 'https://open.spotify.com/playlist/37i9dQZF1DWUvHZA1zLcjW'},\n",
       "  'href': 'https://api.spotify.com/v1/playlists/37i9dQZF1DWUvHZA1zLcjW',\n",
       "  'id': '37i9dQZF1DWUvHZA1zLcjW',\n",
       "  'images': [{'height': None,\n",
       "    'url': 'https://pl.scdn.co/images/pl/default/5e5e81318e6bd112ab0f86de8096c3ad44de887d',\n",
       "    'width': None}],\n",
       "  'name': 'Chilled Classical',\n",
       "  'owner': {'display_name': 'Spotify',\n",
       "   'external_urls': {'spotify': 'https://open.spotify.com/user/spotify'},\n",
       "   'href': 'https://api.spotify.com/v1/users/spotify',\n",
       "   'id': 'spotify',\n",
       "   'type': 'user',\n",
       "   'uri': 'spotify:user:spotify'},\n",
       "  'primary_color': None,\n",
       "  'public': None,\n",
       "  'snapshot_id': 'MTU1NDM4Njg2NCwwMDAwMDAxMjAwMDAwMTY5ZThhZDQ5MGUwMDAwMDE2ODk4ZGYzODdj',\n",
       "  'tracks': {'href': 'https://api.spotify.com/v1/playlists/37i9dQZF1DWUvHZA1zLcjW/tracks',\n",
       "   'total': 50},\n",
       "  'type': 'playlist',\n",
       "  'uri': 'spotify:playlist:37i9dQZF1DWUvHZA1zLcjW'},\n",
       " {'collaborative': False,\n",
       "  'external_urls': {'spotify': 'https://open.spotify.com/playlist/37i9dQZF1DX50QitC6Oqtn'},\n",
       "  'href': 'https://api.spotify.com/v1/playlists/37i9dQZF1DX50QitC6Oqtn',\n",
       "  'id': '37i9dQZF1DX50QitC6Oqtn',\n",
       "  'images': [{'height': None,\n",
       "    'url': 'https://pl.scdn.co/images/pl/default/ba4d1876c0ab7d8137aafe2a50e612dd67265b56',\n",
       "    'width': None}],\n",
       "  'name': 'Love Pop',\n",
       "  'owner': {'display_name': 'Spotify',\n",
       "   'external_urls': {'spotify': 'https://open.spotify.com/user/spotify'},\n",
       "   'href': 'https://api.spotify.com/v1/users/spotify',\n",
       "   'id': 'spotify',\n",
       "   'type': 'user',\n",
       "   'uri': 'spotify:user:spotify'},\n",
       "  'primary_color': None,\n",
       "  'public': None,\n",
       "  'snapshot_id': 'MTU2MTQ4NjA0MCwwMDAwMDAwMGQ0MWQ4Y2Q5OGYwMGIyMDRlOTgwMDk5OGVjZjg0Mjdl',\n",
       "  'tracks': {'href': 'https://api.spotify.com/v1/playlists/37i9dQZF1DX50QitC6Oqtn/tracks',\n",
       "   'total': 55},\n",
       "  'type': 'playlist',\n",
       "  'uri': 'spotify:playlist:37i9dQZF1DX50QitC6Oqtn'},\n",
       " {'collaborative': False,\n",
       "  'external_urls': {'spotify': 'https://open.spotify.com/playlist/37i9dQZF1DX79Y9Kr2M2tM'},\n",
       "  'href': 'https://api.spotify.com/v1/playlists/37i9dQZF1DX79Y9Kr2M2tM',\n",
       "  'id': '37i9dQZF1DX79Y9Kr2M2tM',\n",
       "  'images': [{'height': None,\n",
       "    'url': 'https://pl.scdn.co/images/pl/default/2f9344eba6ed7603a6eb55c8f8a5c17ebe84613d',\n",
       "    'width': None}],\n",
       "  'name': 'Lush + Atmospheric',\n",
       "  'owner': {'display_name': 'Spotify',\n",
       "   'external_urls': {'spotify': 'https://open.spotify.com/user/spotify'},\n",
       "   'href': 'https://api.spotify.com/v1/users/spotify',\n",
       "   'id': 'spotify',\n",
       "   'type': 'user',\n",
       "   'uri': 'spotify:user:spotify'},\n",
       "  'primary_color': None,\n",
       "  'public': None,\n",
       "  'snapshot_id': 'MTU1NzUwNzY0NiwwMDAwMDA0MTAwMDAwMTZhYTJiMGE0N2EwMDAwMDE2ODk4ZGU2NTU0',\n",
       "  'tracks': {'href': 'https://api.spotify.com/v1/playlists/37i9dQZF1DX79Y9Kr2M2tM/tracks',\n",
       "   'total': 93},\n",
       "  'type': 'playlist',\n",
       "  'uri': 'spotify:playlist:37i9dQZF1DX79Y9Kr2M2tM'},\n",
       " {'collaborative': False,\n",
       "  'external_urls': {'spotify': 'https://open.spotify.com/playlist/37i9dQZF1DXb9LIXaj5WhL'},\n",
       "  'href': 'https://api.spotify.com/v1/playlists/37i9dQZF1DXb9LIXaj5WhL',\n",
       "  'id': '37i9dQZF1DXb9LIXaj5WhL',\n",
       "  'images': [{'height': None,\n",
       "    'url': 'https://pl.scdn.co/images/pl/default/1d4ba8cb976e9b1ba84d312e59b57b8fd0c4ecea',\n",
       "    'width': None}],\n",
       "  'name': '90s Acoustic',\n",
       "  'owner': {'display_name': 'Spotify',\n",
       "   'external_urls': {'spotify': 'https://open.spotify.com/user/spotify'},\n",
       "   'href': 'https://api.spotify.com/v1/users/spotify',\n",
       "   'id': 'spotify',\n",
       "   'type': 'user',\n",
       "   'uri': 'spotify:user:spotify'},\n",
       "  'primary_color': None,\n",
       "  'public': None,\n",
       "  'snapshot_id': 'MTU2MTQ4NjAyMSwwMDAwMDAwMGQ0MWQ4Y2Q5OGYwMGIyMDRlOTgwMDk5OGVjZjg0Mjdl',\n",
       "  'tracks': {'href': 'https://api.spotify.com/v1/playlists/37i9dQZF1DXb9LIXaj5WhL/tracks',\n",
       "   'total': 75},\n",
       "  'type': 'playlist',\n",
       "  'uri': 'spotify:playlist:37i9dQZF1DXb9LIXaj5WhL'},\n",
       " {'collaborative': False,\n",
       "  'external_urls': {'spotify': 'https://open.spotify.com/playlist/37i9dQZF1DX9loJQLuEvap'},\n",
       "  'href': 'https://api.spotify.com/v1/playlists/37i9dQZF1DX9loJQLuEvap',\n",
       "  'id': '37i9dQZF1DX9loJQLuEvap',\n",
       "  'images': [{'height': None,\n",
       "    'url': 'https://pl.scdn.co/images/pl/default/4de40436ea1f645808f1b3ec4426be5741d4b612',\n",
       "    'width': None}],\n",
       "  'name': '50 Great Female Voices',\n",
       "  'owner': {'display_name': 'Spotify',\n",
       "   'external_urls': {'spotify': 'https://open.spotify.com/user/spotify'},\n",
       "   'href': 'https://api.spotify.com/v1/users/spotify',\n",
       "   'id': 'spotify',\n",
       "   'type': 'user',\n",
       "   'uri': 'spotify:user:spotify'},\n",
       "  'primary_color': None,\n",
       "  'public': None,\n",
       "  'snapshot_id': 'MTU2MTQ4NjA0MCwwMDAwMDAwMGQ0MWQ4Y2Q5OGYwMGIyMDRlOTgwMDk5OGVjZjg0Mjdl',\n",
       "  'tracks': {'href': 'https://api.spotify.com/v1/playlists/37i9dQZF1DX9loJQLuEvap/tracks',\n",
       "   'total': 50},\n",
       "  'type': 'playlist',\n",
       "  'uri': 'spotify:playlist:37i9dQZF1DX9loJQLuEvap'}]"
      ]
     },
     "execution_count": 203,
     "metadata": {},
     "output_type": "execute_result"
    }
   ],
   "source": [
    "featured_playlists"
   ]
  },
  {
   "cell_type": "markdown",
   "metadata": {},
   "source": [
    "The id and name are nested deep"
   ]
  },
  {
   "cell_type": "code",
   "execution_count": 204,
   "metadata": {},
   "outputs": [
    {
     "data": {
      "text/plain": [
       "('37i9dQZF1DXbm6HfkbMtFZ', 'Feel Good Dinner')"
      ]
     },
     "execution_count": 204,
     "metadata": {},
     "output_type": "execute_result"
    }
   ],
   "source": [
    "featured_playlists[0]['id'], featured_playlists[0]['name']"
   ]
  },
  {
   "cell_type": "code",
   "execution_count": 205,
   "metadata": {},
   "outputs": [
    {
     "data": {
      "text/plain": [
       "'spotify'"
      ]
     },
     "execution_count": 205,
     "metadata": {},
     "output_type": "execute_result"
    }
   ],
   "source": [
    "#We will also use the owner id\n",
    "featured_playlists[0]['owner']['id']"
   ]
  },
  {
   "cell_type": "markdown",
   "metadata": {},
   "source": [
    "Using an abstracted custom function to retreive many id and name pairs at once"
   ]
  },
  {
   "cell_type": "code",
   "execution_count": 206,
   "metadata": {},
   "outputs": [
    {
     "data": {
      "text/plain": [
       "{'37i9dQZF1DXbm6HfkbMtFZ': {'name': 'Feel Good Dinner', 'owner_id': 'spotify'},\n",
       " '37i9dQZF1DX1tW4VlEfDSS': {'name': 'Groove Theory', 'owner_id': 'spotify'},\n",
       " '37i9dQZF1DXcDxnC0UqHJa': {'name': 'Folksy Covers', 'owner_id': 'spotify'},\n",
       " '37i9dQZF1DWTbzY5gOVvKd': {'name': 'Jazzy Romance', 'owner_id': 'spotify'},\n",
       " '37i9dQZF1DX44dZ4p5QLf4': {'name': 'I Love My Neo-Soul',\n",
       "  'owner_id': 'spotify'},\n",
       " '37i9dQZF1DWUvHZA1zLcjW': {'name': 'Chilled Classical',\n",
       "  'owner_id': 'spotify'},\n",
       " '37i9dQZF1DX50QitC6Oqtn': {'name': 'Love Pop', 'owner_id': 'spotify'},\n",
       " '37i9dQZF1DX79Y9Kr2M2tM': {'name': 'Lush + Atmospheric',\n",
       "  'owner_id': 'spotify'},\n",
       " '37i9dQZF1DXb9LIXaj5WhL': {'name': '90s Acoustic', 'owner_id': 'spotify'},\n",
       " '37i9dQZF1DX9loJQLuEvap': {'name': '50 Great Female Voices',\n",
       "  'owner_id': 'spotify'}}"
      ]
     },
     "execution_count": 206,
     "metadata": {},
     "output_type": "execute_result"
    }
   ],
   "source": [
    "hb.extract_name_and_id(response)"
   ]
  },
  {
   "cell_type": "code",
   "execution_count": 209,
   "metadata": {},
   "outputs": [],
   "source": [
    "acoustic = spotify.search('acoustic', type='playlist', market = 'US', limit=50)"
   ]
  },
  {
   "cell_type": "code",
   "execution_count": 210,
   "metadata": {},
   "outputs": [
    {
     "data": {
      "text/plain": [
       "{'37i9dQZF1DXb9LIXaj5WhL': {'name': '90s Acoustic', 'owner_id': 'spotify'},\n",
       " '37i9dQZF1DWXmlLSKkfdAk': {'name': 'Acoustic Covers', 'owner_id': 'spotify'},\n",
       " '37i9dQZF1DWX9VXBLRgDqu': {'name': 'Acoustic Favorites',\n",
       "  'owner_id': 'spotify'},\n",
       " '37i9dQZF1DX8TvdyVZSYFY': {'name': 'Acoustic Throwbacks',\n",
       "  'owner_id': 'spotify'},\n",
       " '37i9dQZF1DX0rCrO4CFRfM': {'name': 'Acoustic Rock', 'owner_id': 'spotify'},\n",
       " '37i9dQZF1DX504r1DvyvxG': {'name': 'Classic Acoustic', 'owner_id': 'spotify'},\n",
       " '37i9dQZF1DX4VvfRBFClxm': {'name': 'Acoustic Hits', 'owner_id': 'spotify'},\n",
       " '37i9dQZF1DWSlwBojgQEcN': {'name': 'Acoustic Love', 'owner_id': 'spotify'},\n",
       " '37i9dQZF1DX4CgJVlGEIo5': {'name': 'Easy Acoustic', 'owner_id': 'spotify'},\n",
       " '37i9dQZF1DWUNIrSzKgQbP': {'name': 'Summer Acoustic', 'owner_id': 'spotify'},\n",
       " '37i9dQZF1DXc3FQfFV3K6V': {'name': 'Laidback Acoustic',\n",
       "  'owner_id': 'spotify'},\n",
       " '37i9dQZF1DWYGZAMYFDM8S': {'name': 'Acoustic Chill', 'owner_id': 'spotify'},\n",
       " '37i9dQZF1DXaImRpG7HXqp': {'name': 'Acoustic Calm', 'owner_id': 'spotify'},\n",
       " '37i9dQZF1DX6z20IXmBjWI': {'name': 'Infinite Acoustic',\n",
       "  'owner_id': 'spotify'},\n",
       " '37i9dQZF1DX5lDysu4GbKR': {'name': 'Acoustic Soul', 'owner_id': 'spotify'},\n",
       " '37i9dQZF1DXdd3gw5QVjt9': {'name': 'Morning Acoustic', 'owner_id': 'spotify'},\n",
       " '37i9dQZF1DX2iUghHXGIjj': {'name': 'Acoustic Blues', 'owner_id': 'spotify'},\n",
       " '37i9dQZF1DX4E3UdUs7fUx': {'name': 'Afternoon Acoustic',\n",
       "  'owner_id': 'spotify'},\n",
       " '37i9dQZF1DWX3xqQKu0Sgn': {'name': 'Pop Acoustic', 'owner_id': 'spotify'},\n",
       " '37i9dQZF1DXcWBRiUaG3o5': {'name': 'Evening Acoustic', 'owner_id': 'spotify'},\n",
       " '37i9dQZF1DX5GiUwx1edLZ': {'name': 'mint Acoustic', 'owner_id': 'spotify'},\n",
       " '37i9dQZF1DWSwxyU5zGZYe': {'name': 'Bollywood Acoustic',\n",
       "  'owner_id': 'spotify'},\n",
       " '37i9dQZF1DXcLDm348RRYK': {'name': 'Acoustic Concentration',\n",
       "  'owner_id': 'spotify'},\n",
       " '37i9dQZF1DX4je779Ww5L2': {'name': 'Acoustic Summer', 'owner_id': 'spotify'},\n",
       " '37i9dQZF1DXdxjdZwLamNx': {'name': 'Gentle Acoustic', 'owner_id': 'spotify'},\n",
       " '2JtkUgJumiz7K4AblbFlgK': {'name': 'Acoustic Room',\n",
       "  'owner_id': 'digster.co.uk'},\n",
       " '37i9dQZF1DX0JKUIfwQSJh': {'name': '70s & 80s Acoustic',\n",
       "  'owner_id': 'spotify'},\n",
       " '37i9dQZF1DXaiAJKcabR16': {'name': 'Acoustic Grit', 'owner_id': 'spotify'},\n",
       " '37i9dQZF1DWUDoJcM4v6Tm': {'name': 'Indie Acoustic Chill',\n",
       "  'owner_id': 'spotify'},\n",
       " '37i9dQZF1DX0jgyAiPl8Af': {'name': 'Peaceful Guitar', 'owner_id': 'spotify'},\n",
       " '6prLaAk2sOPeDpJKY6LZZ9': {'name': 'Starbucks Acoustic',\n",
       "  'owner_id': 'starbucks'},\n",
       " '2V8qoHWpiJ1HlCxiYT7Vsb': {'name': 'Acoustic Worship',\n",
       "  'owner_id': 'bethelmusic'},\n",
       " '3ZJ3tiNi2aKblhloHgz9R8': {'name': 'Acoustic Covers 💿',\n",
       "  'owner_id': 'doublejmusicltd'},\n",
       " '37i9dQZF1DWUH2AzNQzWua': {'name': 'Acoustic Hits: Oldies but Goodies',\n",
       "  'owner_id': 'spotify'},\n",
       " '4ARhwf75lsNra3UD9KIYPy': {'name': 'Acoustic 2019',\n",
       "  'owner_id': 'gabrielsjbv'},\n",
       " '37i9dQZF1DX571ttkrxAeN': {'name': 'Acoustic Cafe International',\n",
       "  'owner_id': 'spotify'},\n",
       " '37i9dQZF1DWXYO300IYLDB': {'name': 'Acoustic Melodies Tokyo',\n",
       "  'owner_id': 'spotify'},\n",
       " '37i9dQZF1DXaByxqE5mcbB': {'name': 'Acoustic sa Umaga',\n",
       "  'owner_id': 'spotify'},\n",
       " '37i9dQZF1DWY8U6Zq7nvbE': {'name': 'Hot Acoustics', 'owner_id': 'spotify'},\n",
       " '4XkMSl1R3f7WsNeTZgrxv5': {'name': 'Boyce Avenue Acoustic Covers',\n",
       "  'owner_id': 'boyceavenue'},\n",
       " '0XxgvmqDKDYsYoCiEjlTzv': {'name': 'HILLSONG ACOUSTIC',\n",
       "  'owner_id': '1231514602'},\n",
       " '37i9dQZF1DWUI804Xnly9d': {'name': 'Chai & Acoustic', 'owner_id': 'spotify'},\n",
       " '6ssHgVFDNaWmXcvFJttFmW': {'name': 'Acoustic OPM', 'owner_id': 'ren_x7'},\n",
       " '37i9dQZF1DXcJMm7qL65rU': {'name': 'Acoustic Lounge', 'owner_id': 'spotify'},\n",
       " '37i9dQZF1DX6MOpsDRQkA4': {'name': 'Acoustic Party', 'owner_id': 'spotify'},\n",
       " '0irp5Jir8rllPr2dlOdnJb': {'name': 'Acoustic Guitar Instrumentals',\n",
       "  'owner_id': 'koreanry'},\n",
       " '37i9dQZF1DX7XF2hFaHoss': {'name': 'Women of Acoustic',\n",
       "  'owner_id': 'spotify'},\n",
       " '4mgONdF300kCTcppGtsy7A': {'name': 'Acoustic Sleep',\n",
       "  'owner_id': 'sleepsoundlibrary'},\n",
       " '4gIuecj8CQrFih0rwyEYMs': {'name': 'Corey Taylor Acoustic',\n",
       "  'owner_id': 'lygiamaciel70'},\n",
       " '1nRpJkW26d0LrHM5Ar6rk8': {'name': 'All Acoustic',\n",
       "  'owner_id': 'z4acg8jkhhqn4euyb73n64v8e'}}"
      ]
     },
     "execution_count": 210,
     "metadata": {},
     "output_type": "execute_result"
    }
   ],
   "source": [
    "hb.extract_name_and_id(acoustic)"
   ]
  },
  {
   "cell_type": "markdown",
   "metadata": {},
   "source": [
    "It seems to work for other playlists as well. We can now begin to compile a master playlist... list  \n",
    "But first lets compile a list of potential playlist queries."
   ]
  },
  {
   "cell_type": "code",
   "execution_count": 211,
   "metadata": {},
   "outputs": [
    {
     "data": {
      "text/plain": [
       "{'categories': {'href': 'https://api.spotify.com/v1/browse/categories?country=US&offset=0&limit=2',\n",
       "  'items': [{'href': 'https://api.spotify.com/v1/browse/categories/toplists',\n",
       "    'icons': [{'height': 275,\n",
       "      'url': 'https://t.scdn.co/media/derived/toplists_11160599e6a04ac5d6f2757f5511778f_0_0_275_275.jpg',\n",
       "      'width': 275}],\n",
       "    'id': 'toplists',\n",
       "    'name': 'Top Lists'},\n",
       "   {'href': 'https://api.spotify.com/v1/browse/categories/pride',\n",
       "    'icons': [{'height': None,\n",
       "      'url': 'https://t.scdn.co/images/90f4c163-46f6-4cda-bd84-e78ff90d4959.jpg',\n",
       "      'width': None}],\n",
       "    'id': 'pride',\n",
       "    'name': 'Pride'}],\n",
       "  'limit': 2,\n",
       "  'next': 'https://api.spotify.com/v1/browse/categories?country=US&offset=2&limit=2',\n",
       "  'offset': 0,\n",
       "  'previous': None,\n",
       "  'total': 44}}"
      ]
     },
     "execution_count": 211,
     "metadata": {},
     "output_type": "execute_result"
    }
   ],
   "source": [
    "spotify.categories(country='US', limit=2)"
   ]
  },
  {
   "cell_type": "code",
   "execution_count": 212,
   "metadata": {},
   "outputs": [
    {
     "data": {
      "text/plain": [
       "[{'href': 'https://api.spotify.com/v1/browse/categories/toplists',\n",
       "  'icons': [{'height': 275,\n",
       "    'url': 'https://t.scdn.co/media/derived/toplists_11160599e6a04ac5d6f2757f5511778f_0_0_275_275.jpg',\n",
       "    'width': 275}],\n",
       "  'id': 'toplists',\n",
       "  'name': 'Top Lists'},\n",
       " {'href': 'https://api.spotify.com/v1/browse/categories/pride',\n",
       "  'icons': [{'height': None,\n",
       "    'url': 'https://t.scdn.co/images/90f4c163-46f6-4cda-bd84-e78ff90d4959.jpg',\n",
       "    'width': None}],\n",
       "  'id': 'pride',\n",
       "  'name': 'Pride'}]"
      ]
     },
     "execution_count": 212,
     "metadata": {},
     "output_type": "execute_result"
    }
   ],
   "source": [
    "spotify.categories(country='US', limit=50)['categories']['items'][:2]"
   ]
  },
  {
   "cell_type": "code",
   "execution_count": 213,
   "metadata": {},
   "outputs": [],
   "source": [
    "# These are nested similar to the playlist items\n",
    "categories_list = []\n",
    "for category in spotify.categories(country='US',\n",
    "                                   limit=50)['categories']['items']:\n",
    "    categories_list.append(category['id'])"
   ]
  },
  {
   "cell_type": "code",
   "execution_count": 214,
   "metadata": {},
   "outputs": [
    {
     "data": {
      "text/plain": [
       "['toplists',\n",
       " 'pride',\n",
       " 'summer',\n",
       " 'pop',\n",
       " 'hiphop',\n",
       " 'mood',\n",
       " 'workout',\n",
       " 'decades',\n",
       " 'country',\n",
       " 'focus',\n",
       " 'latin',\n",
       " 'chill',\n",
       " 'edm_dance',\n",
       " 'rnb',\n",
       " 'rock',\n",
       " 'soul',\n",
       " 'indie_alt',\n",
       " 'roots',\n",
       " 'party',\n",
       " 'sleep',\n",
       " 'classical',\n",
       " 'jazz',\n",
       " 'inspirational',\n",
       " 'gaming',\n",
       " 'romance',\n",
       " 'kpop',\n",
       " 'popculture',\n",
       " 'arab',\n",
       " 'desi',\n",
       " 'afro',\n",
       " 'ellen',\n",
       " 'metal',\n",
       " 'reggae',\n",
       " 'blues',\n",
       " 'punk',\n",
       " 'funk',\n",
       " 'dinner',\n",
       " 'blackhistorymonth',\n",
       " 'sessions',\n",
       " 'travel',\n",
       " 'family',\n",
       " 'comedy',\n",
       " 'word',\n",
       " 'mexican']"
      ]
     },
     "execution_count": 214,
     "metadata": {},
     "output_type": "execute_result"
    }
   ],
   "source": [
    "categories_list"
   ]
  },
  {
   "cell_type": "code",
   "execution_count": 215,
   "metadata": {},
   "outputs": [
    {
     "name": "stdout",
     "output_type": "stream",
     "text": [
      "toplists has 14 playlists\n",
      "pride has 24 playlists\n",
      "summer has 43 playlists\n",
      "pop has 41 playlists\n",
      "hiphop has 46 playlists\n",
      "mood has 50 playlists\n",
      "workout has 50 playlists\n",
      "decades has 50 playlists\n",
      "country has 50 playlists\n",
      "focus has 41 playlists\n",
      "latin has 50 playlists\n",
      "chill has 50 playlists\n",
      "edm_dance has 49 playlists\n",
      "rnb has 25 playlists\n",
      "rock has 50 playlists\n",
      "soul has 23 playlists\n",
      "indie_alt has 50 playlists\n",
      "roots has 50 playlists\n",
      "party has 42 playlists\n",
      "sleep has 34 playlists\n",
      "classical has 50 playlists\n",
      "jazz has 39 playlists\n",
      "inspirational has 50 playlists\n",
      "gaming has 48 playlists\n",
      "romance has 50 playlists\n",
      "kpop has 31 playlists\n",
      "popculture has 42 playlists\n",
      "arab has 38 playlists\n",
      "desi has 50 playlists\n",
      "afro has 50 playlists\n",
      "ellen has 19 playlists\n",
      "metal has 33 playlists\n",
      "reggae has 17 playlists\n",
      "blues has 24 playlists\n",
      "punk has 27 playlists\n",
      "funk has 12 playlists\n",
      "dinner has 19 playlists\n",
      "blackhistorymonth has 22 playlists\n",
      "sessions has 10 playlists\n",
      "travel has 30 playlists\n",
      "family has 18 playlists\n",
      "comedy has 16 playlists\n",
      "word has 50 playlists\n",
      "mexican has 40 playlists\n"
     ]
    }
   ],
   "source": [
    "big_categories_50 = []\n",
    "for category in categories_list:\n",
    "    playlist_list = spotify.category_playlists(category_id=category,\n",
    "                           limit=50, country='US', offset=0\n",
    "                           )['playlists']['items']\n",
    "    n = len(playlist_list)\n",
    "    if n == 50:                             # If there are 50 playlists it may be only because\n",
    "                                            # the limit is trimming the result and there are\n",
    "                                            # actually more that we want to get\n",
    "        big_categories_50.append(category)\n",
    "    print(f'{category} has {n} playlists')"
   ]
  },
  {
   "cell_type": "code",
   "execution_count": 216,
   "metadata": {},
   "outputs": [
    {
     "data": {
      "text/plain": [
       "['mood',\n",
       " 'workout',\n",
       " 'decades',\n",
       " 'country',\n",
       " 'latin',\n",
       " 'chill',\n",
       " 'rock',\n",
       " 'indie_alt',\n",
       " 'roots',\n",
       " 'classical',\n",
       " 'inspirational',\n",
       " 'romance',\n",
       " 'desi',\n",
       " 'afro',\n",
       " 'word']"
      ]
     },
     "execution_count": 216,
     "metadata": {},
     "output_type": "execute_result"
    }
   ],
   "source": [
    "big_categories_50"
   ]
  },
  {
   "cell_type": "code",
   "execution_count": 217,
   "metadata": {},
   "outputs": [
    {
     "name": "stdout",
     "output_type": "stream",
     "text": [
      "mood has 35 playlists\n",
      "workout has 16 playlists\n",
      "decades has 6 playlists\n",
      "country has 7 playlists\n",
      "latin has 50 playlists\n",
      "chill has 48 playlists\n",
      "rock has 28 playlists\n",
      "indie_alt has 1 playlists\n",
      "roots has 50 playlists\n",
      "classical has 50 playlists\n",
      "inspirational has 34 playlists\n",
      "romance has 2 playlists\n",
      "desi has 13 playlists\n",
      "afro has 28 playlists\n",
      "word has 17 playlists\n"
     ]
    }
   ],
   "source": [
    "big_categories_100 = []\n",
    "for category in big_categories_50:\n",
    "    playlist_list = spotify.category_playlists(category_id=category,\n",
    "                           limit=50, country='US', offset=50\n",
    "                           )['playlists']['items']\n",
    "    n = len(playlist_list)\n",
    "    if n == 50:\n",
    "        big_categories_100.append(category)\n",
    "    print(f'{category} has {n} playlists')"
   ]
  },
  {
   "cell_type": "code",
   "execution_count": 109,
   "metadata": {},
   "outputs": [
    {
     "name": "stdout",
     "output_type": "stream",
     "text": [
      "latin has 50 playlists\n",
      "roots has 7 playlists\n",
      "classical has 15 playlists\n"
     ]
    }
   ],
   "source": [
    "big_categories_150 = []\n",
    "for category in big_categories_100:\n",
    "    playlist_list = spotify.category_playlists(category_id=category,\n",
    "                           limit=50, country='US', offset=100\n",
    "                           )['playlists']['items']\n",
    "    n = len(playlist_list)\n",
    "    if n == 50:\n",
    "        big_categories_150.append(category)\n",
    "    print(f'{category} has {n} playlists')"
   ]
  },
  {
   "cell_type": "code",
   "execution_count": 113,
   "metadata": {},
   "outputs": [
    {
     "data": {
      "text/plain": [
       "50"
      ]
     },
     "execution_count": 113,
     "metadata": {},
     "output_type": "execute_result"
    }
   ],
   "source": [
    "playlist_list = spotify.category_playlists(category_id='latin',\n",
    "                       limit=50, country='US', offset=150\n",
    "                       )['playlists']['items']\n",
    "len(playlist_list)"
   ]
  },
  {
   "cell_type": "markdown",
   "metadata": {},
   "source": [
    "WOW! 200 Playlists for Latin!! 200 will probably be enough. "
   ]
  },
  {
   "cell_type": "markdown",
   "metadata": {},
   "source": [
    "Lets start smashing some playlist lists together.  \n",
    "Thankfully the dictionary class will not add any playlist twice,  \n",
    "and the update function will allow us to merge new playlists."
   ]
  },
  {
   "cell_type": "code",
   "execution_count": 218,
   "metadata": {},
   "outputs": [],
   "source": [
    "master_playlist_dict = {}"
   ]
  },
  {
   "cell_type": "code",
   "execution_count": 219,
   "metadata": {},
   "outputs": [],
   "source": [
    "for category in categories_list:\n",
    "    offset = 0\n",
    "    while True:\n",
    "        response = spotify.category_playlists(category_id=category,\n",
    "                                                             offset=offset,\n",
    "                                                             limit=50, country='US',\n",
    "                                                             )\n",
    "        current_names_ids = hb.extract_name_and_id(response)\n",
    "        if current_names_ids == {}:                     # If we run out of playlists in a category\n",
    "            break                                       # we move on to the next category\n",
    "        master_playlist_dict.update(current_names_ids)\n",
    "        offset += 50"
   ]
  },
  {
   "cell_type": "code",
   "execution_count": 220,
   "metadata": {},
   "outputs": [
    {
     "data": {
      "text/plain": [
       "1891"
      ]
     },
     "execution_count": 220,
     "metadata": {},
     "output_type": "execute_result"
    }
   ],
   "source": [
    "len(master_playlist_dict.keys())"
   ]
  },
  {
   "cell_type": "code",
   "execution_count": 222,
   "metadata": {},
   "outputs": [
    {
     "data": {
      "text/plain": [
       "[('37i9dQZF1DXcBWIGoYBM5M',\n",
       "  {'name': \"Today's Top Hits\", 'owner_id': 'spotify'}),\n",
       " ('37i9dQZF1DX0XUsuxWHRQd', {'name': 'RapCaviar', 'owner_id': 'spotify'}),\n",
       " ('37i9dQZF1DXcF6B6QPhFDv', {'name': 'Rock This', 'owner_id': 'spotify'}),\n",
       " ('37i9dQZF1DX4dyzvuaRJ0n', {'name': 'mint', 'owner_id': 'spotify'}),\n",
       " ('37i9dQZF1DX1lVhptIYRda', {'name': 'Hot Country', 'owner_id': 'spotify'}),\n",
       " ('37i9dQZF1DX10zKzsJ2jva', {'name': '¡Viva Latino!', 'owner_id': 'spotify'}),\n",
       " ('37i9dQZF1DX4SBhb3fqCJd', {'name': 'Are & Be', 'owner_id': 'spotify'}),\n",
       " ('37i9dQZF1DX44t7uCdkV1A', {'name': 'Viral Hits', 'owner_id': 'spotify'}),\n",
       " ('37i9dQZEVXbLRQDuF5jeBp',\n",
       "  {'name': 'United States Top 50', 'owner_id': 'spotifycharts'}),\n",
       " ('37i9dQZEVXbMDoHDwVN2tF',\n",
       "  {'name': 'Global Top 50', 'owner_id': 'spotifycharts'}),\n",
       " ('37i9dQZEVXbLiRSasKsNU9',\n",
       "  {'name': 'Global Viral 50', 'owner_id': 'spotifycharts'}),\n",
       " ('37i9dQZEVXbKuaTI1Z1Afx',\n",
       "  {'name': 'United States Viral 50', 'owner_id': 'spotifycharts'}),\n",
       " ('37i9dQZF1DX4JAvHpjipBk',\n",
       "  {'name': 'New Music Friday', 'owner_id': 'spotify'}),\n",
       " ('37i9dQZF1DX6P1Nsk3wSZX',\n",
       "  {'name': 'Hot Country - Top Tracks of 2018', 'owner_id': 'spotify'}),\n",
       " ('37i9dQZF1DX3LyU0mhfqgP', {'name': 'Out Now', 'owner_id': 'spotify'}),\n",
       " ('37i9dQZF1DX59HcpGmPXYR', {'name': 'Pride Classics', 'owner_id': 'spotify'}),\n",
       " ('37i9dQZF1DWX82ahbDuQIz',\n",
       "  {'name': 'Best of Broadway', 'owner_id': 'spotify'}),\n",
       " ('37i9dQZF1DXbmCTvLQy5AO',\n",
       "  {'name': 'Work It, Own It', 'owner_id': 'spotify'}),\n",
       " ('37i9dQZF1DX0KM6YJ9RagS',\n",
       "  {'name': 'To NYC with Pride', 'owner_id': 'spotify'}),\n",
       " ('37i9dQZF1DWZZCoBbLu26P', {'name': 'Fierce', 'owner_id': 'spotify'})]"
      ]
     },
     "execution_count": 222,
     "metadata": {},
     "output_type": "execute_result"
    }
   ],
   "source": [
    "[(k, v) for k, v in master_playlist_dict.items()][:20]"
   ]
  },
  {
   "cell_type": "markdown",
   "metadata": {},
   "source": [
    "Lets see if we can find artists in a playlist!"
   ]
  },
  {
   "cell_type": "code",
   "execution_count": 223,
   "metadata": {},
   "outputs": [
    {
     "data": {
      "text/plain": [
       "('37i9dQZF1DXcBWIGoYBM5M', {'name': \"Today's Top Hits\", 'owner_id': 'spotify'})"
      ]
     },
     "execution_count": 223,
     "metadata": {},
     "output_type": "execute_result"
    }
   ],
   "source": [
    "list(master_playlist_dict.items())[0]"
   ]
  },
  {
   "cell_type": "code",
   "execution_count": 266,
   "metadata": {},
   "outputs": [
    {
     "data": {
      "text/plain": [
       "dict_keys(['href', 'items', 'limit', 'next', 'offset', 'previous', 'total'])"
      ]
     },
     "execution_count": 266,
     "metadata": {},
     "output_type": "execute_result"
    }
   ],
   "source": [
    "playlist_tracks = spotify.user_playlist_tracks(user='spotify',\n",
    "                                             playlist_id='37i9dQZF1DXcBWIGoYBM5M',\n",
    "                                             )\n",
    "playlist_tracks.keys()"
   ]
  },
  {
   "cell_type": "code",
   "execution_count": 267,
   "metadata": {},
   "outputs": [
    {
     "data": {
      "text/plain": [
       "list"
      ]
     },
     "execution_count": 267,
     "metadata": {},
     "output_type": "execute_result"
    }
   ],
   "source": [
    "type(playlist_tracks['items'])"
   ]
  },
  {
   "cell_type": "code",
   "execution_count": 268,
   "metadata": {},
   "outputs": [],
   "source": [
    "first_track = playlist_tracks['items'][0]"
   ]
  },
  {
   "cell_type": "code",
   "execution_count": 269,
   "metadata": {},
   "outputs": [
    {
     "data": {
      "text/plain": [
       "dict_keys(['added_at', 'added_by', 'is_local', 'primary_color', 'track', 'video_thumbnail'])"
      ]
     },
     "execution_count": 269,
     "metadata": {},
     "output_type": "execute_result"
    }
   ],
   "source": [
    "first_track.keys()"
   ]
  },
  {
   "cell_type": "code",
   "execution_count": 270,
   "metadata": {},
   "outputs": [
    {
     "data": {
      "text/plain": [
       "dict_keys(['album', 'artists', 'available_markets', 'disc_number', 'duration_ms', 'episode', 'explicit', 'external_ids', 'external_urls', 'href', 'id', 'is_local', 'name', 'popularity', 'preview_url', 'track', 'track_number', 'type', 'uri'])"
      ]
     },
     "execution_count": 270,
     "metadata": {},
     "output_type": "execute_result"
    }
   ],
   "source": [
    "first_track['track'].keys()"
   ]
  },
  {
   "cell_type": "code",
   "execution_count": 259,
   "metadata": {},
   "outputs": [
    {
     "data": {
      "text/plain": [
       "[{'external_urls': {'spotify': 'https://open.spotify.com/artist/7n2wHs1TKAczGzO7Dd2rGr'},\n",
       "  'href': 'https://api.spotify.com/v1/artists/7n2wHs1TKAczGzO7Dd2rGr',\n",
       "  'id': '7n2wHs1TKAczGzO7Dd2rGr',\n",
       "  'name': 'Shawn Mendes',\n",
       "  'type': 'artist',\n",
       "  'uri': 'spotify:artist:7n2wHs1TKAczGzO7Dd2rGr'},\n",
       " {'external_urls': {'spotify': 'https://open.spotify.com/artist/4nDoRrQiYLoBzwC5BhVJzF'},\n",
       "  'href': 'https://api.spotify.com/v1/artists/4nDoRrQiYLoBzwC5BhVJzF',\n",
       "  'id': '4nDoRrQiYLoBzwC5BhVJzF',\n",
       "  'name': 'Camila Cabello',\n",
       "  'type': 'artist',\n",
       "  'uri': 'spotify:artist:4nDoRrQiYLoBzwC5BhVJzF'}]"
      ]
     },
     "execution_count": 259,
     "metadata": {},
     "output_type": "execute_result"
    }
   ],
   "source": [
    "first_track['track']['artists']"
   ]
  },
  {
   "cell_type": "code",
   "execution_count": 261,
   "metadata": {},
   "outputs": [
    {
     "name": "stdout",
     "output_type": "stream",
     "text": [
      "Shawn Mendes\n",
      "Camila Cabello\n"
     ]
    }
   ],
   "source": [
    "for artist in first_track['track']['artists']:\n",
    "    print(artist['name'])"
   ]
  },
  {
   "cell_type": "markdown",
   "metadata": {},
   "source": [
    "Whew. Really nested in there. Lets abstract that to a homebrew function."
   ]
  },
  {
   "cell_type": "code",
   "execution_count": 275,
   "metadata": {},
   "outputs": [
    {
     "data": {
      "text/plain": [
       "{'21 Savage',\n",
       " '5 Seconds of Summer',\n",
       " 'A R I Z O N A',\n",
       " 'A Touch Of Class',\n",
       " 'Alesso',\n",
       " 'Ali Gatie',\n",
       " 'Ashley O',\n",
       " 'Avicii',\n",
       " 'Bazzi',\n",
       " 'Bebe Rexha',\n",
       " 'Billie Eilish',\n",
       " 'Billy Ray Cyrus',\n",
       " 'Blanco Brown',\n",
       " 'Bon Iver',\n",
       " 'Bryce Vine',\n",
       " 'Camila Cabello',\n",
       " 'Cardi B',\n",
       " 'Chance the Rapper',\n",
       " 'Chelsea Cutler',\n",
       " 'Chris Brown',\n",
       " 'DJ Snake',\n",
       " 'Daddy Yankee',\n",
       " 'Darell',\n",
       " 'Drake',\n",
       " 'Ed Sheeran',\n",
       " 'Fall Out Boy',\n",
       " 'Goodboys',\n",
       " 'J Balvin',\n",
       " 'J. Cole',\n",
       " 'Joji',\n",
       " 'Jon Z',\n",
       " 'Jonas Blue',\n",
       " 'Jonas Brothers',\n",
       " 'Justin Bieber',\n",
       " 'Kane Brown',\n",
       " 'Katy Perry',\n",
       " 'Kygo',\n",
       " 'Lewis Capaldi',\n",
       " 'Lil Nas X',\n",
       " 'Lil Tecca',\n",
       " 'Lizzo',\n",
       " 'MEDUZA',\n",
       " 'Mabel',\n",
       " 'Machine Gun Kelly',\n",
       " 'Macklemore',\n",
       " 'Madison Beer',\n",
       " 'Mark Ronson',\n",
       " 'Marshmello',\n",
       " 'Martin Garrix',\n",
       " 'Miley Cyrus',\n",
       " 'OneRepublic',\n",
       " 'PnB Rock',\n",
       " 'R3HAB',\n",
       " 'RANI',\n",
       " 'Rick Ross',\n",
       " 'Rita Ora',\n",
       " 'Russ',\n",
       " 'Sam Feldt',\n",
       " 'Sech',\n",
       " 'Shawn Mendes',\n",
       " 'Snow',\n",
       " 'TINI',\n",
       " 'Taylor Swift',\n",
       " 'The Chainsmokers',\n",
       " 'Tiësto',\n",
       " 'Travis Barker',\n",
       " 'Travis Scott',\n",
       " 'Tyga',\n",
       " 'Tyler, The Creator',\n",
       " 'YG',\n",
       " 'YUNGBLUD',\n",
       " 'Young Thug'}"
      ]
     },
     "execution_count": 275,
     "metadata": {},
     "output_type": "execute_result"
    }
   ],
   "source": [
    "hb.get_artists_in_playlist(playlist_tracks)"
   ]
  },
  {
   "cell_type": "code",
   "execution_count": null,
   "metadata": {},
   "outputs": [],
   "source": []
  }
 ],
 "metadata": {
  "kernelspec": {
   "display_name": "learn-env",
   "language": "python",
   "name": "learn-env"
  },
  "language_info": {
   "codemirror_mode": {
    "name": "ipython",
    "version": 3
   },
   "file_extension": ".py",
   "mimetype": "text/x-python",
   "name": "python",
   "nbconvert_exporter": "python",
   "pygments_lexer": "ipython3",
   "version": "3.6.6"
  }
 },
 "nbformat": 4,
 "nbformat_minor": 2
}
