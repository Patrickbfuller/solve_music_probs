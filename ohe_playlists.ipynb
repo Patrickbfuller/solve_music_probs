{
 "cells": [
  {
   "cell_type": "code",
   "execution_count": 1,
   "metadata": {},
   "outputs": [],
   "source": [
    "import spotipy\n",
    "from spotipy.oauth2 import SpotifyClientCredentials\n",
    "from sklearn.preprocessing import OneHotEncoder\n",
    "import pandas as pd\n",
    "import json\n",
    "import time\n",
    "import homebrew as hb\n",
    "%load_ext autoreload\n",
    "%autoreload 2"
   ]
  },
  {
   "cell_type": "code",
   "execution_count": 2,
   "metadata": {},
   "outputs": [],
   "source": [
    "with open('/Users/patrickfuller/.secrets/spotify_api.json') as f:\n",
    "    creds = json.load(f)\n",
    "client_id = creds['client_id']\n",
    "key = creds['api_key']"
   ]
  },
  {
   "cell_type": "code",
   "execution_count": 3,
   "metadata": {},
   "outputs": [],
   "source": [
    "client_credentials_manager = SpotifyClientCredentials(client_id=client_id,\n",
    "                                                      client_secret=key)\n",
    "\n",
    "spotify = spotipy.Spotify(client_credentials_manager=client_credentials_manager)"
   ]
  },
  {
   "cell_type": "code",
   "execution_count": 9,
   "metadata": {},
   "outputs": [],
   "source": [
    "cat_list = []\n",
    "response = spotify.categories(country='US', limit=50)\n",
    "items = response['categories']['items']\n",
    "for item in items:\n",
    "    category = item['id']\n",
    "    cat_list.append(category)"
   ]
  },
  {
   "cell_type": "code",
   "execution_count": 10,
   "metadata": {},
   "outputs": [],
   "source": [
    "for cat in ['family', 'comedy', 'word', 'ellen', 'sleep']:   \n",
    "    cat_list.remove(cat)"
   ]
  },
  {
   "cell_type": "code",
   "execution_count": 12,
   "metadata": {},
   "outputs": [],
   "source": [
    "master_playlist_dict = {}\n",
    "for category in cat_list:\n",
    "    offset = 0\n",
    "    while True:\n",
    "        response = spotify.category_playlists(category_id=category,\n",
    "                                                             offset=offset,\n",
    "                                                             limit=50, country='US',\n",
    "                                                             )\n",
    "        current_names_ids = hb.extract_name_and_id(response)\n",
    "        if current_names_ids == {}:                     # If we run out of playlists in a category\n",
    "            break                                       # we move on to the next category\n",
    "        master_playlist_dict.update(current_names_ids)\n",
    "        offset += 50"
   ]
  },
  {
   "cell_type": "code",
   "execution_count": 25,
   "metadata": {},
   "outputs": [],
   "source": [
    "with open('playlists_artists_redundant.json', 'w') as f:\n",
    "    for pl_id, pl_data in list(master_playlist_dict.items()):\n",
    "        pl_artists = []\n",
    "        offset = 0\n",
    "        for _ in range(2):\n",
    "            try:\n",
    "                response = spotify.user_playlist_tracks(user=pl_data['owner_id'],\n",
    "                                             playlist_id=pl_id,\n",
    "                                             limit=100)\n",
    "                current_artists = hb.get_artists_in_playlist(response)\n",
    "                pl_artists.extend(current_artists)\n",
    "                unique = set(pl_artists)\n",
    "                for artist in unique:\n",
    "                    line = {\n",
    "                        'artist':(artist),\n",
    "                        'playlist':(pl_data['name'], pl_id),\n",
    "                    }\n",
    "                    json.dump(line, f)\n",
    "                    f.write('\\n')\n",
    "            except:\n",
    "                pass"
   ]
  },
  {
   "cell_type": "code",
   "execution_count": null,
   "metadata": {},
   "outputs": [],
   "source": []
  }
 ],
 "metadata": {
  "kernelspec": {
   "display_name": "learn-env",
   "language": "python",
   "name": "learn-env"
  },
  "language_info": {
   "codemirror_mode": {
    "name": "ipython",
    "version": 3
   },
   "file_extension": ".py",
   "mimetype": "text/x-python",
   "name": "python",
   "nbconvert_exporter": "python",
   "pygments_lexer": "ipython3",
   "version": "3.6.6"
  }
 },
 "nbformat": 4,
 "nbformat_minor": 2
}
