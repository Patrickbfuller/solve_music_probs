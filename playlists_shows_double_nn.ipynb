{
 "cells": [
  {
   "cell_type": "markdown",
   "metadata": {},
   "source": [
    "# Connect Playlists and Locations"
   ]
  },
  {
   "cell_type": "code",
   "execution_count": 1,
   "metadata": {},
   "outputs": [],
   "source": [
    "import pandas as pd\n",
    "import time\n",
    "import json\n",
    "import googlemaps\n",
    "import homebrew as hb\n",
    "from sklearn.neighbors import NearestNeighbors"
   ]
  },
  {
   "cell_type": "code",
   "execution_count": 74,
   "metadata": {},
   "outputs": [],
   "source": [
    "%load_ext autoreload\n",
    "%autoreload 2"
   ]
  },
  {
   "cell_type": "code",
   "execution_count": 3,
   "metadata": {},
   "outputs": [],
   "source": [
    "df = pd.read_json('artists_shows.json', lines=True)"
   ]
  },
  {
   "cell_type": "code",
   "execution_count": 4,
   "metadata": {},
   "outputs": [
    {
     "name": "stdout",
     "output_type": "stream",
     "text": [
      "(134943, 3)\n"
     ]
    },
    {
     "data": {
      "text/html": [
       "<div>\n",
       "<style scoped>\n",
       "    .dataframe tbody tr th:only-of-type {\n",
       "        vertical-align: middle;\n",
       "    }\n",
       "\n",
       "    .dataframe tbody tr th {\n",
       "        vertical-align: top;\n",
       "    }\n",
       "\n",
       "    .dataframe thead th {\n",
       "        text-align: right;\n",
       "    }\n",
       "</style>\n",
       "<table border=\"1\" class=\"dataframe\">\n",
       "  <thead>\n",
       "    <tr style=\"text-align: right;\">\n",
       "      <th></th>\n",
       "      <th>artist</th>\n",
       "      <th>date</th>\n",
       "      <th>loc</th>\n",
       "    </tr>\n",
       "  </thead>\n",
       "  <tbody>\n",
       "    <tr>\n",
       "      <th>0</th>\n",
       "      <td>2 Chainz</td>\n",
       "      <td>2019-06-30 05:30:00</td>\n",
       "      <td>Las Vegas, NV, US</td>\n",
       "    </tr>\n",
       "    <tr>\n",
       "      <th>1</th>\n",
       "      <td>2 Chainz</td>\n",
       "      <td>2019-07-12 11:00:00</td>\n",
       "      <td>London, UK</td>\n",
       "    </tr>\n",
       "    <tr>\n",
       "      <th>2</th>\n",
       "      <td>2 Chainz</td>\n",
       "      <td>2019-08-10 00:00:00</td>\n",
       "      <td>Anaheim, CA, US</td>\n",
       "    </tr>\n",
       "    <tr>\n",
       "      <th>3</th>\n",
       "      <td>2 Chainz</td>\n",
       "      <td>2019-08-24 22:00:00</td>\n",
       "      <td>Atlanta, GA, US</td>\n",
       "    </tr>\n",
       "    <tr>\n",
       "      <th>4</th>\n",
       "      <td>2 Chainz</td>\n",
       "      <td>2019-05-27 05:30:00</td>\n",
       "      <td>Las Vegas, NV, US</td>\n",
       "    </tr>\n",
       "  </tbody>\n",
       "</table>\n",
       "</div>"
      ],
      "text/plain": [
       "     artist                date                loc\n",
       "0  2 Chainz 2019-06-30 05:30:00  Las Vegas, NV, US\n",
       "1  2 Chainz 2019-07-12 11:00:00         London, UK\n",
       "2  2 Chainz 2019-08-10 00:00:00    Anaheim, CA, US\n",
       "3  2 Chainz 2019-08-24 22:00:00    Atlanta, GA, US\n",
       "4  2 Chainz 2019-05-27 05:30:00  Las Vegas, NV, US"
      ]
     },
     "execution_count": 4,
     "metadata": {},
     "output_type": "execute_result"
    }
   ],
   "source": [
    "print(df.shape)\n",
    "df.head()"
   ]
  },
  {
   "cell_type": "code",
   "execution_count": 5,
   "metadata": {},
   "outputs": [
    {
     "data": {
      "text/plain": [
       "count                  134943\n",
       "unique                  37136\n",
       "top       2019-07-19 00:00:00\n",
       "freq                      191\n",
       "first     1973-09-29 00:00:00\n",
       "last      2020-12-16 18:30:00\n",
       "Name: date, dtype: object"
      ]
     },
     "execution_count": 5,
     "metadata": {},
     "output_type": "execute_result"
    }
   ],
   "source": [
    "df.date.describe()"
   ]
  },
  {
   "cell_type": "code",
   "execution_count": 6,
   "metadata": {},
   "outputs": [],
   "source": [
    "df.columns = ['artist', 'date', 'location']    # rename loc -> location\n",
    "domestics = df[df['location'].str.endswith('US')]    # drop any foreign gigs\n",
    "recent_domestics = domestics[domestics['date'] >= '2015']    #  drop any gigs older than 5 yrs\n",
    "locations = recent_domestics.copy()"
   ]
  },
  {
   "cell_type": "code",
   "execution_count": 7,
   "metadata": {},
   "outputs": [
    {
     "data": {
      "text/plain": [
       "'There are 2023 unique locations'"
      ]
     },
     "execution_count": 7,
     "metadata": {},
     "output_type": "execute_result"
    }
   ],
   "source": [
    "unique_locations = locations['location'].unique()\n",
    "f'There are {unique_locations.shape[0]} unique locations'"
   ]
  },
  {
   "cell_type": "markdown",
   "metadata": {},
   "source": [
    "Get lat longs from googlemaps"
   ]
  },
  {
   "cell_type": "code",
   "execution_count": 8,
   "metadata": {},
   "outputs": [],
   "source": [
    "# unique_loc_w_latlong = []\n",
    "\n",
    "# for i, location in enumerate(unique_locations):\n",
    "#     row = {}\n",
    "#     lat, lng = hb.get_latlong(location)\n",
    "#     row['location'] = location\n",
    "#     row['lat'] = lat\n",
    "#     row['lng'] = lng\n",
    "#     unique_loc_w_latlong.append(row)\n",
    "#     if i % 50 == 0:\n",
    "#         time.sleep(2)\n",
    "#     if i % 100 == 0:\n",
    "#         print(i)                # Slowish "
   ]
  },
  {
   "cell_type": "code",
   "execution_count": 9,
   "metadata": {},
   "outputs": [
    {
     "ename": "NameError",
     "evalue": "name 'unique_loc_w_latlong' is not defined",
     "output_type": "error",
     "traceback": [
      "\u001b[0;31m---------------------------------------------------------------------------\u001b[0m",
      "\u001b[0;31mNameError\u001b[0m                                 Traceback (most recent call last)",
      "\u001b[0;32m<ipython-input-9-d216906840c9>\u001b[0m in \u001b[0;36m<module>\u001b[0;34m()\u001b[0m\n\u001b[0;32m----> 1\u001b[0;31m \u001b[0mlatlongs_df\u001b[0m \u001b[0;34m=\u001b[0m \u001b[0mpd\u001b[0m\u001b[0;34m.\u001b[0m\u001b[0mDataFrame\u001b[0m\u001b[0;34m(\u001b[0m\u001b[0munique_loc_w_latlong\u001b[0m\u001b[0;34m)\u001b[0m\u001b[0;34m\u001b[0m\u001b[0m\n\u001b[0m\u001b[1;32m      2\u001b[0m \u001b[0mlatlongs_df\u001b[0m\u001b[0;34m.\u001b[0m\u001b[0mhead\u001b[0m\u001b[0;34m(\u001b[0m\u001b[0;34m)\u001b[0m\u001b[0;34m\u001b[0m\u001b[0m\n",
      "\u001b[0;31mNameError\u001b[0m: name 'unique_loc_w_latlong' is not defined"
     ]
    }
   ],
   "source": [
    "latlongs_df = pd.DataFrame(unique_loc_w_latlong)\n",
    "latlongs_df.head()"
   ]
  },
  {
   "cell_type": "code",
   "execution_count": 61,
   "metadata": {},
   "outputs": [
    {
     "name": "stdout",
     "output_type": "stream",
     "text": [
      "(75699, 3)\n"
     ]
    },
    {
     "data": {
      "text/plain": [
       "(75699, 5)"
      ]
     },
     "execution_count": 61,
     "metadata": {},
     "output_type": "execute_result"
    }
   ],
   "source": [
    "shows_w_latlong = pd.merge(locations, latlongs_df, on='location', how='left')\n",
    "print(locations.shape)\n",
    "shows_w_latlong.shape"
   ]
  },
  {
   "cell_type": "code",
   "execution_count": 62,
   "metadata": {},
   "outputs": [],
   "source": [
    "shows_w_latlong.to_json('shows_w_latlong.json')"
   ]
  },
  {
   "cell_type": "markdown",
   "metadata": {},
   "source": [
    "### Look for Similar Artists"
   ]
  },
  {
   "cell_type": "code",
   "execution_count": 94,
   "metadata": {},
   "outputs": [],
   "source": [
    "shows_w_latlong = pd.read_json('shows_w_latlong.json')"
   ]
  },
  {
   "cell_type": "code",
   "execution_count": 95,
   "metadata": {},
   "outputs": [],
   "source": [
    "artists_playlists = pd.read_json('trimmed_artists_w_flags.json', lines=True)"
   ]
  },
  {
   "cell_type": "code",
   "execution_count": 96,
   "metadata": {},
   "outputs": [],
   "source": [
    "artists_playlists['artist'] = artists_playlists['artist'].map(str.lower)\n",
    "shows_w_latlong['artist'] = shows_w_latlong['artist'].map(str.lower)"
   ]
  },
  {
   "cell_type": "code",
   "execution_count": 98,
   "metadata": {},
   "outputs": [],
   "source": [
    "similar_artist_model = hb.SimilarArtistModel(artists_playlists)"
   ]
  },
  {
   "cell_type": "code",
   "execution_count": 99,
   "metadata": {},
   "outputs": [
    {
     "name": "stdin",
     "output_type": "stream",
     "text": [
      " Jason aldean\n"
     ]
    },
    {
     "name": "stdout",
     "output_type": "stream",
     "text": [
      "jason aldean\n",
      "      artist\n",
      "0   (g)i-dle\n",
      "1     *nsync\n",
      "2   2 chainz\n",
      "3  21 savage\n",
      "4       2pac\n",
      "Similar Band: LUKE COMBS - - Cosine Similarity: 0.366\n",
      "\t {'new': 'Palmer, AK, US', 'nearest_old': 'Puyallup, WA, US', 'distance': 1449.0}\n",
      "\t {'new': 'Bozeman, MT, US', 'nearest_old': 'Spokane, WA, US', 'distance': 332.0}\n",
      "\t {'new': 'Nampa, ID, US', 'nearest_old': 'Spokane, WA, US', 'distance': 285.0}\n",
      "\t {'new': 'Lubbock, TX, US', 'nearest_old': 'Arlington, TX, US', 'distance': 281.0}\n",
      "\t {'new': 'Duluth, MN, US', 'nearest_old': 'Oshkosh, WI, US', 'distance': 257.0}\n",
      "\t {'new': 'Phoenix, AZ, US', 'nearest_old': 'Indio, CA, US', 'distance': 239.0}\n",
      "\t {'new': 'St. Paul, MN, US', 'nearest_old': 'Oshkosh, WI, US', 'distance': 233.0}\n",
      "\t {'new': 'Sioux Falls, SD, US', 'nearest_old': 'Des Moines, IA, US', 'distance': 208.0}\n",
      "\t {'new': 'Charleston, SC, US', 'nearest_old': 'Charlotte, NC, US', 'distance': 177.0}\n",
      "\t {'new': 'Missoula, MT, US', 'nearest_old': 'Spokane, WA, US', 'distance': 170.0}\n"
     ]
    }
   ],
   "source": [
    "main_artist = input().lower()\n",
    "print(main_artist)\n",
    "num_artists = 1\n",
    "_, *similar_artists = similar_artist_model.find_artists_sim_to(main_artist, n_neighbors=num_artists+1)\n",
    "\n",
    "for artist_tup in similar_artists:\n",
    "    artist, cosine_sim = artist_tup\n",
    "    print(f'Similar Band: {artist.upper()} - - Cosine Similarity: {cosine_sim}')\n",
    "    new_spots = hb.pilfer_similar_artist(ref_df=shows_w_latlong,\n",
    "                                         main_artist=main_artist,\n",
    "                                         similar_artist=artist,\n",
    "                                         max_new_cities=10)\n",
    "    for spot in new_spots:\n",
    "        print('\\t', spot)"
   ]
  },
  {
   "cell_type": "code",
   "execution_count": 76,
   "metadata": {},
   "outputs": [
    {
     "name": "stdin",
     "output_type": "stream",
     "text": [
      " Jason Aldean\n"
     ]
    },
    {
     "name": "stdout",
     "output_type": "stream",
     "text": [
      "      artist\n",
      "0   (G)I-DLE\n",
      "1     *NSYNC\n",
      "2   2 Chainz\n",
      "3  21 Savage\n",
      "4       2Pac\n",
      "Similar Band: LUKE COMBS - - Cosine Similarity: 0.366\n",
      "\t {'new': 'Palmer, AK, US', 'nearest_old': 'Puyallup, WA, US', 'distance': 1449.0}\n",
      "\t {'new': 'Bozeman, MT, US', 'nearest_old': 'Spokane, WA, US', 'distance': 332.0}\n",
      "\t {'new': 'Nampa, ID, US', 'nearest_old': 'Spokane, WA, US', 'distance': 285.0}\n",
      "Similar Band: JORDAN DAVIS - - Cosine Similarity: 0.402\n",
      "\t {'new': 'Fargo, ND, US', 'nearest_old': 'Des Moines, IA, US', 'distance': 398.0}\n",
      "\t {'new': 'Bemidji, MN, US', 'nearest_old': 'Oshkosh, WI, US', 'distance': 387.0}\n",
      "\t {'new': 'Aberdeen, SD, US', 'nearest_old': 'Des Moines, IA, US', 'distance': 362.0}\n",
      "Similar Band: OLD DOMINION - - Cosine Similarity: 0.423\n",
      "\t {'new': 'Honolulu, HI, US', 'nearest_old': 'Mountain View, CA, US', 'distance': 2405.0}\n",
      "\t {'new': 'Kahului, HI, US', 'nearest_old': 'Mountain View, CA, US', 'distance': 2349.0}\n",
      "\t {'new': 'Bismarck, ND, US', 'nearest_old': 'Cheyenne, WY, US', 'distance': 440.0}\n"
     ]
    }
   ],
   "source": [
    "main_artist = input()\n",
    "num_artists = 3\n",
    "_, *similar_artists = similar_artist_model.find_artists_sim_to(main_artist, n_neighbors=num_artists+1)\n",
    "\n",
    "for artist_tup in similar_artists:\n",
    "    artist, cosine_sim = artist_tup\n",
    "    print(f'Similar Band: {artist.upper()} - - Cosine Similarity: {cosine_sim}')\n",
    "    new_spots = hb.pilfer_similar_artist(ref_df=shows_w_latlong,\n",
    "                                         main_artist=main_artist,\n",
    "                                         similar_artist=artist,\n",
    "                                         max_new_cities=3)\n",
    "    for spot in new_spots:\n",
    "        \n",
    "        print('\\t', spot)"
   ]
  },
  {
   "cell_type": "code",
   "execution_count": null,
   "metadata": {},
   "outputs": [],
   "source": []
  }
 ],
 "metadata": {
  "kernelspec": {
   "display_name": "learn-env",
   "language": "python",
   "name": "learn-env"
  },
  "language_info": {
   "codemirror_mode": {
    "name": "ipython",
    "version": 3
   },
   "file_extension": ".py",
   "mimetype": "text/x-python",
   "name": "python",
   "nbconvert_exporter": "python",
   "pygments_lexer": "ipython3",
   "version": "3.6.6"
  }
 },
 "nbformat": 4,
 "nbformat_minor": 2
}
