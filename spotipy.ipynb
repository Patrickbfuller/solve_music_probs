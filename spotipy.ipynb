{
 "cells": [
  {
   "cell_type": "code",
   "execution_count": 2,
   "metadata": {},
   "outputs": [],
   "source": [
    "# !pip install spotipy"
   ]
  },
  {
   "cell_type": "code",
   "execution_count": 56,
   "metadata": {},
   "outputs": [
    {
     "name": "stdout",
     "output_type": "stream",
     "text": [
      "The autoreload extension is already loaded. To reload it, use:\n",
      "  %reload_ext autoreload\n"
     ]
    }
   ],
   "source": [
    "import spotipy\n",
    "from spotipy.oauth2 import SpotifyClientCredentials\n",
    "import json\n",
    "import homebrew as hb\n",
    "%load_ext autoreload\n",
    "%autoreload 2"
   ]
  },
  {
   "cell_type": "code",
   "execution_count": 2,
   "metadata": {},
   "outputs": [],
   "source": [
    "with open('/Users/patrickfuller/.secrets/spotify_api.json') as f:\n",
    "    creds = json.load(f)\n",
    "client_id = creds['client_id']\n",
    "key = creds['api_key']"
   ]
  },
  {
   "cell_type": "markdown",
   "metadata": {},
   "source": [
    "Spotipy's client credential manager takes id and key when instantiating the object  \n",
    "The manager is then input when instantiating the spotify object"
   ]
  },
  {
   "cell_type": "code",
   "execution_count": 4,
   "metadata": {},
   "outputs": [],
   "source": [
    "client_credentials_manager = SpotifyClientCredentials(client_id=client_id,\n",
    "                                                      client_secret=key)\n",
    "\n",
    "spotify = spotipy.Spotify(client_credentials_manager=client_credentials_manager)"
   ]
  },
  {
   "cell_type": "markdown",
   "metadata": {},
   "source": [
    "The featured playlists method will return playlits that were featured at a given time.\n",
    "I also suspect they may be user specific. "
   ]
  },
  {
   "cell_type": "code",
   "execution_count": 28,
   "metadata": {},
   "outputs": [],
   "source": [
    "# yyyy-MM-ddTHH:mm:ss\n",
    "response = spotify.featured_playlists(limit=50)#, timestamp='2019-06-22T12:00:00')"
   ]
  },
  {
   "cell_type": "code",
   "execution_count": 29,
   "metadata": {},
   "outputs": [
    {
     "data": {
      "text/plain": [
       "dict_keys(['message', 'playlists'])"
      ]
     },
     "execution_count": 29,
     "metadata": {},
     "output_type": "execute_result"
    }
   ],
   "source": [
    "response.keys()"
   ]
  },
  {
   "cell_type": "code",
   "execution_count": 30,
   "metadata": {},
   "outputs": [
    {
     "data": {
      "text/plain": [
       "dict_keys(['href', 'items', 'limit', 'next', 'offset', 'previous', 'total'])"
      ]
     },
     "execution_count": 30,
     "metadata": {},
     "output_type": "execute_result"
    }
   ],
   "source": [
    "response['playlists'].keys()"
   ]
  },
  {
   "cell_type": "code",
   "execution_count": 31,
   "metadata": {},
   "outputs": [],
   "source": [
    "featured_playlists = response['playlists']['items']"
   ]
  },
  {
   "cell_type": "code",
   "execution_count": 32,
   "metadata": {},
   "outputs": [
    {
     "data": {
      "text/plain": [
       "10"
      ]
     },
     "execution_count": 32,
     "metadata": {},
     "output_type": "execute_result"
    }
   ],
   "source": [
    "len(featured_playlists)"
   ]
  },
  {
   "cell_type": "code",
   "execution_count": 33,
   "metadata": {},
   "outputs": [
    {
     "data": {
      "text/plain": [
       "[{'collaborative': False,\n",
       "  'external_urls': {'spotify': 'https://open.spotify.com/playlist/37i9dQZF1DXbcgQ8d7s0A0'},\n",
       "  'href': 'https://api.spotify.com/v1/playlists/37i9dQZF1DXbcgQ8d7s0A0',\n",
       "  'id': '37i9dQZF1DXbcgQ8d7s0A0',\n",
       "  'images': [{'height': None,\n",
       "    'url': 'https://pl.scdn.co/images/pl/default/dd52dbcce4e10a2feb519e9c282b4d3b0dcc7442',\n",
       "    'width': None}],\n",
       "  'name': 'Sweet Soul Chillout',\n",
       "  'owner': {'display_name': 'Spotify',\n",
       "   'external_urls': {'spotify': 'https://open.spotify.com/user/spotify'},\n",
       "   'href': 'https://api.spotify.com/v1/users/spotify',\n",
       "   'id': 'spotify',\n",
       "   'type': 'user',\n",
       "   'uri': 'spotify:user:spotify'},\n",
       "  'primary_color': None,\n",
       "  'public': None,\n",
       "  'snapshot_id': 'MTU2MTQxNDQ4MywwMDAwMDAwMGQ0MWQ4Y2Q5OGYwMGIyMDRlOTgwMDk5OGVjZjg0Mjdl',\n",
       "  'tracks': {'href': 'https://api.spotify.com/v1/playlists/37i9dQZF1DXbcgQ8d7s0A0/tracks',\n",
       "   'total': 65},\n",
       "  'type': 'playlist',\n",
       "  'uri': 'spotify:playlist:37i9dQZF1DXbcgQ8d7s0A0'},\n",
       " {'collaborative': False,\n",
       "  'external_urls': {'spotify': 'https://open.spotify.com/playlist/37i9dQZF1DX9sIqqvKsjG8'},\n",
       "  'href': 'https://api.spotify.com/v1/playlists/37i9dQZF1DX9sIqqvKsjG8',\n",
       "  'id': '37i9dQZF1DX9sIqqvKsjG8',\n",
       "  'images': [{'height': None,\n",
       "    'url': 'https://pl.scdn.co/images/pl/default/a9607308fa41ff5756b9b6f22694185cb1cef176',\n",
       "    'width': None}],\n",
       "  'name': 'Instrumental Study',\n",
       "  'owner': {'display_name': 'Spotify',\n",
       "   'external_urls': {'spotify': 'https://open.spotify.com/user/spotify'},\n",
       "   'href': 'https://api.spotify.com/v1/users/spotify',\n",
       "   'id': 'spotify',\n",
       "   'type': 'user',\n",
       "   'uri': 'spotify:user:spotify'},\n",
       "  'primary_color': None,\n",
       "  'public': None,\n",
       "  'snapshot_id': 'MTU2MDMzNjc3MSwwMDAwMDA2ODAwMDAwMTZiNGI1MWFhMmMwMDAwMDE2ODk4YmVmODEz',\n",
       "  'tracks': {'href': 'https://api.spotify.com/v1/playlists/37i9dQZF1DX9sIqqvKsjG8/tracks',\n",
       "   'total': 98},\n",
       "  'type': 'playlist',\n",
       "  'uri': 'spotify:playlist:37i9dQZF1DX9sIqqvKsjG8'},\n",
       " {'collaborative': False,\n",
       "  'external_urls': {'spotify': 'https://open.spotify.com/playlist/37i9dQZF1DX4WYpdgoIcn6'},\n",
       "  'href': 'https://api.spotify.com/v1/playlists/37i9dQZF1DX4WYpdgoIcn6',\n",
       "  'id': '37i9dQZF1DX4WYpdgoIcn6',\n",
       "  'images': [{'height': None,\n",
       "    'url': 'https://pl.scdn.co/images/pl/default/b1a0cabf49ff89c164cfa2bfe899be1d308dd2aa',\n",
       "    'width': None}],\n",
       "  'name': 'Chill Hits',\n",
       "  'owner': {'display_name': 'Spotify',\n",
       "   'external_urls': {'spotify': 'https://open.spotify.com/user/spotify'},\n",
       "   'href': 'https://api.spotify.com/v1/users/spotify',\n",
       "   'id': 'spotify',\n",
       "   'type': 'user',\n",
       "   'uri': 'spotify:user:spotify'},\n",
       "  'primary_color': None,\n",
       "  'public': None,\n",
       "  'snapshot_id': 'MTU2MTQxNDQ4NCwwMDAwMDAwMGQ0MWQ4Y2Q5OGYwMGIyMDRlOTgwMDk5OGVjZjg0Mjdl',\n",
       "  'tracks': {'href': 'https://api.spotify.com/v1/playlists/37i9dQZF1DX4WYpdgoIcn6/tracks',\n",
       "   'total': 100},\n",
       "  'type': 'playlist',\n",
       "  'uri': 'spotify:playlist:37i9dQZF1DX4WYpdgoIcn6'},\n",
       " {'collaborative': False,\n",
       "  'external_urls': {'spotify': 'https://open.spotify.com/playlist/37i9dQZF1DWVA1Gq4XHa6U'},\n",
       "  'href': 'https://api.spotify.com/v1/playlists/37i9dQZF1DWVA1Gq4XHa6U',\n",
       "  'id': '37i9dQZF1DWVA1Gq4XHa6U',\n",
       "  'images': [{'height': None,\n",
       "    'url': 'https://pl.scdn.co/images/pl/default/d15143607c021449d25a537df60cc46b16c5581a',\n",
       "    'width': None}],\n",
       "  'name': 'Gold School',\n",
       "  'owner': {'display_name': 'Spotify',\n",
       "   'external_urls': {'spotify': 'https://open.spotify.com/user/spotify'},\n",
       "   'href': 'https://api.spotify.com/v1/users/spotify',\n",
       "   'id': 'spotify',\n",
       "   'type': 'user',\n",
       "   'uri': 'spotify:user:spotify'},\n",
       "  'primary_color': None,\n",
       "  'public': None,\n",
       "  'snapshot_id': 'MTU2MDE5MzA0NSwwMDAwMDA4MDAwMDAwMTZiNDJjMDk0MzUwMDAwMDE2YjQxNmVlZTI5',\n",
       "  'tracks': {'href': 'https://api.spotify.com/v1/playlists/37i9dQZF1DWVA1Gq4XHa6U/tracks',\n",
       "   'total': 50},\n",
       "  'type': 'playlist',\n",
       "  'uri': 'spotify:playlist:37i9dQZF1DWVA1Gq4XHa6U'},\n",
       " {'collaborative': False,\n",
       "  'external_urls': {'spotify': 'https://open.spotify.com/playlist/37i9dQZF1DXcWBRiUaG3o5'},\n",
       "  'href': 'https://api.spotify.com/v1/playlists/37i9dQZF1DXcWBRiUaG3o5',\n",
       "  'id': '37i9dQZF1DXcWBRiUaG3o5',\n",
       "  'images': [{'height': None,\n",
       "    'url': 'https://pl.scdn.co/images/pl/default/307b8ea5c11fdaadb34eacd3ffb9177cea0ad104',\n",
       "    'width': None}],\n",
       "  'name': 'Evening Acoustic',\n",
       "  'owner': {'display_name': 'Spotify',\n",
       "   'external_urls': {'spotify': 'https://open.spotify.com/user/spotify'},\n",
       "   'href': 'https://api.spotify.com/v1/users/spotify',\n",
       "   'id': 'spotify',\n",
       "   'type': 'user',\n",
       "   'uri': 'spotify:user:spotify'},\n",
       "  'primary_color': None,\n",
       "  'public': None,\n",
       "  'snapshot_id': 'MTU1MTkzMjMwMiwwMDAwMDA0NzAwMDAwMTY5NTY1ZmEzMWEwMDAwMDE2ODk5NzZjZTc0',\n",
       "  'tracks': {'href': 'https://api.spotify.com/v1/playlists/37i9dQZF1DXcWBRiUaG3o5/tracks',\n",
       "   'total': 100},\n",
       "  'type': 'playlist',\n",
       "  'uri': 'spotify:playlist:37i9dQZF1DXcWBRiUaG3o5'},\n",
       " {'collaborative': False,\n",
       "  'external_urls': {'spotify': 'https://open.spotify.com/playlist/37i9dQZF1DX7rOY2tZUw1k'},\n",
       "  'href': 'https://api.spotify.com/v1/playlists/37i9dQZF1DX7rOY2tZUw1k',\n",
       "  'id': '37i9dQZF1DX7rOY2tZUw1k',\n",
       "  'images': [{'height': None,\n",
       "    'url': 'https://pl.scdn.co/images/pl/default/e9876382b7a82d2a1ba26cb49c44ca37e194060c',\n",
       "    'width': None}],\n",
       "  'name': 'Timeless Love Songs',\n",
       "  'owner': {'display_name': 'Spotify',\n",
       "   'external_urls': {'spotify': 'https://open.spotify.com/user/spotify'},\n",
       "   'href': 'https://api.spotify.com/v1/users/spotify',\n",
       "   'id': 'spotify',\n",
       "   'type': 'user',\n",
       "   'uri': 'spotify:user:spotify'},\n",
       "  'primary_color': None,\n",
       "  'public': None,\n",
       "  'snapshot_id': 'MTU1ODM1ODk1OSwwMDAwMDAyNjAwMDAwMTZhZDU2ZWE0NzgwMDAwMDE2ODk4YmFhZGYw',\n",
       "  'tracks': {'href': 'https://api.spotify.com/v1/playlists/37i9dQZF1DX7rOY2tZUw1k/tracks',\n",
       "   'total': 90},\n",
       "  'type': 'playlist',\n",
       "  'uri': 'spotify:playlist:37i9dQZF1DX7rOY2tZUw1k'},\n",
       " {'collaborative': False,\n",
       "  'external_urls': {'spotify': 'https://open.spotify.com/playlist/37i9dQZF1DX0r3x8OtiwEM'},\n",
       "  'href': 'https://api.spotify.com/v1/playlists/37i9dQZF1DX0r3x8OtiwEM',\n",
       "  'id': '37i9dQZF1DX0r3x8OtiwEM',\n",
       "  'images': [{'height': None,\n",
       "    'url': 'https://pl.scdn.co/images/pl/default/51991da2ad846bb936ecd3c0e805dccbc17b0e3b',\n",
       "    'width': None}],\n",
       "  'name': 'Lowkey Tech',\n",
       "  'owner': {'display_name': 'Spotify',\n",
       "   'external_urls': {'spotify': 'https://open.spotify.com/user/spotify'},\n",
       "   'href': 'https://api.spotify.com/v1/users/spotify',\n",
       "   'id': 'spotify',\n",
       "   'type': 'user',\n",
       "   'uri': 'spotify:user:spotify'},\n",
       "  'primary_color': None,\n",
       "  'public': None,\n",
       "  'snapshot_id': 'MTU2MTAyNDUwMCwwMDAwMDA1YzAwMDAwMTZiNzQ0ZjkxOWMwMDAwMDE2NzEzMzMwOGZk',\n",
       "  'tracks': {'href': 'https://api.spotify.com/v1/playlists/37i9dQZF1DX0r3x8OtiwEM/tracks',\n",
       "   'total': 80},\n",
       "  'type': 'playlist',\n",
       "  'uri': 'spotify:playlist:37i9dQZF1DX0r3x8OtiwEM'},\n",
       " {'collaborative': False,\n",
       "  'external_urls': {'spotify': 'https://open.spotify.com/playlist/37i9dQZF1DWZ0OzPeadl0h'},\n",
       "  'href': 'https://api.spotify.com/v1/playlists/37i9dQZF1DWZ0OzPeadl0h',\n",
       "  'id': '37i9dQZF1DWZ0OzPeadl0h',\n",
       "  'images': [{'height': None,\n",
       "    'url': 'https://pl.scdn.co/images/pl/default/91a550e25e99148eabbb5fcd03ba0695d276bb83',\n",
       "    'width': None}],\n",
       "  'name': 'Evening Chill',\n",
       "  'owner': {'display_name': 'Spotify',\n",
       "   'external_urls': {'spotify': 'https://open.spotify.com/user/spotify'},\n",
       "   'href': 'https://api.spotify.com/v1/users/spotify',\n",
       "   'id': 'spotify',\n",
       "   'type': 'user',\n",
       "   'uri': 'spotify:user:spotify'},\n",
       "  'primary_color': None,\n",
       "  'public': None,\n",
       "  'snapshot_id': 'MTU1Nzk3ODQxMSwwMDAwMDA0OTAwMDAwMTZhYmViZmYwMDMwMDAwMDE2ODk4YzgwNzQ4',\n",
       "  'tracks': {'href': 'https://api.spotify.com/v1/playlists/37i9dQZF1DWZ0OzPeadl0h/tracks',\n",
       "   'total': 85},\n",
       "  'type': 'playlist',\n",
       "  'uri': 'spotify:playlist:37i9dQZF1DWZ0OzPeadl0h'},\n",
       " {'collaborative': False,\n",
       "  'external_urls': {'spotify': 'https://open.spotify.com/playlist/37i9dQZF1DX0Aaer4Jzfgm'},\n",
       "  'href': 'https://api.spotify.com/v1/playlists/37i9dQZF1DX0Aaer4Jzfgm',\n",
       "  'id': '37i9dQZF1DX0Aaer4Jzfgm',\n",
       "  'images': [{'height': None,\n",
       "    'url': 'https://pl.scdn.co/images/pl/default/68a8e45f01abde94cd2b39d578a7e45936c713d5',\n",
       "    'width': None}],\n",
       "  'name': 'Easy Classical',\n",
       "  'owner': {'display_name': 'Spotify',\n",
       "   'external_urls': {'spotify': 'https://open.spotify.com/user/spotify'},\n",
       "   'href': 'https://api.spotify.com/v1/users/spotify',\n",
       "   'id': 'spotify',\n",
       "   'type': 'user',\n",
       "   'uri': 'spotify:user:spotify'},\n",
       "  'primary_color': None,\n",
       "  'public': None,\n",
       "  'snapshot_id': 'MTU0ODc1MzExNSwwMDAwMDAwNjAwMDAwMTY0ZWI1NzBmNjgwMDAwMDE2ODk4ZTExODk5',\n",
       "  'tracks': {'href': 'https://api.spotify.com/v1/playlists/37i9dQZF1DX0Aaer4Jzfgm/tracks',\n",
       "   'total': 80},\n",
       "  'type': 'playlist',\n",
       "  'uri': 'spotify:playlist:37i9dQZF1DX0Aaer4Jzfgm'},\n",
       " {'collaborative': False,\n",
       "  'external_urls': {'spotify': 'https://open.spotify.com/playlist/37i9dQZF1DXc8kgYqQLMfH'},\n",
       "  'href': 'https://api.spotify.com/v1/playlists/37i9dQZF1DXc8kgYqQLMfH',\n",
       "  'id': '37i9dQZF1DXc8kgYqQLMfH',\n",
       "  'images': [{'height': None,\n",
       "    'url': 'https://pl.scdn.co/images/pl/default/d89b0208c8ec78f6726d1f75701a0b6b147e097c',\n",
       "    'width': None}],\n",
       "  'name': 'Lush Lofi',\n",
       "  'owner': {'display_name': 'Spotify',\n",
       "   'external_urls': {'spotify': 'https://open.spotify.com/user/spotify'},\n",
       "   'href': 'https://api.spotify.com/v1/users/spotify',\n",
       "   'id': 'spotify',\n",
       "   'type': 'user',\n",
       "   'uri': 'spotify:user:spotify'},\n",
       "  'primary_color': None,\n",
       "  'public': None,\n",
       "  'snapshot_id': 'MTU1ODEyMjIzMSwwMDAwMDA4NDAwMDAwMTZhYzc1Mjc2ZjAwMDAwMDE2ODk1NGEzZmFl',\n",
       "  'tracks': {'href': 'https://api.spotify.com/v1/playlists/37i9dQZF1DXc8kgYqQLMfH/tracks',\n",
       "   'total': 128},\n",
       "  'type': 'playlist',\n",
       "  'uri': 'spotify:playlist:37i9dQZF1DXc8kgYqQLMfH'}]"
      ]
     },
     "execution_count": 33,
     "metadata": {},
     "output_type": "execute_result"
    }
   ],
   "source": [
    "featured_playlists"
   ]
  },
  {
   "cell_type": "markdown",
   "metadata": {},
   "source": [
    "The id and name are nested deep"
   ]
  },
  {
   "cell_type": "code",
   "execution_count": 34,
   "metadata": {},
   "outputs": [
    {
     "data": {
      "text/plain": [
       "('37i9dQZF1DXbcgQ8d7s0A0', 'Sweet Soul Chillout')"
      ]
     },
     "execution_count": 34,
     "metadata": {},
     "output_type": "execute_result"
    }
   ],
   "source": [
    "featured_playlists[0]['id'], featured_playlists[0]['name']"
   ]
  },
  {
   "cell_type": "markdown",
   "metadata": {},
   "source": [
    "Using an abstracted custom function to retreive many id and name pairs at once"
   ]
  },
  {
   "cell_type": "code",
   "execution_count": 57,
   "metadata": {},
   "outputs": [
    {
     "data": {
      "text/plain": [
       "{'37i9dQZF1DXbcgQ8d7s0A0': 'Sweet Soul Chillout',\n",
       " '37i9dQZF1DX9sIqqvKsjG8': 'Instrumental Study',\n",
       " '37i9dQZF1DX4WYpdgoIcn6': 'Chill Hits',\n",
       " '37i9dQZF1DWVA1Gq4XHa6U': 'Gold School',\n",
       " '37i9dQZF1DXcWBRiUaG3o5': 'Evening Acoustic',\n",
       " '37i9dQZF1DX7rOY2tZUw1k': 'Timeless Love Songs',\n",
       " '37i9dQZF1DX0r3x8OtiwEM': 'Lowkey Tech',\n",
       " '37i9dQZF1DWZ0OzPeadl0h': 'Evening Chill',\n",
       " '37i9dQZF1DX0Aaer4Jzfgm': 'Easy Classical',\n",
       " '37i9dQZF1DXc8kgYqQLMfH': 'Lush Lofi'}"
      ]
     },
     "execution_count": 57,
     "metadata": {},
     "output_type": "execute_result"
    }
   ],
   "source": [
    "hb.extract_name_and_id(response)"
   ]
  },
  {
   "cell_type": "code",
   "execution_count": 58,
   "metadata": {},
   "outputs": [],
   "source": [
    "acoutic = spotify.search('Acoustic', type='playlist', market = 'US', limit=50)"
   ]
  },
  {
   "cell_type": "code",
   "execution_count": 115,
   "metadata": {},
   "outputs": [
    {
     "data": {
      "text/plain": [
       "{'37i9dQZF1DXb9LIXaj5WhL': '90s Acoustic',\n",
       " '37i9dQZF1DWXmlLSKkfdAk': 'Acoustic Covers',\n",
       " '37i9dQZF1DWX9VXBLRgDqu': 'Acoustic Favorites',\n",
       " '37i9dQZF1DX8TvdyVZSYFY': 'Acoustic Throwbacks',\n",
       " '37i9dQZF1DX504r1DvyvxG': 'Classic Acoustic',\n",
       " '37i9dQZF1DX0rCrO4CFRfM': 'Acoustic Rock',\n",
       " '37i9dQZF1DX4VvfRBFClxm': 'Acoustic Hits',\n",
       " '37i9dQZF1DWSlwBojgQEcN': 'Acoustic Love',\n",
       " '37i9dQZF1DWUNIrSzKgQbP': 'Summer Acoustic',\n",
       " '37i9dQZF1DX4CgJVlGEIo5': 'Easy Acoustic',\n",
       " '37i9dQZF1DXc3FQfFV3K6V': 'Laidback Acoustic',\n",
       " '37i9dQZF1DWYGZAMYFDM8S': 'Acoustic Chill',\n",
       " '37i9dQZF1DXaImRpG7HXqp': 'Acoustic Calm',\n",
       " '37i9dQZF1DX6z20IXmBjWI': 'Infinite Acoustic',\n",
       " '37i9dQZF1DX5lDysu4GbKR': 'Acoustic Soul',\n",
       " '37i9dQZF1DXdd3gw5QVjt9': 'Morning Acoustic',\n",
       " '37i9dQZF1DX4E3UdUs7fUx': 'Afternoon Acoustic',\n",
       " '37i9dQZF1DX2iUghHXGIjj': 'Acoustic Blues',\n",
       " '37i9dQZF1DWX3xqQKu0Sgn': 'Pop Acoustic',\n",
       " '37i9dQZF1DXcWBRiUaG3o5': 'Evening Acoustic',\n",
       " '37i9dQZF1DX5GiUwx1edLZ': 'mint Acoustic',\n",
       " '37i9dQZF1DXcLDm348RRYK': 'Acoustic Concentration',\n",
       " '37i9dQZF1DWSwxyU5zGZYe': 'Bollywood Acoustic',\n",
       " '37i9dQZF1DXdxjdZwLamNx': 'Gentle Acoustic',\n",
       " '2JtkUgJumiz7K4AblbFlgK': 'Acoustic Room',\n",
       " '37i9dQZF1DX4je779Ww5L2': 'Acoustic Summer',\n",
       " '37i9dQZF1DWUDoJcM4v6Tm': 'Indie Acoustic Chill',\n",
       " '37i9dQZF1DX0JKUIfwQSJh': '70s & 80s Acoustic',\n",
       " '37i9dQZF1DXaiAJKcabR16': 'Acoustic Grit',\n",
       " '37i9dQZF1DX0jgyAiPl8Af': 'Peaceful Guitar',\n",
       " '6prLaAk2sOPeDpJKY6LZZ9': 'Starbucks Acoustic',\n",
       " '3ZJ3tiNi2aKblhloHgz9R8': 'Acoustic Covers 💿',\n",
       " '2V8qoHWpiJ1HlCxiYT7Vsb': 'Acoustic Worship',\n",
       " '37i9dQZF1DWUH2AzNQzWua': 'Acoustic Hits: Oldies but Goodies',\n",
       " '37i9dQZF1DX571ttkrxAeN': 'Acoustic Cafe International',\n",
       " '4ARhwf75lsNra3UD9KIYPy': 'Acoustic 2019',\n",
       " '37i9dQZF1DXaByxqE5mcbB': 'Acoustic sa Umaga',\n",
       " '37i9dQZF1DWXYO300IYLDB': 'Acoustic Melodies Tokyo',\n",
       " '4XkMSl1R3f7WsNeTZgrxv5': 'Boyce Avenue Acoustic Covers',\n",
       " '0XxgvmqDKDYsYoCiEjlTzv': 'HILLSONG ACOUSTIC',\n",
       " '5xl2oZiJ2D9Kt3H8IM3Piw': 'Love Island Acoustic ♥️',\n",
       " '37i9dQZF1DWUI804Xnly9d': 'Chai & Acoustic',\n",
       " '37i9dQZF1DXcJMm7qL65rU': 'Acoustic Lounge',\n",
       " '6ssHgVFDNaWmXcvFJttFmW': 'Acoustic OPM',\n",
       " '0irp5Jir8rllPr2dlOdnJb': 'Acoustic Guitar Instrumentals',\n",
       " '0tQIpsQYOZc1uR1wIexTS3': 'Acoustic MixUp',\n",
       " '37i9dQZF1DX6MOpsDRQkA4': 'Acoustic Party',\n",
       " '2PjMuuY3vU8oDCL6WroICp': 'Trending Acoustic',\n",
       " '37i9dQZF1DX7XF2hFaHoss': 'Women of Acoustic',\n",
       " '4mgONdF300kCTcppGtsy7A': 'Acoustic Sleep'}"
      ]
     },
     "execution_count": 115,
     "metadata": {},
     "output_type": "execute_result"
    }
   ],
   "source": [
    "hb.extract_name_and_id(acoutic)"
   ]
  },
  {
   "cell_type": "markdown",
   "metadata": {},
   "source": [
    "It seems to work for other playlists as well. We can now begin to compile a master playlist... list  \n",
    "But first lets compile a list of potential playlist queries."
   ]
  },
  {
   "cell_type": "code",
   "execution_count": 65,
   "metadata": {},
   "outputs": [
    {
     "data": {
      "text/plain": [
       "{'categories': {'href': 'https://api.spotify.com/v1/browse/categories?country=US&offset=0&limit=50',\n",
       "  'items': [{'href': 'https://api.spotify.com/v1/browse/categories/toplists',\n",
       "    'icons': [{'height': 275,\n",
       "      'url': 'https://t.scdn.co/media/derived/toplists_11160599e6a04ac5d6f2757f5511778f_0_0_275_275.jpg',\n",
       "      'width': 275}],\n",
       "    'id': 'toplists',\n",
       "    'name': 'Top Lists'},\n",
       "   {'href': 'https://api.spotify.com/v1/browse/categories/pride',\n",
       "    'icons': [{'height': None,\n",
       "      'url': 'https://t.scdn.co/images/90f4c163-46f6-4cda-bd84-e78ff90d4959.jpg',\n",
       "      'width': None}],\n",
       "    'id': 'pride',\n",
       "    'name': 'Pride'},\n",
       "   {'href': 'https://api.spotify.com/v1/browse/categories/summer',\n",
       "    'icons': [{'height': None,\n",
       "      'url': 'https://t.scdn.co/images/8e508d7eb5b843a89c368c9507ecc429.jpeg',\n",
       "      'width': None}],\n",
       "    'id': 'summer',\n",
       "    'name': 'Summer'},\n",
       "   {'href': 'https://api.spotify.com/v1/browse/categories/pop',\n",
       "    'icons': [{'height': 274,\n",
       "      'url': 'https://t.scdn.co/media/derived/pop-274x274_447148649685019f5e2a03a39e78ba52_0_0_274_274.jpg',\n",
       "      'width': 274}],\n",
       "    'id': 'pop',\n",
       "    'name': 'Pop'},\n",
       "   {'href': 'https://api.spotify.com/v1/browse/categories/hiphop',\n",
       "    'icons': [{'height': 274,\n",
       "      'url': 'https://t.scdn.co/media/original/hip-274_0a661854d61e29eace5fe63f73495e68_274x274.jpg',\n",
       "      'width': 274}],\n",
       "    'id': 'hiphop',\n",
       "    'name': 'Hip-Hop'},\n",
       "   {'href': 'https://api.spotify.com/v1/browse/categories/mood',\n",
       "    'icons': [{'height': 274,\n",
       "      'url': 'https://t.scdn.co/media/original/mood-274x274_976986a31ac8c49794cbdc7246fd5ad7_274x274.jpg',\n",
       "      'width': 274}],\n",
       "    'id': 'mood',\n",
       "    'name': 'Mood'},\n",
       "   {'href': 'https://api.spotify.com/v1/browse/categories/workout',\n",
       "    'icons': [{'height': None,\n",
       "      'url': 'https://t.scdn.co/media/links/workout-274x274.jpg',\n",
       "      'width': None}],\n",
       "    'id': 'workout',\n",
       "    'name': 'Workout'},\n",
       "   {'href': 'https://api.spotify.com/v1/browse/categories/decades',\n",
       "    'icons': [{'height': 274,\n",
       "      'url': 'https://t.scdn.co/media/derived/decades_9ad8e458242b2ac8b184e79ef336c455_0_0_274_274.jpg',\n",
       "      'width': 274}],\n",
       "    'id': 'decades',\n",
       "    'name': 'Decades'},\n",
       "   {'href': 'https://api.spotify.com/v1/browse/categories/country',\n",
       "    'icons': [{'height': None,\n",
       "      'url': 'https://t.scdn.co/images/a2e0ebe2ebed4566ba1d8236b869241f.jpeg',\n",
       "      'width': None}],\n",
       "    'id': 'country',\n",
       "    'name': 'Country'},\n",
       "   {'href': 'https://api.spotify.com/v1/browse/categories/focus',\n",
       "    'icons': [{'height': 274,\n",
       "      'url': 'https://t.scdn.co/media/original/genre-images-square-274x274_5e50d72b846a198fcd2ca9b3aef5f0c8_274x274.jpg',\n",
       "      'width': 274}],\n",
       "    'id': 'focus',\n",
       "    'name': 'Focus'},\n",
       "   {'href': 'https://api.spotify.com/v1/browse/categories/latin',\n",
       "    'icons': [{'height': 274,\n",
       "      'url': 'https://t.scdn.co/media/derived/latin-274x274_befbbd1fbb8e045491576e317cb16cdf_0_0_274_274.jpg',\n",
       "      'width': 274}],\n",
       "    'id': 'latin',\n",
       "    'name': 'Latin'},\n",
       "   {'href': 'https://api.spotify.com/v1/browse/categories/chill',\n",
       "    'icons': [{'height': 274,\n",
       "      'url': 'https://t.scdn.co/media/derived/chill-274x274_4c46374f007813dd10b37e8d8fd35b4b_0_0_274_274.jpg',\n",
       "      'width': 274}],\n",
       "    'id': 'chill',\n",
       "    'name': 'Chill'},\n",
       "   {'href': 'https://api.spotify.com/v1/browse/categories/edm_dance',\n",
       "    'icons': [{'height': 274,\n",
       "      'url': 'https://t.scdn.co/media/derived/edm-274x274_0ef612604200a9c14995432994455a6d_0_0_274_274.jpg',\n",
       "      'width': 274}],\n",
       "    'id': 'edm_dance',\n",
       "    'name': 'Dance/Electronic'},\n",
       "   {'href': 'https://api.spotify.com/v1/browse/categories/rnb',\n",
       "    'icons': [{'height': 274,\n",
       "      'url': 'https://t.scdn.co/media/derived/r-b-274x274_fd56efa72f4f63764b011b68121581d8_0_0_274_274.jpg',\n",
       "      'width': 274}],\n",
       "    'id': 'rnb',\n",
       "    'name': 'R&B'},\n",
       "   {'href': 'https://api.spotify.com/v1/browse/categories/rock',\n",
       "    'icons': [{'height': 274,\n",
       "      'url': 'https://t.scdn.co/media/derived/rock_9ce79e0a4ef901bbd10494f5b855d3cc_0_0_274_274.jpg',\n",
       "      'width': 274}],\n",
       "    'id': 'rock',\n",
       "    'name': 'Rock'},\n",
       "   {'href': 'https://api.spotify.com/v1/browse/categories/indie_alt',\n",
       "    'icons': [{'height': None,\n",
       "      'url': 'https://t.scdn.co/images/fe06caf056474bc58862591cd60b57fc.jpeg',\n",
       "      'width': None}],\n",
       "    'id': 'indie_alt',\n",
       "    'name': 'Indie'},\n",
       "   {'href': 'https://api.spotify.com/v1/browse/categories/roots',\n",
       "    'icons': [{'height': None,\n",
       "      'url': 'https://t.scdn.co/images/7fe0f2c9c91f45a3b6bae49d298201a4.jpeg',\n",
       "      'width': None}],\n",
       "    'id': 'roots',\n",
       "    'name': 'Folk & Acoustic'},\n",
       "   {'href': 'https://api.spotify.com/v1/browse/categories/party',\n",
       "    'icons': [{'height': 274,\n",
       "      'url': 'https://t.scdn.co/media/links/partyicon_274x274.jpg',\n",
       "      'width': 274}],\n",
       "    'id': 'party',\n",
       "    'name': 'Party'},\n",
       "   {'href': 'https://api.spotify.com/v1/browse/categories/sleep',\n",
       "    'icons': [{'height': 274,\n",
       "      'url': 'https://t.scdn.co/media/derived/sleep-274x274_0d4f836af8fab7bf31526968073e671c_0_0_274_274.jpg',\n",
       "      'width': 274}],\n",
       "    'id': 'sleep',\n",
       "    'name': 'Sleep'},\n",
       "   {'href': 'https://api.spotify.com/v1/browse/categories/classical',\n",
       "    'icons': [{'height': 274,\n",
       "      'url': 'https://t.scdn.co/media/derived/classical-274x274_abf78251ff3d90d2ceaf029253ca7cb4_0_0_274_274.jpg',\n",
       "      'width': 274}],\n",
       "    'id': 'classical',\n",
       "    'name': 'Classical'},\n",
       "   {'href': 'https://api.spotify.com/v1/browse/categories/jazz',\n",
       "    'icons': [{'height': 274,\n",
       "      'url': 'https://t.scdn.co/media/derived/jazz-274x274_d6f407453a1f43d3163c55cca624a764_0_0_274_274.jpg',\n",
       "      'width': 274}],\n",
       "    'id': 'jazz',\n",
       "    'name': 'Jazz'},\n",
       "   {'href': 'https://api.spotify.com/v1/browse/categories/inspirational',\n",
       "    'icons': [{'height': None,\n",
       "      'url': 'https://t.scdn.co/images/6359655809534407b31a728fe262dc3a.jpeg',\n",
       "      'width': None}],\n",
       "    'id': 'inspirational',\n",
       "    'name': 'Christian'},\n",
       "   {'href': 'https://api.spotify.com/v1/browse/categories/gaming',\n",
       "    'icons': [{'height': 274,\n",
       "      'url': 'https://t.scdn.co/media/categories/gaming2_274x274.jpg',\n",
       "      'width': 274}],\n",
       "    'id': 'gaming',\n",
       "    'name': 'Gaming'},\n",
       "   {'href': 'https://api.spotify.com/v1/browse/categories/romance',\n",
       "    'icons': [{'height': 274,\n",
       "      'url': 'https://t.scdn.co/media/derived/romance-274x274_8100794c94847b6d27858bed6fa4d91b_0_0_274_274.jpg',\n",
       "      'width': 274}],\n",
       "    'id': 'romance',\n",
       "    'name': 'Romance'},\n",
       "   {'href': 'https://api.spotify.com/v1/browse/categories/kpop',\n",
       "    'icons': [{'height': None,\n",
       "      'url': 'https://t.scdn.co/images/69c728f3bd9643a5ab0f4ef5a79919f1.jpeg',\n",
       "      'width': None}],\n",
       "    'id': 'kpop',\n",
       "    'name': 'K-Pop'},\n",
       "   {'href': 'https://api.spotify.com/v1/browse/categories/popculture',\n",
       "    'icons': [{'height': None,\n",
       "      'url': 'https://t.scdn.co/images/ac75ec857b714a118c73218bb58664e5.jpeg',\n",
       "      'width': None}],\n",
       "    'id': 'popculture',\n",
       "    'name': 'Pop culture'},\n",
       "   {'href': 'https://api.spotify.com/v1/browse/categories/arab',\n",
       "    'icons': [{'height': None,\n",
       "      'url': 'https://t.scdn.co/images/41c540e662c0476c8729eb12c2f08995.jpeg',\n",
       "      'width': None}],\n",
       "    'id': 'arab',\n",
       "    'name': 'Arab'},\n",
       "   {'href': 'https://api.spotify.com/v1/browse/categories/desi',\n",
       "    'icons': [{'height': None,\n",
       "      'url': 'https://t.scdn.co/images/878e1eda3d084a4584465626a8f7dd26.jpeg',\n",
       "      'width': None}],\n",
       "    'id': 'desi',\n",
       "    'name': 'Desi'},\n",
       "   {'href': 'https://api.spotify.com/v1/browse/categories/afro',\n",
       "    'icons': [{'height': None,\n",
       "      'url': 'https://t.scdn.co/images/b505b01bbe0e490cbe43b07f16212892.jpeg',\n",
       "      'width': None}],\n",
       "    'id': 'afro',\n",
       "    'name': 'Afro'},\n",
       "   {'href': 'https://api.spotify.com/v1/browse/categories/ellen',\n",
       "    'icons': [{'height': None,\n",
       "      'url': 'https://t.scdn.co/images/97351e8a090049d2a5daa90f94f2e5e5.jpeg',\n",
       "      'width': None}],\n",
       "    'id': 'ellen',\n",
       "    'name': 'Ellen'},\n",
       "   {'href': 'https://api.spotify.com/v1/browse/categories/metal',\n",
       "    'icons': [{'height': 274,\n",
       "      'url': 'https://t.scdn.co/media/original/metal_27c921443fd0a5ba95b1b2c2ae654b2b_274x274.jpg',\n",
       "      'width': 274}],\n",
       "    'id': 'metal',\n",
       "    'name': 'Metal'},\n",
       "   {'href': 'https://api.spotify.com/v1/browse/categories/reggae',\n",
       "    'icons': [{'height': 274,\n",
       "      'url': 'https://t.scdn.co/media/derived/reggae-274x274_2f11a0500528532b3bc580e3428e9610_0_0_274_274.jpg',\n",
       "      'width': 274}],\n",
       "    'id': 'reggae',\n",
       "    'name': 'Reggae'},\n",
       "   {'href': 'https://api.spotify.com/v1/browse/categories/soul',\n",
       "    'icons': [{'height': 274,\n",
       "      'url': 'https://t.scdn.co/media/derived/soul-274x274_266bc900b35dda8956380cffc73a4d8c_0_0_274_274.jpg',\n",
       "      'width': 274}],\n",
       "    'id': 'soul',\n",
       "    'name': 'Soul'},\n",
       "   {'href': 'https://api.spotify.com/v1/browse/categories/blues',\n",
       "    'icons': [{'height': 274,\n",
       "      'url': 'https://t.scdn.co/media/derived/icon-274x274_aeeb8eb70c80e2b701b25425390a1737_0_0_274_274.jpg',\n",
       "      'width': 274}],\n",
       "    'id': 'blues',\n",
       "    'name': 'Blues'},\n",
       "   {'href': 'https://api.spotify.com/v1/browse/categories/punk',\n",
       "    'icons': [{'height': 274,\n",
       "      'url': 'https://t.scdn.co/media/derived/punk-274x274_f3f1528ea7bbb60a625da13e3315a40b_0_0_274_274.jpg',\n",
       "      'width': 274}],\n",
       "    'id': 'punk',\n",
       "    'name': 'Punk'},\n",
       "   {'href': 'https://api.spotify.com/v1/browse/categories/funk',\n",
       "    'icons': [{'height': None,\n",
       "      'url': 'https://t.scdn.co/images/f4f0987fcab446fcaa7173acb5e25701.jpeg',\n",
       "      'width': None}],\n",
       "    'id': 'funk',\n",
       "    'name': 'Funk'},\n",
       "   {'href': 'https://api.spotify.com/v1/browse/categories/dinner',\n",
       "    'icons': [{'height': 274,\n",
       "      'url': 'https://t.scdn.co/media/original/dinner_1b6506abba0ba52c54e6d695c8571078_274x274.jpg',\n",
       "      'width': 274}],\n",
       "    'id': 'dinner',\n",
       "    'name': 'Dinner'},\n",
       "   {'href': 'https://api.spotify.com/v1/browse/categories/blackhistorymonth',\n",
       "    'icons': [{'height': None,\n",
       "      'url': 'https://t.scdn.co/images/5d4da3850e0d46249500ad564dc4abf0.jpeg',\n",
       "      'width': None}],\n",
       "    'id': 'blackhistorymonth',\n",
       "    'name': 'Black history is now'},\n",
       "   {'href': 'https://api.spotify.com/v1/browse/categories/sessions',\n",
       "    'icons': [{'height': None,\n",
       "      'url': 'https://t.scdn.co/images/986a6f23-b61b-43c5-85dd-c66cc66e0f40.jpg',\n",
       "      'width': None}],\n",
       "    'id': 'sessions',\n",
       "    'name': 'Spotify Singles'},\n",
       "   {'href': 'https://api.spotify.com/v1/browse/categories/travel',\n",
       "    'icons': [{'height': 274,\n",
       "      'url': 'https://t.scdn.co/media/derived/travel-274x274_1e89cd5b42cf8bd2ff8fc4fb26f2e955_0_0_274_274.jpg',\n",
       "      'width': 274}],\n",
       "    'id': 'travel',\n",
       "    'name': 'Commute'},\n",
       "   {'href': 'https://api.spotify.com/v1/browse/categories/family',\n",
       "    'icons': [{'height': None,\n",
       "      'url': 'https://t.scdn.co/images/ab1e1dbf-1ea2-403e-8c11-5dba87c9c720.jpg',\n",
       "      'width': None}],\n",
       "    'id': 'family',\n",
       "    'name': 'Kids & Family'},\n",
       "   {'href': 'https://api.spotify.com/v1/browse/categories/comedy',\n",
       "    'icons': [{'height': 274,\n",
       "      'url': 'https://t.scdn.co/media/derived/comedy-274x274_d07fcbc1202f00f8684f37742d0a4f2f_0_0_274_274.jpg',\n",
       "      'width': 274}],\n",
       "    'id': 'comedy',\n",
       "    'name': 'Comedy'},\n",
       "   {'href': 'https://api.spotify.com/v1/browse/categories/word',\n",
       "    'icons': [{'height': 274,\n",
       "      'url': 'https://t.scdn.co/media/derived/word-icon_5fdddc5e73436a11fc425ae94f195915_0_0_274_274.jpg',\n",
       "      'width': 274}],\n",
       "    'id': 'word',\n",
       "    'name': 'Word'},\n",
       "   {'href': 'https://api.spotify.com/v1/browse/categories/mexican',\n",
       "    'icons': [{'height': None,\n",
       "      'url': 'https://t.scdn.co/images/45a5c3894e6a4499a436616cb185b265.jpeg',\n",
       "      'width': None}],\n",
       "    'id': 'mexican',\n",
       "    'name': 'Regional Mexican'}],\n",
       "  'limit': 50,\n",
       "  'next': None,\n",
       "  'offset': 0,\n",
       "  'previous': None,\n",
       "  'total': 44}}"
      ]
     },
     "execution_count": 65,
     "metadata": {},
     "output_type": "execute_result"
    }
   ],
   "source": [
    "spotify.categories(country='US', limit=50)"
   ]
  },
  {
   "cell_type": "code",
   "execution_count": 70,
   "metadata": {},
   "outputs": [
    {
     "data": {
      "text/plain": [
       "[{'href': 'https://api.spotify.com/v1/browse/categories/toplists',\n",
       "  'icons': [{'height': 275,\n",
       "    'url': 'https://t.scdn.co/media/derived/toplists_11160599e6a04ac5d6f2757f5511778f_0_0_275_275.jpg',\n",
       "    'width': 275}],\n",
       "  'id': 'toplists',\n",
       "  'name': 'Top Lists'},\n",
       " {'href': 'https://api.spotify.com/v1/browse/categories/pride',\n",
       "  'icons': [{'height': None,\n",
       "    'url': 'https://t.scdn.co/images/90f4c163-46f6-4cda-bd84-e78ff90d4959.jpg',\n",
       "    'width': None}],\n",
       "  'id': 'pride',\n",
       "  'name': 'Pride'},\n",
       " {'href': 'https://api.spotify.com/v1/browse/categories/summer',\n",
       "  'icons': [{'height': None,\n",
       "    'url': 'https://t.scdn.co/images/8e508d7eb5b843a89c368c9507ecc429.jpeg',\n",
       "    'width': None}],\n",
       "  'id': 'summer',\n",
       "  'name': 'Summer'},\n",
       " {'href': 'https://api.spotify.com/v1/browse/categories/pop',\n",
       "  'icons': [{'height': 274,\n",
       "    'url': 'https://t.scdn.co/media/derived/pop-274x274_447148649685019f5e2a03a39e78ba52_0_0_274_274.jpg',\n",
       "    'width': 274}],\n",
       "  'id': 'pop',\n",
       "  'name': 'Pop'},\n",
       " {'href': 'https://api.spotify.com/v1/browse/categories/hiphop',\n",
       "  'icons': [{'height': 274,\n",
       "    'url': 'https://t.scdn.co/media/original/hip-274_0a661854d61e29eace5fe63f73495e68_274x274.jpg',\n",
       "    'width': 274}],\n",
       "  'id': 'hiphop',\n",
       "  'name': 'Hip-Hop'}]"
      ]
     },
     "execution_count": 70,
     "metadata": {},
     "output_type": "execute_result"
    }
   ],
   "source": [
    "spotify.categories(country='US', limit=50)['categories']['items'][:5]"
   ]
  },
  {
   "cell_type": "code",
   "execution_count": 102,
   "metadata": {},
   "outputs": [],
   "source": [
    "# These are nested similar to the playlist items\n",
    "categories_list = []\n",
    "for category in spotify.categories(country='US',\n",
    "                                   limit=50)['categories']['items']:\n",
    "    categories_list.append(category['id'])"
   ]
  },
  {
   "cell_type": "code",
   "execution_count": 103,
   "metadata": {},
   "outputs": [
    {
     "data": {
      "text/plain": [
       "['toplists',\n",
       " 'pride',\n",
       " 'summer',\n",
       " 'pop',\n",
       " 'hiphop',\n",
       " 'mood',\n",
       " 'workout',\n",
       " 'decades',\n",
       " 'country',\n",
       " 'focus',\n",
       " 'latin',\n",
       " 'chill',\n",
       " 'edm_dance',\n",
       " 'rnb',\n",
       " 'rock',\n",
       " 'indie_alt',\n",
       " 'roots',\n",
       " 'party',\n",
       " 'sleep',\n",
       " 'classical',\n",
       " 'jazz',\n",
       " 'inspirational',\n",
       " 'gaming',\n",
       " 'romance',\n",
       " 'kpop',\n",
       " 'popculture',\n",
       " 'arab',\n",
       " 'desi',\n",
       " 'afro',\n",
       " 'ellen',\n",
       " 'metal',\n",
       " 'reggae',\n",
       " 'soul',\n",
       " 'blues',\n",
       " 'punk',\n",
       " 'funk',\n",
       " 'dinner',\n",
       " 'blackhistorymonth',\n",
       " 'sessions',\n",
       " 'travel',\n",
       " 'family',\n",
       " 'comedy',\n",
       " 'word',\n",
       " 'mexican']"
      ]
     },
     "execution_count": 103,
     "metadata": {},
     "output_type": "execute_result"
    }
   ],
   "source": [
    "categories_list"
   ]
  },
  {
   "cell_type": "code",
   "execution_count": 105,
   "metadata": {},
   "outputs": [
    {
     "name": "stdout",
     "output_type": "stream",
     "text": [
      "toplists has 14 playlists\n",
      "pride has 24 playlists\n",
      "summer has 43 playlists\n",
      "pop has 41 playlists\n",
      "hiphop has 46 playlists\n",
      "mood has 50 playlists\n",
      "workout has 50 playlists\n",
      "decades has 50 playlists\n",
      "country has 50 playlists\n",
      "focus has 40 playlists\n",
      "latin has 50 playlists\n",
      "chill has 50 playlists\n",
      "edm_dance has 49 playlists\n",
      "rnb has 25 playlists\n",
      "rock has 50 playlists\n",
      "indie_alt has 50 playlists\n",
      "roots has 50 playlists\n",
      "party has 42 playlists\n",
      "sleep has 34 playlists\n",
      "classical has 50 playlists\n",
      "jazz has 39 playlists\n",
      "inspirational has 50 playlists\n",
      "gaming has 48 playlists\n",
      "romance has 50 playlists\n",
      "kpop has 31 playlists\n",
      "popculture has 42 playlists\n",
      "arab has 38 playlists\n",
      "desi has 50 playlists\n",
      "afro has 50 playlists\n",
      "ellen has 19 playlists\n",
      "metal has 33 playlists\n",
      "reggae has 17 playlists\n",
      "soul has 23 playlists\n",
      "blues has 24 playlists\n",
      "punk has 27 playlists\n",
      "funk has 12 playlists\n",
      "dinner has 19 playlists\n",
      "blackhistorymonth has 22 playlists\n",
      "sessions has 10 playlists\n",
      "travel has 30 playlists\n",
      "family has 18 playlists\n",
      "comedy has 16 playlists\n",
      "word has 50 playlists\n",
      "mexican has 40 playlists\n"
     ]
    }
   ],
   "source": [
    "big_categories_50 = []\n",
    "for category in categories_list:\n",
    "    playlist_list = spotify.category_playlists(category_id=category,\n",
    "                           limit=50, country='US', offset=0\n",
    "                           )['playlists']['items']\n",
    "    n = len(playlist_list)\n",
    "    if n == 50:                             # If there are 50 playlists it may be only because\n",
    "                                            # the limit is trimming the result and there are\n",
    "                                            # actually more that we want to get\n",
    "        big_categories_50.append(category)\n",
    "    print(f'{category} has {n} playlists')"
   ]
  },
  {
   "cell_type": "code",
   "execution_count": 106,
   "metadata": {},
   "outputs": [
    {
     "data": {
      "text/plain": [
       "['mood',\n",
       " 'workout',\n",
       " 'decades',\n",
       " 'country',\n",
       " 'latin',\n",
       " 'chill',\n",
       " 'rock',\n",
       " 'indie_alt',\n",
       " 'roots',\n",
       " 'classical',\n",
       " 'inspirational',\n",
       " 'romance',\n",
       " 'desi',\n",
       " 'afro',\n",
       " 'word']"
      ]
     },
     "execution_count": 106,
     "metadata": {},
     "output_type": "execute_result"
    }
   ],
   "source": [
    "big_categories_50"
   ]
  },
  {
   "cell_type": "code",
   "execution_count": 107,
   "metadata": {},
   "outputs": [
    {
     "name": "stdout",
     "output_type": "stream",
     "text": [
      "mood has 35 playlists\n",
      "workout has 16 playlists\n",
      "decades has 6 playlists\n",
      "country has 7 playlists\n",
      "latin has 50 playlists\n",
      "chill has 48 playlists\n",
      "rock has 28 playlists\n",
      "indie_alt has 2 playlists\n",
      "roots has 50 playlists\n",
      "classical has 50 playlists\n",
      "inspirational has 34 playlists\n",
      "romance has 2 playlists\n",
      "desi has 13 playlists\n",
      "afro has 28 playlists\n",
      "word has 17 playlists\n"
     ]
    }
   ],
   "source": [
    "big_categories_100 = []\n",
    "for category in big_categories_50:\n",
    "    playlist_list = spotify.category_playlists(category_id=category,\n",
    "                           limit=50, country='US', offset=50\n",
    "                           )['playlists']['items']\n",
    "    n = len(playlist_list)\n",
    "    if n == 50:\n",
    "        big_categories_100.append(category)\n",
    "    print(f'{category} has {n} playlists')"
   ]
  },
  {
   "cell_type": "code",
   "execution_count": 109,
   "metadata": {},
   "outputs": [
    {
     "name": "stdout",
     "output_type": "stream",
     "text": [
      "latin has 50 playlists\n",
      "roots has 7 playlists\n",
      "classical has 15 playlists\n"
     ]
    }
   ],
   "source": [
    "big_categories_150 = []\n",
    "for category in big_categories_100:\n",
    "    playlist_list = spotify.category_playlists(category_id=category,\n",
    "                           limit=50, country='US', offset=100\n",
    "                           )['playlists']['items']\n",
    "    n = len(playlist_list)\n",
    "    if n == 50:\n",
    "        big_categories_150.append(category)\n",
    "    print(f'{category} has {n} playlists')"
   ]
  },
  {
   "cell_type": "code",
   "execution_count": 113,
   "metadata": {},
   "outputs": [
    {
     "data": {
      "text/plain": [
       "50"
      ]
     },
     "execution_count": 113,
     "metadata": {},
     "output_type": "execute_result"
    }
   ],
   "source": [
    "playlist_list = spotify.category_playlists(category_id='latin',\n",
    "                       limit=50, country='US', offset=150\n",
    "                       )['playlists']['items']\n",
    "len(playlist_list)"
   ]
  },
  {
   "cell_type": "markdown",
   "metadata": {},
   "source": [
    "WOW! 200 Playlists for Latin!! 200 will probably be enough. "
   ]
  },
  {
   "cell_type": "markdown",
   "metadata": {},
   "source": [
    "Lets start smashing some playlist lists together.  \n",
    "Thankfully the dictionary class will not add any playlist twice,  \n",
    "and the update function will allow us to merge new playlists."
   ]
  },
  {
   "cell_type": "code",
   "execution_count": 131,
   "metadata": {},
   "outputs": [],
   "source": [
    "master_playlist_dict = {}\n",
    "for category in categories_list:\n",
    "    response = spotify.category_playlists(category_id=category,\n",
    "                                           limit=50, country='US',\n",
    "                                         )\n",
    "    current_names_ids = hb.extract_name_and_id(response)\n",
    "    master_playlist_dict.update(current_names_ids)"
   ]
  },
  {
   "cell_type": "code",
   "execution_count": 133,
   "metadata": {},
   "outputs": [
    {
     "data": {
      "text/plain": [
       "1399"
      ]
     },
     "execution_count": 133,
     "metadata": {},
     "output_type": "execute_result"
    }
   ],
   "source": [
    "len(master_playlist_dict.keys())"
   ]
  },
  {
   "cell_type": "code",
   "execution_count": 134,
   "metadata": {},
   "outputs": [],
   "source": [
    "for category in big_categories_50:\n",
    "    response = spotify.category_playlists(category_id=category,\n",
    "                           limit=50, country='US', offset=50\n",
    "                           )\n",
    "    current_names_ids = hb.extract_name_and_id(response)\n",
    "    master_playlist_dict.update(current_names_ids)"
   ]
  },
  {
   "cell_type": "code",
   "execution_count": 135,
   "metadata": {},
   "outputs": [
    {
     "data": {
      "text/plain": [
       "1708"
      ]
     },
     "execution_count": 135,
     "metadata": {},
     "output_type": "execute_result"
    }
   ],
   "source": [
    "len(master_playlist_dict.keys())"
   ]
  },
  {
   "cell_type": "code",
   "execution_count": 136,
   "metadata": {},
   "outputs": [],
   "source": [
    "for category in big_categories_100:\n",
    "    response = spotify.category_playlists(category_id=category,\n",
    "                           limit=50, country='US', offset=100\n",
    "                           )\n",
    "    current_names_ids = hb.extract_name_and_id(response)\n",
    "    master_playlist_dict.update(current_names_ids)"
   ]
  },
  {
   "cell_type": "code",
   "execution_count": 137,
   "metadata": {},
   "outputs": [
    {
     "data": {
      "text/plain": [
       "1765"
      ]
     },
     "execution_count": 137,
     "metadata": {},
     "output_type": "execute_result"
    }
   ],
   "source": [
    "len(master_playlist_dict.keys())"
   ]
  },
  {
   "cell_type": "code",
   "execution_count": null,
   "metadata": {},
   "outputs": [],
   "source": [
    "response = spotify.category_playlists(category_id='latin',\n",
    "                                      limit=50, country='US',\n",
    "                                      offset=150)\n",
    "current_names_ids = hb.extract_name_and_id(response)\n",
    "master_playlist_dict.update(current_names_ids)"
   ]
  },
  {
   "cell_type": "code",
   "execution_count": 141,
   "metadata": {},
   "outputs": [
    {
     "data": {
      "text/plain": [
       "{}"
      ]
     },
     "execution_count": 141,
     "metadata": {},
     "output_type": "execute_result"
    }
   ],
   "source": [
    "hb.extract_name_and_id(spotify.category_playlists(category_id='funk', offset=50, country='US'))"
   ]
  },
  {
   "cell_type": "code",
   "execution_count": null,
   "metadata": {},
   "outputs": [],
   "source": []
  }
 ],
 "metadata": {
  "kernelspec": {
   "display_name": "learn-env",
   "language": "python",
   "name": "learn-env"
  },
  "language_info": {
   "codemirror_mode": {
    "name": "ipython",
    "version": 3
   },
   "file_extension": ".py",
   "mimetype": "text/x-python",
   "name": "python",
   "nbconvert_exporter": "python",
   "pygments_lexer": "ipython3",
   "version": "3.6.6"
  }
 },
 "nbformat": 4,
 "nbformat_minor": 2
}
