{
 "cells": [
  {
   "cell_type": "code",
   "execution_count": 1,
   "metadata": {},
   "outputs": [],
   "source": [
    "# !pip install haversine"
   ]
  },
  {
   "cell_type": "code",
   "execution_count": 280,
   "metadata": {},
   "outputs": [],
   "source": [
    "import pandas as pd\n",
    "import homebrew as hb"
   ]
  },
  {
   "cell_type": "code",
   "execution_count": 281,
   "metadata": {},
   "outputs": [],
   "source": [
    "%load_ext autoreload\n",
    "%autoreload 2"
   ]
  },
  {
   "cell_type": "code",
   "execution_count": 3,
   "metadata": {},
   "outputs": [],
   "source": [
    "df = pd.read_json('artists_shows_shard.json', lines=True)"
   ]
  },
  {
   "cell_type": "code",
   "execution_count": 4,
   "metadata": {},
   "outputs": [
    {
     "name": "stdout",
     "output_type": "stream",
     "text": [
      "(15729, 3)\n"
     ]
    },
    {
     "data": {
      "text/html": [
       "<div>\n",
       "<style scoped>\n",
       "    .dataframe tbody tr th:only-of-type {\n",
       "        vertical-align: middle;\n",
       "    }\n",
       "\n",
       "    .dataframe tbody tr th {\n",
       "        vertical-align: top;\n",
       "    }\n",
       "\n",
       "    .dataframe thead th {\n",
       "        text-align: right;\n",
       "    }\n",
       "</style>\n",
       "<table border=\"1\" class=\"dataframe\">\n",
       "  <thead>\n",
       "    <tr style=\"text-align: right;\">\n",
       "      <th></th>\n",
       "      <th>artist</th>\n",
       "      <th>date</th>\n",
       "      <th>loc</th>\n",
       "    </tr>\n",
       "  </thead>\n",
       "  <tbody>\n",
       "    <tr>\n",
       "      <th>0</th>\n",
       "      <td>2 Chainz</td>\n",
       "      <td>2019-06-30 05:30:00</td>\n",
       "      <td>Las Vegas, NV, US</td>\n",
       "    </tr>\n",
       "    <tr>\n",
       "      <th>1</th>\n",
       "      <td>2 Chainz</td>\n",
       "      <td>2019-07-12 11:00:00</td>\n",
       "      <td>London, UK</td>\n",
       "    </tr>\n",
       "    <tr>\n",
       "      <th>2</th>\n",
       "      <td>2 Chainz</td>\n",
       "      <td>2019-08-10 00:00:00</td>\n",
       "      <td>Anaheim, CA, US</td>\n",
       "    </tr>\n",
       "  </tbody>\n",
       "</table>\n",
       "</div>"
      ],
      "text/plain": [
       "     artist                date                loc\n",
       "0  2 Chainz 2019-06-30 05:30:00  Las Vegas, NV, US\n",
       "1  2 Chainz 2019-07-12 11:00:00         London, UK\n",
       "2  2 Chainz 2019-08-10 00:00:00    Anaheim, CA, US"
      ]
     },
     "execution_count": 4,
     "metadata": {},
     "output_type": "execute_result"
    }
   ],
   "source": [
    "print(df.shape)\n",
    "df.head(3)"
   ]
  },
  {
   "cell_type": "markdown",
   "metadata": {},
   "source": [
    "The column named loc should be renamed to prevent confusion  \n",
    "with the 'pandas.DataFrame.loc()' method"
   ]
  },
  {
   "cell_type": "code",
   "execution_count": 5,
   "metadata": {},
   "outputs": [
    {
     "data": {
      "text/html": [
       "<div>\n",
       "<style scoped>\n",
       "    .dataframe tbody tr th:only-of-type {\n",
       "        vertical-align: middle;\n",
       "    }\n",
       "\n",
       "    .dataframe tbody tr th {\n",
       "        vertical-align: top;\n",
       "    }\n",
       "\n",
       "    .dataframe thead th {\n",
       "        text-align: right;\n",
       "    }\n",
       "</style>\n",
       "<table border=\"1\" class=\"dataframe\">\n",
       "  <thead>\n",
       "    <tr style=\"text-align: right;\">\n",
       "      <th></th>\n",
       "      <th>artist</th>\n",
       "      <th>date</th>\n",
       "      <th>location</th>\n",
       "    </tr>\n",
       "  </thead>\n",
       "  <tbody>\n",
       "    <tr>\n",
       "      <th>0</th>\n",
       "      <td>2 Chainz</td>\n",
       "      <td>2019-06-30 05:30:00</td>\n",
       "      <td>Las Vegas, NV, US</td>\n",
       "    </tr>\n",
       "    <tr>\n",
       "      <th>1</th>\n",
       "      <td>2 Chainz</td>\n",
       "      <td>2019-07-12 11:00:00</td>\n",
       "      <td>London, UK</td>\n",
       "    </tr>\n",
       "    <tr>\n",
       "      <th>2</th>\n",
       "      <td>2 Chainz</td>\n",
       "      <td>2019-08-10 00:00:00</td>\n",
       "      <td>Anaheim, CA, US</td>\n",
       "    </tr>\n",
       "  </tbody>\n",
       "</table>\n",
       "</div>"
      ],
      "text/plain": [
       "     artist                date           location\n",
       "0  2 Chainz 2019-06-30 05:30:00  Las Vegas, NV, US\n",
       "1  2 Chainz 2019-07-12 11:00:00         London, UK\n",
       "2  2 Chainz 2019-08-10 00:00:00    Anaheim, CA, US"
      ]
     },
     "execution_count": 5,
     "metadata": {},
     "output_type": "execute_result"
    }
   ],
   "source": [
    "df.columns = ['artist', 'date', 'location']\n",
    "df.head(3)"
   ]
  },
  {
   "cell_type": "markdown",
   "metadata": {},
   "source": [
    "Trim shows outside US"
   ]
  },
  {
   "cell_type": "code",
   "execution_count": 6,
   "metadata": {},
   "outputs": [
    {
     "name": "stdout",
     "output_type": "stream",
     "text": [
      "(9608, 3)\n"
     ]
    },
    {
     "data": {
      "text/html": [
       "<div>\n",
       "<style scoped>\n",
       "    .dataframe tbody tr th:only-of-type {\n",
       "        vertical-align: middle;\n",
       "    }\n",
       "\n",
       "    .dataframe tbody tr th {\n",
       "        vertical-align: top;\n",
       "    }\n",
       "\n",
       "    .dataframe thead th {\n",
       "        text-align: right;\n",
       "    }\n",
       "</style>\n",
       "<table border=\"1\" class=\"dataframe\">\n",
       "  <thead>\n",
       "    <tr style=\"text-align: right;\">\n",
       "      <th></th>\n",
       "      <th>artist</th>\n",
       "      <th>date</th>\n",
       "      <th>location</th>\n",
       "    </tr>\n",
       "  </thead>\n",
       "  <tbody>\n",
       "    <tr>\n",
       "      <th>0</th>\n",
       "      <td>2 Chainz</td>\n",
       "      <td>2019-06-30 05:30:00</td>\n",
       "      <td>Las Vegas, NV, US</td>\n",
       "    </tr>\n",
       "    <tr>\n",
       "      <th>2</th>\n",
       "      <td>2 Chainz</td>\n",
       "      <td>2019-08-10 00:00:00</td>\n",
       "      <td>Anaheim, CA, US</td>\n",
       "    </tr>\n",
       "    <tr>\n",
       "      <th>3</th>\n",
       "      <td>2 Chainz</td>\n",
       "      <td>2019-08-24 22:00:00</td>\n",
       "      <td>Atlanta, GA, US</td>\n",
       "    </tr>\n",
       "  </tbody>\n",
       "</table>\n",
       "</div>"
      ],
      "text/plain": [
       "     artist                date           location\n",
       "0  2 Chainz 2019-06-30 05:30:00  Las Vegas, NV, US\n",
       "2  2 Chainz 2019-08-10 00:00:00    Anaheim, CA, US\n",
       "3  2 Chainz 2019-08-24 22:00:00    Atlanta, GA, US"
      ]
     },
     "execution_count": 6,
     "metadata": {},
     "output_type": "execute_result"
    }
   ],
   "source": [
    "domestic_df = df[df['location'].str.endswith('US')]\n",
    "print(domestic_df.shape)\n",
    "domestic_df.head(3)"
   ]
  },
  {
   "cell_type": "markdown",
   "metadata": {},
   "source": [
    "Lets only make decisions based on shows with in the past five years.  \n",
    "Trim any concerts before 2015."
   ]
  },
  {
   "cell_type": "code",
   "execution_count": 7,
   "metadata": {},
   "outputs": [
    {
     "name": "stdout",
     "output_type": "stream",
     "text": [
      "(8642, 3)\n"
     ]
    }
   ],
   "source": [
    "recent_domestic_df = domestic_df[domestic_df.date >= '2015'].copy()\n",
    "print(recent_domestic_df.shape)"
   ]
  },
  {
   "cell_type": "markdown",
   "metadata": {},
   "source": [
    "### Lets merge/join some lat long info to these locations so we can compare them!"
   ]
  },
  {
   "cell_type": "markdown",
   "metadata": {},
   "source": [
    "With some help from our friends at https://simplemaps.com/data/us-cities:  \n",
    "We can get a csv of cities and their latititude and longitude from some census."
   ]
  },
  {
   "cell_type": "code",
   "execution_count": 8,
   "metadata": {},
   "outputs": [],
   "source": [
    "cities_df = pd.read_csv('uscitiesv1.5.csv')"
   ]
  },
  {
   "cell_type": "code",
   "execution_count": 9,
   "metadata": {},
   "outputs": [
    {
     "name": "stdout",
     "output_type": "stream",
     "text": [
      "(37842, 16)\n"
     ]
    },
    {
     "data": {
      "text/html": [
       "<div>\n",
       "<style scoped>\n",
       "    .dataframe tbody tr th:only-of-type {\n",
       "        vertical-align: middle;\n",
       "    }\n",
       "\n",
       "    .dataframe tbody tr th {\n",
       "        vertical-align: top;\n",
       "    }\n",
       "\n",
       "    .dataframe thead th {\n",
       "        text-align: right;\n",
       "    }\n",
       "</style>\n",
       "<table border=\"1\" class=\"dataframe\">\n",
       "  <thead>\n",
       "    <tr style=\"text-align: right;\">\n",
       "      <th></th>\n",
       "      <th>city</th>\n",
       "      <th>city_ascii</th>\n",
       "      <th>state_id</th>\n",
       "      <th>state_name</th>\n",
       "      <th>county_fips</th>\n",
       "      <th>county_name</th>\n",
       "      <th>lat</th>\n",
       "      <th>lng</th>\n",
       "      <th>population</th>\n",
       "      <th>population_proper</th>\n",
       "      <th>density</th>\n",
       "      <th>source</th>\n",
       "      <th>incorporated</th>\n",
       "      <th>timezone</th>\n",
       "      <th>zips</th>\n",
       "      <th>id</th>\n",
       "    </tr>\n",
       "  </thead>\n",
       "  <tbody>\n",
       "    <tr>\n",
       "      <th>0</th>\n",
       "      <td>Prairie Ridge</td>\n",
       "      <td>Prairie Ridge</td>\n",
       "      <td>WA</td>\n",
       "      <td>Washington</td>\n",
       "      <td>53053</td>\n",
       "      <td>Pierce</td>\n",
       "      <td>47.1443</td>\n",
       "      <td>-122.1408</td>\n",
       "      <td>NaN</td>\n",
       "      <td>NaN</td>\n",
       "      <td>1349.8</td>\n",
       "      <td>polygon</td>\n",
       "      <td>False</td>\n",
       "      <td>America/Los_Angeles</td>\n",
       "      <td>98360 98391</td>\n",
       "      <td>1840037882</td>\n",
       "    </tr>\n",
       "    <tr>\n",
       "      <th>1</th>\n",
       "      <td>Edison</td>\n",
       "      <td>Edison</td>\n",
       "      <td>WA</td>\n",
       "      <td>Washington</td>\n",
       "      <td>53057</td>\n",
       "      <td>Skagit</td>\n",
       "      <td>48.5602</td>\n",
       "      <td>-122.4311</td>\n",
       "      <td>NaN</td>\n",
       "      <td>NaN</td>\n",
       "      <td>127.4</td>\n",
       "      <td>polygon</td>\n",
       "      <td>False</td>\n",
       "      <td>America/Los_Angeles</td>\n",
       "      <td>98232</td>\n",
       "      <td>1840017314</td>\n",
       "    </tr>\n",
       "  </tbody>\n",
       "</table>\n",
       "</div>"
      ],
      "text/plain": [
       "            city     city_ascii state_id  state_name  county_fips county_name  \\\n",
       "0  Prairie Ridge  Prairie Ridge       WA  Washington        53053      Pierce   \n",
       "1         Edison         Edison       WA  Washington        53057      Skagit   \n",
       "\n",
       "       lat       lng  population  population_proper  density   source  \\\n",
       "0  47.1443 -122.1408         NaN                NaN   1349.8  polygon   \n",
       "1  48.5602 -122.4311         NaN                NaN    127.4  polygon   \n",
       "\n",
       "   incorporated             timezone         zips          id  \n",
       "0         False  America/Los_Angeles  98360 98391  1840037882  \n",
       "1         False  America/Los_Angeles        98232  1840017314  "
      ]
     },
     "execution_count": 9,
     "metadata": {},
     "output_type": "execute_result"
    }
   ],
   "source": [
    "print(cities_df.shape)\n",
    "cities_df.head(2)"
   ]
  },
  {
   "cell_type": "markdown",
   "metadata": {},
   "source": [
    "Let's just grab city, state id, lat and lng."
   ]
  },
  {
   "cell_type": "code",
   "execution_count": 10,
   "metadata": {},
   "outputs": [
    {
     "data": {
      "text/html": [
       "<div>\n",
       "<style scoped>\n",
       "    .dataframe tbody tr th:only-of-type {\n",
       "        vertical-align: middle;\n",
       "    }\n",
       "\n",
       "    .dataframe tbody tr th {\n",
       "        vertical-align: top;\n",
       "    }\n",
       "\n",
       "    .dataframe thead th {\n",
       "        text-align: right;\n",
       "    }\n",
       "</style>\n",
       "<table border=\"1\" class=\"dataframe\">\n",
       "  <thead>\n",
       "    <tr style=\"text-align: right;\">\n",
       "      <th></th>\n",
       "      <th>city</th>\n",
       "      <th>state_id</th>\n",
       "      <th>lat</th>\n",
       "      <th>lng</th>\n",
       "    </tr>\n",
       "  </thead>\n",
       "  <tbody>\n",
       "    <tr>\n",
       "      <th>0</th>\n",
       "      <td>Prairie Ridge</td>\n",
       "      <td>WA</td>\n",
       "      <td>47.1443</td>\n",
       "      <td>-122.1408</td>\n",
       "    </tr>\n",
       "    <tr>\n",
       "      <th>1</th>\n",
       "      <td>Edison</td>\n",
       "      <td>WA</td>\n",
       "      <td>48.5602</td>\n",
       "      <td>-122.4311</td>\n",
       "    </tr>\n",
       "  </tbody>\n",
       "</table>\n",
       "</div>"
      ],
      "text/plain": [
       "            city state_id      lat       lng\n",
       "0  Prairie Ridge       WA  47.1443 -122.1408\n",
       "1         Edison       WA  48.5602 -122.4311"
      ]
     },
     "execution_count": 10,
     "metadata": {},
     "output_type": "execute_result"
    }
   ],
   "source": [
    "cities_df = cities_df[['city', 'state_id', 'lat', 'lng']]\n",
    "cities_df.head(2)"
   ]
  },
  {
   "cell_type": "markdown",
   "metadata": {},
   "source": [
    "Lets adjust these city and state values so they will match"
   ]
  },
  {
   "cell_type": "code",
   "execution_count": 11,
   "metadata": {},
   "outputs": [],
   "source": [
    "cities_df.loc[:,'comb_city_state'] = cities_df['city'] + ', ' + cities_df['state_id'] + ', US'"
   ]
  },
  {
   "cell_type": "code",
   "execution_count": 12,
   "metadata": {},
   "outputs": [
    {
     "data": {
      "text/html": [
       "<div>\n",
       "<style scoped>\n",
       "    .dataframe tbody tr th:only-of-type {\n",
       "        vertical-align: middle;\n",
       "    }\n",
       "\n",
       "    .dataframe tbody tr th {\n",
       "        vertical-align: top;\n",
       "    }\n",
       "\n",
       "    .dataframe thead th {\n",
       "        text-align: right;\n",
       "    }\n",
       "</style>\n",
       "<table border=\"1\" class=\"dataframe\">\n",
       "  <thead>\n",
       "    <tr style=\"text-align: right;\">\n",
       "      <th></th>\n",
       "      <th>city</th>\n",
       "      <th>state_id</th>\n",
       "      <th>lat</th>\n",
       "      <th>lng</th>\n",
       "      <th>comb_city_state</th>\n",
       "    </tr>\n",
       "  </thead>\n",
       "  <tbody>\n",
       "    <tr>\n",
       "      <th>0</th>\n",
       "      <td>Prairie Ridge</td>\n",
       "      <td>WA</td>\n",
       "      <td>47.1443</td>\n",
       "      <td>-122.1408</td>\n",
       "      <td>Prairie Ridge, WA, US</td>\n",
       "    </tr>\n",
       "    <tr>\n",
       "      <th>1</th>\n",
       "      <td>Edison</td>\n",
       "      <td>WA</td>\n",
       "      <td>48.5602</td>\n",
       "      <td>-122.4311</td>\n",
       "      <td>Edison, WA, US</td>\n",
       "    </tr>\n",
       "    <tr>\n",
       "      <th>2</th>\n",
       "      <td>Packwood</td>\n",
       "      <td>WA</td>\n",
       "      <td>46.6085</td>\n",
       "      <td>-121.6702</td>\n",
       "      <td>Packwood, WA, US</td>\n",
       "    </tr>\n",
       "    <tr>\n",
       "      <th>3</th>\n",
       "      <td>Wautauga Beach</td>\n",
       "      <td>WA</td>\n",
       "      <td>47.5862</td>\n",
       "      <td>-122.5482</td>\n",
       "      <td>Wautauga Beach, WA, US</td>\n",
       "    </tr>\n",
       "    <tr>\n",
       "      <th>4</th>\n",
       "      <td>Harper</td>\n",
       "      <td>WA</td>\n",
       "      <td>47.5207</td>\n",
       "      <td>-122.5196</td>\n",
       "      <td>Harper, WA, US</td>\n",
       "    </tr>\n",
       "  </tbody>\n",
       "</table>\n",
       "</div>"
      ],
      "text/plain": [
       "             city state_id      lat       lng         comb_city_state\n",
       "0   Prairie Ridge       WA  47.1443 -122.1408   Prairie Ridge, WA, US\n",
       "1          Edison       WA  48.5602 -122.4311          Edison, WA, US\n",
       "2        Packwood       WA  46.6085 -121.6702        Packwood, WA, US\n",
       "3  Wautauga Beach       WA  47.5862 -122.5482  Wautauga Beach, WA, US\n",
       "4          Harper       WA  47.5207 -122.5196          Harper, WA, US"
      ]
     },
     "execution_count": 12,
     "metadata": {},
     "output_type": "execute_result"
    }
   ],
   "source": [
    "cities_df.head()"
   ]
  },
  {
   "cell_type": "code",
   "execution_count": 13,
   "metadata": {},
   "outputs": [],
   "source": [
    "combined = pd.merge(left=recent_domestic_df, right=cities_df,\n",
    "             left_on='location', right_on='comb_city_state', how='left')"
   ]
  },
  {
   "cell_type": "code",
   "execution_count": 14,
   "metadata": {},
   "outputs": [
    {
     "data": {
      "text/html": [
       "<div>\n",
       "<style scoped>\n",
       "    .dataframe tbody tr th:only-of-type {\n",
       "        vertical-align: middle;\n",
       "    }\n",
       "\n",
       "    .dataframe tbody tr th {\n",
       "        vertical-align: top;\n",
       "    }\n",
       "\n",
       "    .dataframe thead th {\n",
       "        text-align: right;\n",
       "    }\n",
       "</style>\n",
       "<table border=\"1\" class=\"dataframe\">\n",
       "  <thead>\n",
       "    <tr style=\"text-align: right;\">\n",
       "      <th></th>\n",
       "      <th>artist</th>\n",
       "      <th>date</th>\n",
       "      <th>location</th>\n",
       "      <th>city</th>\n",
       "      <th>state_id</th>\n",
       "      <th>lat</th>\n",
       "      <th>lng</th>\n",
       "      <th>comb_city_state</th>\n",
       "    </tr>\n",
       "  </thead>\n",
       "  <tbody>\n",
       "    <tr>\n",
       "      <th>0</th>\n",
       "      <td>2 Chainz</td>\n",
       "      <td>2019-06-30 05:30:00</td>\n",
       "      <td>Las Vegas, NV, US</td>\n",
       "      <td>Las Vegas</td>\n",
       "      <td>NV</td>\n",
       "      <td>36.2291</td>\n",
       "      <td>-115.2607</td>\n",
       "      <td>Las Vegas, NV, US</td>\n",
       "    </tr>\n",
       "    <tr>\n",
       "      <th>1</th>\n",
       "      <td>2 Chainz</td>\n",
       "      <td>2019-08-10 00:00:00</td>\n",
       "      <td>Anaheim, CA, US</td>\n",
       "      <td>Anaheim</td>\n",
       "      <td>CA</td>\n",
       "      <td>33.8390</td>\n",
       "      <td>-117.8572</td>\n",
       "      <td>Anaheim, CA, US</td>\n",
       "    </tr>\n",
       "    <tr>\n",
       "      <th>2</th>\n",
       "      <td>2 Chainz</td>\n",
       "      <td>2019-08-24 22:00:00</td>\n",
       "      <td>Atlanta, GA, US</td>\n",
       "      <td>Atlanta</td>\n",
       "      <td>GA</td>\n",
       "      <td>33.7626</td>\n",
       "      <td>-84.4228</td>\n",
       "      <td>Atlanta, GA, US</td>\n",
       "    </tr>\n",
       "    <tr>\n",
       "      <th>3</th>\n",
       "      <td>2 Chainz</td>\n",
       "      <td>2019-05-27 05:30:00</td>\n",
       "      <td>Las Vegas, NV, US</td>\n",
       "      <td>Las Vegas</td>\n",
       "      <td>NV</td>\n",
       "      <td>36.2291</td>\n",
       "      <td>-115.2607</td>\n",
       "      <td>Las Vegas, NV, US</td>\n",
       "    </tr>\n",
       "    <tr>\n",
       "      <th>4</th>\n",
       "      <td>2 Chainz</td>\n",
       "      <td>2019-05-19 00:00:00</td>\n",
       "      <td>Detroit, MI, US</td>\n",
       "      <td>Detroit</td>\n",
       "      <td>MI</td>\n",
       "      <td>42.3834</td>\n",
       "      <td>-83.1024</td>\n",
       "      <td>Detroit, MI, US</td>\n",
       "    </tr>\n",
       "  </tbody>\n",
       "</table>\n",
       "</div>"
      ],
      "text/plain": [
       "     artist                date           location       city state_id  \\\n",
       "0  2 Chainz 2019-06-30 05:30:00  Las Vegas, NV, US  Las Vegas       NV   \n",
       "1  2 Chainz 2019-08-10 00:00:00    Anaheim, CA, US    Anaheim       CA   \n",
       "2  2 Chainz 2019-08-24 22:00:00    Atlanta, GA, US    Atlanta       GA   \n",
       "3  2 Chainz 2019-05-27 05:30:00  Las Vegas, NV, US  Las Vegas       NV   \n",
       "4  2 Chainz 2019-05-19 00:00:00    Detroit, MI, US    Detroit       MI   \n",
       "\n",
       "       lat       lng    comb_city_state  \n",
       "0  36.2291 -115.2607  Las Vegas, NV, US  \n",
       "1  33.8390 -117.8572    Anaheim, CA, US  \n",
       "2  33.7626  -84.4228    Atlanta, GA, US  \n",
       "3  36.2291 -115.2607  Las Vegas, NV, US  \n",
       "4  42.3834  -83.1024    Detroit, MI, US  "
      ]
     },
     "execution_count": 14,
     "metadata": {},
     "output_type": "execute_result"
    }
   ],
   "source": [
    "combined.head()"
   ]
  },
  {
   "cell_type": "markdown",
   "metadata": {},
   "source": [
    "Confirm shape matches old shape, no DUPs"
   ]
  },
  {
   "cell_type": "code",
   "execution_count": 15,
   "metadata": {},
   "outputs": [
    {
     "data": {
      "text/plain": [
       "True"
      ]
     },
     "execution_count": 15,
     "metadata": {},
     "output_type": "execute_result"
    }
   ],
   "source": [
    "recent_domestic_df.shape[0] == combined.shape[0]"
   ]
  },
  {
   "cell_type": "markdown",
   "metadata": {},
   "source": [
    "Are there any missing values?"
   ]
  },
  {
   "cell_type": "code",
   "execution_count": 16,
   "metadata": {},
   "outputs": [
    {
     "name": "stdout",
     "output_type": "stream",
     "text": [
      "(8642, 8)\n"
     ]
    },
    {
     "data": {
      "text/plain": [
       "artist               0\n",
       "date                 0\n",
       "location             0\n",
       "city               276\n",
       "state_id           276\n",
       "lat                276\n",
       "lng                276\n",
       "comb_city_state    276\n",
       "dtype: int64"
      ]
     },
     "execution_count": 16,
     "metadata": {},
     "output_type": "execute_result"
    }
   ],
   "source": [
    "print(combined.shape)\n",
    "combined.isna().sum()"
   ]
  },
  {
   "cell_type": "markdown",
   "metadata": {},
   "source": [
    "Where is it failing to connect?"
   ]
  },
  {
   "cell_type": "code",
   "execution_count": 17,
   "metadata": {},
   "outputs": [
    {
     "data": {
      "text/html": [
       "<div>\n",
       "<style scoped>\n",
       "    .dataframe tbody tr th:only-of-type {\n",
       "        vertical-align: middle;\n",
       "    }\n",
       "\n",
       "    .dataframe tbody tr th {\n",
       "        vertical-align: top;\n",
       "    }\n",
       "\n",
       "    .dataframe thead th {\n",
       "        text-align: right;\n",
       "    }\n",
       "</style>\n",
       "<table border=\"1\" class=\"dataframe\">\n",
       "  <thead>\n",
       "    <tr style=\"text-align: right;\">\n",
       "      <th></th>\n",
       "      <th>artist</th>\n",
       "      <th>date</th>\n",
       "      <th>location</th>\n",
       "      <th>city</th>\n",
       "      <th>state_id</th>\n",
       "      <th>lat</th>\n",
       "      <th>lng</th>\n",
       "      <th>comb_city_state</th>\n",
       "    </tr>\n",
       "  </thead>\n",
       "  <tbody>\n",
       "    <tr>\n",
       "      <th>56</th>\n",
       "      <td>2 Chainz</td>\n",
       "      <td>2017-09-16 00:00:00</td>\n",
       "      <td>St Petersburg, FL, US</td>\n",
       "      <td>NaN</td>\n",
       "      <td>NaN</td>\n",
       "      <td>NaN</td>\n",
       "      <td>NaN</td>\n",
       "      <td>NaN</td>\n",
       "    </tr>\n",
       "    <tr>\n",
       "      <th>68</th>\n",
       "      <td>2 Chainz</td>\n",
       "      <td>2017-08-30 01:00:00</td>\n",
       "      <td>St Louis, MO, US</td>\n",
       "      <td>NaN</td>\n",
       "      <td>NaN</td>\n",
       "      <td>NaN</td>\n",
       "      <td>NaN</td>\n",
       "      <td>NaN</td>\n",
       "    </tr>\n",
       "    <tr>\n",
       "      <th>71</th>\n",
       "      <td>2 Chainz</td>\n",
       "      <td>2017-08-26 02:30:00</td>\n",
       "      <td>St. Paul, MN, US</td>\n",
       "      <td>NaN</td>\n",
       "      <td>NaN</td>\n",
       "      <td>NaN</td>\n",
       "      <td>NaN</td>\n",
       "      <td>NaN</td>\n",
       "    </tr>\n",
       "    <tr>\n",
       "      <th>86</th>\n",
       "      <td>2 Chainz</td>\n",
       "      <td>2017-04-23 23:00:00</td>\n",
       "      <td>Amherst, MA, US</td>\n",
       "      <td>NaN</td>\n",
       "      <td>NaN</td>\n",
       "      <td>NaN</td>\n",
       "      <td>NaN</td>\n",
       "      <td>NaN</td>\n",
       "    </tr>\n",
       "    <tr>\n",
       "      <th>87</th>\n",
       "      <td>2 Chainz</td>\n",
       "      <td>2017-04-22 19:00:00</td>\n",
       "      <td>Pozo, CA, US</td>\n",
       "      <td>NaN</td>\n",
       "      <td>NaN</td>\n",
       "      <td>NaN</td>\n",
       "      <td>NaN</td>\n",
       "      <td>NaN</td>\n",
       "    </tr>\n",
       "    <tr>\n",
       "      <th>108</th>\n",
       "      <td>21 Savage</td>\n",
       "      <td>2019-07-31 01:00:00</td>\n",
       "      <td>St. Paul, MN, US</td>\n",
       "      <td>NaN</td>\n",
       "      <td>NaN</td>\n",
       "      <td>NaN</td>\n",
       "      <td>NaN</td>\n",
       "      <td>NaN</td>\n",
       "    </tr>\n",
       "    <tr>\n",
       "      <th>147</th>\n",
       "      <td>21 Savage</td>\n",
       "      <td>2018-05-27 00:00:00</td>\n",
       "      <td>Darien Center, NY, US</td>\n",
       "      <td>NaN</td>\n",
       "      <td>NaN</td>\n",
       "      <td>NaN</td>\n",
       "      <td>NaN</td>\n",
       "      <td>NaN</td>\n",
       "    </tr>\n",
       "    <tr>\n",
       "      <th>148</th>\n",
       "      <td>21 Savage</td>\n",
       "      <td>2018-05-24 23:00:00</td>\n",
       "      <td>Mansfield, MA, US</td>\n",
       "      <td>NaN</td>\n",
       "      <td>NaN</td>\n",
       "      <td>NaN</td>\n",
       "      <td>NaN</td>\n",
       "      <td>NaN</td>\n",
       "    </tr>\n",
       "    <tr>\n",
       "      <th>176</th>\n",
       "      <td>21 Savage</td>\n",
       "      <td>2017-12-09 02:00:00</td>\n",
       "      <td>St Louis, MO, US</td>\n",
       "      <td>NaN</td>\n",
       "      <td>NaN</td>\n",
       "      <td>NaN</td>\n",
       "      <td>NaN</td>\n",
       "      <td>NaN</td>\n",
       "    </tr>\n",
       "    <tr>\n",
       "      <th>198</th>\n",
       "      <td>21 Savage</td>\n",
       "      <td>2017-09-15 15:45:00</td>\n",
       "      <td>Flushing, NY, US</td>\n",
       "      <td>NaN</td>\n",
       "      <td>NaN</td>\n",
       "      <td>NaN</td>\n",
       "      <td>NaN</td>\n",
       "      <td>NaN</td>\n",
       "    </tr>\n",
       "    <tr>\n",
       "      <th>208</th>\n",
       "      <td>21 Savage</td>\n",
       "      <td>2017-07-15 23:30:00</td>\n",
       "      <td>St Petersburg, FL, US</td>\n",
       "      <td>NaN</td>\n",
       "      <td>NaN</td>\n",
       "      <td>NaN</td>\n",
       "      <td>NaN</td>\n",
       "      <td>NaN</td>\n",
       "    </tr>\n",
       "    <tr>\n",
       "      <th>212</th>\n",
       "      <td>21 Savage</td>\n",
       "      <td>2017-06-24 23:30:00</td>\n",
       "      <td>St Petersburg, FL, US</td>\n",
       "      <td>NaN</td>\n",
       "      <td>NaN</td>\n",
       "      <td>NaN</td>\n",
       "      <td>NaN</td>\n",
       "      <td>NaN</td>\n",
       "    </tr>\n",
       "    <tr>\n",
       "      <th>259</th>\n",
       "      <td>3 Doors Down</td>\n",
       "      <td>2018-08-10 23:00:00</td>\n",
       "      <td>Gilford, NH, US</td>\n",
       "      <td>NaN</td>\n",
       "      <td>NaN</td>\n",
       "      <td>NaN</td>\n",
       "      <td>NaN</td>\n",
       "      <td>NaN</td>\n",
       "    </tr>\n",
       "    <tr>\n",
       "      <th>410</th>\n",
       "      <td>5 Seconds of Summer</td>\n",
       "      <td>2019-09-29 23:00:00</td>\n",
       "      <td>University Park, PA, US</td>\n",
       "      <td>NaN</td>\n",
       "      <td>NaN</td>\n",
       "      <td>NaN</td>\n",
       "      <td>NaN</td>\n",
       "      <td>NaN</td>\n",
       "    </tr>\n",
       "    <tr>\n",
       "      <th>413</th>\n",
       "      <td>5 Seconds of Summer</td>\n",
       "      <td>2019-10-06 00:00:00</td>\n",
       "      <td>St. Paul, MN, US</td>\n",
       "      <td>NaN</td>\n",
       "      <td>NaN</td>\n",
       "      <td>NaN</td>\n",
       "      <td>NaN</td>\n",
       "      <td>NaN</td>\n",
       "    </tr>\n",
       "    <tr>\n",
       "      <th>430</th>\n",
       "      <td>5 Seconds of Summer</td>\n",
       "      <td>2019-11-09 01:00:00</td>\n",
       "      <td>St Louis, MO, US</td>\n",
       "      <td>NaN</td>\n",
       "      <td>NaN</td>\n",
       "      <td>NaN</td>\n",
       "      <td>NaN</td>\n",
       "      <td>NaN</td>\n",
       "    </tr>\n",
       "    <tr>\n",
       "      <th>448</th>\n",
       "      <td>5 Seconds of Summer</td>\n",
       "      <td>2018-12-04 01:00:00</td>\n",
       "      <td>St. Paul, MN, US</td>\n",
       "      <td>NaN</td>\n",
       "      <td>NaN</td>\n",
       "      <td>NaN</td>\n",
       "      <td>NaN</td>\n",
       "      <td>NaN</td>\n",
       "    </tr>\n",
       "    <tr>\n",
       "      <th>478</th>\n",
       "      <td>5 Seconds of Summer</td>\n",
       "      <td>2018-06-17 00:00:00</td>\n",
       "      <td>Mansfield, MA, US</td>\n",
       "      <td>NaN</td>\n",
       "      <td>NaN</td>\n",
       "      <td>NaN</td>\n",
       "      <td>NaN</td>\n",
       "      <td>NaN</td>\n",
       "    </tr>\n",
       "  </tbody>\n",
       "</table>\n",
       "</div>"
      ],
      "text/plain": [
       "                  artist                date                 location city  \\\n",
       "56              2 Chainz 2017-09-16 00:00:00    St Petersburg, FL, US  NaN   \n",
       "68              2 Chainz 2017-08-30 01:00:00         St Louis, MO, US  NaN   \n",
       "71              2 Chainz 2017-08-26 02:30:00         St. Paul, MN, US  NaN   \n",
       "86              2 Chainz 2017-04-23 23:00:00          Amherst, MA, US  NaN   \n",
       "87              2 Chainz 2017-04-22 19:00:00             Pozo, CA, US  NaN   \n",
       "108            21 Savage 2019-07-31 01:00:00         St. Paul, MN, US  NaN   \n",
       "147            21 Savage 2018-05-27 00:00:00    Darien Center, NY, US  NaN   \n",
       "148            21 Savage 2018-05-24 23:00:00        Mansfield, MA, US  NaN   \n",
       "176            21 Savage 2017-12-09 02:00:00         St Louis, MO, US  NaN   \n",
       "198            21 Savage 2017-09-15 15:45:00         Flushing, NY, US  NaN   \n",
       "208            21 Savage 2017-07-15 23:30:00    St Petersburg, FL, US  NaN   \n",
       "212            21 Savage 2017-06-24 23:30:00    St Petersburg, FL, US  NaN   \n",
       "259         3 Doors Down 2018-08-10 23:00:00          Gilford, NH, US  NaN   \n",
       "410  5 Seconds of Summer 2019-09-29 23:00:00  University Park, PA, US  NaN   \n",
       "413  5 Seconds of Summer 2019-10-06 00:00:00         St. Paul, MN, US  NaN   \n",
       "430  5 Seconds of Summer 2019-11-09 01:00:00         St Louis, MO, US  NaN   \n",
       "448  5 Seconds of Summer 2018-12-04 01:00:00         St. Paul, MN, US  NaN   \n",
       "478  5 Seconds of Summer 2018-06-17 00:00:00        Mansfield, MA, US  NaN   \n",
       "\n",
       "    state_id  lat  lng comb_city_state  \n",
       "56       NaN  NaN  NaN             NaN  \n",
       "68       NaN  NaN  NaN             NaN  \n",
       "71       NaN  NaN  NaN             NaN  \n",
       "86       NaN  NaN  NaN             NaN  \n",
       "87       NaN  NaN  NaN             NaN  \n",
       "108      NaN  NaN  NaN             NaN  \n",
       "147      NaN  NaN  NaN             NaN  \n",
       "148      NaN  NaN  NaN             NaN  \n",
       "176      NaN  NaN  NaN             NaN  \n",
       "198      NaN  NaN  NaN             NaN  \n",
       "208      NaN  NaN  NaN             NaN  \n",
       "212      NaN  NaN  NaN             NaN  \n",
       "259      NaN  NaN  NaN             NaN  \n",
       "410      NaN  NaN  NaN             NaN  \n",
       "413      NaN  NaN  NaN             NaN  \n",
       "430      NaN  NaN  NaN             NaN  \n",
       "448      NaN  NaN  NaN             NaN  \n",
       "478      NaN  NaN  NaN             NaN  "
      ]
     },
     "execution_count": 17,
     "metadata": {},
     "output_type": "execute_result"
    }
   ],
   "source": [
    "combined[combined['city'].isna()][:18]"
   ]
  },
  {
   "cell_type": "markdown",
   "metadata": {},
   "source": [
    "Won't get to all of these but probably can fix the 'saint's.  \n",
    "How are they spelled in the csv?"
   ]
  },
  {
   "cell_type": "code",
   "execution_count": 18,
   "metadata": {},
   "outputs": [
    {
     "data": {
      "text/html": [
       "<div>\n",
       "<style scoped>\n",
       "    .dataframe tbody tr th:only-of-type {\n",
       "        vertical-align: middle;\n",
       "    }\n",
       "\n",
       "    .dataframe tbody tr th {\n",
       "        vertical-align: top;\n",
       "    }\n",
       "\n",
       "    .dataframe thead th {\n",
       "        text-align: right;\n",
       "    }\n",
       "</style>\n",
       "<table border=\"1\" class=\"dataframe\">\n",
       "  <thead>\n",
       "    <tr style=\"text-align: right;\">\n",
       "      <th></th>\n",
       "      <th>city</th>\n",
       "      <th>state_id</th>\n",
       "      <th>lat</th>\n",
       "      <th>lng</th>\n",
       "      <th>comb_city_state</th>\n",
       "    </tr>\n",
       "  </thead>\n",
       "  <tbody>\n",
       "    <tr>\n",
       "      <th>657</th>\n",
       "      <td>Saint John</td>\n",
       "      <td>WA</td>\n",
       "      <td>47.0915</td>\n",
       "      <td>-117.5887</td>\n",
       "      <td>Saint John, WA, US</td>\n",
       "    </tr>\n",
       "    <tr>\n",
       "      <th>1232</th>\n",
       "      <td>Saint Charles</td>\n",
       "      <td>VA</td>\n",
       "      <td>36.8052</td>\n",
       "      <td>-83.0575</td>\n",
       "      <td>Saint Charles, VA, US</td>\n",
       "    </tr>\n",
       "    <tr>\n",
       "      <th>1592</th>\n",
       "      <td>Saint Paul</td>\n",
       "      <td>VA</td>\n",
       "      <td>36.9069</td>\n",
       "      <td>-82.3164</td>\n",
       "      <td>Saint Paul, VA, US</td>\n",
       "    </tr>\n",
       "  </tbody>\n",
       "</table>\n",
       "</div>"
      ],
      "text/plain": [
       "               city state_id      lat       lng        comb_city_state\n",
       "657      Saint John       WA  47.0915 -117.5887     Saint John, WA, US\n",
       "1232  Saint Charles       VA  36.8052  -83.0575  Saint Charles, VA, US\n",
       "1592     Saint Paul       VA  36.9069  -82.3164     Saint Paul, VA, US"
      ]
     },
     "execution_count": 18,
     "metadata": {},
     "output_type": "execute_result"
    }
   ],
   "source": [
    "cities_df[cities_df['city'].str.contains('Saint ')][:3]"
   ]
  },
  {
   "cell_type": "code",
   "execution_count": 19,
   "metadata": {},
   "outputs": [
    {
     "name": "stdout",
     "output_type": "stream",
     "text": [
      "(249, 5)\n",
      "(1, 5)\n",
      "(0, 5)\n"
     ]
    }
   ],
   "source": [
    "print(cities_df[cities_df['comb_city_state'].str.contains('Saint ')].shape)\n",
    "print(cities_df[cities_df['comb_city_state'].str.contains('St. ')].shape)\n",
    "print(cities_df[cities_df['comb_city_state'].str.contains('St ')].shape)"
   ]
  },
  {
   "cell_type": "code",
   "execution_count": 20,
   "metadata": {},
   "outputs": [
    {
     "data": {
      "text/html": [
       "<div>\n",
       "<style scoped>\n",
       "    .dataframe tbody tr th:only-of-type {\n",
       "        vertical-align: middle;\n",
       "    }\n",
       "\n",
       "    .dataframe tbody tr th {\n",
       "        vertical-align: top;\n",
       "    }\n",
       "\n",
       "    .dataframe thead th {\n",
       "        text-align: right;\n",
       "    }\n",
       "</style>\n",
       "<table border=\"1\" class=\"dataframe\">\n",
       "  <thead>\n",
       "    <tr style=\"text-align: right;\">\n",
       "      <th></th>\n",
       "      <th>city</th>\n",
       "      <th>state_id</th>\n",
       "      <th>lat</th>\n",
       "      <th>lng</th>\n",
       "      <th>comb_city_state</th>\n",
       "    </tr>\n",
       "  </thead>\n",
       "  <tbody>\n",
       "    <tr>\n",
       "      <th>33971</th>\n",
       "      <td>St. John</td>\n",
       "      <td>KS</td>\n",
       "      <td>38.0</td>\n",
       "      <td>-98.7611</td>\n",
       "      <td>St. John, KS, US</td>\n",
       "    </tr>\n",
       "  </tbody>\n",
       "</table>\n",
       "</div>"
      ],
      "text/plain": [
       "           city state_id   lat      lng   comb_city_state\n",
       "33971  St. John       KS  38.0 -98.7611  St. John, KS, US"
      ]
     },
     "execution_count": 20,
     "metadata": {},
     "output_type": "execute_result"
    }
   ],
   "source": [
    "cities_df[cities_df['city'].str.contains('St. ')]"
   ]
  },
  {
   "cell_type": "markdown",
   "metadata": {},
   "source": [
    "In the census csv, almost all the cities with 'Saint' in the name have it spelled out, not abbreviated ('St' or 'St.')  \n",
    "Lets adjust the St John from the csv and then regularize these in our concert data"
   ]
  },
  {
   "cell_type": "code",
   "execution_count": 21,
   "metadata": {},
   "outputs": [],
   "source": [
    "# Regularize cities csv \"St. John Kansas\"\n",
    "cities_df.loc[:,'comb_city_state'] = cities_df['comb_city_state'].str.replace('St. ', 'Saint ')"
   ]
  },
  {
   "cell_type": "code",
   "execution_count": 22,
   "metadata": {},
   "outputs": [
    {
     "data": {
      "text/html": [
       "<div>\n",
       "<style scoped>\n",
       "    .dataframe tbody tr th:only-of-type {\n",
       "        vertical-align: middle;\n",
       "    }\n",
       "\n",
       "    .dataframe tbody tr th {\n",
       "        vertical-align: top;\n",
       "    }\n",
       "\n",
       "    .dataframe thead th {\n",
       "        text-align: right;\n",
       "    }\n",
       "</style>\n",
       "<table border=\"1\" class=\"dataframe\">\n",
       "  <thead>\n",
       "    <tr style=\"text-align: right;\">\n",
       "      <th></th>\n",
       "      <th>city</th>\n",
       "      <th>state_id</th>\n",
       "      <th>lat</th>\n",
       "      <th>lng</th>\n",
       "      <th>comb_city_state</th>\n",
       "    </tr>\n",
       "  </thead>\n",
       "  <tbody>\n",
       "  </tbody>\n",
       "</table>\n",
       "</div>"
      ],
      "text/plain": [
       "Empty DataFrame\n",
       "Columns: [city, state_id, lat, lng, comb_city_state]\n",
       "Index: []"
      ]
     },
     "execution_count": 22,
     "metadata": {},
     "output_type": "execute_result"
    }
   ],
   "source": [
    "cities_df[cities_df['comb_city_state'].str.contains('St. ')]"
   ]
  },
  {
   "cell_type": "code",
   "execution_count": 23,
   "metadata": {},
   "outputs": [
    {
     "name": "stdout",
     "output_type": "stream",
     "text": [
      "(20, 3)\n",
      "(58, 3)\n",
      "(73, 3)\n"
     ]
    }
   ],
   "source": [
    "print(recent_domestic_df[recent_domestic_df['location'].str.contains('Saint ')].shape)\n",
    "print(recent_domestic_df[recent_domestic_df['location'].str.contains('St. ')].shape)\n",
    "print(recent_domestic_df[recent_domestic_df['location'].str.contains('St ')].shape)"
   ]
  },
  {
   "cell_type": "code",
   "execution_count": 24,
   "metadata": {},
   "outputs": [],
   "source": [
    "recent_domestic_df.loc[:, 'location'] = recent_domestic_df['location'].str.replace('St. ', 'St ')\n",
    "recent_domestic_df.loc[:, 'location'] = recent_domestic_df['location'].str.replace('St ', 'Saint ')"
   ]
  },
  {
   "cell_type": "code",
   "execution_count": 25,
   "metadata": {},
   "outputs": [
    {
     "data": {
      "text/html": [
       "<div>\n",
       "<style scoped>\n",
       "    .dataframe tbody tr th:only-of-type {\n",
       "        vertical-align: middle;\n",
       "    }\n",
       "\n",
       "    .dataframe tbody tr th {\n",
       "        vertical-align: top;\n",
       "    }\n",
       "\n",
       "    .dataframe thead th {\n",
       "        text-align: right;\n",
       "    }\n",
       "</style>\n",
       "<table border=\"1\" class=\"dataframe\">\n",
       "  <thead>\n",
       "    <tr style=\"text-align: right;\">\n",
       "      <th></th>\n",
       "      <th>artist</th>\n",
       "      <th>date</th>\n",
       "      <th>location</th>\n",
       "    </tr>\n",
       "  </thead>\n",
       "  <tbody>\n",
       "  </tbody>\n",
       "</table>\n",
       "</div>"
      ],
      "text/plain": [
       "Empty DataFrame\n",
       "Columns: [artist, date, location]\n",
       "Index: []"
      ]
     },
     "metadata": {},
     "output_type": "display_data"
    },
    {
     "data": {
      "text/html": [
       "<div>\n",
       "<style scoped>\n",
       "    .dataframe tbody tr th:only-of-type {\n",
       "        vertical-align: middle;\n",
       "    }\n",
       "\n",
       "    .dataframe tbody tr th {\n",
       "        vertical-align: top;\n",
       "    }\n",
       "\n",
       "    .dataframe thead th {\n",
       "        text-align: right;\n",
       "    }\n",
       "</style>\n",
       "<table border=\"1\" class=\"dataframe\">\n",
       "  <thead>\n",
       "    <tr style=\"text-align: right;\">\n",
       "      <th></th>\n",
       "      <th>artist</th>\n",
       "      <th>date</th>\n",
       "      <th>location</th>\n",
       "    </tr>\n",
       "  </thead>\n",
       "  <tbody>\n",
       "  </tbody>\n",
       "</table>\n",
       "</div>"
      ],
      "text/plain": [
       "Empty DataFrame\n",
       "Columns: [artist, date, location]\n",
       "Index: []"
      ]
     },
     "metadata": {},
     "output_type": "display_data"
    }
   ],
   "source": [
    "display(recent_domestic_df[recent_domestic_df['location'].str.contains('St. ')])\n",
    "display(recent_domestic_df[recent_domestic_df['location'].str.contains('St ')])"
   ]
  },
  {
   "cell_type": "code",
   "execution_count": 26,
   "metadata": {},
   "outputs": [],
   "source": [
    "combined = pd.merge(left=recent_domestic_df, right=cities_df,\n",
    "             left_on='location', right_on='comb_city_state', how='left')"
   ]
  },
  {
   "cell_type": "code",
   "execution_count": 27,
   "metadata": {},
   "outputs": [
    {
     "name": "stdout",
     "output_type": "stream",
     "text": [
      "(8642, 8)\n"
     ]
    },
    {
     "data": {
      "text/plain": [
       "artist               0\n",
       "date                 0\n",
       "location             0\n",
       "city               145\n",
       "state_id           145\n",
       "lat                145\n",
       "lng                145\n",
       "comb_city_state    145\n",
       "dtype: int64"
      ]
     },
     "execution_count": 27,
     "metadata": {},
     "output_type": "execute_result"
    }
   ],
   "source": [
    "print(combined.shape)\n",
    "combined.isna().sum()"
   ]
  },
  {
   "cell_type": "code",
   "execution_count": 28,
   "metadata": {},
   "outputs": [
    {
     "name": "stdout",
     "output_type": "stream",
     "text": [
      "145 out of 8787, or 0.98%... Not bad\n"
     ]
    }
   ],
   "source": [
    "n = 145\n",
    "N = 8642 + 145\n",
    "print(f'{n} out of {N}, or {1- round(n/N,2)}%... Not bad')"
   ]
  },
  {
   "cell_type": "code",
   "execution_count": 29,
   "metadata": {},
   "outputs": [],
   "source": [
    "combined.dropna(inplace=True)   # Getting rid of those nan's"
   ]
  },
  {
   "cell_type": "code",
   "execution_count": 30,
   "metadata": {},
   "outputs": [
    {
     "data": {
      "text/html": [
       "<div>\n",
       "<style scoped>\n",
       "    .dataframe tbody tr th:only-of-type {\n",
       "        vertical-align: middle;\n",
       "    }\n",
       "\n",
       "    .dataframe tbody tr th {\n",
       "        vertical-align: top;\n",
       "    }\n",
       "\n",
       "    .dataframe thead th {\n",
       "        text-align: right;\n",
       "    }\n",
       "</style>\n",
       "<table border=\"1\" class=\"dataframe\">\n",
       "  <thead>\n",
       "    <tr style=\"text-align: right;\">\n",
       "      <th></th>\n",
       "      <th>artist</th>\n",
       "      <th>date</th>\n",
       "      <th>location</th>\n",
       "      <th>city</th>\n",
       "      <th>state_id</th>\n",
       "      <th>lat</th>\n",
       "      <th>lng</th>\n",
       "      <th>comb_city_state</th>\n",
       "    </tr>\n",
       "  </thead>\n",
       "  <tbody>\n",
       "    <tr>\n",
       "      <th>0</th>\n",
       "      <td>2 Chainz</td>\n",
       "      <td>2019-06-30 05:30:00</td>\n",
       "      <td>Las Vegas, NV, US</td>\n",
       "      <td>Las Vegas</td>\n",
       "      <td>NV</td>\n",
       "      <td>36.2291</td>\n",
       "      <td>-115.2607</td>\n",
       "      <td>Las Vegas, NV, US</td>\n",
       "    </tr>\n",
       "    <tr>\n",
       "      <th>1</th>\n",
       "      <td>2 Chainz</td>\n",
       "      <td>2019-08-10 00:00:00</td>\n",
       "      <td>Anaheim, CA, US</td>\n",
       "      <td>Anaheim</td>\n",
       "      <td>CA</td>\n",
       "      <td>33.8390</td>\n",
       "      <td>-117.8572</td>\n",
       "      <td>Anaheim, CA, US</td>\n",
       "    </tr>\n",
       "    <tr>\n",
       "      <th>2</th>\n",
       "      <td>2 Chainz</td>\n",
       "      <td>2019-08-24 22:00:00</td>\n",
       "      <td>Atlanta, GA, US</td>\n",
       "      <td>Atlanta</td>\n",
       "      <td>GA</td>\n",
       "      <td>33.7626</td>\n",
       "      <td>-84.4228</td>\n",
       "      <td>Atlanta, GA, US</td>\n",
       "    </tr>\n",
       "    <tr>\n",
       "      <th>3</th>\n",
       "      <td>2 Chainz</td>\n",
       "      <td>2019-05-27 05:30:00</td>\n",
       "      <td>Las Vegas, NV, US</td>\n",
       "      <td>Las Vegas</td>\n",
       "      <td>NV</td>\n",
       "      <td>36.2291</td>\n",
       "      <td>-115.2607</td>\n",
       "      <td>Las Vegas, NV, US</td>\n",
       "    </tr>\n",
       "    <tr>\n",
       "      <th>4</th>\n",
       "      <td>2 Chainz</td>\n",
       "      <td>2019-05-19 00:00:00</td>\n",
       "      <td>Detroit, MI, US</td>\n",
       "      <td>Detroit</td>\n",
       "      <td>MI</td>\n",
       "      <td>42.3834</td>\n",
       "      <td>-83.1024</td>\n",
       "      <td>Detroit, MI, US</td>\n",
       "    </tr>\n",
       "  </tbody>\n",
       "</table>\n",
       "</div>"
      ],
      "text/plain": [
       "     artist                date           location       city state_id  \\\n",
       "0  2 Chainz 2019-06-30 05:30:00  Las Vegas, NV, US  Las Vegas       NV   \n",
       "1  2 Chainz 2019-08-10 00:00:00    Anaheim, CA, US    Anaheim       CA   \n",
       "2  2 Chainz 2019-08-24 22:00:00    Atlanta, GA, US    Atlanta       GA   \n",
       "3  2 Chainz 2019-05-27 05:30:00  Las Vegas, NV, US  Las Vegas       NV   \n",
       "4  2 Chainz 2019-05-19 00:00:00    Detroit, MI, US    Detroit       MI   \n",
       "\n",
       "       lat       lng    comb_city_state  \n",
       "0  36.2291 -115.2607  Las Vegas, NV, US  \n",
       "1  33.8390 -117.8572    Anaheim, CA, US  \n",
       "2  33.7626  -84.4228    Atlanta, GA, US  \n",
       "3  36.2291 -115.2607  Las Vegas, NV, US  \n",
       "4  42.3834  -83.1024    Detroit, MI, US  "
      ]
     },
     "execution_count": 30,
     "metadata": {},
     "output_type": "execute_result"
    }
   ],
   "source": [
    "combined.head()"
   ]
  },
  {
   "cell_type": "code",
   "execution_count": 31,
   "metadata": {},
   "outputs": [],
   "source": [
    "combined['comb_lat_long'] = combined.lat.astype(str) + ', ' + combined.lng.astype(str)\n",
    "# combined['comb_lat_long'] = combined['comb_lat_long'].str.split(', ')"
   ]
  },
  {
   "cell_type": "code",
   "execution_count": 32,
   "metadata": {},
   "outputs": [
    {
     "data": {
      "text/html": [
       "<div>\n",
       "<style scoped>\n",
       "    .dataframe tbody tr th:only-of-type {\n",
       "        vertical-align: middle;\n",
       "    }\n",
       "\n",
       "    .dataframe tbody tr th {\n",
       "        vertical-align: top;\n",
       "    }\n",
       "\n",
       "    .dataframe thead th {\n",
       "        text-align: right;\n",
       "    }\n",
       "</style>\n",
       "<table border=\"1\" class=\"dataframe\">\n",
       "  <thead>\n",
       "    <tr style=\"text-align: right;\">\n",
       "      <th></th>\n",
       "      <th>artist</th>\n",
       "      <th>date</th>\n",
       "      <th>location</th>\n",
       "      <th>city</th>\n",
       "      <th>state_id</th>\n",
       "      <th>lat</th>\n",
       "      <th>lng</th>\n",
       "      <th>comb_city_state</th>\n",
       "      <th>comb_lat_long</th>\n",
       "    </tr>\n",
       "  </thead>\n",
       "  <tbody>\n",
       "    <tr>\n",
       "      <th>0</th>\n",
       "      <td>2 Chainz</td>\n",
       "      <td>2019-06-30 05:30:00</td>\n",
       "      <td>Las Vegas, NV, US</td>\n",
       "      <td>Las Vegas</td>\n",
       "      <td>NV</td>\n",
       "      <td>36.2291</td>\n",
       "      <td>-115.2607</td>\n",
       "      <td>Las Vegas, NV, US</td>\n",
       "      <td>36.2291, -115.2607</td>\n",
       "    </tr>\n",
       "    <tr>\n",
       "      <th>1</th>\n",
       "      <td>2 Chainz</td>\n",
       "      <td>2019-08-10 00:00:00</td>\n",
       "      <td>Anaheim, CA, US</td>\n",
       "      <td>Anaheim</td>\n",
       "      <td>CA</td>\n",
       "      <td>33.8390</td>\n",
       "      <td>-117.8572</td>\n",
       "      <td>Anaheim, CA, US</td>\n",
       "      <td>33.839, -117.8572</td>\n",
       "    </tr>\n",
       "    <tr>\n",
       "      <th>2</th>\n",
       "      <td>2 Chainz</td>\n",
       "      <td>2019-08-24 22:00:00</td>\n",
       "      <td>Atlanta, GA, US</td>\n",
       "      <td>Atlanta</td>\n",
       "      <td>GA</td>\n",
       "      <td>33.7626</td>\n",
       "      <td>-84.4228</td>\n",
       "      <td>Atlanta, GA, US</td>\n",
       "      <td>33.7626, -84.4228</td>\n",
       "    </tr>\n",
       "    <tr>\n",
       "      <th>3</th>\n",
       "      <td>2 Chainz</td>\n",
       "      <td>2019-05-27 05:30:00</td>\n",
       "      <td>Las Vegas, NV, US</td>\n",
       "      <td>Las Vegas</td>\n",
       "      <td>NV</td>\n",
       "      <td>36.2291</td>\n",
       "      <td>-115.2607</td>\n",
       "      <td>Las Vegas, NV, US</td>\n",
       "      <td>36.2291, -115.2607</td>\n",
       "    </tr>\n",
       "    <tr>\n",
       "      <th>4</th>\n",
       "      <td>2 Chainz</td>\n",
       "      <td>2019-05-19 00:00:00</td>\n",
       "      <td>Detroit, MI, US</td>\n",
       "      <td>Detroit</td>\n",
       "      <td>MI</td>\n",
       "      <td>42.3834</td>\n",
       "      <td>-83.1024</td>\n",
       "      <td>Detroit, MI, US</td>\n",
       "      <td>42.3834, -83.1024</td>\n",
       "    </tr>\n",
       "  </tbody>\n",
       "</table>\n",
       "</div>"
      ],
      "text/plain": [
       "     artist                date           location       city state_id  \\\n",
       "0  2 Chainz 2019-06-30 05:30:00  Las Vegas, NV, US  Las Vegas       NV   \n",
       "1  2 Chainz 2019-08-10 00:00:00    Anaheim, CA, US    Anaheim       CA   \n",
       "2  2 Chainz 2019-08-24 22:00:00    Atlanta, GA, US    Atlanta       GA   \n",
       "3  2 Chainz 2019-05-27 05:30:00  Las Vegas, NV, US  Las Vegas       NV   \n",
       "4  2 Chainz 2019-05-19 00:00:00    Detroit, MI, US    Detroit       MI   \n",
       "\n",
       "       lat       lng    comb_city_state       comb_lat_long  \n",
       "0  36.2291 -115.2607  Las Vegas, NV, US  36.2291, -115.2607  \n",
       "1  33.8390 -117.8572    Anaheim, CA, US   33.839, -117.8572  \n",
       "2  33.7626  -84.4228    Atlanta, GA, US   33.7626, -84.4228  \n",
       "3  36.2291 -115.2607  Las Vegas, NV, US  36.2291, -115.2607  \n",
       "4  42.3834  -83.1024    Detroit, MI, US   42.3834, -83.1024  "
      ]
     },
     "execution_count": 32,
     "metadata": {},
     "output_type": "execute_result"
    }
   ],
   "source": [
    "combined.head()"
   ]
  },
  {
   "cell_type": "markdown",
   "metadata": {},
   "source": [
    "### Can we iterate over two artists?"
   ]
  },
  {
   "cell_type": "code",
   "execution_count": 43,
   "metadata": {},
   "outputs": [],
   "source": [
    "from sklearn.neighbors import  NearestNeighbors"
   ]
  },
  {
   "cell_type": "code",
   "execution_count": 146,
   "metadata": {},
   "outputs": [
    {
     "data": {
      "text/plain": [
       "location    Cincinnati, OH, US\n",
       "lat                    39.1412\n",
       "lng                   -84.5059\n",
       "Name: 62, dtype: object"
      ]
     },
     "execution_count": 146,
     "metadata": {},
     "output_type": "execute_result"
    }
   ],
   "source": [
    "artist_df.loc[62]"
   ]
  },
  {
   "cell_type": "code",
   "execution_count": 207,
   "metadata": {},
   "outputs": [
    {
     "data": {
      "text/plain": [
       "'3 Doors Down'"
      ]
     },
     "execution_count": 207,
     "metadata": {},
     "output_type": "execute_result"
    }
   ],
   "source": [
    "artists = combined['artist'].unique()\n",
    "artists"
   ]
  },
  {
   "cell_type": "code",
   "execution_count": 209,
   "metadata": {},
   "outputs": [
    {
     "name": "stdout",
     "output_type": "stream",
     "text": [
      "main:  5 Seconds of Summer\n",
      "sim:  6LACK\n"
     ]
    }
   ],
   "source": [
    "main_artist = artists[4]\n",
    "sim_artist = artists[6]\n",
    "print('main: ', main_artist)\n",
    "print('sim: ', sim_artists)"
   ]
  },
  {
   "cell_type": "code",
   "execution_count": 237,
   "metadata": {},
   "outputs": [
    {
     "name": "stdout",
     "output_type": "stream",
     "text": [
      "(59, 3)\n"
     ]
    },
    {
     "data": {
      "text/plain": [
       "(             location      lat      lng\n",
       " 0  Cincinnati, OH, US  39.1412 -84.5059\n",
       " 1      Boston, MA, US  42.3188 -71.0846,\n",
       "                  location      lat      lng\n",
       " 57  Silver Spring, MD, US  39.0028 -77.0207\n",
       " 58  The Woodlands, TX, US  30.1738 -95.5134)"
      ]
     },
     "execution_count": 237,
     "metadata": {},
     "output_type": "execute_result"
    }
   ],
   "source": [
    "main_artist_df = combined.loc[combined['artist']==main_artist,\n",
    "                              ['location', 'lat', 'lng']]\n",
    "main_artist_df.drop_duplicates(subset='location', inplace=True)\n",
    "main_artist_df.reset_index(drop=True, inplace=True)    \n",
    "                                                                        # concerts dataframe for main artist\n",
    "print(main_artist_df.shape)\n",
    "main_artist_df.head(2), main_artist_df.tail(2)"
   ]
  },
  {
   "cell_type": "code",
   "execution_count": 238,
   "metadata": {},
   "outputs": [],
   "source": [
    "main_artist_places = main_artist_df['location'].unique()       \n",
    "                                    # These are the unique string locations eg. 'Manhattan, NY, US'\n",
    "# main_artist_places"
   ]
  },
  {
   "cell_type": "code",
   "execution_count": 265,
   "metadata": {},
   "outputs": [
    {
     "data": {
      "text/plain": [
       "NearestNeighbors(algorithm='auto', leaf_size=30, metric='minkowski',\n",
       "                 metric_params=None, n_jobs=-1, n_neighbors=1, p=2, radius=1)"
      ]
     },
     "execution_count": 265,
     "metadata": {},
     "output_type": "execute_result"
    }
   ],
   "source": [
    "nn = NearestNeighbors(n_neighbors=1, radius=1, n_jobs=-1,)     \n",
    "nn.fit(main_artist_df[['lat', 'lng']],)                                  # Train nn to remember 2chainz lat longs"
   ]
  },
  {
   "cell_type": "code",
   "execution_count": 266,
   "metadata": {},
   "outputs": [],
   "source": [
    "sim_artists_places = combined.loc[combined['artist']==sim_artist,'location'].unique()\n",
    "# sim_artists_places"
   ]
  },
  {
   "cell_type": "code",
   "execution_count": 278,
   "metadata": {},
   "outputs": [
    {
     "name": "stdout",
     "output_type": "stream",
     "text": [
      "None\n",
      "Memphis, TN, US \n",
      "         lat      lng\n",
      "85  35.1047 -89.9773\n",
      "               location      lat      lng\n",
      "11    Nashville, TN, US  36.1714 -86.7844\n",
      "22  Saint Louis, MO, US  38.6358 -90.2451\n",
      "45       Rogers, AR, US  36.3173 -94.1514\n",
      "16  New Orleans, LA, US  30.0687 -89.9288\n",
      "20   Louisville, KY, US  38.1662 -85.6488\n",
      "[[3.36637183 3.54124047 4.34666649 5.03623354 5.30176334]] [[11 22 45 16 20]] \n",
      "\n",
      "\n",
      "None\n",
      "Huntington, WV, US \n",
      "          lat      lng\n",
      "595  38.4109 -82.4344\n",
      "              location      lat      lng\n",
      "8     Columbus, OH, US  39.9860 -82.9852\n",
      "0   Cincinnati, OH, US  39.1412 -84.5059\n",
      "6   Pittsburgh, PA, US  40.4396 -79.9763\n",
      "20  Louisville, KY, US  38.1662 -85.6488\n",
      "47   Charlotte, NC, US  35.2079 -80.8303\n",
      "[[1.66862837 2.19646314 3.18714281 3.22370058 3.58222638]] [[ 8  0  6 20 47]] \n",
      "\n",
      "\n",
      "None\n",
      "Landover, MD, US \n",
      "          lat      lng\n",
      "596  38.9241 -76.8875\n",
      "                 location      lat      lng\n",
      "9      Washington, DC, US  38.9047 -77.0163\n",
      "57  Silver Spring, MD, US  39.0028 -77.0207\n",
      "53         Vienna, VA, US  38.8996 -77.2597\n",
      "49           York, PA, US  39.9651 -76.7315\n",
      "39   Philadelphia, PA, US  40.0076 -75.1340\n",
      "[[0.13025283 0.15471241 0.37300548 1.05262386 2.06124586]] [[ 9 57 53 49 39]] \n",
      "\n",
      "\n",
      "None\n",
      "Chapel Hill, NC, US \n",
      "          lat     lng\n",
      "597  35.9269 -79.039\n",
      "                  location      lat      lng\n",
      "47       Charlotte, NC, US  35.2079 -80.8303\n",
      "54  Virginia Beach, VA, US  36.7335 -76.0435\n",
      "53          Vienna, VA, US  38.8996 -77.2597\n",
      "9       Washington, DC, US  38.9047 -77.0163\n",
      "57   Silver Spring, MD, US  39.0028 -77.0207\n",
      "[[1.93021157 3.10219661 3.4645135  3.59980668 3.67895307]] [[47 54 53  9 57]] \n",
      "\n",
      "\n",
      "None\n",
      "Raleigh, NC, US \n",
      "         lat      lng\n",
      "44  35.8323 -78.6439\n",
      "                  location      lat      lng\n",
      "47       Charlotte, NC, US  35.2079 -80.8303\n",
      "54  Virginia Beach, VA, US  36.7335 -76.0435\n",
      "53          Vienna, VA, US  38.8996 -77.2597\n",
      "9       Washington, DC, US  38.9047 -77.0163\n",
      "57   Silver Spring, MD, US  39.0028 -77.0207\n",
      "[[2.27381185 2.75213401 3.36516551 3.47688417 3.56186026]] [[47 54 53  9 57]] \n",
      "\n",
      "\n",
      "None\n",
      "West Hollywood, CA, US \n",
      "          lat       lng\n",
      "210  34.0883 -118.3719\n",
      "               location      lat       lng\n",
      "40  Los Angeles, CA, US  34.1139 -118.4068\n",
      "32    Inglewood, CA, US  33.9566 -118.3444\n",
      "38       Carson, CA, US  33.8374 -118.2559\n",
      "31    San Diego, CA, US  32.8312 -117.1226\n",
      "46    Las Vegas, NV, US  36.2291 -115.2607\n",
      "[[0.04328244 0.13454048 0.27641782 1.77230102 3.77658445]] [[40 32 38 31 46]] \n",
      "\n",
      "\n"
     ]
    }
   ],
   "source": [
    "for place in sim_artists_places[:10]:                                                     # Iterate through 21 Savages unique cities\n",
    "    if place not in main_artist_places:                                               # If town 2Chanz hasn't played there\n",
    "                                                                                             # Get the lat lng and assign it to var\n",
    "        place_latlong = combined.loc[combined['location']==place, ['lat', 'lng']] # keep it 2D array\n",
    "        place_latlong.drop_duplicates(inplace=True)                                                                 # for nn to predict on \n",
    "        print(place, '\\n', place_latlong)\n",
    "\n",
    "\n",
    "        distances, indices = nn.kneighbors(place_latlong, n_neighbors=5)\n",
    "        for idx in indices:\n",
    "            print(main_artist_df.loc[idx])\n",
    "        print(distances, indices, '\\n\\n')\n",
    "#         nn_distance, nn_index = distances[0][0], indices[0][0]\n",
    "# #         print(nn_index)\n",
    "# #         print(main_artist_df.reset_index(drop=True))\n",
    "#         neighbor = main_artist_df.loc[nn_index]\n",
    "        \n",
    "#         print('\\t-', place in main_artist_places, '-')\n",
    "#         print('_Place_ : ', place)\n",
    "#         print('_Place_latlong_ : ', place_latlong, '\\n')\n",
    "#         print('dist_to_nn: ', round(nn_distance, 4))\n",
    "        \n",
    "# #         print('nn_idx: ', nn_index)\n",
    "#         print(neighbor.values)\n",
    "#         print('\\n')"
   ]
  },
  {
   "cell_type": "code",
   "execution_count": 279,
   "metadata": {},
   "outputs": [
    {
     "name": "stdout",
     "output_type": "stream",
     "text": [
      "\t- False -\n",
      "_Place_ :  Memphis, TN, US\n",
      "_Place_latlong_ :  [[ 35.1047 -89.9773]] \n",
      "\n",
      "dist_to_nn:  3.3664\n",
      "['Nashville, TN, US' 36.1714 -86.7844]\n",
      "\n",
      "\n",
      "\t- False -\n",
      "_Place_ :  Huntington, WV, US\n",
      "_Place_latlong_ :  [[ 38.4109 -82.4344]] \n",
      "\n",
      "dist_to_nn:  1.6686\n",
      "['Columbus, OH, US' 39.986 -82.9852]\n",
      "\n",
      "\n",
      "\t- False -\n",
      "_Place_ :  Landover, MD, US\n",
      "_Place_latlong_ :  [[ 38.9241 -76.8875]] \n",
      "\n",
      "dist_to_nn:  0.1303\n",
      "['Washington, DC, US' 38.9047 -77.0163]\n",
      "\n",
      "\n",
      "\t- False -\n",
      "_Place_ :  Chapel Hill, NC, US\n",
      "_Place_latlong_ :  [[ 35.9269 -79.039 ]] \n",
      "\n",
      "dist_to_nn:  1.9302\n",
      "['Charlotte, NC, US' 35.2079 -80.8303]\n",
      "\n",
      "\n",
      "\t- False -\n",
      "_Place_ :  Raleigh, NC, US\n",
      "_Place_latlong_ :  [[ 35.8323 -78.6439]] \n",
      "\n",
      "dist_to_nn:  2.2738\n",
      "['Charlotte, NC, US' 35.2079 -80.8303]\n",
      "\n",
      "\n"
     ]
    }
   ],
   "source": [
    "for place in sim_artists_places[:8]:                                                     # Iterate through 21 Savages unique cities\n",
    "    if place not in main_artist_places:                                               # If town 2Chanz hasn't played there\n",
    "                                                                                             # Get the lat lng and assign it to var\n",
    "        place_latlong = combined.loc[combined['location']==place, ['lat', 'lng']]\n",
    "        place_latlong.drop_duplicates(inplace=True)                                        # keep it 2D array\n",
    "                                                                                            # for nn to predict on         \n",
    "        distances, indices = nn.kneighbors(place_latlong, n_neighbors=5)\n",
    "        \n",
    "\n",
    "        nn_distance, nn_index = distances[0][0], indices[0][0]\n",
    "\n",
    "        neighbor = main_artist_df.loc[nn_index]\n",
    "        \n",
    "        print('\\t-', place in main_artist_places, '-')\n",
    "        print('_Place_ : ', place)\n",
    "        print('_Place_latlong_ : ', place_latlong.values, '\\n')\n",
    "        print('dist_to_nn: ', round(nn_distance, 4))\n",
    "        \n",
    "#         print('nn_idx: ', nn_index)\n",
    "        print(neighbor.values)\n",
    "        print('\\n')"
   ]
  },
  {
   "cell_type": "markdown",
   "metadata": {},
   "source": [
    "Euclidean Distance does not account for the curvature of the Earth and is therefore not truly accurate, but will only be meaningfully off on rare occasions.  Also the resulting distances are surprisingly close to driving times between cities in hours"
   ]
  },
  {
   "cell_type": "code",
   "execution_count": 287,
   "metadata": {},
   "outputs": [],
   "source": [
    "potential_new_locations = hb.pilfer_similar_artist(ref_df=combined,\n",
    "                                                   main_artist='2 Chainz',\n",
    "                                                   similar_artist='21 Savage')"
   ]
  },
  {
   "cell_type": "code",
   "execution_count": 289,
   "metadata": {},
   "outputs": [
    {
     "data": {
      "text/plain": [
       "[{'new': 'Albuquerque, NM, US',\n",
       "  'nearest_old': 'Denver, CO, US',\n",
       "  'distance': 4.98201329685098},\n",
       " {'new': 'Dallas, TX, US',\n",
       "  'nearest_old': 'Austin, TX, US',\n",
       "  'distance': 2.6808129102941916},\n",
       " {'new': 'Irving, TX, US',\n",
       "  'nearest_old': 'Oklahoma City, OK, US',\n",
       "  'distance': 2.665184458907105},\n",
       " {'new': 'Clive, IA, US',\n",
       "  'nearest_old': 'Cedar Rapids, IA, US',\n",
       "  'distance': 2.1487280167578167},\n",
       " {'new': 'Portland, OR, US',\n",
       "  'nearest_old': 'Seattle, WA, US',\n",
       "  'distance': 2.1091833893713474},\n",
       " {'new': 'Tulsa, OK, US',\n",
       "  'nearest_old': 'Oklahoma City, OK, US',\n",
       "  'distance': 1.739777284597078},\n",
       " {'new': 'Cleveland, OH, US',\n",
       "  'nearest_old': 'Detroit, MI, US',\n",
       "  'distance': 1.686388003989599},\n",
       " {'new': 'Indianapolis, IN, US',\n",
       "  'nearest_old': 'Louisville, KY, US',\n",
       "  'distance': 1.6858255574050298},\n",
       " {'new': 'Panama City Beach, FL, US',\n",
       "  'nearest_old': 'Tallahassee, FL, US',\n",
       "  'distance': 1.6393726391519343},\n",
       " {'new': 'Simpsonville, SC, US',\n",
       "  'nearest_old': 'Charlotte, NC, US',\n",
       "  'distance': 1.5049306296304825},\n",
       " {'new': 'Milwaukee, WI, US',\n",
       "  'nearest_old': 'Chicago, IL, US',\n",
       "  'distance': 1.2584281981901082},\n",
       " {'new': 'San Antonio, TX, US',\n",
       "  'nearest_old': 'Austin, TX, US',\n",
       "  'distance': 1.1330381988264966},\n",
       " {'new': 'Gainesville, FL, US',\n",
       "  'nearest_old': 'Jacksonville, FL, US',\n",
       "  'distance': 0.9348937479735376},\n",
       " {'new': 'Bowling Green, OH, US',\n",
       "  'nearest_old': 'Ann Arbor, MI, US',\n",
       "  'distance': 0.9018628942361495},\n",
       " {'new': 'Mobile, AL, US',\n",
       "  'nearest_old': 'Biloxi, MS, US',\n",
       "  'distance': 0.8677374084364403},\n",
       " {'new': 'Providence, RI, US',\n",
       "  'nearest_old': 'Boston, MA, US',\n",
       "  'distance': 0.5978902993024792},\n",
       " {'new': 'Sayreville, NJ, US',\n",
       "  'nearest_old': 'New York, NY, US',\n",
       "  'distance': 0.4597228839203081},\n",
       " {'new': 'Mountain View, CA, US',\n",
       "  'nearest_old': 'Oakland, CA, US',\n",
       "  'distance': 0.4136129833552156},\n",
       " {'new': 'The Woodlands, TX, US',\n",
       "  'nearest_old': 'Houston, TX, US',\n",
       "  'distance': 0.40604606881485833},\n",
       " {'new': 'Lowell, MA, US',\n",
       "  'nearest_old': 'Boston, MA, US',\n",
       "  'distance': 0.39834710994307915},\n",
       " {'new': 'Chandler, AZ, US',\n",
       "  'nearest_old': 'Phoenix, AZ, US',\n",
       "  'distance': 0.3744549372087393},\n",
       " {'new': 'Morrison, CO, US',\n",
       "  'nearest_old': 'Denver, CO, US',\n",
       "  'distance': 0.3395832298568294},\n",
       " {'new': 'San Bernardino, CA, US',\n",
       "  'nearest_old': 'Ontario, CA, US',\n",
       "  'distance': 0.32897940665032127},\n",
       " {'new': 'Bonner Springs, KS, US',\n",
       "  'nearest_old': 'Kansas City, MO, US',\n",
       "  'distance': 0.32624084661488556},\n",
       " {'new': 'Tampa, FL, US',\n",
       "  'nearest_old': 'Saint Petersburg, FL, US',\n",
       "  'distance': 0.2976449730803412},\n",
       " {'new': 'Baltimore, MD, US',\n",
       "  'nearest_old': 'Columbia, MD, US',\n",
       "  'distance': 0.26606625114808524},\n",
       " {'new': 'Kent, WA, US',\n",
       "  'nearest_old': 'Seattle, WA, US',\n",
       "  'distance': 0.2578067493297999},\n",
       " {'new': 'Newark, NJ, US',\n",
       "  'nearest_old': 'New York, NY, US',\n",
       "  'distance': 0.2494349614629088},\n",
       " {'new': 'Sterling Heights, MI, US',\n",
       "  'nearest_old': 'Detroit, MI, US',\n",
       "  'distance': 0.21018054143997045},\n",
       " {'new': 'Royal Oak, MI, US',\n",
       "  'nearest_old': 'Detroit, MI, US',\n",
       "  'distance': 0.1351933800154393},\n",
       " {'new': 'Salt Lake City, UT, US',\n",
       "  'nearest_old': 'West Valley City, UT, US',\n",
       "  'distance': 0.12024229705058426},\n",
       " {'new': 'Washington, DC, US',\n",
       "  'nearest_old': 'Silver Spring, MD, US',\n",
       "  'distance': 0.09819862524496198},\n",
       " {'new': 'West Hollywood, CA, US',\n",
       "  'nearest_old': 'Los Angeles, CA, US',\n",
       "  'distance': 0.04328244447811077}]"
      ]
     },
     "execution_count": 289,
     "metadata": {},
     "output_type": "execute_result"
    }
   ],
   "source": [
    "sorted(potential_new_locations, key=lambda x: x['distance'], reverse=True)"
   ]
  },
  {
   "cell_type": "code",
   "execution_count": null,
   "metadata": {},
   "outputs": [],
   "source": []
  }
 ],
 "metadata": {
  "kernelspec": {
   "display_name": "learn-env",
   "language": "python",
   "name": "learn-env"
  },
  "language_info": {
   "codemirror_mode": {
    "name": "ipython",
    "version": 3
   },
   "file_extension": ".py",
   "mimetype": "text/x-python",
   "name": "python",
   "nbconvert_exporter": "python",
   "pygments_lexer": "ipython3",
   "version": "3.6.6"
  }
 },
 "nbformat": 4,
 "nbformat_minor": 2
}
