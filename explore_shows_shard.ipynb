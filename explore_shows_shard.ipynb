{
 "cells": [
  {
   "cell_type": "code",
   "execution_count": 1,
   "metadata": {},
   "outputs": [],
   "source": [
    "# !pip install haversine"
   ]
  },
  {
   "cell_type": "code",
   "execution_count": 2,
   "metadata": {},
   "outputs": [],
   "source": [
    "import pandas as pd\n",
    "import haversine"
   ]
  },
  {
   "cell_type": "code",
   "execution_count": 3,
   "metadata": {},
   "outputs": [],
   "source": [
    "df = pd.read_json('artists_shows_shard.json', lines=True)"
   ]
  },
  {
   "cell_type": "code",
   "execution_count": 4,
   "metadata": {},
   "outputs": [
    {
     "name": "stdout",
     "output_type": "stream",
     "text": [
      "(15729, 3)\n"
     ]
    },
    {
     "data": {
      "text/html": [
       "<div>\n",
       "<style scoped>\n",
       "    .dataframe tbody tr th:only-of-type {\n",
       "        vertical-align: middle;\n",
       "    }\n",
       "\n",
       "    .dataframe tbody tr th {\n",
       "        vertical-align: top;\n",
       "    }\n",
       "\n",
       "    .dataframe thead th {\n",
       "        text-align: right;\n",
       "    }\n",
       "</style>\n",
       "<table border=\"1\" class=\"dataframe\">\n",
       "  <thead>\n",
       "    <tr style=\"text-align: right;\">\n",
       "      <th></th>\n",
       "      <th>artist</th>\n",
       "      <th>date</th>\n",
       "      <th>loc</th>\n",
       "    </tr>\n",
       "  </thead>\n",
       "  <tbody>\n",
       "    <tr>\n",
       "      <th>0</th>\n",
       "      <td>2 Chainz</td>\n",
       "      <td>2019-06-30 05:30:00</td>\n",
       "      <td>Las Vegas, NV, US</td>\n",
       "    </tr>\n",
       "    <tr>\n",
       "      <th>1</th>\n",
       "      <td>2 Chainz</td>\n",
       "      <td>2019-07-12 11:00:00</td>\n",
       "      <td>London, UK</td>\n",
       "    </tr>\n",
       "    <tr>\n",
       "      <th>2</th>\n",
       "      <td>2 Chainz</td>\n",
       "      <td>2019-08-10 00:00:00</td>\n",
       "      <td>Anaheim, CA, US</td>\n",
       "    </tr>\n",
       "  </tbody>\n",
       "</table>\n",
       "</div>"
      ],
      "text/plain": [
       "     artist                date                loc\n",
       "0  2 Chainz 2019-06-30 05:30:00  Las Vegas, NV, US\n",
       "1  2 Chainz 2019-07-12 11:00:00         London, UK\n",
       "2  2 Chainz 2019-08-10 00:00:00    Anaheim, CA, US"
      ]
     },
     "execution_count": 4,
     "metadata": {},
     "output_type": "execute_result"
    }
   ],
   "source": [
    "print(df.shape)\n",
    "df.head(3)"
   ]
  },
  {
   "cell_type": "markdown",
   "metadata": {},
   "source": [
    "The column named loc should be renamed to prevent confusion  \n",
    "with the 'pandas.DataFrame.loc()' method"
   ]
  },
  {
   "cell_type": "code",
   "execution_count": 5,
   "metadata": {},
   "outputs": [
    {
     "data": {
      "text/html": [
       "<div>\n",
       "<style scoped>\n",
       "    .dataframe tbody tr th:only-of-type {\n",
       "        vertical-align: middle;\n",
       "    }\n",
       "\n",
       "    .dataframe tbody tr th {\n",
       "        vertical-align: top;\n",
       "    }\n",
       "\n",
       "    .dataframe thead th {\n",
       "        text-align: right;\n",
       "    }\n",
       "</style>\n",
       "<table border=\"1\" class=\"dataframe\">\n",
       "  <thead>\n",
       "    <tr style=\"text-align: right;\">\n",
       "      <th></th>\n",
       "      <th>artist</th>\n",
       "      <th>date</th>\n",
       "      <th>location</th>\n",
       "    </tr>\n",
       "  </thead>\n",
       "  <tbody>\n",
       "    <tr>\n",
       "      <th>0</th>\n",
       "      <td>2 Chainz</td>\n",
       "      <td>2019-06-30 05:30:00</td>\n",
       "      <td>Las Vegas, NV, US</td>\n",
       "    </tr>\n",
       "    <tr>\n",
       "      <th>1</th>\n",
       "      <td>2 Chainz</td>\n",
       "      <td>2019-07-12 11:00:00</td>\n",
       "      <td>London, UK</td>\n",
       "    </tr>\n",
       "    <tr>\n",
       "      <th>2</th>\n",
       "      <td>2 Chainz</td>\n",
       "      <td>2019-08-10 00:00:00</td>\n",
       "      <td>Anaheim, CA, US</td>\n",
       "    </tr>\n",
       "  </tbody>\n",
       "</table>\n",
       "</div>"
      ],
      "text/plain": [
       "     artist                date           location\n",
       "0  2 Chainz 2019-06-30 05:30:00  Las Vegas, NV, US\n",
       "1  2 Chainz 2019-07-12 11:00:00         London, UK\n",
       "2  2 Chainz 2019-08-10 00:00:00    Anaheim, CA, US"
      ]
     },
     "execution_count": 5,
     "metadata": {},
     "output_type": "execute_result"
    }
   ],
   "source": [
    "df.columns = ['artist', 'date', 'location']\n",
    "df.head(3)"
   ]
  },
  {
   "cell_type": "markdown",
   "metadata": {},
   "source": [
    "Trim shows outside US"
   ]
  },
  {
   "cell_type": "code",
   "execution_count": 6,
   "metadata": {},
   "outputs": [
    {
     "name": "stdout",
     "output_type": "stream",
     "text": [
      "(9608, 3)\n"
     ]
    },
    {
     "data": {
      "text/html": [
       "<div>\n",
       "<style scoped>\n",
       "    .dataframe tbody tr th:only-of-type {\n",
       "        vertical-align: middle;\n",
       "    }\n",
       "\n",
       "    .dataframe tbody tr th {\n",
       "        vertical-align: top;\n",
       "    }\n",
       "\n",
       "    .dataframe thead th {\n",
       "        text-align: right;\n",
       "    }\n",
       "</style>\n",
       "<table border=\"1\" class=\"dataframe\">\n",
       "  <thead>\n",
       "    <tr style=\"text-align: right;\">\n",
       "      <th></th>\n",
       "      <th>artist</th>\n",
       "      <th>date</th>\n",
       "      <th>location</th>\n",
       "    </tr>\n",
       "  </thead>\n",
       "  <tbody>\n",
       "    <tr>\n",
       "      <th>0</th>\n",
       "      <td>2 Chainz</td>\n",
       "      <td>2019-06-30 05:30:00</td>\n",
       "      <td>Las Vegas, NV, US</td>\n",
       "    </tr>\n",
       "    <tr>\n",
       "      <th>2</th>\n",
       "      <td>2 Chainz</td>\n",
       "      <td>2019-08-10 00:00:00</td>\n",
       "      <td>Anaheim, CA, US</td>\n",
       "    </tr>\n",
       "    <tr>\n",
       "      <th>3</th>\n",
       "      <td>2 Chainz</td>\n",
       "      <td>2019-08-24 22:00:00</td>\n",
       "      <td>Atlanta, GA, US</td>\n",
       "    </tr>\n",
       "  </tbody>\n",
       "</table>\n",
       "</div>"
      ],
      "text/plain": [
       "     artist                date           location\n",
       "0  2 Chainz 2019-06-30 05:30:00  Las Vegas, NV, US\n",
       "2  2 Chainz 2019-08-10 00:00:00    Anaheim, CA, US\n",
       "3  2 Chainz 2019-08-24 22:00:00    Atlanta, GA, US"
      ]
     },
     "execution_count": 6,
     "metadata": {},
     "output_type": "execute_result"
    }
   ],
   "source": [
    "domestic_df = df[df['location'].str.endswith('US')]\n",
    "print(domestic_df.shape)\n",
    "domestic_df.head(3)"
   ]
  },
  {
   "cell_type": "markdown",
   "metadata": {},
   "source": [
    "Lets only make decisions based on shows with in the past five years.  \n",
    "Trim any concerts before 2015."
   ]
  },
  {
   "cell_type": "code",
   "execution_count": 7,
   "metadata": {},
   "outputs": [
    {
     "name": "stdout",
     "output_type": "stream",
     "text": [
      "(8642, 3)\n"
     ]
    }
   ],
   "source": [
    "recent_domestic_df = domestic_df[domestic_df.date >= '2015'].copy()\n",
    "print(recent_domestic_df.shape)"
   ]
  },
  {
   "cell_type": "markdown",
   "metadata": {},
   "source": [
    "### Lets merge/join some lat long info to these locations so we can compare them!"
   ]
  },
  {
   "cell_type": "markdown",
   "metadata": {},
   "source": [
    "With some help from our friends at https://simplemaps.com/data/us-cities:  \n",
    "We can get a csv of cities and their latititude and longitude from some census."
   ]
  },
  {
   "cell_type": "code",
   "execution_count": 8,
   "metadata": {},
   "outputs": [],
   "source": [
    "cities_df = pd.read_csv('uscitiesv1.5.csv')"
   ]
  },
  {
   "cell_type": "code",
   "execution_count": 9,
   "metadata": {},
   "outputs": [
    {
     "name": "stdout",
     "output_type": "stream",
     "text": [
      "(37842, 16)\n"
     ]
    },
    {
     "data": {
      "text/html": [
       "<div>\n",
       "<style scoped>\n",
       "    .dataframe tbody tr th:only-of-type {\n",
       "        vertical-align: middle;\n",
       "    }\n",
       "\n",
       "    .dataframe tbody tr th {\n",
       "        vertical-align: top;\n",
       "    }\n",
       "\n",
       "    .dataframe thead th {\n",
       "        text-align: right;\n",
       "    }\n",
       "</style>\n",
       "<table border=\"1\" class=\"dataframe\">\n",
       "  <thead>\n",
       "    <tr style=\"text-align: right;\">\n",
       "      <th></th>\n",
       "      <th>city</th>\n",
       "      <th>city_ascii</th>\n",
       "      <th>state_id</th>\n",
       "      <th>state_name</th>\n",
       "      <th>county_fips</th>\n",
       "      <th>county_name</th>\n",
       "      <th>lat</th>\n",
       "      <th>lng</th>\n",
       "      <th>population</th>\n",
       "      <th>population_proper</th>\n",
       "      <th>density</th>\n",
       "      <th>source</th>\n",
       "      <th>incorporated</th>\n",
       "      <th>timezone</th>\n",
       "      <th>zips</th>\n",
       "      <th>id</th>\n",
       "    </tr>\n",
       "  </thead>\n",
       "  <tbody>\n",
       "    <tr>\n",
       "      <th>0</th>\n",
       "      <td>Prairie Ridge</td>\n",
       "      <td>Prairie Ridge</td>\n",
       "      <td>WA</td>\n",
       "      <td>Washington</td>\n",
       "      <td>53053</td>\n",
       "      <td>Pierce</td>\n",
       "      <td>47.1443</td>\n",
       "      <td>-122.1408</td>\n",
       "      <td>NaN</td>\n",
       "      <td>NaN</td>\n",
       "      <td>1349.8</td>\n",
       "      <td>polygon</td>\n",
       "      <td>False</td>\n",
       "      <td>America/Los_Angeles</td>\n",
       "      <td>98360 98391</td>\n",
       "      <td>1840037882</td>\n",
       "    </tr>\n",
       "    <tr>\n",
       "      <th>1</th>\n",
       "      <td>Edison</td>\n",
       "      <td>Edison</td>\n",
       "      <td>WA</td>\n",
       "      <td>Washington</td>\n",
       "      <td>53057</td>\n",
       "      <td>Skagit</td>\n",
       "      <td>48.5602</td>\n",
       "      <td>-122.4311</td>\n",
       "      <td>NaN</td>\n",
       "      <td>NaN</td>\n",
       "      <td>127.4</td>\n",
       "      <td>polygon</td>\n",
       "      <td>False</td>\n",
       "      <td>America/Los_Angeles</td>\n",
       "      <td>98232</td>\n",
       "      <td>1840017314</td>\n",
       "    </tr>\n",
       "  </tbody>\n",
       "</table>\n",
       "</div>"
      ],
      "text/plain": [
       "            city     city_ascii state_id  state_name  county_fips county_name  \\\n",
       "0  Prairie Ridge  Prairie Ridge       WA  Washington        53053      Pierce   \n",
       "1         Edison         Edison       WA  Washington        53057      Skagit   \n",
       "\n",
       "       lat       lng  population  population_proper  density   source  \\\n",
       "0  47.1443 -122.1408         NaN                NaN   1349.8  polygon   \n",
       "1  48.5602 -122.4311         NaN                NaN    127.4  polygon   \n",
       "\n",
       "   incorporated             timezone         zips          id  \n",
       "0         False  America/Los_Angeles  98360 98391  1840037882  \n",
       "1         False  America/Los_Angeles        98232  1840017314  "
      ]
     },
     "execution_count": 9,
     "metadata": {},
     "output_type": "execute_result"
    }
   ],
   "source": [
    "print(cities_df.shape)\n",
    "cities_df.head(2)"
   ]
  },
  {
   "cell_type": "markdown",
   "metadata": {},
   "source": [
    "Let's just grab city, state id, lat and lng."
   ]
  },
  {
   "cell_type": "code",
   "execution_count": 10,
   "metadata": {},
   "outputs": [
    {
     "data": {
      "text/html": [
       "<div>\n",
       "<style scoped>\n",
       "    .dataframe tbody tr th:only-of-type {\n",
       "        vertical-align: middle;\n",
       "    }\n",
       "\n",
       "    .dataframe tbody tr th {\n",
       "        vertical-align: top;\n",
       "    }\n",
       "\n",
       "    .dataframe thead th {\n",
       "        text-align: right;\n",
       "    }\n",
       "</style>\n",
       "<table border=\"1\" class=\"dataframe\">\n",
       "  <thead>\n",
       "    <tr style=\"text-align: right;\">\n",
       "      <th></th>\n",
       "      <th>city</th>\n",
       "      <th>state_id</th>\n",
       "      <th>lat</th>\n",
       "      <th>lng</th>\n",
       "    </tr>\n",
       "  </thead>\n",
       "  <tbody>\n",
       "    <tr>\n",
       "      <th>0</th>\n",
       "      <td>Prairie Ridge</td>\n",
       "      <td>WA</td>\n",
       "      <td>47.1443</td>\n",
       "      <td>-122.1408</td>\n",
       "    </tr>\n",
       "    <tr>\n",
       "      <th>1</th>\n",
       "      <td>Edison</td>\n",
       "      <td>WA</td>\n",
       "      <td>48.5602</td>\n",
       "      <td>-122.4311</td>\n",
       "    </tr>\n",
       "  </tbody>\n",
       "</table>\n",
       "</div>"
      ],
      "text/plain": [
       "            city state_id      lat       lng\n",
       "0  Prairie Ridge       WA  47.1443 -122.1408\n",
       "1         Edison       WA  48.5602 -122.4311"
      ]
     },
     "execution_count": 10,
     "metadata": {},
     "output_type": "execute_result"
    }
   ],
   "source": [
    "cities_df = cities_df[['city', 'state_id', 'lat', 'lng']]\n",
    "cities_df.head(2)"
   ]
  },
  {
   "cell_type": "markdown",
   "metadata": {},
   "source": [
    "Lets adjust these city and state values so they will match"
   ]
  },
  {
   "cell_type": "code",
   "execution_count": 11,
   "metadata": {},
   "outputs": [],
   "source": [
    "cities_df.loc[:,'comb_city_state'] = cities_df['city'] + ', ' + cities_df['state_id'] + ', US'"
   ]
  },
  {
   "cell_type": "code",
   "execution_count": 12,
   "metadata": {},
   "outputs": [
    {
     "data": {
      "text/html": [
       "<div>\n",
       "<style scoped>\n",
       "    .dataframe tbody tr th:only-of-type {\n",
       "        vertical-align: middle;\n",
       "    }\n",
       "\n",
       "    .dataframe tbody tr th {\n",
       "        vertical-align: top;\n",
       "    }\n",
       "\n",
       "    .dataframe thead th {\n",
       "        text-align: right;\n",
       "    }\n",
       "</style>\n",
       "<table border=\"1\" class=\"dataframe\">\n",
       "  <thead>\n",
       "    <tr style=\"text-align: right;\">\n",
       "      <th></th>\n",
       "      <th>city</th>\n",
       "      <th>state_id</th>\n",
       "      <th>lat</th>\n",
       "      <th>lng</th>\n",
       "      <th>comb_city_state</th>\n",
       "    </tr>\n",
       "  </thead>\n",
       "  <tbody>\n",
       "    <tr>\n",
       "      <th>0</th>\n",
       "      <td>Prairie Ridge</td>\n",
       "      <td>WA</td>\n",
       "      <td>47.1443</td>\n",
       "      <td>-122.1408</td>\n",
       "      <td>Prairie Ridge, WA, US</td>\n",
       "    </tr>\n",
       "    <tr>\n",
       "      <th>1</th>\n",
       "      <td>Edison</td>\n",
       "      <td>WA</td>\n",
       "      <td>48.5602</td>\n",
       "      <td>-122.4311</td>\n",
       "      <td>Edison, WA, US</td>\n",
       "    </tr>\n",
       "    <tr>\n",
       "      <th>2</th>\n",
       "      <td>Packwood</td>\n",
       "      <td>WA</td>\n",
       "      <td>46.6085</td>\n",
       "      <td>-121.6702</td>\n",
       "      <td>Packwood, WA, US</td>\n",
       "    </tr>\n",
       "    <tr>\n",
       "      <th>3</th>\n",
       "      <td>Wautauga Beach</td>\n",
       "      <td>WA</td>\n",
       "      <td>47.5862</td>\n",
       "      <td>-122.5482</td>\n",
       "      <td>Wautauga Beach, WA, US</td>\n",
       "    </tr>\n",
       "    <tr>\n",
       "      <th>4</th>\n",
       "      <td>Harper</td>\n",
       "      <td>WA</td>\n",
       "      <td>47.5207</td>\n",
       "      <td>-122.5196</td>\n",
       "      <td>Harper, WA, US</td>\n",
       "    </tr>\n",
       "  </tbody>\n",
       "</table>\n",
       "</div>"
      ],
      "text/plain": [
       "             city state_id      lat       lng         comb_city_state\n",
       "0   Prairie Ridge       WA  47.1443 -122.1408   Prairie Ridge, WA, US\n",
       "1          Edison       WA  48.5602 -122.4311          Edison, WA, US\n",
       "2        Packwood       WA  46.6085 -121.6702        Packwood, WA, US\n",
       "3  Wautauga Beach       WA  47.5862 -122.5482  Wautauga Beach, WA, US\n",
       "4          Harper       WA  47.5207 -122.5196          Harper, WA, US"
      ]
     },
     "execution_count": 12,
     "metadata": {},
     "output_type": "execute_result"
    }
   ],
   "source": [
    "cities_df.head()"
   ]
  },
  {
   "cell_type": "code",
   "execution_count": 13,
   "metadata": {},
   "outputs": [],
   "source": [
    "combined = pd.merge(left=recent_domestic_df, right=cities_df,\n",
    "             left_on='location', right_on='comb_city_state', how='left')"
   ]
  },
  {
   "cell_type": "code",
   "execution_count": 14,
   "metadata": {},
   "outputs": [
    {
     "data": {
      "text/html": [
       "<div>\n",
       "<style scoped>\n",
       "    .dataframe tbody tr th:only-of-type {\n",
       "        vertical-align: middle;\n",
       "    }\n",
       "\n",
       "    .dataframe tbody tr th {\n",
       "        vertical-align: top;\n",
       "    }\n",
       "\n",
       "    .dataframe thead th {\n",
       "        text-align: right;\n",
       "    }\n",
       "</style>\n",
       "<table border=\"1\" class=\"dataframe\">\n",
       "  <thead>\n",
       "    <tr style=\"text-align: right;\">\n",
       "      <th></th>\n",
       "      <th>artist</th>\n",
       "      <th>date</th>\n",
       "      <th>location</th>\n",
       "      <th>city</th>\n",
       "      <th>state_id</th>\n",
       "      <th>lat</th>\n",
       "      <th>lng</th>\n",
       "      <th>comb_city_state</th>\n",
       "    </tr>\n",
       "  </thead>\n",
       "  <tbody>\n",
       "    <tr>\n",
       "      <th>0</th>\n",
       "      <td>2 Chainz</td>\n",
       "      <td>2019-06-30 05:30:00</td>\n",
       "      <td>Las Vegas, NV, US</td>\n",
       "      <td>Las Vegas</td>\n",
       "      <td>NV</td>\n",
       "      <td>36.2291</td>\n",
       "      <td>-115.2607</td>\n",
       "      <td>Las Vegas, NV, US</td>\n",
       "    </tr>\n",
       "    <tr>\n",
       "      <th>1</th>\n",
       "      <td>2 Chainz</td>\n",
       "      <td>2019-08-10 00:00:00</td>\n",
       "      <td>Anaheim, CA, US</td>\n",
       "      <td>Anaheim</td>\n",
       "      <td>CA</td>\n",
       "      <td>33.8390</td>\n",
       "      <td>-117.8572</td>\n",
       "      <td>Anaheim, CA, US</td>\n",
       "    </tr>\n",
       "    <tr>\n",
       "      <th>2</th>\n",
       "      <td>2 Chainz</td>\n",
       "      <td>2019-08-24 22:00:00</td>\n",
       "      <td>Atlanta, GA, US</td>\n",
       "      <td>Atlanta</td>\n",
       "      <td>GA</td>\n",
       "      <td>33.7626</td>\n",
       "      <td>-84.4228</td>\n",
       "      <td>Atlanta, GA, US</td>\n",
       "    </tr>\n",
       "    <tr>\n",
       "      <th>3</th>\n",
       "      <td>2 Chainz</td>\n",
       "      <td>2019-05-27 05:30:00</td>\n",
       "      <td>Las Vegas, NV, US</td>\n",
       "      <td>Las Vegas</td>\n",
       "      <td>NV</td>\n",
       "      <td>36.2291</td>\n",
       "      <td>-115.2607</td>\n",
       "      <td>Las Vegas, NV, US</td>\n",
       "    </tr>\n",
       "    <tr>\n",
       "      <th>4</th>\n",
       "      <td>2 Chainz</td>\n",
       "      <td>2019-05-19 00:00:00</td>\n",
       "      <td>Detroit, MI, US</td>\n",
       "      <td>Detroit</td>\n",
       "      <td>MI</td>\n",
       "      <td>42.3834</td>\n",
       "      <td>-83.1024</td>\n",
       "      <td>Detroit, MI, US</td>\n",
       "    </tr>\n",
       "  </tbody>\n",
       "</table>\n",
       "</div>"
      ],
      "text/plain": [
       "     artist                date           location       city state_id  \\\n",
       "0  2 Chainz 2019-06-30 05:30:00  Las Vegas, NV, US  Las Vegas       NV   \n",
       "1  2 Chainz 2019-08-10 00:00:00    Anaheim, CA, US    Anaheim       CA   \n",
       "2  2 Chainz 2019-08-24 22:00:00    Atlanta, GA, US    Atlanta       GA   \n",
       "3  2 Chainz 2019-05-27 05:30:00  Las Vegas, NV, US  Las Vegas       NV   \n",
       "4  2 Chainz 2019-05-19 00:00:00    Detroit, MI, US    Detroit       MI   \n",
       "\n",
       "       lat       lng    comb_city_state  \n",
       "0  36.2291 -115.2607  Las Vegas, NV, US  \n",
       "1  33.8390 -117.8572    Anaheim, CA, US  \n",
       "2  33.7626  -84.4228    Atlanta, GA, US  \n",
       "3  36.2291 -115.2607  Las Vegas, NV, US  \n",
       "4  42.3834  -83.1024    Detroit, MI, US  "
      ]
     },
     "execution_count": 14,
     "metadata": {},
     "output_type": "execute_result"
    }
   ],
   "source": [
    "combined.head()"
   ]
  },
  {
   "cell_type": "markdown",
   "metadata": {},
   "source": [
    "Confirm shape matches old shape, no DUPs"
   ]
  },
  {
   "cell_type": "code",
   "execution_count": 15,
   "metadata": {},
   "outputs": [
    {
     "data": {
      "text/plain": [
       "True"
      ]
     },
     "execution_count": 15,
     "metadata": {},
     "output_type": "execute_result"
    }
   ],
   "source": [
    "recent_domestic_df.shape[0] == combined.shape[0]"
   ]
  },
  {
   "cell_type": "markdown",
   "metadata": {},
   "source": [
    "Are there any missing values?"
   ]
  },
  {
   "cell_type": "code",
   "execution_count": 16,
   "metadata": {},
   "outputs": [
    {
     "name": "stdout",
     "output_type": "stream",
     "text": [
      "(8642, 8)\n"
     ]
    },
    {
     "data": {
      "text/plain": [
       "artist               0\n",
       "date                 0\n",
       "location             0\n",
       "city               276\n",
       "state_id           276\n",
       "lat                276\n",
       "lng                276\n",
       "comb_city_state    276\n",
       "dtype: int64"
      ]
     },
     "execution_count": 16,
     "metadata": {},
     "output_type": "execute_result"
    }
   ],
   "source": [
    "print(combined.shape)\n",
    "combined.isna().sum()"
   ]
  },
  {
   "cell_type": "markdown",
   "metadata": {},
   "source": [
    "Where is it failing to connect?"
   ]
  },
  {
   "cell_type": "code",
   "execution_count": 17,
   "metadata": {},
   "outputs": [
    {
     "data": {
      "text/html": [
       "<div>\n",
       "<style scoped>\n",
       "    .dataframe tbody tr th:only-of-type {\n",
       "        vertical-align: middle;\n",
       "    }\n",
       "\n",
       "    .dataframe tbody tr th {\n",
       "        vertical-align: top;\n",
       "    }\n",
       "\n",
       "    .dataframe thead th {\n",
       "        text-align: right;\n",
       "    }\n",
       "</style>\n",
       "<table border=\"1\" class=\"dataframe\">\n",
       "  <thead>\n",
       "    <tr style=\"text-align: right;\">\n",
       "      <th></th>\n",
       "      <th>artist</th>\n",
       "      <th>date</th>\n",
       "      <th>location</th>\n",
       "      <th>city</th>\n",
       "      <th>state_id</th>\n",
       "      <th>lat</th>\n",
       "      <th>lng</th>\n",
       "      <th>comb_city_state</th>\n",
       "    </tr>\n",
       "  </thead>\n",
       "  <tbody>\n",
       "    <tr>\n",
       "      <th>56</th>\n",
       "      <td>2 Chainz</td>\n",
       "      <td>2017-09-16 00:00:00</td>\n",
       "      <td>St Petersburg, FL, US</td>\n",
       "      <td>NaN</td>\n",
       "      <td>NaN</td>\n",
       "      <td>NaN</td>\n",
       "      <td>NaN</td>\n",
       "      <td>NaN</td>\n",
       "    </tr>\n",
       "    <tr>\n",
       "      <th>68</th>\n",
       "      <td>2 Chainz</td>\n",
       "      <td>2017-08-30 01:00:00</td>\n",
       "      <td>St Louis, MO, US</td>\n",
       "      <td>NaN</td>\n",
       "      <td>NaN</td>\n",
       "      <td>NaN</td>\n",
       "      <td>NaN</td>\n",
       "      <td>NaN</td>\n",
       "    </tr>\n",
       "    <tr>\n",
       "      <th>71</th>\n",
       "      <td>2 Chainz</td>\n",
       "      <td>2017-08-26 02:30:00</td>\n",
       "      <td>St. Paul, MN, US</td>\n",
       "      <td>NaN</td>\n",
       "      <td>NaN</td>\n",
       "      <td>NaN</td>\n",
       "      <td>NaN</td>\n",
       "      <td>NaN</td>\n",
       "    </tr>\n",
       "    <tr>\n",
       "      <th>86</th>\n",
       "      <td>2 Chainz</td>\n",
       "      <td>2017-04-23 23:00:00</td>\n",
       "      <td>Amherst, MA, US</td>\n",
       "      <td>NaN</td>\n",
       "      <td>NaN</td>\n",
       "      <td>NaN</td>\n",
       "      <td>NaN</td>\n",
       "      <td>NaN</td>\n",
       "    </tr>\n",
       "    <tr>\n",
       "      <th>87</th>\n",
       "      <td>2 Chainz</td>\n",
       "      <td>2017-04-22 19:00:00</td>\n",
       "      <td>Pozo, CA, US</td>\n",
       "      <td>NaN</td>\n",
       "      <td>NaN</td>\n",
       "      <td>NaN</td>\n",
       "      <td>NaN</td>\n",
       "      <td>NaN</td>\n",
       "    </tr>\n",
       "    <tr>\n",
       "      <th>108</th>\n",
       "      <td>21 Savage</td>\n",
       "      <td>2019-07-31 01:00:00</td>\n",
       "      <td>St. Paul, MN, US</td>\n",
       "      <td>NaN</td>\n",
       "      <td>NaN</td>\n",
       "      <td>NaN</td>\n",
       "      <td>NaN</td>\n",
       "      <td>NaN</td>\n",
       "    </tr>\n",
       "    <tr>\n",
       "      <th>147</th>\n",
       "      <td>21 Savage</td>\n",
       "      <td>2018-05-27 00:00:00</td>\n",
       "      <td>Darien Center, NY, US</td>\n",
       "      <td>NaN</td>\n",
       "      <td>NaN</td>\n",
       "      <td>NaN</td>\n",
       "      <td>NaN</td>\n",
       "      <td>NaN</td>\n",
       "    </tr>\n",
       "    <tr>\n",
       "      <th>148</th>\n",
       "      <td>21 Savage</td>\n",
       "      <td>2018-05-24 23:00:00</td>\n",
       "      <td>Mansfield, MA, US</td>\n",
       "      <td>NaN</td>\n",
       "      <td>NaN</td>\n",
       "      <td>NaN</td>\n",
       "      <td>NaN</td>\n",
       "      <td>NaN</td>\n",
       "    </tr>\n",
       "    <tr>\n",
       "      <th>176</th>\n",
       "      <td>21 Savage</td>\n",
       "      <td>2017-12-09 02:00:00</td>\n",
       "      <td>St Louis, MO, US</td>\n",
       "      <td>NaN</td>\n",
       "      <td>NaN</td>\n",
       "      <td>NaN</td>\n",
       "      <td>NaN</td>\n",
       "      <td>NaN</td>\n",
       "    </tr>\n",
       "    <tr>\n",
       "      <th>198</th>\n",
       "      <td>21 Savage</td>\n",
       "      <td>2017-09-15 15:45:00</td>\n",
       "      <td>Flushing, NY, US</td>\n",
       "      <td>NaN</td>\n",
       "      <td>NaN</td>\n",
       "      <td>NaN</td>\n",
       "      <td>NaN</td>\n",
       "      <td>NaN</td>\n",
       "    </tr>\n",
       "    <tr>\n",
       "      <th>208</th>\n",
       "      <td>21 Savage</td>\n",
       "      <td>2017-07-15 23:30:00</td>\n",
       "      <td>St Petersburg, FL, US</td>\n",
       "      <td>NaN</td>\n",
       "      <td>NaN</td>\n",
       "      <td>NaN</td>\n",
       "      <td>NaN</td>\n",
       "      <td>NaN</td>\n",
       "    </tr>\n",
       "    <tr>\n",
       "      <th>212</th>\n",
       "      <td>21 Savage</td>\n",
       "      <td>2017-06-24 23:30:00</td>\n",
       "      <td>St Petersburg, FL, US</td>\n",
       "      <td>NaN</td>\n",
       "      <td>NaN</td>\n",
       "      <td>NaN</td>\n",
       "      <td>NaN</td>\n",
       "      <td>NaN</td>\n",
       "    </tr>\n",
       "    <tr>\n",
       "      <th>259</th>\n",
       "      <td>3 Doors Down</td>\n",
       "      <td>2018-08-10 23:00:00</td>\n",
       "      <td>Gilford, NH, US</td>\n",
       "      <td>NaN</td>\n",
       "      <td>NaN</td>\n",
       "      <td>NaN</td>\n",
       "      <td>NaN</td>\n",
       "      <td>NaN</td>\n",
       "    </tr>\n",
       "    <tr>\n",
       "      <th>410</th>\n",
       "      <td>5 Seconds of Summer</td>\n",
       "      <td>2019-09-29 23:00:00</td>\n",
       "      <td>University Park, PA, US</td>\n",
       "      <td>NaN</td>\n",
       "      <td>NaN</td>\n",
       "      <td>NaN</td>\n",
       "      <td>NaN</td>\n",
       "      <td>NaN</td>\n",
       "    </tr>\n",
       "    <tr>\n",
       "      <th>413</th>\n",
       "      <td>5 Seconds of Summer</td>\n",
       "      <td>2019-10-06 00:00:00</td>\n",
       "      <td>St. Paul, MN, US</td>\n",
       "      <td>NaN</td>\n",
       "      <td>NaN</td>\n",
       "      <td>NaN</td>\n",
       "      <td>NaN</td>\n",
       "      <td>NaN</td>\n",
       "    </tr>\n",
       "    <tr>\n",
       "      <th>430</th>\n",
       "      <td>5 Seconds of Summer</td>\n",
       "      <td>2019-11-09 01:00:00</td>\n",
       "      <td>St Louis, MO, US</td>\n",
       "      <td>NaN</td>\n",
       "      <td>NaN</td>\n",
       "      <td>NaN</td>\n",
       "      <td>NaN</td>\n",
       "      <td>NaN</td>\n",
       "    </tr>\n",
       "    <tr>\n",
       "      <th>448</th>\n",
       "      <td>5 Seconds of Summer</td>\n",
       "      <td>2018-12-04 01:00:00</td>\n",
       "      <td>St. Paul, MN, US</td>\n",
       "      <td>NaN</td>\n",
       "      <td>NaN</td>\n",
       "      <td>NaN</td>\n",
       "      <td>NaN</td>\n",
       "      <td>NaN</td>\n",
       "    </tr>\n",
       "    <tr>\n",
       "      <th>478</th>\n",
       "      <td>5 Seconds of Summer</td>\n",
       "      <td>2018-06-17 00:00:00</td>\n",
       "      <td>Mansfield, MA, US</td>\n",
       "      <td>NaN</td>\n",
       "      <td>NaN</td>\n",
       "      <td>NaN</td>\n",
       "      <td>NaN</td>\n",
       "      <td>NaN</td>\n",
       "    </tr>\n",
       "  </tbody>\n",
       "</table>\n",
       "</div>"
      ],
      "text/plain": [
       "                  artist                date                 location city  \\\n",
       "56              2 Chainz 2017-09-16 00:00:00    St Petersburg, FL, US  NaN   \n",
       "68              2 Chainz 2017-08-30 01:00:00         St Louis, MO, US  NaN   \n",
       "71              2 Chainz 2017-08-26 02:30:00         St. Paul, MN, US  NaN   \n",
       "86              2 Chainz 2017-04-23 23:00:00          Amherst, MA, US  NaN   \n",
       "87              2 Chainz 2017-04-22 19:00:00             Pozo, CA, US  NaN   \n",
       "108            21 Savage 2019-07-31 01:00:00         St. Paul, MN, US  NaN   \n",
       "147            21 Savage 2018-05-27 00:00:00    Darien Center, NY, US  NaN   \n",
       "148            21 Savage 2018-05-24 23:00:00        Mansfield, MA, US  NaN   \n",
       "176            21 Savage 2017-12-09 02:00:00         St Louis, MO, US  NaN   \n",
       "198            21 Savage 2017-09-15 15:45:00         Flushing, NY, US  NaN   \n",
       "208            21 Savage 2017-07-15 23:30:00    St Petersburg, FL, US  NaN   \n",
       "212            21 Savage 2017-06-24 23:30:00    St Petersburg, FL, US  NaN   \n",
       "259         3 Doors Down 2018-08-10 23:00:00          Gilford, NH, US  NaN   \n",
       "410  5 Seconds of Summer 2019-09-29 23:00:00  University Park, PA, US  NaN   \n",
       "413  5 Seconds of Summer 2019-10-06 00:00:00         St. Paul, MN, US  NaN   \n",
       "430  5 Seconds of Summer 2019-11-09 01:00:00         St Louis, MO, US  NaN   \n",
       "448  5 Seconds of Summer 2018-12-04 01:00:00         St. Paul, MN, US  NaN   \n",
       "478  5 Seconds of Summer 2018-06-17 00:00:00        Mansfield, MA, US  NaN   \n",
       "\n",
       "    state_id  lat  lng comb_city_state  \n",
       "56       NaN  NaN  NaN             NaN  \n",
       "68       NaN  NaN  NaN             NaN  \n",
       "71       NaN  NaN  NaN             NaN  \n",
       "86       NaN  NaN  NaN             NaN  \n",
       "87       NaN  NaN  NaN             NaN  \n",
       "108      NaN  NaN  NaN             NaN  \n",
       "147      NaN  NaN  NaN             NaN  \n",
       "148      NaN  NaN  NaN             NaN  \n",
       "176      NaN  NaN  NaN             NaN  \n",
       "198      NaN  NaN  NaN             NaN  \n",
       "208      NaN  NaN  NaN             NaN  \n",
       "212      NaN  NaN  NaN             NaN  \n",
       "259      NaN  NaN  NaN             NaN  \n",
       "410      NaN  NaN  NaN             NaN  \n",
       "413      NaN  NaN  NaN             NaN  \n",
       "430      NaN  NaN  NaN             NaN  \n",
       "448      NaN  NaN  NaN             NaN  \n",
       "478      NaN  NaN  NaN             NaN  "
      ]
     },
     "execution_count": 17,
     "metadata": {},
     "output_type": "execute_result"
    }
   ],
   "source": [
    "combined[combined['city'].isna()][:18]"
   ]
  },
  {
   "cell_type": "markdown",
   "metadata": {},
   "source": [
    "Won't get to all of these but probably can fix the 'saint's.  \n",
    "How are they spelled in the csv?"
   ]
  },
  {
   "cell_type": "code",
   "execution_count": 18,
   "metadata": {},
   "outputs": [
    {
     "data": {
      "text/html": [
       "<div>\n",
       "<style scoped>\n",
       "    .dataframe tbody tr th:only-of-type {\n",
       "        vertical-align: middle;\n",
       "    }\n",
       "\n",
       "    .dataframe tbody tr th {\n",
       "        vertical-align: top;\n",
       "    }\n",
       "\n",
       "    .dataframe thead th {\n",
       "        text-align: right;\n",
       "    }\n",
       "</style>\n",
       "<table border=\"1\" class=\"dataframe\">\n",
       "  <thead>\n",
       "    <tr style=\"text-align: right;\">\n",
       "      <th></th>\n",
       "      <th>city</th>\n",
       "      <th>state_id</th>\n",
       "      <th>lat</th>\n",
       "      <th>lng</th>\n",
       "      <th>comb_city_state</th>\n",
       "    </tr>\n",
       "  </thead>\n",
       "  <tbody>\n",
       "    <tr>\n",
       "      <th>657</th>\n",
       "      <td>Saint John</td>\n",
       "      <td>WA</td>\n",
       "      <td>47.0915</td>\n",
       "      <td>-117.5887</td>\n",
       "      <td>Saint John, WA, US</td>\n",
       "    </tr>\n",
       "    <tr>\n",
       "      <th>1232</th>\n",
       "      <td>Saint Charles</td>\n",
       "      <td>VA</td>\n",
       "      <td>36.8052</td>\n",
       "      <td>-83.0575</td>\n",
       "      <td>Saint Charles, VA, US</td>\n",
       "    </tr>\n",
       "    <tr>\n",
       "      <th>1592</th>\n",
       "      <td>Saint Paul</td>\n",
       "      <td>VA</td>\n",
       "      <td>36.9069</td>\n",
       "      <td>-82.3164</td>\n",
       "      <td>Saint Paul, VA, US</td>\n",
       "    </tr>\n",
       "  </tbody>\n",
       "</table>\n",
       "</div>"
      ],
      "text/plain": [
       "               city state_id      lat       lng        comb_city_state\n",
       "657      Saint John       WA  47.0915 -117.5887     Saint John, WA, US\n",
       "1232  Saint Charles       VA  36.8052  -83.0575  Saint Charles, VA, US\n",
       "1592     Saint Paul       VA  36.9069  -82.3164     Saint Paul, VA, US"
      ]
     },
     "execution_count": 18,
     "metadata": {},
     "output_type": "execute_result"
    }
   ],
   "source": [
    "cities_df[cities_df['city'].str.contains('Saint ')][:3]"
   ]
  },
  {
   "cell_type": "code",
   "execution_count": 19,
   "metadata": {},
   "outputs": [
    {
     "name": "stdout",
     "output_type": "stream",
     "text": [
      "(249, 5)\n",
      "(1, 5)\n",
      "(0, 5)\n"
     ]
    }
   ],
   "source": [
    "print(cities_df[cities_df['comb_city_state'].str.contains('Saint ')].shape)\n",
    "print(cities_df[cities_df['comb_city_state'].str.contains('St. ')].shape)\n",
    "print(cities_df[cities_df['comb_city_state'].str.contains('St ')].shape)"
   ]
  },
  {
   "cell_type": "code",
   "execution_count": 20,
   "metadata": {},
   "outputs": [
    {
     "data": {
      "text/html": [
       "<div>\n",
       "<style scoped>\n",
       "    .dataframe tbody tr th:only-of-type {\n",
       "        vertical-align: middle;\n",
       "    }\n",
       "\n",
       "    .dataframe tbody tr th {\n",
       "        vertical-align: top;\n",
       "    }\n",
       "\n",
       "    .dataframe thead th {\n",
       "        text-align: right;\n",
       "    }\n",
       "</style>\n",
       "<table border=\"1\" class=\"dataframe\">\n",
       "  <thead>\n",
       "    <tr style=\"text-align: right;\">\n",
       "      <th></th>\n",
       "      <th>city</th>\n",
       "      <th>state_id</th>\n",
       "      <th>lat</th>\n",
       "      <th>lng</th>\n",
       "      <th>comb_city_state</th>\n",
       "    </tr>\n",
       "  </thead>\n",
       "  <tbody>\n",
       "    <tr>\n",
       "      <th>33971</th>\n",
       "      <td>St. John</td>\n",
       "      <td>KS</td>\n",
       "      <td>38.0</td>\n",
       "      <td>-98.7611</td>\n",
       "      <td>St. John, KS, US</td>\n",
       "    </tr>\n",
       "  </tbody>\n",
       "</table>\n",
       "</div>"
      ],
      "text/plain": [
       "           city state_id   lat      lng   comb_city_state\n",
       "33971  St. John       KS  38.0 -98.7611  St. John, KS, US"
      ]
     },
     "execution_count": 20,
     "metadata": {},
     "output_type": "execute_result"
    }
   ],
   "source": [
    "cities_df[cities_df['city'].str.contains('St. ')]"
   ]
  },
  {
   "cell_type": "markdown",
   "metadata": {},
   "source": [
    "In the census csv, almost all the cities with 'Saint' in the name have it spelled out, not abbreviated ('St' or 'St.')  \n",
    "Lets adjust the St John from the csv and then regularize these in our concert data"
   ]
  },
  {
   "cell_type": "code",
   "execution_count": 21,
   "metadata": {},
   "outputs": [],
   "source": [
    "# Regularize cities csv \"St. John Kansas\"\n",
    "cities_df.loc[:,'comb_city_state'] = cities_df['comb_city_state'].str.replace('St. ', 'Saint ')"
   ]
  },
  {
   "cell_type": "code",
   "execution_count": 22,
   "metadata": {},
   "outputs": [
    {
     "data": {
      "text/html": [
       "<div>\n",
       "<style scoped>\n",
       "    .dataframe tbody tr th:only-of-type {\n",
       "        vertical-align: middle;\n",
       "    }\n",
       "\n",
       "    .dataframe tbody tr th {\n",
       "        vertical-align: top;\n",
       "    }\n",
       "\n",
       "    .dataframe thead th {\n",
       "        text-align: right;\n",
       "    }\n",
       "</style>\n",
       "<table border=\"1\" class=\"dataframe\">\n",
       "  <thead>\n",
       "    <tr style=\"text-align: right;\">\n",
       "      <th></th>\n",
       "      <th>city</th>\n",
       "      <th>state_id</th>\n",
       "      <th>lat</th>\n",
       "      <th>lng</th>\n",
       "      <th>comb_city_state</th>\n",
       "    </tr>\n",
       "  </thead>\n",
       "  <tbody>\n",
       "  </tbody>\n",
       "</table>\n",
       "</div>"
      ],
      "text/plain": [
       "Empty DataFrame\n",
       "Columns: [city, state_id, lat, lng, comb_city_state]\n",
       "Index: []"
      ]
     },
     "execution_count": 22,
     "metadata": {},
     "output_type": "execute_result"
    }
   ],
   "source": [
    "cities_df[cities_df['comb_city_state'].str.contains('St. ')]"
   ]
  },
  {
   "cell_type": "code",
   "execution_count": 23,
   "metadata": {},
   "outputs": [
    {
     "name": "stdout",
     "output_type": "stream",
     "text": [
      "(20, 3)\n",
      "(58, 3)\n",
      "(73, 3)\n"
     ]
    }
   ],
   "source": [
    "print(recent_domestic_df[recent_domestic_df['location'].str.contains('Saint ')].shape)\n",
    "print(recent_domestic_df[recent_domestic_df['location'].str.contains('St. ')].shape)\n",
    "print(recent_domestic_df[recent_domestic_df['location'].str.contains('St ')].shape)"
   ]
  },
  {
   "cell_type": "code",
   "execution_count": 24,
   "metadata": {},
   "outputs": [],
   "source": [
    "recent_domestic_df.loc[:, 'location'] = recent_domestic_df['location'].str.replace('St. ', 'St ')\n",
    "recent_domestic_df.loc[:, 'location'] = recent_domestic_df['location'].str.replace('St ', 'Saint ')"
   ]
  },
  {
   "cell_type": "code",
   "execution_count": 25,
   "metadata": {},
   "outputs": [
    {
     "data": {
      "text/html": [
       "<div>\n",
       "<style scoped>\n",
       "    .dataframe tbody tr th:only-of-type {\n",
       "        vertical-align: middle;\n",
       "    }\n",
       "\n",
       "    .dataframe tbody tr th {\n",
       "        vertical-align: top;\n",
       "    }\n",
       "\n",
       "    .dataframe thead th {\n",
       "        text-align: right;\n",
       "    }\n",
       "</style>\n",
       "<table border=\"1\" class=\"dataframe\">\n",
       "  <thead>\n",
       "    <tr style=\"text-align: right;\">\n",
       "      <th></th>\n",
       "      <th>artist</th>\n",
       "      <th>date</th>\n",
       "      <th>location</th>\n",
       "    </tr>\n",
       "  </thead>\n",
       "  <tbody>\n",
       "  </tbody>\n",
       "</table>\n",
       "</div>"
      ],
      "text/plain": [
       "Empty DataFrame\n",
       "Columns: [artist, date, location]\n",
       "Index: []"
      ]
     },
     "metadata": {},
     "output_type": "display_data"
    },
    {
     "data": {
      "text/html": [
       "<div>\n",
       "<style scoped>\n",
       "    .dataframe tbody tr th:only-of-type {\n",
       "        vertical-align: middle;\n",
       "    }\n",
       "\n",
       "    .dataframe tbody tr th {\n",
       "        vertical-align: top;\n",
       "    }\n",
       "\n",
       "    .dataframe thead th {\n",
       "        text-align: right;\n",
       "    }\n",
       "</style>\n",
       "<table border=\"1\" class=\"dataframe\">\n",
       "  <thead>\n",
       "    <tr style=\"text-align: right;\">\n",
       "      <th></th>\n",
       "      <th>artist</th>\n",
       "      <th>date</th>\n",
       "      <th>location</th>\n",
       "    </tr>\n",
       "  </thead>\n",
       "  <tbody>\n",
       "  </tbody>\n",
       "</table>\n",
       "</div>"
      ],
      "text/plain": [
       "Empty DataFrame\n",
       "Columns: [artist, date, location]\n",
       "Index: []"
      ]
     },
     "metadata": {},
     "output_type": "display_data"
    }
   ],
   "source": [
    "display(recent_domestic_df[recent_domestic_df['location'].str.contains('St. ')])\n",
    "display(recent_domestic_df[recent_domestic_df['location'].str.contains('St ')])"
   ]
  },
  {
   "cell_type": "code",
   "execution_count": 26,
   "metadata": {},
   "outputs": [],
   "source": [
    "combined = pd.merge(left=recent_domestic_df, right=cities_df,\n",
    "             left_on='location', right_on='comb_city_state', how='left')"
   ]
  },
  {
   "cell_type": "code",
   "execution_count": 27,
   "metadata": {},
   "outputs": [
    {
     "name": "stdout",
     "output_type": "stream",
     "text": [
      "(8642, 8)\n"
     ]
    },
    {
     "data": {
      "text/plain": [
       "artist               0\n",
       "date                 0\n",
       "location             0\n",
       "city               145\n",
       "state_id           145\n",
       "lat                145\n",
       "lng                145\n",
       "comb_city_state    145\n",
       "dtype: int64"
      ]
     },
     "execution_count": 27,
     "metadata": {},
     "output_type": "execute_result"
    }
   ],
   "source": [
    "print(combined.shape)\n",
    "combined.isna().sum()"
   ]
  },
  {
   "cell_type": "code",
   "execution_count": 28,
   "metadata": {},
   "outputs": [
    {
     "name": "stdout",
     "output_type": "stream",
     "text": [
      "145 out of 8787, or 0.98%... Not bad\n"
     ]
    }
   ],
   "source": [
    "n = 145\n",
    "N = 8642 + 145\n",
    "print(f'{n} out of {N}, or {1- round(n/N,2)}%... Not bad')"
   ]
  },
  {
   "cell_type": "code",
   "execution_count": 29,
   "metadata": {},
   "outputs": [],
   "source": [
    "combined.dropna(inplace=True)   # Getting rid of those nan's"
   ]
  },
  {
   "cell_type": "code",
   "execution_count": 30,
   "metadata": {},
   "outputs": [
    {
     "data": {
      "text/html": [
       "<div>\n",
       "<style scoped>\n",
       "    .dataframe tbody tr th:only-of-type {\n",
       "        vertical-align: middle;\n",
       "    }\n",
       "\n",
       "    .dataframe tbody tr th {\n",
       "        vertical-align: top;\n",
       "    }\n",
       "\n",
       "    .dataframe thead th {\n",
       "        text-align: right;\n",
       "    }\n",
       "</style>\n",
       "<table border=\"1\" class=\"dataframe\">\n",
       "  <thead>\n",
       "    <tr style=\"text-align: right;\">\n",
       "      <th></th>\n",
       "      <th>artist</th>\n",
       "      <th>date</th>\n",
       "      <th>location</th>\n",
       "      <th>city</th>\n",
       "      <th>state_id</th>\n",
       "      <th>lat</th>\n",
       "      <th>lng</th>\n",
       "      <th>comb_city_state</th>\n",
       "    </tr>\n",
       "  </thead>\n",
       "  <tbody>\n",
       "    <tr>\n",
       "      <th>0</th>\n",
       "      <td>2 Chainz</td>\n",
       "      <td>2019-06-30 05:30:00</td>\n",
       "      <td>Las Vegas, NV, US</td>\n",
       "      <td>Las Vegas</td>\n",
       "      <td>NV</td>\n",
       "      <td>36.2291</td>\n",
       "      <td>-115.2607</td>\n",
       "      <td>Las Vegas, NV, US</td>\n",
       "    </tr>\n",
       "    <tr>\n",
       "      <th>1</th>\n",
       "      <td>2 Chainz</td>\n",
       "      <td>2019-08-10 00:00:00</td>\n",
       "      <td>Anaheim, CA, US</td>\n",
       "      <td>Anaheim</td>\n",
       "      <td>CA</td>\n",
       "      <td>33.8390</td>\n",
       "      <td>-117.8572</td>\n",
       "      <td>Anaheim, CA, US</td>\n",
       "    </tr>\n",
       "    <tr>\n",
       "      <th>2</th>\n",
       "      <td>2 Chainz</td>\n",
       "      <td>2019-08-24 22:00:00</td>\n",
       "      <td>Atlanta, GA, US</td>\n",
       "      <td>Atlanta</td>\n",
       "      <td>GA</td>\n",
       "      <td>33.7626</td>\n",
       "      <td>-84.4228</td>\n",
       "      <td>Atlanta, GA, US</td>\n",
       "    </tr>\n",
       "    <tr>\n",
       "      <th>3</th>\n",
       "      <td>2 Chainz</td>\n",
       "      <td>2019-05-27 05:30:00</td>\n",
       "      <td>Las Vegas, NV, US</td>\n",
       "      <td>Las Vegas</td>\n",
       "      <td>NV</td>\n",
       "      <td>36.2291</td>\n",
       "      <td>-115.2607</td>\n",
       "      <td>Las Vegas, NV, US</td>\n",
       "    </tr>\n",
       "    <tr>\n",
       "      <th>4</th>\n",
       "      <td>2 Chainz</td>\n",
       "      <td>2019-05-19 00:00:00</td>\n",
       "      <td>Detroit, MI, US</td>\n",
       "      <td>Detroit</td>\n",
       "      <td>MI</td>\n",
       "      <td>42.3834</td>\n",
       "      <td>-83.1024</td>\n",
       "      <td>Detroit, MI, US</td>\n",
       "    </tr>\n",
       "  </tbody>\n",
       "</table>\n",
       "</div>"
      ],
      "text/plain": [
       "     artist                date           location       city state_id  \\\n",
       "0  2 Chainz 2019-06-30 05:30:00  Las Vegas, NV, US  Las Vegas       NV   \n",
       "1  2 Chainz 2019-08-10 00:00:00    Anaheim, CA, US    Anaheim       CA   \n",
       "2  2 Chainz 2019-08-24 22:00:00    Atlanta, GA, US    Atlanta       GA   \n",
       "3  2 Chainz 2019-05-27 05:30:00  Las Vegas, NV, US  Las Vegas       NV   \n",
       "4  2 Chainz 2019-05-19 00:00:00    Detroit, MI, US    Detroit       MI   \n",
       "\n",
       "       lat       lng    comb_city_state  \n",
       "0  36.2291 -115.2607  Las Vegas, NV, US  \n",
       "1  33.8390 -117.8572    Anaheim, CA, US  \n",
       "2  33.7626  -84.4228    Atlanta, GA, US  \n",
       "3  36.2291 -115.2607  Las Vegas, NV, US  \n",
       "4  42.3834  -83.1024    Detroit, MI, US  "
      ]
     },
     "execution_count": 30,
     "metadata": {},
     "output_type": "execute_result"
    }
   ],
   "source": [
    "combined.head()"
   ]
  },
  {
   "cell_type": "code",
   "execution_count": 31,
   "metadata": {},
   "outputs": [],
   "source": [
    "combined['comb_lat_long'] = combined.lat.astype(str) + ', ' + combined.lng.astype(str)\n",
    "# combined['comb_lat_long'] = combined['comb_lat_long'].str.split(', ')"
   ]
  },
  {
   "cell_type": "code",
   "execution_count": 32,
   "metadata": {},
   "outputs": [
    {
     "data": {
      "text/html": [
       "<div>\n",
       "<style scoped>\n",
       "    .dataframe tbody tr th:only-of-type {\n",
       "        vertical-align: middle;\n",
       "    }\n",
       "\n",
       "    .dataframe tbody tr th {\n",
       "        vertical-align: top;\n",
       "    }\n",
       "\n",
       "    .dataframe thead th {\n",
       "        text-align: right;\n",
       "    }\n",
       "</style>\n",
       "<table border=\"1\" class=\"dataframe\">\n",
       "  <thead>\n",
       "    <tr style=\"text-align: right;\">\n",
       "      <th></th>\n",
       "      <th>artist</th>\n",
       "      <th>date</th>\n",
       "      <th>location</th>\n",
       "      <th>city</th>\n",
       "      <th>state_id</th>\n",
       "      <th>lat</th>\n",
       "      <th>lng</th>\n",
       "      <th>comb_city_state</th>\n",
       "      <th>comb_lat_long</th>\n",
       "    </tr>\n",
       "  </thead>\n",
       "  <tbody>\n",
       "    <tr>\n",
       "      <th>0</th>\n",
       "      <td>2 Chainz</td>\n",
       "      <td>2019-06-30 05:30:00</td>\n",
       "      <td>Las Vegas, NV, US</td>\n",
       "      <td>Las Vegas</td>\n",
       "      <td>NV</td>\n",
       "      <td>36.2291</td>\n",
       "      <td>-115.2607</td>\n",
       "      <td>Las Vegas, NV, US</td>\n",
       "      <td>36.2291, -115.2607</td>\n",
       "    </tr>\n",
       "    <tr>\n",
       "      <th>1</th>\n",
       "      <td>2 Chainz</td>\n",
       "      <td>2019-08-10 00:00:00</td>\n",
       "      <td>Anaheim, CA, US</td>\n",
       "      <td>Anaheim</td>\n",
       "      <td>CA</td>\n",
       "      <td>33.8390</td>\n",
       "      <td>-117.8572</td>\n",
       "      <td>Anaheim, CA, US</td>\n",
       "      <td>33.839, -117.8572</td>\n",
       "    </tr>\n",
       "    <tr>\n",
       "      <th>2</th>\n",
       "      <td>2 Chainz</td>\n",
       "      <td>2019-08-24 22:00:00</td>\n",
       "      <td>Atlanta, GA, US</td>\n",
       "      <td>Atlanta</td>\n",
       "      <td>GA</td>\n",
       "      <td>33.7626</td>\n",
       "      <td>-84.4228</td>\n",
       "      <td>Atlanta, GA, US</td>\n",
       "      <td>33.7626, -84.4228</td>\n",
       "    </tr>\n",
       "    <tr>\n",
       "      <th>3</th>\n",
       "      <td>2 Chainz</td>\n",
       "      <td>2019-05-27 05:30:00</td>\n",
       "      <td>Las Vegas, NV, US</td>\n",
       "      <td>Las Vegas</td>\n",
       "      <td>NV</td>\n",
       "      <td>36.2291</td>\n",
       "      <td>-115.2607</td>\n",
       "      <td>Las Vegas, NV, US</td>\n",
       "      <td>36.2291, -115.2607</td>\n",
       "    </tr>\n",
       "    <tr>\n",
       "      <th>4</th>\n",
       "      <td>2 Chainz</td>\n",
       "      <td>2019-05-19 00:00:00</td>\n",
       "      <td>Detroit, MI, US</td>\n",
       "      <td>Detroit</td>\n",
       "      <td>MI</td>\n",
       "      <td>42.3834</td>\n",
       "      <td>-83.1024</td>\n",
       "      <td>Detroit, MI, US</td>\n",
       "      <td>42.3834, -83.1024</td>\n",
       "    </tr>\n",
       "  </tbody>\n",
       "</table>\n",
       "</div>"
      ],
      "text/plain": [
       "     artist                date           location       city state_id  \\\n",
       "0  2 Chainz 2019-06-30 05:30:00  Las Vegas, NV, US  Las Vegas       NV   \n",
       "1  2 Chainz 2019-08-10 00:00:00    Anaheim, CA, US    Anaheim       CA   \n",
       "2  2 Chainz 2019-08-24 22:00:00    Atlanta, GA, US    Atlanta       GA   \n",
       "3  2 Chainz 2019-05-27 05:30:00  Las Vegas, NV, US  Las Vegas       NV   \n",
       "4  2 Chainz 2019-05-19 00:00:00    Detroit, MI, US    Detroit       MI   \n",
       "\n",
       "       lat       lng    comb_city_state       comb_lat_long  \n",
       "0  36.2291 -115.2607  Las Vegas, NV, US  36.2291, -115.2607  \n",
       "1  33.8390 -117.8572    Anaheim, CA, US   33.839, -117.8572  \n",
       "2  33.7626  -84.4228    Atlanta, GA, US   33.7626, -84.4228  \n",
       "3  36.2291 -115.2607  Las Vegas, NV, US  36.2291, -115.2607  \n",
       "4  42.3834  -83.1024    Detroit, MI, US   42.3834, -83.1024  "
      ]
     },
     "execution_count": 32,
     "metadata": {},
     "output_type": "execute_result"
    }
   ],
   "source": [
    "combined.head()"
   ]
  },
  {
   "cell_type": "markdown",
   "metadata": {},
   "source": [
    "### Can we iterate over two artists?"
   ]
  },
  {
   "cell_type": "code",
   "execution_count": 43,
   "metadata": {},
   "outputs": [],
   "source": [
    "from sklearn.neighbors import  NearestNeighbors"
   ]
  },
  {
   "cell_type": "code",
   "execution_count": 146,
   "metadata": {},
   "outputs": [
    {
     "data": {
      "text/plain": [
       "location    Cincinnati, OH, US\n",
       "lat                    39.1412\n",
       "lng                   -84.5059\n",
       "Name: 62, dtype: object"
      ]
     },
     "execution_count": 146,
     "metadata": {},
     "output_type": "execute_result"
    }
   ],
   "source": [
    "artist_df.loc[62]"
   ]
  },
  {
   "cell_type": "code",
   "execution_count": 207,
   "metadata": {},
   "outputs": [
    {
     "data": {
      "text/plain": [
       "'3 Doors Down'"
      ]
     },
     "execution_count": 207,
     "metadata": {},
     "output_type": "execute_result"
    }
   ],
   "source": [
    "artists = combined['artist'].unique()\n",
    "artists"
   ]
  },
  {
   "cell_type": "code",
   "execution_count": 209,
   "metadata": {},
   "outputs": [
    {
     "name": "stdout",
     "output_type": "stream",
     "text": [
      "main:  5 Seconds of Summer\n",
      "sim:  6LACK\n"
     ]
    }
   ],
   "source": [
    "main_artist = artists[4]\n",
    "sim_artist = artists[6]\n",
    "print('main: ', main_artist)\n",
    "print('sim: ', sim_artists)"
   ]
  },
  {
   "cell_type": "code",
   "execution_count": 237,
   "metadata": {},
   "outputs": [
    {
     "name": "stdout",
     "output_type": "stream",
     "text": [
      "(59, 3)\n"
     ]
    },
    {
     "data": {
      "text/plain": [
       "(             location      lat      lng\n",
       " 0  Cincinnati, OH, US  39.1412 -84.5059\n",
       " 1      Boston, MA, US  42.3188 -71.0846,\n",
       "                  location      lat      lng\n",
       " 57  Silver Spring, MD, US  39.0028 -77.0207\n",
       " 58  The Woodlands, TX, US  30.1738 -95.5134)"
      ]
     },
     "execution_count": 237,
     "metadata": {},
     "output_type": "execute_result"
    }
   ],
   "source": [
    "main_artist_df = combined.loc[combined['artist']==main_artist,\n",
    "                              ['location', 'lat', 'lng']]\n",
    "main_artist_df.drop_duplicates(subset='location', inplace=True)\n",
    "main_artist_df.reset_index(drop=True, inplace=True)    \n",
    "                                                                        # concerts dataframe for main artist\n",
    "print(main_artist_df.shape)\n",
    "main_artist_df.head(2), main_artist_df.tail(2)"
   ]
  },
  {
   "cell_type": "code",
   "execution_count": 238,
   "metadata": {},
   "outputs": [],
   "source": [
    "main_artist_places = main_artist_df['location'].unique()       \n",
    "                                    # These are the unique string locations eg. 'Manhattan, NY, US'\n",
    "# main_artist_places"
   ]
  },
  {
   "cell_type": "code",
   "execution_count": 248,
   "metadata": {},
   "outputs": [
    {
     "data": {
      "text/plain": [
       "NearestNeighbors(algorithm='auto', leaf_size=30, metric='cosine',\n",
       "                 metric_params=None, n_jobs=-1, n_neighbors=1, p=2, radius=1)"
      ]
     },
     "execution_count": 248,
     "metadata": {},
     "output_type": "execute_result"
    }
   ],
   "source": [
    "nn = NearestNeighbors(n_neighbors=1, radius=1, n_jobs=-1, metric='cosine')     \n",
    "nn.fit(main_artist_df[['lat', 'lng']],)                                  # Train nn to remember 2chainz lat longs"
   ]
  },
  {
   "cell_type": "code",
   "execution_count": 249,
   "metadata": {},
   "outputs": [],
   "source": [
    "sim_artists_places = combined.loc[combined['artist']==sim_artist,'location'].unique()\n",
    "# sim_artists_places"
   ]
  },
  {
   "cell_type": "code",
   "execution_count": 250,
   "metadata": {},
   "outputs": [
    {
     "name": "stdout",
     "output_type": "stream",
     "text": [
      "Memphis, TN, US \n",
      "         lat      lng\n",
      "85  35.1047 -89.9773\n",
      "           location      lat       lng\n",
      "41  Seattle, WA, US  47.6211 -122.3244\n",
      "27  Wichita, KS, US  37.6897  -97.3442\n",
      "35   Tacoma, WA, US  47.2431 -122.4531\n",
      "45   Rogers, AR, US  36.3173  -94.1514\n",
      "12  Atlanta, GA, US  33.7626  -84.4228\n",
      "[[2.71559496e-07 3.33082249e-06 7.13093821e-06 7.37188759e-06\n",
      "  3.57263000e-05]] [[41 27 35 45 12]] \n",
      "\n",
      "\n",
      "Huntington, WV, US \n",
      "          lat      lng\n",
      "595  38.4109 -82.4344\n",
      "                location      lat      lng\n",
      "0     Cincinnati, OH, US  39.1412 -84.5059\n",
      "21  Indianapolis, IN, US  39.7771 -86.1458\n",
      "4        Chicago, IL, US  41.8373 -87.6861\n",
      "37      Rosemont, IL, US  41.9890 -87.8717\n",
      "8       Columbus, OH, US  39.9860 -82.9852\n",
      "[[2.61416609e-06 6.01751448e-06 4.17418659e-05 4.72598821e-05\n",
      "  8.41609439e-05]] [[ 0 21  4 37  8]] \n",
      "\n",
      "\n",
      "Landover, MD, US \n",
      "          lat      lng\n",
      "596  38.9241 -76.8875\n",
      "                 location      lat      lng\n",
      "57  Silver Spring, MD, US  39.0028 -77.0207\n",
      "6      Pittsburgh, PA, US  40.4396 -79.9763\n",
      "9      Washington, DC, US  38.9047 -77.0163\n",
      "53         Vienna, VA, US  38.8996 -77.2597\n",
      "3         Detroit, MI, US  42.3834 -83.1024\n",
      "[[6.77966039e-09 1.15112520e-07 3.82648796e-07 2.41159696e-06\n",
      "  4.48122849e-06]] [[57  6  9 53  3]] \n",
      "\n",
      "\n",
      "Chapel Hill, NC, US \n",
      "          lat     lng\n",
      "597  35.9269 -79.039\n",
      "                location      lat      lng\n",
      "21  Indianapolis, IN, US  39.7771 -86.1458\n",
      "0     Cincinnati, OH, US  39.1412 -84.5059\n",
      "20    Louisville, KY, US  38.1662 -85.6488\n",
      "47     Charlotte, NC, US  35.2079 -80.8303\n",
      "4        Chicago, IL, US  41.8373 -87.6861\n",
      "[[1.76826477e-05 2.54146492e-05 2.75935784e-05 1.25327791e-04\n",
      "  1.72102194e-04]] [[21  0 20 47  4]] \n",
      "\n",
      "\n",
      "Raleigh, NC, US \n",
      "         lat      lng\n",
      "44  35.8323 -78.6439\n",
      "                location      lat      lng\n",
      "21  Indianapolis, IN, US  39.7771 -86.1458\n",
      "0     Cincinnati, OH, US  39.1412 -84.5059\n",
      "20    Louisville, KY, US  38.1662 -85.6488\n",
      "47     Charlotte, NC, US  35.2079 -80.8303\n",
      "4        Chicago, IL, US  41.8373 -87.6861\n",
      "[[1.27592500e-05 1.94324983e-05 3.46452467e-05 1.39902430e-04\n",
      "  1.55893487e-04]] [[21  0 20 47  4]] \n",
      "\n",
      "\n",
      "West Hollywood, CA, US \n",
      "          lat       lng\n",
      "210  34.0883 -118.3719\n",
      "               location      lat       lng\n",
      "40  Los Angeles, CA, US  34.1139 -118.4068\n",
      "32    Inglewood, CA, US  33.9566 -118.3444\n",
      "38       Carson, CA, US  33.8374 -118.2559\n",
      "31    San Diego, CA, US  32.8312 -117.1226\n",
      "30      Phoenix, AZ, US  33.5722 -112.0891\n",
      "[[7.35233574e-09 4.66681288e-07 1.44359331e-06 2.51274363e-05\n",
      "  5.63993809e-05]] [[40 32 38 31 30]] \n",
      "\n",
      "\n",
      "Miami Beach, FL, US \n",
      "        lat      lng\n",
      "8  25.8171 -80.1396\n",
      "                 location      lat       lng\n",
      "13          Miami, FL, US  25.7840  -80.2102\n",
      "34     Sacramento, CA, US  38.5667 -121.4683\n",
      "58  The Woodlands, TX, US  30.1738  -95.5134\n",
      "46      Las Vegas, NV, US  36.2291 -115.2607\n",
      "19        Houston, TX, US  29.7868  -95.3905\n",
      "[[1.99008843e-07 8.88769258e-06 1.60373267e-05 2.52656912e-05\n",
      "  4.03711644e-05]] [[13 34 58 46 19]] \n",
      "\n",
      "\n",
      "Albuquerque, NM, US \n",
      "          lat       lng\n",
      "170  35.1053 -106.6464\n",
      "               location      lat      lng\n",
      "16  New Orleans, LA, US  30.0687 -89.9288\n",
      "13        Miami, FL, US  25.7840 -80.2102\n",
      "44       Irving, TX, US  32.8584 -96.9702\n",
      "17       Dallas, TX, US  32.7937 -96.7662\n",
      "14        Tampa, FL, US  27.9937 -82.4454\n",
      "[[1.09146121e-05 2.43641454e-05 3.78847693e-05 3.82426954e-05\n",
      "  4.34776341e-05]] [[16 13 44 17 14]] \n",
      "\n",
      "\n",
      "Oakland, CA, US \n",
      "         lat       lng\n",
      "75  37.7903 -122.2165\n",
      "                 location      lat       lng\n",
      "43     Sugar Land, TX, US  29.5965  -95.6293\n",
      "18         Austin, TX, US  30.3006  -97.7517\n",
      "33  San Francisco, CA, US  37.7562 -122.4430\n",
      "19        Houston, TX, US  29.7868  -95.3905\n",
      "42       San Jose, CA, US  37.3018 -121.8485\n",
      "[[3.36208044e-08 2.45152521e-07 3.01437355e-07 3.87799034e-06\n",
      "  3.94606057e-06]] [[43 18 33 19 42]] \n",
      "\n",
      "\n",
      "Royal Oak, MI, US \n",
      "          lat      lng\n",
      "179  42.5084 -83.1539\n",
      "                   location      lat      lng\n",
      "3           Detroit, MI, US  42.3834 -83.1024\n",
      "50  Rochester Hills, MI, US  42.6645 -83.1563\n",
      "57    Silver Spring, MD, US  39.0028 -77.0207\n",
      "6        Pittsburgh, PA, US  40.4396 -79.9763\n",
      "9        Washington, DC, US  38.9047 -77.0163\n",
      "[[4.43509604e-07 1.08847959e-06 7.29279142e-06 9.74773970e-06\n",
      "  1.15697946e-05]] [[ 3 50 57  6  9]] \n",
      "\n",
      "\n",
      "Millvale, PA, US \n",
      "          lat      lng\n",
      "623  40.4817 -79.9736\n",
      "                 location      lat      lng\n",
      "57  Silver Spring, MD, US  39.0028 -77.0207\n",
      "6      Pittsburgh, PA, US  40.4396 -79.9763\n",
      "9      Washington, DC, US  38.9047 -77.0163\n",
      "53         Vienna, VA, US  38.8996 -77.2597\n",
      "3         Detroit, MI, US  42.3834 -83.1024\n",
      "[[1.33704879e-08 9.36300193e-08 3.42569062e-07 2.30930456e-06\n",
      "  4.62328834e-06]] [[57  6  9 53  3]] \n",
      "\n",
      "\n",
      "Cleveland, OH, US \n",
      "          lat      lng\n",
      "143  41.4767 -81.6805\n",
      "                 location      lat      lng\n",
      "57  Silver Spring, MD, US  39.0028 -77.0207\n",
      "6      Pittsburgh, PA, US  40.4396 -79.9763\n",
      "3         Detroit, MI, US  42.3834 -83.1024\n",
      "9      Washington, DC, US  38.9047 -77.0163\n",
      "53         Vienna, VA, US  38.8996 -77.2597\n",
      "[[6.18507709e-07 1.45944173e-06 1.55775490e-06 2.21229098e-06\n",
      "  5.86473842e-06]] [[57  6  3  9 53]] \n",
      "\n",
      "\n",
      "Costa Mesa, CA, US \n",
      "          lat       lng\n",
      "314  33.6667 -117.9135\n",
      "               location      lat       lng\n",
      "38       Carson, CA, US  33.8374 -118.2559\n",
      "32    Inglewood, CA, US  33.9566 -118.3444\n",
      "40  Los Angeles, CA, US  34.1139 -118.4068\n",
      "31    San Diego, CA, US  32.8312 -117.1226\n",
      "30      Phoenix, AZ, US  33.5722 -112.0891\n",
      "[[1.62561643e-07 8.49245048e-07 2.85755740e-06 1.16147971e-05\n",
      "  8.30761171e-05]] [[38 32 40 31 30]] \n",
      "\n",
      "\n",
      "Chula Vista, CA, US \n",
      "          lat       lng\n",
      "645  32.6281 -117.0145\n",
      "               location      lat       lng\n",
      "31    San Diego, CA, US  32.8312 -117.1226\n",
      "38       Carson, CA, US  33.8374 -118.2559\n",
      "32    Inglewood, CA, US  33.9566 -118.3444\n",
      "40  Los Angeles, CA, US  34.1139 -118.4068\n",
      "30      Phoenix, AZ, US  33.5722 -112.0891\n",
      "[[9.37991477e-07 2.28458388e-05 2.80696987e-05 3.68080614e-05\n",
      "  1.82007631e-04]] [[31 38 32 40 30]] \n",
      "\n",
      "\n",
      "Maryland Heights, MO, US \n",
      "          lat      lng\n",
      "266  38.7188 -90.4749\n",
      "               location      lat      lng\n",
      "22  Saint Louis, MO, US  38.6358 -90.2451\n",
      "47    Charlotte, NC, US  35.2079 -80.8303\n",
      "11    Nashville, TN, US  36.1714 -86.7844\n",
      "26  Kansas City, MO, US  39.1239 -94.5541\n",
      "20   Louisville, KY, US  38.1662 -85.6488\n",
      "[[1.03233523e-08 2.06645980e-05 4.48011409e-05 7.25354838e-05\n",
      "  1.09995629e-04]] [[22 47 11 26 20]] \n",
      "\n",
      "\n",
      "Tinley Park, IL, US \n",
      "         lat      lng\n",
      "648  41.567 -87.8051\n",
      "               location      lat      lng\n",
      "4       Chicago, IL, US  41.8373 -87.6861\n",
      "37     Rosemont, IL, US  41.9890 -87.8717\n",
      "8      Columbus, OH, US  39.9860 -82.9852\n",
      "23      Madison, WI, US  43.0808 -89.3922\n",
      "51  Minneapolis, MN, US  44.9635 -93.2678\n",
      "[[4.61678930e-06 6.56621838e-06 2.36374640e-05 2.41154605e-05\n",
      "  2.50260909e-05]] [[ 4 37  8 23 51]] \n",
      "\n",
      "\n",
      "Noblesville, IN, US \n",
      "          lat     lng\n",
      "649  40.0353 -86.006\n",
      "                location      lat      lng\n",
      "0     Cincinnati, OH, US  39.1412 -84.5059\n",
      "21  Indianapolis, IN, US  39.7771 -86.1458\n",
      "4        Chicago, IL, US  41.8373 -87.6861\n",
      "37      Rosemont, IL, US  41.9890 -87.8717\n",
      "8       Columbus, OH, US  39.9860 -82.9852\n",
      "[[1.81671875e-06 4.77021101e-06 4.52898440e-05 5.10304548e-05\n",
      "  8.91684157e-05]] [[ 0 21  4 37  8]] \n",
      "\n",
      "\n",
      "Clarkston, MI, US \n",
      "          lat      lng\n",
      "650  42.7359 -83.4188\n",
      "                   location      lat      lng\n",
      "50  Rochester Hills, MI, US  42.6645 -83.1563\n",
      "3           Detroit, MI, US  42.3834 -83.1024\n",
      "57    Silver Spring, MD, US  39.0028 -77.0207\n",
      "6        Pittsburgh, PA, US  40.4396 -79.9763\n",
      "9        Washington, DC, US  38.9047 -77.0163\n",
      "[[1.80411736e-07 1.64998734e-06 1.10162176e-05 1.39927507e-05\n",
      "  1.61603297e-05]] [[50  3 57  6  9]] \n",
      "\n",
      "\n",
      "Burgettstown, PA, US \n",
      "          lat      lng\n",
      "652  40.3813 -80.3926\n",
      "                 location      lat      lng\n",
      "53         Vienna, VA, US  38.8996 -77.2597\n",
      "9      Washington, DC, US  38.9047 -77.0163\n",
      "6      Pittsburgh, PA, US  40.4396 -79.9763\n",
      "57  Silver Spring, MD, US  39.0028 -77.0207\n",
      "52        Allegan, MI, US  42.5299 -85.8462\n",
      "[[4.51253479e-07 2.57955595e-06 3.55474514e-06 5.32235867e-06\n",
      "  1.51811517e-05]] [[53  9  6 57 52]] \n",
      "\n",
      "\n",
      "Hartford, CT, US \n",
      "          lat      lng\n",
      "653  41.7661 -72.6834\n",
      "              location      lat      lng\n",
      "2   Uncasville, CT, US  41.4345 -72.1098\n",
      "1       Boston, MA, US  42.3188 -71.0846\n",
      "56    New York, NY, US  40.6943 -73.9249\n",
      "10    Brooklyn, NY, US  40.6501 -73.9496\n",
      "7      Buffalo, NY, US  42.9017 -78.8487\n",
      "[[2.15629070e-10 1.18918099e-04 1.68239978e-04 1.79425685e-04\n",
      "  2.70343167e-04]] [[ 2  1 56 10  7]] \n",
      "\n",
      "\n",
      "Camden, NJ, US \n",
      "          lat      lng\n",
      "655  39.9361 -75.1073\n",
      "                location      lat      lng\n",
      "39  Philadelphia, PA, US  40.0076 -75.1340\n",
      "55     Allentown, PA, US  40.5961 -75.4756\n",
      "49          York, PA, US  39.9651 -76.7315\n",
      "48       Holmdel, NJ, US  40.3451 -74.1840\n",
      "7        Buffalo, NY, US  42.9017 -78.8487\n",
      "[[1.76648349e-07 1.14345395e-05 3.62772251e-05 4.42710963e-05\n",
      "  4.61032999e-05]] [[39 55 49 48  7]] \n",
      "\n",
      "\n",
      "Newark, NJ, US \n",
      "          lat      lng\n",
      "173  40.7245 -74.1725\n",
      "             location      lat      lng\n",
      "10   Brooklyn, NY, US  40.6501 -73.9496\n",
      "56   New York, NY, US  40.6943 -73.9249\n",
      "7     Buffalo, NY, US  42.9017 -78.8487\n",
      "48    Holmdel, NJ, US  40.3451 -74.1840\n",
      "55  Allentown, PA, US  40.5961 -75.4756\n",
      "[[1.24218077e-07 6.03287928e-07 7.26222190e-06 8.01535655e-06\n",
      "  3.72502470e-05]] [[10 56  7 48 55]] \n",
      "\n",
      "\n",
      "Concord, CA, US \n",
      "          lat       lng\n",
      "662  37.9722 -122.0016\n",
      "                 location      lat       lng\n",
      "19        Houston, TX, US  29.7868  -95.3905\n",
      "18         Austin, TX, US  30.3006  -97.7517\n",
      "43     Sugar Land, TX, US  29.5965  -95.6293\n",
      "33  San Francisco, CA, US  37.7562 -122.4430\n",
      "46      Las Vegas, NV, US  36.2291 -115.2607\n",
      "[[4.30635986e-07 6.68967815e-07 1.27616218e-06 3.46728964e-06\n",
      "  3.93455219e-06]] [[19 18 43 33 46]] \n",
      "\n",
      "\n",
      "Auburn, WA, US \n",
      "          lat      lng\n",
      "663  47.3041 -122.211\n",
      "           location      lat       lng\n",
      "27  Wichita, KS, US  37.6897  -97.3442\n",
      "35   Tacoma, WA, US  47.2431 -122.4531\n",
      "45   Rogers, AR, US  36.3173  -94.1514\n",
      "41  Seattle, WA, US  47.6211 -122.3244\n",
      "28   Denver, CO, US  39.7621 -104.8759\n",
      "[[4.62860039e-09 6.04187170e-07 6.75741888e-07 1.88231402e-06\n",
      "  2.39350893e-05]] [[27 35 45 41 28]] \n",
      "\n",
      "\n"
     ]
    }
   ],
   "source": [
    "for place in sim_artists_places:                                                     # Iterate through 21 Savages unique cities\n",
    "    if place not in main_artist_places:                                               # If town 2Chanz hasn't played there\n",
    "                                                                                             # Get the lat lng and assign it to var\n",
    "        place_latlong = combined.loc[combined['location']==place, ['lat', 'lng']][:1] # keep it 2D array\n",
    "                                                                                            # for nn to predict on \n",
    "        print(place, '\\n', place_latlong)\n",
    "\n",
    "\n",
    "        distances, indices = nn.kneighbors(place_latlong, n_neighbors=5)\n",
    "        for idx in indices:\n",
    "            print(main_artist_df.loc[idx])\n",
    "        print(distances, indices, '\\n\\n')\n",
    "#         nn_distance, nn_index = distances[0][0], indices[0][0]\n",
    "# #         print(nn_index)\n",
    "# #         print(main_artist_df.reset_index(drop=True))\n",
    "#         neighbor = main_artist_df.loc[nn_index]\n",
    "        \n",
    "#         print('\\t-', place in main_artist_places, '-')\n",
    "#         print('_Place_ : ', place)\n",
    "#         print('_Place_latlong_ : ', place_latlong, '\\n')\n",
    "#         print('dist_to_nn: ', round(nn_distance, 4))\n",
    "        \n",
    "# #         print('nn_idx: ', nn_index)\n",
    "#         print(neighbor.values)\n",
    "#         print('\\n')"
   ]
  },
  {
   "cell_type": "code",
   "execution_count": 80,
   "metadata": {},
   "outputs": [
    {
     "data": {
      "text/html": [
       "<div>\n",
       "<style scoped>\n",
       "    .dataframe tbody tr th:only-of-type {\n",
       "        vertical-align: middle;\n",
       "    }\n",
       "\n",
       "    .dataframe tbody tr th {\n",
       "        vertical-align: top;\n",
       "    }\n",
       "\n",
       "    .dataframe thead th {\n",
       "        text-align: right;\n",
       "    }\n",
       "</style>\n",
       "<table border=\"1\" class=\"dataframe\">\n",
       "  <thead>\n",
       "    <tr style=\"text-align: right;\">\n",
       "      <th></th>\n",
       "      <th>lat</th>\n",
       "      <th>lng</th>\n",
       "    </tr>\n",
       "  </thead>\n",
       "  <tbody>\n",
       "    <tr>\n",
       "      <th>40</th>\n",
       "      <td>33.7366</td>\n",
       "      <td>-117.8819</td>\n",
       "    </tr>\n",
       "  </tbody>\n",
       "</table>\n",
       "</div>"
      ],
      "text/plain": [
       "        lat       lng\n",
       "40  33.7366 -117.8819"
      ]
     },
     "execution_count": 80,
     "metadata": {},
     "output_type": "execute_result"
    }
   ],
   "source": [
    "combined.loc[combined['location']==place, ['lat', 'lng']][0:1]"
   ]
  },
  {
   "cell_type": "code",
   "execution_count": null,
   "metadata": {},
   "outputs": [],
   "source": [
    "artist_latlongs_nx2\n",
    "nn = NearestNeighbors(algorithm=n_neighbors=1, metric='haversine')\n"
   ]
  },
  {
   "cell_type": "code",
   "execution_count": 36,
   "metadata": {},
   "outputs": [
    {
     "data": {
      "text/plain": [
       "(True, False)"
      ]
     },
     "execution_count": 36,
     "metadata": {},
     "output_type": "execute_result"
    }
   ],
   "source": [
    "1 in pd.Series([1,2,3]), 'a' in pd.Series(['a', 'b', 'c'])"
   ]
  },
  {
   "cell_type": "code",
   "execution_count": 37,
   "metadata": {},
   "outputs": [
    {
     "data": {
      "text/plain": [
       "'0.23.4'"
      ]
     },
     "execution_count": 37,
     "metadata": {},
     "output_type": "execute_result"
    }
   ],
   "source": [
    "pd.__version__"
   ]
  },
  {
   "cell_type": "code",
   "execution_count": 189,
   "metadata": {},
   "outputs": [
    {
     "data": {
      "text/plain": [
       "(array([[105.11898021]]), array([[2]]))"
      ]
     },
     "execution_count": 189,
     "metadata": {},
     "output_type": "execute_result"
    }
   ],
   "source": [
    "test_matrix = [\n",
    "    [0,0],\n",
    "    [1,9],\n",
    "    [5,5],\n",
    "    [-1,0],\n",
    "    [1,1],\n",
    "    [-3,3]\n",
    "]\n",
    "\n",
    "\n",
    "nn = NearestNeighbors(n_neighbors=1)\n",
    "nn.fit(test_matrix)\n",
    "nn.kneighbors([[110,0]])"
   ]
  },
  {
   "cell_type": "code",
   "execution_count": null,
   "metadata": {},
   "outputs": [],
   "source": []
  },
  {
   "cell_type": "code",
   "execution_count": null,
   "metadata": {},
   "outputs": [],
   "source": []
  }
 ],
 "metadata": {
  "kernelspec": {
   "display_name": "learn-env",
   "language": "python",
   "name": "learn-env"
  },
  "language_info": {
   "codemirror_mode": {
    "name": "ipython",
    "version": 3
   },
   "file_extension": ".py",
   "mimetype": "text/x-python",
   "name": "python",
   "nbconvert_exporter": "python",
   "pygments_lexer": "ipython3",
   "version": "3.6.6"
  }
 },
 "nbformat": 4,
 "nbformat_minor": 2
}
