{
 "cells": [
  {
   "cell_type": "code",
   "execution_count": 1,
   "metadata": {},
   "outputs": [],
   "source": [
    "import pandas as pd"
   ]
  },
  {
   "cell_type": "code",
   "execution_count": 2,
   "metadata": {},
   "outputs": [],
   "source": [
    "df = pd.read_json('trimmed_artists_w_flags.json', lines=True)"
   ]
  },
  {
   "cell_type": "code",
   "execution_count": 4,
   "metadata": {},
   "outputs": [
    {
     "data": {
      "text/html": [
       "<div>\n",
       "<style scoped>\n",
       "    .dataframe tbody tr th:only-of-type {\n",
       "        vertical-align: middle;\n",
       "    }\n",
       "\n",
       "    .dataframe tbody tr th {\n",
       "        vertical-align: top;\n",
       "    }\n",
       "\n",
       "    .dataframe thead th {\n",
       "        text-align: right;\n",
       "    }\n",
       "</style>\n",
       "<table border=\"1\" class=\"dataframe\">\n",
       "  <thead>\n",
       "    <tr style=\"text-align: right;\">\n",
       "      <th></th>\n",
       "      <th>artist</th>\n",
       "      <th>playlist_08CJ6fWrTA1vMfwVwAxWUl</th>\n",
       "      <th>playlist_0Gy1TwCxPFTMCiwxGLVkc1</th>\n",
       "      <th>playlist_0T22esVKW7cTZEN7XzXV14</th>\n",
       "      <th>playlist_0YMVY3uhQNd7WUf0hSByrX</th>\n",
       "      <th>playlist_0ZWYUjUMhaq0Rammqq3qu1</th>\n",
       "      <th>playlist_0bx5Dgu5yOEhST49LP67su</th>\n",
       "      <th>playlist_0fmLn46c92nP4dePQSZlsz</th>\n",
       "      <th>playlist_0k7YwkrfJ2BsRMFBP5W5xK</th>\n",
       "      <th>playlist_0yfTPCk6Cnhm9wtoEaXXlo</th>\n",
       "      <th>...</th>\n",
       "      <th>playlist_73gXbLcjix7p1pPsQClusE</th>\n",
       "      <th>playlist_7A2YimOfIrmAWkCeSIY8Rq</th>\n",
       "      <th>playlist_7EnyqmmhFgfhicejZiVV13</th>\n",
       "      <th>playlist_7EpJpnU6KrSc430F8B5tM7</th>\n",
       "      <th>playlist_7FDyC1JdV3jkGzAE9BONKt</th>\n",
       "      <th>playlist_7HQu1GUDVSx64GdCpaB88I</th>\n",
       "      <th>playlist_7JXJKP3xMvIMbEBBGApTPQ</th>\n",
       "      <th>playlist_7b9DiMN2kttG8lYQogfQBw</th>\n",
       "      <th>playlist_7fzFQUIVM4TumzRWo5UFP2</th>\n",
       "      <th>playlist_7kdOsNnHtzwncTBnI3J17w</th>\n",
       "    </tr>\n",
       "  </thead>\n",
       "  <tbody>\n",
       "    <tr>\n",
       "      <th>0</th>\n",
       "      <td>(G)I-DLE</td>\n",
       "      <td>0</td>\n",
       "      <td>0</td>\n",
       "      <td>0</td>\n",
       "      <td>0</td>\n",
       "      <td>0</td>\n",
       "      <td>0</td>\n",
       "      <td>0</td>\n",
       "      <td>0</td>\n",
       "      <td>0</td>\n",
       "      <td>...</td>\n",
       "      <td>0</td>\n",
       "      <td>0</td>\n",
       "      <td>0</td>\n",
       "      <td>0</td>\n",
       "      <td>0</td>\n",
       "      <td>0</td>\n",
       "      <td>0</td>\n",
       "      <td>0</td>\n",
       "      <td>0</td>\n",
       "      <td>0</td>\n",
       "    </tr>\n",
       "    <tr>\n",
       "      <th>1</th>\n",
       "      <td>*NSYNC</td>\n",
       "      <td>0</td>\n",
       "      <td>0</td>\n",
       "      <td>0</td>\n",
       "      <td>0</td>\n",
       "      <td>0</td>\n",
       "      <td>0</td>\n",
       "      <td>0</td>\n",
       "      <td>0</td>\n",
       "      <td>0</td>\n",
       "      <td>...</td>\n",
       "      <td>0</td>\n",
       "      <td>0</td>\n",
       "      <td>0</td>\n",
       "      <td>0</td>\n",
       "      <td>0</td>\n",
       "      <td>0</td>\n",
       "      <td>0</td>\n",
       "      <td>0</td>\n",
       "      <td>0</td>\n",
       "      <td>1</td>\n",
       "    </tr>\n",
       "  </tbody>\n",
       "</table>\n",
       "<p>2 rows × 1553 columns</p>\n",
       "</div>"
      ],
      "text/plain": [
       "     artist  playlist_08CJ6fWrTA1vMfwVwAxWUl  playlist_0Gy1TwCxPFTMCiwxGLVkc1  \\\n",
       "0  (G)I-DLE                                0                                0   \n",
       "1    *NSYNC                                0                                0   \n",
       "\n",
       "   playlist_0T22esVKW7cTZEN7XzXV14  playlist_0YMVY3uhQNd7WUf0hSByrX  \\\n",
       "0                                0                                0   \n",
       "1                                0                                0   \n",
       "\n",
       "   playlist_0ZWYUjUMhaq0Rammqq3qu1  playlist_0bx5Dgu5yOEhST49LP67su  \\\n",
       "0                                0                                0   \n",
       "1                                0                                0   \n",
       "\n",
       "   playlist_0fmLn46c92nP4dePQSZlsz  playlist_0k7YwkrfJ2BsRMFBP5W5xK  \\\n",
       "0                                0                                0   \n",
       "1                                0                                0   \n",
       "\n",
       "   playlist_0yfTPCk6Cnhm9wtoEaXXlo               ...                 \\\n",
       "0                                0               ...                  \n",
       "1                                0               ...                  \n",
       "\n",
       "   playlist_73gXbLcjix7p1pPsQClusE  playlist_7A2YimOfIrmAWkCeSIY8Rq  \\\n",
       "0                                0                                0   \n",
       "1                                0                                0   \n",
       "\n",
       "   playlist_7EnyqmmhFgfhicejZiVV13  playlist_7EpJpnU6KrSc430F8B5tM7  \\\n",
       "0                                0                                0   \n",
       "1                                0                                0   \n",
       "\n",
       "   playlist_7FDyC1JdV3jkGzAE9BONKt  playlist_7HQu1GUDVSx64GdCpaB88I  \\\n",
       "0                                0                                0   \n",
       "1                                0                                0   \n",
       "\n",
       "   playlist_7JXJKP3xMvIMbEBBGApTPQ  playlist_7b9DiMN2kttG8lYQogfQBw  \\\n",
       "0                                0                                0   \n",
       "1                                0                                0   \n",
       "\n",
       "   playlist_7fzFQUIVM4TumzRWo5UFP2  playlist_7kdOsNnHtzwncTBnI3J17w  \n",
       "0                                0                                0  \n",
       "1                                0                                1  \n",
       "\n",
       "[2 rows x 1553 columns]"
      ]
     },
     "execution_count": 4,
     "metadata": {},
     "output_type": "execute_result"
    }
   ],
   "source": [
    "df.head(2)"
   ]
  },
  {
   "cell_type": "code",
   "execution_count": 11,
   "metadata": {},
   "outputs": [
    {
     "name": "stdout",
     "output_type": "stream",
     "text": [
      "(1697,)\n"
     ]
    },
    {
     "data": {
      "text/plain": [
       "0     (G)I-DLE\n",
       "1       *NSYNC\n",
       "2     2 Chainz\n",
       "3    21 Savage\n",
       "4         2Pac\n",
       "Name: artist, dtype: object"
      ]
     },
     "execution_count": 11,
     "metadata": {},
     "output_type": "execute_result"
    }
   ],
   "source": [
    "artists = df.artist\n",
    "print(artists.shape)\n",
    "artists.head()"
   ]
  },
  {
   "cell_type": "code",
   "execution_count": null,
   "metadata": {},
   "outputs": [],
   "source": []
  }
 ],
 "metadata": {
  "kernelspec": {
   "display_name": "learn-env",
   "language": "python",
   "name": "learn-env"
  },
  "language_info": {
   "codemirror_mode": {
    "name": "ipython",
    "version": 3
   },
   "file_extension": ".py",
   "mimetype": "text/x-python",
   "name": "python",
   "nbconvert_exporter": "python",
   "pygments_lexer": "ipython3",
   "version": "3.6.6"
  }
 },
 "nbformat": 4,
 "nbformat_minor": 2
}
