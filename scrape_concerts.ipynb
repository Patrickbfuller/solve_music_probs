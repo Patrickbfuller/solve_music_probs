{
 "cells": [
  {
   "cell_type": "code",
   "execution_count": 16,
   "metadata": {},
   "outputs": [
    {
     "name": "stdout",
     "output_type": "stream",
     "text": [
      "The autoreload extension is already loaded. To reload it, use:\n",
      "  %reload_ext autoreload\n"
     ]
    }
   ],
   "source": [
    "import pandas as pd\n",
    "import json\n",
    "import time\n",
    "import random\n",
    "from selenium.webdriver import Chrome\n",
    "\n",
    "from selenium import webdriver\n",
    "from selenium.webdriver.chrome.options import Options\n",
    "\n",
    "chop = webdriver.ChromeOptions()\n",
    "chop.add_extension('AdBlocker-Ultimate_v2.36.crx')\n",
    "# driver = webdriver.Chrome(chrome_options = chop)\n",
    "\n",
    "import homebrew as hb\n",
    "%load_ext autoreload\n",
    "%autoreload 2"
   ]
  },
  {
   "cell_type": "code",
   "execution_count": 2,
   "metadata": {},
   "outputs": [],
   "source": [
    "df = pd.read_json('trimmed_artists_w_flags.json', lines=True)"
   ]
  },
  {
   "cell_type": "code",
   "execution_count": 3,
   "metadata": {},
   "outputs": [
    {
     "data": {
      "text/html": [
       "<div>\n",
       "<style scoped>\n",
       "    .dataframe tbody tr th:only-of-type {\n",
       "        vertical-align: middle;\n",
       "    }\n",
       "\n",
       "    .dataframe tbody tr th {\n",
       "        vertical-align: top;\n",
       "    }\n",
       "\n",
       "    .dataframe thead th {\n",
       "        text-align: right;\n",
       "    }\n",
       "</style>\n",
       "<table border=\"1\" class=\"dataframe\">\n",
       "  <thead>\n",
       "    <tr style=\"text-align: right;\">\n",
       "      <th></th>\n",
       "      <th>artist</th>\n",
       "      <th>playlist_08CJ6fWrTA1vMfwVwAxWUl</th>\n",
       "      <th>playlist_0Gy1TwCxPFTMCiwxGLVkc1</th>\n",
       "      <th>playlist_0T22esVKW7cTZEN7XzXV14</th>\n",
       "      <th>playlist_0YMVY3uhQNd7WUf0hSByrX</th>\n",
       "      <th>playlist_0ZWYUjUMhaq0Rammqq3qu1</th>\n",
       "      <th>playlist_0bx5Dgu5yOEhST49LP67su</th>\n",
       "      <th>playlist_0fmLn46c92nP4dePQSZlsz</th>\n",
       "      <th>playlist_0k7YwkrfJ2BsRMFBP5W5xK</th>\n",
       "      <th>playlist_0yfTPCk6Cnhm9wtoEaXXlo</th>\n",
       "      <th>...</th>\n",
       "      <th>playlist_73gXbLcjix7p1pPsQClusE</th>\n",
       "      <th>playlist_7A2YimOfIrmAWkCeSIY8Rq</th>\n",
       "      <th>playlist_7EnyqmmhFgfhicejZiVV13</th>\n",
       "      <th>playlist_7EpJpnU6KrSc430F8B5tM7</th>\n",
       "      <th>playlist_7FDyC1JdV3jkGzAE9BONKt</th>\n",
       "      <th>playlist_7HQu1GUDVSx64GdCpaB88I</th>\n",
       "      <th>playlist_7JXJKP3xMvIMbEBBGApTPQ</th>\n",
       "      <th>playlist_7b9DiMN2kttG8lYQogfQBw</th>\n",
       "      <th>playlist_7fzFQUIVM4TumzRWo5UFP2</th>\n",
       "      <th>playlist_7kdOsNnHtzwncTBnI3J17w</th>\n",
       "    </tr>\n",
       "  </thead>\n",
       "  <tbody>\n",
       "    <tr>\n",
       "      <th>0</th>\n",
       "      <td>(G)I-DLE</td>\n",
       "      <td>0</td>\n",
       "      <td>0</td>\n",
       "      <td>0</td>\n",
       "      <td>0</td>\n",
       "      <td>0</td>\n",
       "      <td>0</td>\n",
       "      <td>0</td>\n",
       "      <td>0</td>\n",
       "      <td>0</td>\n",
       "      <td>...</td>\n",
       "      <td>0</td>\n",
       "      <td>0</td>\n",
       "      <td>0</td>\n",
       "      <td>0</td>\n",
       "      <td>0</td>\n",
       "      <td>0</td>\n",
       "      <td>0</td>\n",
       "      <td>0</td>\n",
       "      <td>0</td>\n",
       "      <td>0</td>\n",
       "    </tr>\n",
       "    <tr>\n",
       "      <th>1</th>\n",
       "      <td>*NSYNC</td>\n",
       "      <td>0</td>\n",
       "      <td>0</td>\n",
       "      <td>0</td>\n",
       "      <td>0</td>\n",
       "      <td>0</td>\n",
       "      <td>0</td>\n",
       "      <td>0</td>\n",
       "      <td>0</td>\n",
       "      <td>0</td>\n",
       "      <td>...</td>\n",
       "      <td>0</td>\n",
       "      <td>0</td>\n",
       "      <td>0</td>\n",
       "      <td>0</td>\n",
       "      <td>0</td>\n",
       "      <td>0</td>\n",
       "      <td>0</td>\n",
       "      <td>0</td>\n",
       "      <td>0</td>\n",
       "      <td>1</td>\n",
       "    </tr>\n",
       "  </tbody>\n",
       "</table>\n",
       "<p>2 rows × 1553 columns</p>\n",
       "</div>"
      ],
      "text/plain": [
       "     artist  playlist_08CJ6fWrTA1vMfwVwAxWUl  playlist_0Gy1TwCxPFTMCiwxGLVkc1  \\\n",
       "0  (G)I-DLE                                0                                0   \n",
       "1    *NSYNC                                0                                0   \n",
       "\n",
       "   playlist_0T22esVKW7cTZEN7XzXV14  playlist_0YMVY3uhQNd7WUf0hSByrX  \\\n",
       "0                                0                                0   \n",
       "1                                0                                0   \n",
       "\n",
       "   playlist_0ZWYUjUMhaq0Rammqq3qu1  playlist_0bx5Dgu5yOEhST49LP67su  \\\n",
       "0                                0                                0   \n",
       "1                                0                                0   \n",
       "\n",
       "   playlist_0fmLn46c92nP4dePQSZlsz  playlist_0k7YwkrfJ2BsRMFBP5W5xK  \\\n",
       "0                                0                                0   \n",
       "1                                0                                0   \n",
       "\n",
       "   playlist_0yfTPCk6Cnhm9wtoEaXXlo               ...                 \\\n",
       "0                                0               ...                  \n",
       "1                                0               ...                  \n",
       "\n",
       "   playlist_73gXbLcjix7p1pPsQClusE  playlist_7A2YimOfIrmAWkCeSIY8Rq  \\\n",
       "0                                0                                0   \n",
       "1                                0                                0   \n",
       "\n",
       "   playlist_7EnyqmmhFgfhicejZiVV13  playlist_7EpJpnU6KrSc430F8B5tM7  \\\n",
       "0                                0                                0   \n",
       "1                                0                                0   \n",
       "\n",
       "   playlist_7FDyC1JdV3jkGzAE9BONKt  playlist_7HQu1GUDVSx64GdCpaB88I  \\\n",
       "0                                0                                0   \n",
       "1                                0                                0   \n",
       "\n",
       "   playlist_7JXJKP3xMvIMbEBBGApTPQ  playlist_7b9DiMN2kttG8lYQogfQBw  \\\n",
       "0                                0                                0   \n",
       "1                                0                                0   \n",
       "\n",
       "   playlist_7fzFQUIVM4TumzRWo5UFP2  playlist_7kdOsNnHtzwncTBnI3J17w  \n",
       "0                                0                                0  \n",
       "1                                0                                1  \n",
       "\n",
       "[2 rows x 1553 columns]"
      ]
     },
     "execution_count": 3,
     "metadata": {},
     "output_type": "execute_result"
    }
   ],
   "source": [
    "df.head(2)"
   ]
  },
  {
   "cell_type": "code",
   "execution_count": 4,
   "metadata": {},
   "outputs": [
    {
     "name": "stdout",
     "output_type": "stream",
     "text": [
      "(1697,)\n"
     ]
    },
    {
     "data": {
      "text/plain": [
       "0     (G)I-DLE\n",
       "1       *NSYNC\n",
       "2     2 Chainz\n",
       "3    21 Savage\n",
       "4         2Pac\n",
       "Name: artist, dtype: object"
      ]
     },
     "execution_count": 4,
     "metadata": {},
     "output_type": "execute_result"
    }
   ],
   "source": [
    "artists = df.artist\n",
    "print(artists.shape)\n",
    "artists.head()"
   ]
  },
  {
   "cell_type": "code",
   "execution_count": 5,
   "metadata": {},
   "outputs": [
    {
     "data": {
      "text/plain": [
       "0                                  (G)I-DLE\n",
       "1                                    *NSYNC\n",
       "2                                  2 Chainz\n",
       "3                                 21 Savage\n",
       "4                                      2Pac\n",
       "5                              3 Doors Down\n",
       "6                                      3LAU\n",
       "7                       5 Seconds of Summer\n",
       "8                                   50 Cent\n",
       "9                                     6LACK\n",
       "10                                  6ix9ine\n",
       "11                   A Boogie Wit da Hoodie\n",
       "12                        A Day To Remember\n",
       "13                            A R I Z O N A\n",
       "14                         A Touch Of Class\n",
       "15                     A Tribe Called Quest\n",
       "16                                A$AP Ferg\n",
       "17                               A$AP Rocky\n",
       "18                              A.R. Rahman\n",
       "19                                     ABBA\n",
       "20                                    AC/DC\n",
       "21                                      AJR\n",
       "22                                     ARTY\n",
       "23                            Aaron Copland\n",
       "24                                 Abhijeet\n",
       "25                           Above & Beyond\n",
       "26                 Academy of Ancient Music\n",
       "27      Academy of St. Martin in the Fields\n",
       "28                                    Adele\n",
       "29                                Aerosmith\n",
       "                       ...                 \n",
       "1667                             Young Thug\n",
       "1668                        Young the Giant\n",
       "1669                              Yuja Wang\n",
       "1670                    Yusuf / Cat Stevens\n",
       "1671                                   ZAYN\n",
       "1672                                 ZZ Top\n",
       "1673                         Zac Brown Band\n",
       "1674                          Zach Williams\n",
       "1675                           Zara Larsson\n",
       "1676                                   Zedd\n",
       "1677                                   Zion\n",
       "1678                          Zion & Lennox\n",
       "1679                                   a-ha\n",
       "1680                                  alt-J\n",
       "1681                           benny blanco\n",
       "1682                              blackbear\n",
       "1683                              blink-182\n",
       "1684                                  bülow\n",
       "1685                     for KING & COUNTRY\n",
       "1686                            girl in red\n",
       "1687                                  gnash\n",
       "1688                               grandson\n",
       "1689                                   iKON\n",
       "1690                          lovelytheband\n",
       "1691                                mxmtoon\n",
       "1692                      one sonic society\n",
       "1693                       quickly, quickly\n",
       "1694                                 Ásgeir\n",
       "1695                                   Ñejo\n",
       "1696                         Ólafur Arnalds\n",
       "Name: artist, Length: 1697, dtype: object"
      ]
     },
     "execution_count": 5,
     "metadata": {},
     "output_type": "execute_result"
    }
   ],
   "source": [
    "artists"
   ]
  },
  {
   "cell_type": "code",
   "execution_count": 38,
   "metadata": {},
   "outputs": [],
   "source": [
    "browser = Chrome(options=chop)\n",
    "url_prefix = 'https://www.songkick.com/search?utf8=%E2%9C%93&type=initial&query='"
   ]
  },
  {
   "cell_type": "code",
   "execution_count": 18,
   "metadata": {},
   "outputs": [
    {
     "name": "stdout",
     "output_type": "stream",
     "text": [
      "https://www.songkick.com/artists/8349058-yusuf-cat-stevens\n"
     ]
    }
   ],
   "source": [
    "artist_urls = []\n",
    "selector = 'p.summary a'\n",
    "# for artist in artists[:5]:\n",
    "for _ in range(1):\n",
    "    time.sleep(4+random.random()*3)\n",
    "    try:\n",
    "        artist_url = hb.get_url_for_artist(browser=browser,)\n",
    "    except:\n",
    "        pass"
   ]
  },
  {
   "cell_type": "code",
   "execution_count": 29,
   "metadata": {},
   "outputs": [],
   "source": [
    "test_url = hb.get_url_for_artist(browser=browser, artist=artists[random.randrange(0,1600)])\n",
    "browser.get(test_url+'/calendar')\n",
    "test_elements = browser.find_elements_by_css_selector('#gigography-summary > ul > li')\n",
    "browser.get(test_url+'/gigography')"
   ]
  },
  {
   "cell_type": "code",
   "execution_count": 105,
   "metadata": {},
   "outputs": [
    {
     "data": {
      "text/plain": [
       "'https://www.songkick.com/artists/486575-jason-aldean'"
      ]
     },
     "execution_count": 105,
     "metadata": {},
     "output_type": "execute_result"
    }
   ],
   "source": [
    "artist_url = hb.get_url_for_artist(browser, 'Jason Aldean')\n",
    "artist_url"
   ]
  },
  {
   "cell_type": "code",
   "execution_count": 106,
   "metadata": {},
   "outputs": [],
   "source": [
    "browser.get(artist_url)"
   ]
  },
  {
   "cell_type": "code",
   "execution_count": 107,
   "metadata": {},
   "outputs": [
    {
     "data": {
      "text/plain": [
       "'https://www.songkick.com/artists/486575-jason-aldean/calendar'"
      ]
     },
     "execution_count": 107,
     "metadata": {},
     "output_type": "execute_result"
    }
   ],
   "source": [
    "browser.find_element_by_css_selector('#calendar-summary > h2 > small > a').get_attribute('href')\n",
    "\n",
    "# calendar-summary > h2 > small > a\n",
    "# gigography-summary > h2 > small > a"
   ]
  },
  {
   "cell_type": "code",
   "execution_count": 173,
   "metadata": {},
   "outputs": [
    {
     "name": "stdout",
     "output_type": "stream",
     "text": [
      "2019-06-21T12:00:00-0400\n",
      "Pavilion at Montage Mountain, Scranton, PA, US\n",
      "\n",
      "2019-06-20T12:00:00-0400\n",
      "Pavilion at Montage Mountain, Scranton, PA, US\n",
      "\n",
      "2019-06-20T13:00:00-0500\n",
      "Tuttle Creek State Park, Manhattan, KS, US\n",
      "\n"
     ]
    }
   ],
   "source": [
    "for el in browser.find_elements_by_css_selector('#gigography-summary > ul > li'):\n",
    "    time_el = el.find_element_by_css_selector('time')    \n",
    "    try:\n",
    "        loc_el = el.find_element_by_css_selector('p.location')\n",
    "    except:\n",
    "        continue\n",
    "    print(time_el.get_attribute('datetime'))\n",
    "    print(loc_el.text)\n",
    "    print()"
   ]
  },
  {
   "cell_type": "code",
   "execution_count": 134,
   "metadata": {},
   "outputs": [
    {
     "data": {
      "text/plain": [
       "[['Jason Aldean', 'Milwaukee, WI, US', '2019-06-28T19:30:00-0500'],\n",
       " ['Jason Aldean', 'Camden, NJ, US', '2019-07-21T19:30:00-0400'],\n",
       " ['Jason Aldean', 'Greenwood Village, CO, US', '2019-07-26T19:00:00-0600'],\n",
       " ['Jason Aldean', 'West Valley City, UT, US', '2019-07-27T17:30:00-0600'],\n",
       " ['Jason Aldean', 'Merritt, BC, Canada', '2019-08-01T10:00:00-0700'],\n",
       " ['Jason Aldean', 'Oro-Medonte, ON, Canada', '2019-08-08'],\n",
       " ['Jason Aldean', 'Noblesville, IN, US', '2019-08-23T19:30:00-0400'],\n",
       " ['Jason Aldean', 'Bristow, VA, US', '2019-09-07T19:30:00-0400'],\n",
       " ['Jason Aldean', 'Raleigh, NC, US', '2019-09-13T19:30:00-0400'],\n",
       " ['Jason Aldean', 'Mansfield, MA, US', '2019-09-20T19:30:00-0400'],\n",
       " ['Jason Aldean', 'Clarkston, MI, US', '2019-09-29T19:30:00-0400'],\n",
       " ['Jason Aldean', 'Arlington, TX, US', '2019-10-11T19:00:00-0500'],\n",
       " ['Jason Aldean', 'Arlington, TX, US', '2019-10-11T16:30:00-0500'],\n",
       " ['Jason Aldean', 'Burgettstown, PA, US', '2019-12-30T21:00:00-0500']]"
      ]
     },
     "execution_count": 134,
     "metadata": {},
     "output_type": "execute_result"
    }
   ],
   "source": [
    "# for el in browser.find_elements_by_css_selector('#event-listings > ul > li'):\n",
    "#     time_el = el.find_element_by_css_selector('time')    \n",
    "#     try:\n",
    "#         loc_el = el.find_element_by_css_selector('p.location')\n",
    "#     except:\n",
    "#         continue\n",
    "#     print(time_el.get_attribute('datetime'))\n",
    "#     print(loc_el.text)\n",
    "#     print()\n",
    "\n",
    "# pd.DataFrame(\n",
    "hb.get_shows_dates_in_ul(browser, ul_path='#event-listings > ul', artist='Jason Aldean')\n",
    "# )"
   ]
  },
  {
   "cell_type": "code",
   "execution_count": 145,
   "metadata": {},
   "outputs": [],
   "source": [
    "aldean = hb.get_artist_concerts(browser, 'Jason Aldean')"
   ]
  },
  {
   "cell_type": "code",
   "execution_count": 146,
   "metadata": {},
   "outputs": [
    {
     "data": {
      "text/plain": [
       "[{'artist': 'Jason Aldean',\n",
       "  'loc': 'Milwaukee, WI, US',\n",
       "  'date': '2019-06-28T19:30:00-0500'},\n",
       " {'artist': 'Jason Aldean',\n",
       "  'loc': 'Camden, NJ, US',\n",
       "  'date': '2019-07-21T19:30:00-0400'},\n",
       " {'artist': 'Jason Aldean',\n",
       "  'loc': 'Greenwood Village, CO, US',\n",
       "  'date': '2019-07-26T19:00:00-0600'},\n",
       " {'artist': 'Jason Aldean',\n",
       "  'loc': 'West Valley City, UT, US',\n",
       "  'date': '2019-07-27T17:30:00-0600'},\n",
       " {'artist': 'Jason Aldean',\n",
       "  'loc': 'Merritt, BC, Canada',\n",
       "  'date': '2019-08-01T10:00:00-0700'},\n",
       " {'artist': 'Jason Aldean',\n",
       "  'loc': 'Oro-Medonte, ON, Canada',\n",
       "  'date': '2019-08-08'},\n",
       " {'artist': 'Jason Aldean',\n",
       "  'loc': 'Noblesville, IN, US',\n",
       "  'date': '2019-08-23T19:30:00-0400'},\n",
       " {'artist': 'Jason Aldean',\n",
       "  'loc': 'Bristow, VA, US',\n",
       "  'date': '2019-09-07T19:30:00-0400'},\n",
       " {'artist': 'Jason Aldean',\n",
       "  'loc': 'Raleigh, NC, US',\n",
       "  'date': '2019-09-13T19:30:00-0400'},\n",
       " {'artist': 'Jason Aldean',\n",
       "  'loc': 'Mansfield, MA, US',\n",
       "  'date': '2019-09-20T19:30:00-0400'},\n",
       " {'artist': 'Jason Aldean',\n",
       "  'loc': 'Clarkston, MI, US',\n",
       "  'date': '2019-09-29T19:30:00-0400'},\n",
       " {'artist': 'Jason Aldean',\n",
       "  'loc': 'Arlington, TX, US',\n",
       "  'date': '2019-10-11T19:00:00-0500'},\n",
       " {'artist': 'Jason Aldean',\n",
       "  'loc': 'Arlington, TX, US',\n",
       "  'date': '2019-10-11T16:30:00-0500'},\n",
       " {'artist': 'Jason Aldean',\n",
       "  'loc': 'Burgettstown, PA, US',\n",
       "  'date': '2019-12-30T21:00:00-0500'},\n",
       " {'artist': 'Jason Aldean',\n",
       "  'loc': 'Scranton, PA, US',\n",
       "  'date': '2019-06-21T12:00:00-0400'},\n",
       " {'artist': 'Jason Aldean',\n",
       "  'loc': 'Scranton, PA, US',\n",
       "  'date': '2019-06-20T12:00:00-0400'},\n",
       " {'artist': 'Jason Aldean',\n",
       "  'loc': 'Manhattan, KS, US',\n",
       "  'date': '2019-06-20T13:00:00-0500'},\n",
       " {'artist': 'Jason Aldean',\n",
       "  'loc': 'Albuquerque, NM, US',\n",
       "  'date': '2019-05-31T19:00:00-0600'},\n",
       " {'artist': 'Jason Aldean',\n",
       "  'loc': 'Baton Rouge, LA, US',\n",
       "  'date': '2019-05-26T18:00:00-0500'},\n",
       " {'artist': 'Jason Aldean',\n",
       "  'loc': 'Baton Rouge, LA, US',\n",
       "  'date': '2019-05-25'},\n",
       " {'artist': 'Jason Aldean',\n",
       "  'loc': 'Saratoga Springs, NY, US',\n",
       "  'date': '2019-05-25T10:00:00-0400'},\n",
       " {'artist': 'Jason Aldean',\n",
       "  'loc': 'Durant, OK, US',\n",
       "  'date': '2019-05-25T20:00:00-0500'},\n",
       " {'artist': 'Jason Aldean',\n",
       "  'loc': 'Columbia, MD, US',\n",
       "  'date': '2019-05-17T17:30:00-0400'},\n",
       " {'artist': 'Jason Aldean',\n",
       "  'loc': 'Syracuse, NY, US',\n",
       "  'date': '2019-05-16T10:00:00-0400'},\n",
       " {'artist': 'Jason Aldean',\n",
       "  'loc': 'Syracuse, NY, US',\n",
       "  'date': '2019-05-16T10:00:00-0400'},\n",
       " {'artist': 'Jason Aldean',\n",
       "  'loc': 'Albuquerque, NM, US',\n",
       "  'date': '2019-05-01T19:00:00-0600'},\n",
       " {'artist': 'Jason Aldean',\n",
       "  'loc': 'Albuquerque, NM, US',\n",
       "  'date': '2019-05-01T19:00:00-0600'},\n",
       " {'artist': 'Jason Aldean', 'loc': 'Indio, CA, US', 'date': '2019-04-26'},\n",
       " {'artist': 'Jason Aldean',\n",
       "  'loc': 'Fort Lauderdale, FL, US',\n",
       "  'date': '2019-04-12'},\n",
       " {'artist': 'Jason Aldean', 'loc': 'Las Vegas, NV, US', 'date': '2019-04-07'},\n",
       " {'artist': 'Jason Aldean',\n",
       "  'loc': 'Nashville, TN, US',\n",
       "  'date': '2018-11-27T19:00:00-0600'},\n",
       " {'artist': 'Jason Aldean',\n",
       "  'loc': 'Nashville, TN, US',\n",
       "  'date': '2018-11-14T19:00:00-0600'},\n",
       " {'artist': 'Jason Aldean', 'loc': 'Nashville, TN, US', 'date': '2018-10-03'},\n",
       " {'artist': 'Jason Aldean',\n",
       "  'loc': 'Irvine, CA, US',\n",
       "  'date': '2018-09-29T19:30:00-0700'},\n",
       " {'artist': 'Jason Aldean',\n",
       "  'loc': 'Mountain View, CA, US',\n",
       "  'date': '2018-09-28T19:30:00-0700'},\n",
       " {'artist': 'Jason Aldean',\n",
       "  'loc': 'Wheatland, CA, US',\n",
       "  'date': '2018-09-27T19:30:00-0700'},\n",
       " {'artist': 'Jason Aldean',\n",
       "  'loc': 'San Bernardino, CA, US',\n",
       "  'date': '2018-09-22T19:30:00-0700'},\n",
       " {'artist': 'Jason Aldean',\n",
       "  'loc': 'Las Vegas, NV, US',\n",
       "  'date': '2018-09-21T18:00:00-0700'},\n",
       " {'artist': 'Jason Aldean',\n",
       "  'loc': 'Chula Vista, CA, US',\n",
       "  'date': '2018-09-20T19:30:00-0700'},\n",
       " {'artist': 'Jason Aldean',\n",
       "  'loc': 'Toronto, ON, Canada',\n",
       "  'date': '2018-09-15T19:30:00-0400'},\n",
       " {'artist': 'Jason Aldean',\n",
       "  'loc': 'Clarkston, MI, US',\n",
       "  'date': '2018-09-14T19:30:00-0400'},\n",
       " {'artist': 'Jason Aldean',\n",
       "  'loc': 'Cincinnati, OH, US',\n",
       "  'date': '2018-09-13T19:30:00-0400'},\n",
       " {'artist': 'Jason Aldean',\n",
       "  'loc': 'Raleigh, NC, US',\n",
       "  'date': '2018-09-08T19:30:00-0400'},\n",
       " {'artist': 'Jason Aldean',\n",
       "  'loc': 'Nashville, TN, US',\n",
       "  'date': '2018-09-07T19:30:00-0500'},\n",
       " {'artist': 'Jason Aldean',\n",
       "  'loc': 'Macon, GA, US',\n",
       "  'date': '2018-09-06T19:30:00-0400'},\n",
       " {'artist': 'Jason Aldean',\n",
       "  'loc': 'Jacksonville, FL, US',\n",
       "  'date': '2018-09-02T15:00:00-0400'},\n",
       " {'artist': 'Jason Aldean',\n",
       "  'loc': 'Camden, NJ, US',\n",
       "  'date': '2018-08-25T19:30:00-0400'},\n",
       " {'artist': 'Jason Aldean',\n",
       "  'loc': 'Burgettstown, PA, US',\n",
       "  'date': '2018-08-24T19:30:00-0400'},\n",
       " {'artist': 'Jason Aldean',\n",
       "  'loc': 'Cuyahoga Falls, OH, US',\n",
       "  'date': '2018-08-23T19:30:00-0400'},\n",
       " {'artist': 'Jason Aldean',\n",
       "  'loc': 'Virginia Beach, VA, US',\n",
       "  'date': '2018-08-19T19:30:00-0400'},\n",
       " {'artist': 'Jason Aldean',\n",
       "  'loc': 'Raleigh, NC, US',\n",
       "  'date': '2018-08-18T19:30:00-0400'},\n",
       " {'artist': 'Jason Aldean',\n",
       "  'loc': 'Charlotte, NC, US',\n",
       "  'date': '2018-08-17T19:30:00-0400'},\n",
       " {'artist': 'Jason Aldean',\n",
       "  'loc': 'Bangor, ME, US',\n",
       "  'date': '2018-08-16T19:00:00-0400'},\n",
       " {'artist': 'Jason Aldean',\n",
       "  'loc': 'New York, NY, US',\n",
       "  'date': '2018-08-11T19:30:00-0400'},\n",
       " {'artist': 'Jason Aldean',\n",
       "  'loc': 'Darien Center, NY, US',\n",
       "  'date': '2018-08-10T19:30:00-0400'},\n",
       " {'artist': 'Jason Aldean',\n",
       "  'loc': 'Dallas, TX, US',\n",
       "  'date': '2018-07-28T19:30:00-0500'},\n",
       " {'artist': 'Jason Aldean',\n",
       "  'loc': 'Brandon, MS, US',\n",
       "  'date': '2018-07-27T19:30:00-0500'},\n",
       " {'artist': 'Jason Aldean',\n",
       "  'loc': 'Orange Beach, AL, US',\n",
       "  'date': '2018-07-26T19:30:00-0500'},\n",
       " {'artist': 'Jason Aldean',\n",
       "  'loc': 'Tuscaloosa, AL, US',\n",
       "  'date': '2018-07-25T19:00:00-0500'},\n",
       " {'artist': 'Jason Aldean',\n",
       "  'loc': 'Atlanta, GA, US',\n",
       "  'date': '2018-07-21T19:30:00-0400'},\n",
       " {'artist': 'Jason Aldean',\n",
       "  'loc': 'Saratoga Springs, NY, US',\n",
       "  'date': '2018-07-15T19:30:00-0400'},\n",
       " {'artist': 'Jason Aldean',\n",
       "  'loc': 'Bristow, VA, US',\n",
       "  'date': '2018-07-14T19:30:00-0400'},\n",
       " {'artist': 'Jason Aldean',\n",
       "  'loc': 'Bethel, NY, US',\n",
       "  'date': '2018-07-13T19:30:00-0400'},\n",
       " {'artist': 'Jason Aldean',\n",
       "  'loc': 'Chula Vista, CA, US',\n",
       "  'date': '2018-06-21T19:30:00-0700'},\n",
       " {'artist': 'Jason Aldean', 'loc': 'Oshkosh, WI, US', 'date': '2018-06-19'},\n",
       " {'artist': 'Jason Aldean',\n",
       "  'loc': 'Bangor, ME, US',\n",
       "  'date': '2018-05-27T19:30:00-0400'},\n",
       " {'artist': 'Jason Aldean',\n",
       "  'loc': 'Mansfield, MA, US',\n",
       "  'date': '2018-05-26T19:30:00-0400'},\n",
       " {'artist': 'Jason Aldean',\n",
       "  'loc': 'Hartford, CT, US',\n",
       "  'date': '2018-05-25T20:00:00-0400'},\n",
       " {'artist': 'Jason Aldean',\n",
       "  'loc': 'Hartford, CT, US',\n",
       "  'date': '2018-05-25T10:00:00-0400'},\n",
       " {'artist': 'Jason Aldean',\n",
       "  'loc': 'Columbia, MD, US',\n",
       "  'date': '2018-05-24T19:00:00-0400'},\n",
       " {'artist': 'Jason Aldean',\n",
       "  'loc': 'Noblesville, IN, US',\n",
       "  'date': '2018-05-19'},\n",
       " {'artist': 'Jason Aldean',\n",
       "  'loc': 'Tinley Park, IL, US',\n",
       "  'date': '2018-05-18T19:30:00-0500'},\n",
       " {'artist': 'Jason Aldean',\n",
       "  'loc': 'Maryland Heights, MO, US',\n",
       "  'date': '2018-05-17T19:30:00-0500'},\n",
       " {'artist': 'Jason Aldean',\n",
       "  'loc': 'Des Moines, IA, US',\n",
       "  'date': '2018-05-12T19:31:00-0500'},\n",
       " {'artist': 'Jason Aldean',\n",
       "  'loc': 'Peoria, IL, US',\n",
       "  'date': '2018-05-11T19:30:00-0500'},\n",
       " {'artist': 'Jason Aldean',\n",
       "  'loc': 'Kansas City, MO, US',\n",
       "  'date': '2018-05-10T19:30:00-0500'},\n",
       " {'artist': 'Jason Aldean', 'loc': 'Houston, TX, US', 'date': '2018-03-06'},\n",
       " {'artist': 'Jason Aldean',\n",
       "  'loc': 'Nashville, TN, US',\n",
       "  'date': '2017-11-12T19:00:00-0600'},\n",
       " {'artist': 'Jason Aldean',\n",
       "  'loc': 'Bossier City, LA, US',\n",
       "  'date': '2017-10-28T19:30:00-0500'},\n",
       " {'artist': 'Jason Aldean',\n",
       "  'loc': 'Tupelo, MS, US',\n",
       "  'date': '2017-10-27T19:30:00-0500'},\n",
       " {'artist': 'Jason Aldean',\n",
       "  'loc': 'New Orleans, LA, US',\n",
       "  'date': '2017-10-26T19:30:00-0500'},\n",
       " {'artist': 'Jason Aldean',\n",
       "  'loc': 'Greenville, SC, US',\n",
       "  'date': '2017-10-21T19:30:00-0400'},\n",
       " {'artist': 'Jason Aldean',\n",
       "  'loc': 'Louisville, KY, US',\n",
       "  'date': '2017-10-20T19:30:00-0500'},\n",
       " {'artist': 'Jason Aldean',\n",
       "  'loc': 'Columbus, OH, US',\n",
       "  'date': '2017-10-19T19:30:00-0400'},\n",
       " {'artist': 'Jason Aldean',\n",
       "  'loc': 'Evansville, IN, US',\n",
       "  'date': '2017-10-14T19:30:00-0400'},\n",
       " {'artist': 'Jason Aldean',\n",
       "  'loc': 'North Little Rock, AR, US',\n",
       "  'date': '2017-10-13T19:30:00-0500'},\n",
       " {'artist': 'Jason Aldean',\n",
       "  'loc': 'Tulsa, OK, US',\n",
       "  'date': '2017-10-12T19:30:00-0500'},\n",
       " {'artist': 'Jason Aldean',\n",
       "  'loc': 'Chula Vista, CA, US',\n",
       "  'date': '2017-10-07'},\n",
       " {'artist': 'Jason Aldean',\n",
       "  'loc': 'Las Vegas, NV, US',\n",
       "  'date': '2017-10-01T14:00:00-0700'},\n",
       " {'artist': 'Jason Aldean',\n",
       "  'loc': 'Mountain View, CA, US',\n",
       "  'date': '2017-09-30T19:30:00-0700'},\n",
       " {'artist': 'Jason Aldean', 'loc': 'Las Vegas, NV, US', 'date': '2017-09-29'},\n",
       " {'artist': 'Jason Aldean',\n",
       "  'loc': 'Wheatland, CA, US',\n",
       "  'date': '2017-09-29T19:30:00-0700'},\n",
       " {'artist': 'Jason Aldean', 'loc': 'Las Vegas, NV, US', 'date': '2017-09-29'},\n",
       " {'artist': 'Jason Aldean',\n",
       "  'loc': 'Concord, CA, US',\n",
       "  'date': '2017-09-28T19:30:00-0700'},\n",
       " {'artist': 'Jason Aldean',\n",
       "  'loc': 'Spokane, WA, US',\n",
       "  'date': '2017-09-23T19:30:00-0700'},\n",
       " {'artist': 'Jason Aldean',\n",
       "  'loc': 'Ridgefield, WA, US',\n",
       "  'date': '2017-09-22T19:30:00-0700'},\n",
       " {'artist': 'Jason Aldean',\n",
       "  'loc': 'Albuquerque, NM, US',\n",
       "  'date': '2017-09-16T19:30:00-0600'},\n",
       " {'artist': 'Jason Aldean',\n",
       "  'loc': 'Denver, CO, US',\n",
       "  'date': '2017-09-15T19:30:00-0600'},\n",
       " {'artist': 'Jason Aldean',\n",
       "  'loc': 'West Valley City, UT, US',\n",
       "  'date': '2017-09-14T19:30:00-0600'},\n",
       " {'artist': 'Jason Aldean',\n",
       "  'loc': 'Holmdel, NJ, US',\n",
       "  'date': '2017-09-09T19:30:00-0400'},\n",
       " {'artist': 'Jason Aldean', 'loc': 'Raleigh, NC, US', 'date': '2017-09-08'},\n",
       " {'artist': 'Jason Aldean',\n",
       "  'loc': 'Charleston, WV, US',\n",
       "  'date': '2017-09-07T19:30:00-0400'},\n",
       " {'artist': 'Jason Aldean', 'loc': 'Puyallup, WA, US', 'date': '2017-09-01'},\n",
       " {'artist': 'Jason Aldean',\n",
       "  'loc': 'Virginia Beach, VA, US',\n",
       "  'date': '2017-08-27T19:30:00-0400'},\n",
       " {'artist': 'Jason Aldean',\n",
       "  'loc': 'Bristow, VA, US',\n",
       "  'date': '2017-08-26T19:30:00-0400'},\n",
       " {'artist': 'Jason Aldean',\n",
       "  'loc': 'Camden, NJ, US',\n",
       "  'date': '2017-08-25T19:30:00-0400'},\n",
       " {'artist': 'Jason Aldean',\n",
       "  'loc': 'West Palm Beach, FL, US',\n",
       "  'date': '2017-08-19T19:30:00-0400'},\n",
       " {'artist': 'Jason Aldean',\n",
       "  'loc': 'Tampa, FL, US',\n",
       "  'date': '2017-08-18T19:30:00-0400'},\n",
       " {'artist': 'Jason Aldean',\n",
       "  'loc': 'Jacksonville, FL, US',\n",
       "  'date': '2017-08-17T19:30:00-0400'},\n",
       " {'artist': 'Jason Aldean',\n",
       "  'loc': 'Macon, GA, US',\n",
       "  'date': '2017-08-11T19:30:00-0400'},\n",
       " {'artist': 'Jason Aldean',\n",
       "  'loc': 'Pelham, AL, US',\n",
       "  'date': '2017-08-10T19:30:00-0500'},\n",
       " {'artist': 'Jason Aldean',\n",
       "  'loc': 'Cheyenne, WY, US',\n",
       "  'date': '2017-07-29T20:00:00-0600'},\n",
       " {'artist': 'Jason Aldean',\n",
       "  'loc': 'Cincinnati, OH, US',\n",
       "  'date': '2017-07-22T19:30:00-0400'},\n",
       " {'artist': 'Jason Aldean',\n",
       "  'loc': 'Maryland Heights, MO, US',\n",
       "  'date': '2017-07-21T19:30:00-0500'}]"
      ]
     },
     "execution_count": 146,
     "metadata": {},
     "output_type": "execute_result"
    }
   ],
   "source": [
    "aldean"
   ]
  },
  {
   "cell_type": "code",
   "execution_count": 166,
   "metadata": {},
   "outputs": [],
   "source": []
  },
  {
   "cell_type": "code",
   "execution_count": 37,
   "metadata": {},
   "outputs": [],
   "source": [
    "# with open('artists_shows.json', 'w') as f:\n",
    "#     for artist in artists:\n",
    "#         lines = hb.get_artist_concerts(browser, artist)\n",
    "#         for line in lines:\n",
    "#             json.dump(line, f)\n",
    "#             f.write('\\n')"
   ]
  },
  {
   "cell_type": "markdown",
   "metadata": {},
   "source": [
    "Failed to skip non locations when retrieving artist url, chucked an error.  \n",
    "Reformatted, lets reboot with append at Agnes"
   ]
  },
  {
   "cell_type": "code",
   "execution_count": 13,
   "metadata": {},
   "outputs": [
    {
     "data": {
      "text/plain": [
       "Int64Index([31], dtype='int64')"
      ]
     },
     "execution_count": 13,
     "metadata": {},
     "output_type": "execute_result"
    }
   ],
   "source": [
    "df[df.artist == \"Agnes\"].index"
   ]
  },
  {
   "cell_type": "code",
   "execution_count": 15,
   "metadata": {},
   "outputs": [],
   "source": [
    "# with open('artists_shows.json', 'a') as f:\n",
    "#     for artist in artists[31:]:\n",
    "#         lines = hb.get_artist_concerts(browser, artist)\n",
    "#         for line in lines:\n",
    "#             json.dump(line, f)\n",
    "#             f.write('\\n')"
   ]
  },
  {
   "cell_type": "markdown",
   "metadata": {},
   "source": [
    "Break to walk to class, will restart at last artist index + 1"
   ]
  },
  {
   "cell_type": "code",
   "execution_count": 18,
   "metadata": {},
   "outputs": [
    {
     "data": {
      "text/plain": [
       "Int64Index([134], dtype='int64')"
      ]
     },
     "execution_count": 18,
     "metadata": {},
     "output_type": "execute_result"
    }
   ],
   "source": [
    "df[df.artist == 'Bad Bunny'].index"
   ]
  },
  {
   "cell_type": "code",
   "execution_count": 36,
   "metadata": {},
   "outputs": [],
   "source": [
    "# with open('artists_shows.json', 'a') as f:\n",
    "#     for artist in artists[135:]:\n",
    "#         lines = hb.get_artist_concerts(browser, artist)\n",
    "#         for line in lines:\n",
    "#             json.dump(line, f)\n",
    "#             f.write('\\n')"
   ]
  },
  {
   "cell_type": "markdown",
   "metadata": {},
   "source": [
    "Stalled on Bradley Cooper haha\n",
    "Need to change so only does recency check IF there is a past-summary element"
   ]
  },
  {
   "cell_type": "code",
   "execution_count": 20,
   "metadata": {},
   "outputs": [
    {
     "data": {
      "text/plain": [
       "Int64Index([206], dtype='int64')"
      ]
     },
     "execution_count": 20,
     "metadata": {},
     "output_type": "execute_result"
    }
   ],
   "source": [
    "df[df.artist==\"Bradley Cooper\"].index"
   ]
  },
  {
   "cell_type": "code",
   "execution_count": 22,
   "metadata": {},
   "outputs": [],
   "source": [
    "# with open('artists_shows.json', 'a') as f:\n",
    "#     for artist in artists[206:]:\n",
    "#         lines = hb.get_artist_concerts(browser, artist)\n",
    "#         for line in lines:\n",
    "#             json.dump(line, f)\n",
    "#             f.write('\\n')"
   ]
  },
  {
   "cell_type": "markdown",
   "metadata": {},
   "source": [
    "Reboot after heading home, stopped after Sonu Nigam"
   ]
  },
  {
   "cell_type": "code",
   "execution_count": 23,
   "metadata": {},
   "outputs": [
    {
     "data": {
      "text/plain": [
       "Int64Index([1403], dtype='int64')"
      ]
     },
     "execution_count": 23,
     "metadata": {},
     "output_type": "execute_result"
    }
   ],
   "source": [
    "df[df.artist==\"Sonu Nigam\"].index"
   ]
  },
  {
   "cell_type": "code",
   "execution_count": 24,
   "metadata": {},
   "outputs": [],
   "source": [
    "with open('artists_shows.json', 'a') as f:\n",
    "    for artist in artists[1404:]:\n",
    "        lines = hb.get_artist_concerts(browser, artist)\n",
    "        for line in lines:\n",
    "            json.dump(line, f)\n",
    "            f.write('\\n')"
   ]
  },
  {
   "cell_type": "markdown",
   "metadata": {},
   "source": [
    "Phone Hotspot failed after spoon, reboot"
   ]
  },
  {
   "cell_type": "code",
   "execution_count": 26,
   "metadata": {},
   "outputs": [
    {
     "data": {
      "text/plain": [
       "Int64Index([1407], dtype='int64')"
      ]
     },
     "execution_count": 26,
     "metadata": {},
     "output_type": "execute_result"
    }
   ],
   "source": [
    "df[df.artist==\"Spoon\"].index"
   ]
  },
  {
   "cell_type": "code",
   "execution_count": 28,
   "metadata": {},
   "outputs": [],
   "source": [
    "# with open('artists_shows.json', 'a') as f:\n",
    "#     for artist in artists[1408:]:\n",
    "#         lines = hb.get_artist_concerts(browser, artist)\n",
    "#         for line in lines:\n",
    "#             json.dump(line, f)\n",
    "#             f.write('\\n')"
   ]
  },
  {
   "cell_type": "markdown",
   "metadata": {},
   "source": [
    "Again after Steve Aoki"
   ]
  },
  {
   "cell_type": "code",
   "execution_count": 29,
   "metadata": {},
   "outputs": [
    {
     "data": {
      "text/plain": [
       "Int64Index([1417], dtype='int64')"
      ]
     },
     "execution_count": 29,
     "metadata": {},
     "output_type": "execute_result"
    }
   ],
   "source": [
    "df[df.artist=='Steve Aoki'].index"
   ]
  },
  {
   "cell_type": "code",
   "execution_count": 33,
   "metadata": {},
   "outputs": [],
   "source": [
    "# with open('artists_shows.json', 'a') as f:\n",
    "#     for artist in artists[1418:]:\n",
    "#         lines = hb.get_artist_concerts(browser, artist)\n",
    "#         for line in lines:\n",
    "#             json.dump(line, f)\n",
    "#             f.write('\\n')"
   ]
  },
  {
   "cell_type": "markdown",
   "metadata": {},
   "source": [
    "Through Stone Temple Pilots.. One more try Tonight"
   ]
  },
  {
   "cell_type": "code",
   "execution_count": 34,
   "metadata": {},
   "outputs": [
    {
     "data": {
      "text/plain": [
       "Int64Index([1425], dtype='int64')"
      ]
     },
     "execution_count": 34,
     "metadata": {},
     "output_type": "execute_result"
    }
   ],
   "source": [
    "df[df.artist=='Stone Temple Pilots'].index"
   ]
  },
  {
   "cell_type": "code",
   "execution_count": 39,
   "metadata": {},
   "outputs": [],
   "source": [
    "with open('artists_shows.json', 'a') as f:\n",
    "    for artist in artists[1426:]:\n",
    "        lines = hb.get_artist_concerts(browser, artist)\n",
    "        for line in lines:\n",
    "            json.dump(line, f)\n",
    "            f.write('\\n')"
   ]
  },
  {
   "cell_type": "code",
   "execution_count": null,
   "metadata": {},
   "outputs": [],
   "source": []
  }
 ],
 "metadata": {
  "kernelspec": {
   "display_name": "learn-env",
   "language": "python",
   "name": "learn-env"
  },
  "language_info": {
   "codemirror_mode": {
    "name": "ipython",
    "version": 3
   },
   "file_extension": ".py",
   "mimetype": "text/x-python",
   "name": "python",
   "nbconvert_exporter": "python",
   "pygments_lexer": "ipython3",
   "version": "3.6.6"
  }
 },
 "nbformat": 4,
 "nbformat_minor": 2
}
