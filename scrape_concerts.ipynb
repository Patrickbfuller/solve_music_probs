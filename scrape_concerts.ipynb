{
 "cells": [
  {
   "cell_type": "code",
   "execution_count": 21,
   "metadata": {},
   "outputs": [
    {
     "name": "stdout",
     "output_type": "stream",
     "text": [
      "The autoreload extension is already loaded. To reload it, use:\n",
      "  %reload_ext autoreload\n"
     ]
    }
   ],
   "source": [
    "import pandas as pd\n",
    "import time\n",
    "import random\n",
    "from selenium.webdriver import Chrome\n",
    "import homebrew as hb\n",
    "%load_ext autoreload\n",
    "%autoreload 2"
   ]
  },
  {
   "cell_type": "code",
   "execution_count": 2,
   "metadata": {},
   "outputs": [],
   "source": [
    "df = pd.read_json('trimmed_artists_w_flags.json', lines=True)"
   ]
  },
  {
   "cell_type": "code",
   "execution_count": 3,
   "metadata": {},
   "outputs": [
    {
     "data": {
      "text/html": [
       "<div>\n",
       "<style scoped>\n",
       "    .dataframe tbody tr th:only-of-type {\n",
       "        vertical-align: middle;\n",
       "    }\n",
       "\n",
       "    .dataframe tbody tr th {\n",
       "        vertical-align: top;\n",
       "    }\n",
       "\n",
       "    .dataframe thead th {\n",
       "        text-align: right;\n",
       "    }\n",
       "</style>\n",
       "<table border=\"1\" class=\"dataframe\">\n",
       "  <thead>\n",
       "    <tr style=\"text-align: right;\">\n",
       "      <th></th>\n",
       "      <th>artist</th>\n",
       "      <th>playlist_08CJ6fWrTA1vMfwVwAxWUl</th>\n",
       "      <th>playlist_0Gy1TwCxPFTMCiwxGLVkc1</th>\n",
       "      <th>playlist_0T22esVKW7cTZEN7XzXV14</th>\n",
       "      <th>playlist_0YMVY3uhQNd7WUf0hSByrX</th>\n",
       "      <th>playlist_0ZWYUjUMhaq0Rammqq3qu1</th>\n",
       "      <th>playlist_0bx5Dgu5yOEhST49LP67su</th>\n",
       "      <th>playlist_0fmLn46c92nP4dePQSZlsz</th>\n",
       "      <th>playlist_0k7YwkrfJ2BsRMFBP5W5xK</th>\n",
       "      <th>playlist_0yfTPCk6Cnhm9wtoEaXXlo</th>\n",
       "      <th>...</th>\n",
       "      <th>playlist_73gXbLcjix7p1pPsQClusE</th>\n",
       "      <th>playlist_7A2YimOfIrmAWkCeSIY8Rq</th>\n",
       "      <th>playlist_7EnyqmmhFgfhicejZiVV13</th>\n",
       "      <th>playlist_7EpJpnU6KrSc430F8B5tM7</th>\n",
       "      <th>playlist_7FDyC1JdV3jkGzAE9BONKt</th>\n",
       "      <th>playlist_7HQu1GUDVSx64GdCpaB88I</th>\n",
       "      <th>playlist_7JXJKP3xMvIMbEBBGApTPQ</th>\n",
       "      <th>playlist_7b9DiMN2kttG8lYQogfQBw</th>\n",
       "      <th>playlist_7fzFQUIVM4TumzRWo5UFP2</th>\n",
       "      <th>playlist_7kdOsNnHtzwncTBnI3J17w</th>\n",
       "    </tr>\n",
       "  </thead>\n",
       "  <tbody>\n",
       "    <tr>\n",
       "      <th>0</th>\n",
       "      <td>(G)I-DLE</td>\n",
       "      <td>0</td>\n",
       "      <td>0</td>\n",
       "      <td>0</td>\n",
       "      <td>0</td>\n",
       "      <td>0</td>\n",
       "      <td>0</td>\n",
       "      <td>0</td>\n",
       "      <td>0</td>\n",
       "      <td>0</td>\n",
       "      <td>...</td>\n",
       "      <td>0</td>\n",
       "      <td>0</td>\n",
       "      <td>0</td>\n",
       "      <td>0</td>\n",
       "      <td>0</td>\n",
       "      <td>0</td>\n",
       "      <td>0</td>\n",
       "      <td>0</td>\n",
       "      <td>0</td>\n",
       "      <td>0</td>\n",
       "    </tr>\n",
       "    <tr>\n",
       "      <th>1</th>\n",
       "      <td>*NSYNC</td>\n",
       "      <td>0</td>\n",
       "      <td>0</td>\n",
       "      <td>0</td>\n",
       "      <td>0</td>\n",
       "      <td>0</td>\n",
       "      <td>0</td>\n",
       "      <td>0</td>\n",
       "      <td>0</td>\n",
       "      <td>0</td>\n",
       "      <td>...</td>\n",
       "      <td>0</td>\n",
       "      <td>0</td>\n",
       "      <td>0</td>\n",
       "      <td>0</td>\n",
       "      <td>0</td>\n",
       "      <td>0</td>\n",
       "      <td>0</td>\n",
       "      <td>0</td>\n",
       "      <td>0</td>\n",
       "      <td>1</td>\n",
       "    </tr>\n",
       "  </tbody>\n",
       "</table>\n",
       "<p>2 rows × 1553 columns</p>\n",
       "</div>"
      ],
      "text/plain": [
       "     artist  playlist_08CJ6fWrTA1vMfwVwAxWUl  playlist_0Gy1TwCxPFTMCiwxGLVkc1  \\\n",
       "0  (G)I-DLE                                0                                0   \n",
       "1    *NSYNC                                0                                0   \n",
       "\n",
       "   playlist_0T22esVKW7cTZEN7XzXV14  playlist_0YMVY3uhQNd7WUf0hSByrX  \\\n",
       "0                                0                                0   \n",
       "1                                0                                0   \n",
       "\n",
       "   playlist_0ZWYUjUMhaq0Rammqq3qu1  playlist_0bx5Dgu5yOEhST49LP67su  \\\n",
       "0                                0                                0   \n",
       "1                                0                                0   \n",
       "\n",
       "   playlist_0fmLn46c92nP4dePQSZlsz  playlist_0k7YwkrfJ2BsRMFBP5W5xK  \\\n",
       "0                                0                                0   \n",
       "1                                0                                0   \n",
       "\n",
       "   playlist_0yfTPCk6Cnhm9wtoEaXXlo               ...                 \\\n",
       "0                                0               ...                  \n",
       "1                                0               ...                  \n",
       "\n",
       "   playlist_73gXbLcjix7p1pPsQClusE  playlist_7A2YimOfIrmAWkCeSIY8Rq  \\\n",
       "0                                0                                0   \n",
       "1                                0                                0   \n",
       "\n",
       "   playlist_7EnyqmmhFgfhicejZiVV13  playlist_7EpJpnU6KrSc430F8B5tM7  \\\n",
       "0                                0                                0   \n",
       "1                                0                                0   \n",
       "\n",
       "   playlist_7FDyC1JdV3jkGzAE9BONKt  playlist_7HQu1GUDVSx64GdCpaB88I  \\\n",
       "0                                0                                0   \n",
       "1                                0                                0   \n",
       "\n",
       "   playlist_7JXJKP3xMvIMbEBBGApTPQ  playlist_7b9DiMN2kttG8lYQogfQBw  \\\n",
       "0                                0                                0   \n",
       "1                                0                                0   \n",
       "\n",
       "   playlist_7fzFQUIVM4TumzRWo5UFP2  playlist_7kdOsNnHtzwncTBnI3J17w  \n",
       "0                                0                                0  \n",
       "1                                0                                1  \n",
       "\n",
       "[2 rows x 1553 columns]"
      ]
     },
     "execution_count": 3,
     "metadata": {},
     "output_type": "execute_result"
    }
   ],
   "source": [
    "df.head(2)"
   ]
  },
  {
   "cell_type": "code",
   "execution_count": 4,
   "metadata": {},
   "outputs": [
    {
     "name": "stdout",
     "output_type": "stream",
     "text": [
      "(1697,)\n"
     ]
    },
    {
     "data": {
      "text/plain": [
       "0     (G)I-DLE\n",
       "1       *NSYNC\n",
       "2     2 Chainz\n",
       "3    21 Savage\n",
       "4         2Pac\n",
       "Name: artist, dtype: object"
      ]
     },
     "execution_count": 4,
     "metadata": {},
     "output_type": "execute_result"
    }
   ],
   "source": [
    "artists = df.artist\n",
    "print(artists.shape)\n",
    "artists.head()"
   ]
  },
  {
   "cell_type": "code",
   "execution_count": 5,
   "metadata": {},
   "outputs": [
    {
     "data": {
      "text/plain": [
       "0                                  (G)I-DLE\n",
       "1                                    *NSYNC\n",
       "2                                  2 Chainz\n",
       "3                                 21 Savage\n",
       "4                                      2Pac\n",
       "5                              3 Doors Down\n",
       "6                                      3LAU\n",
       "7                       5 Seconds of Summer\n",
       "8                                   50 Cent\n",
       "9                                     6LACK\n",
       "10                                  6ix9ine\n",
       "11                   A Boogie Wit da Hoodie\n",
       "12                        A Day To Remember\n",
       "13                            A R I Z O N A\n",
       "14                         A Touch Of Class\n",
       "15                     A Tribe Called Quest\n",
       "16                                A$AP Ferg\n",
       "17                               A$AP Rocky\n",
       "18                              A.R. Rahman\n",
       "19                                     ABBA\n",
       "20                                    AC/DC\n",
       "21                                      AJR\n",
       "22                                     ARTY\n",
       "23                            Aaron Copland\n",
       "24                                 Abhijeet\n",
       "25                           Above & Beyond\n",
       "26                 Academy of Ancient Music\n",
       "27      Academy of St. Martin in the Fields\n",
       "28                                    Adele\n",
       "29                                Aerosmith\n",
       "                       ...                 \n",
       "1667                             Young Thug\n",
       "1668                        Young the Giant\n",
       "1669                              Yuja Wang\n",
       "1670                    Yusuf / Cat Stevens\n",
       "1671                                   ZAYN\n",
       "1672                                 ZZ Top\n",
       "1673                         Zac Brown Band\n",
       "1674                          Zach Williams\n",
       "1675                           Zara Larsson\n",
       "1676                                   Zedd\n",
       "1677                                   Zion\n",
       "1678                          Zion & Lennox\n",
       "1679                                   a-ha\n",
       "1680                                  alt-J\n",
       "1681                           benny blanco\n",
       "1682                              blackbear\n",
       "1683                              blink-182\n",
       "1684                                  bülow\n",
       "1685                     for KING & COUNTRY\n",
       "1686                            girl in red\n",
       "1687                                  gnash\n",
       "1688                               grandson\n",
       "1689                                   iKON\n",
       "1690                          lovelytheband\n",
       "1691                                mxmtoon\n",
       "1692                      one sonic society\n",
       "1693                       quickly, quickly\n",
       "1694                                 Ásgeir\n",
       "1695                                   Ñejo\n",
       "1696                         Ólafur Arnalds\n",
       "Name: artist, Length: 1697, dtype: object"
      ]
     },
     "execution_count": 5,
     "metadata": {},
     "output_type": "execute_result"
    }
   ],
   "source": [
    "artists"
   ]
  },
  {
   "cell_type": "code",
   "execution_count": 6,
   "metadata": {},
   "outputs": [],
   "source": [
    "browser = Chrome()\n",
    "url_prefix = 'https://www.songkick.com/search?utf8=%E2%9C%93&type=initial&query='"
   ]
  },
  {
   "cell_type": "code",
   "execution_count": 18,
   "metadata": {},
   "outputs": [
    {
     "name": "stdout",
     "output_type": "stream",
     "text": [
      "https://www.songkick.com/artists/8349058-yusuf-cat-stevens\n"
     ]
    }
   ],
   "source": [
    "artist_urls = []\n",
    "selector = 'p.summary a'\n",
    "# for artist in artists[:5]:\n",
    "for _ in range(1):\n",
    "    time.sleep(4+random.random()*3)\n",
    "    try:\n",
    "        artist_url = hb.get_url_for_artist(browser=browser,)\n",
    "    except:\n",
    "        pass"
   ]
  },
  {
   "cell_type": "code",
   "execution_count": 29,
   "metadata": {},
   "outputs": [],
   "source": [
    "test_url = hb.get_url_for_artist(browser=browser, artist=artists[random.randrange(0,1600)])\n",
    "browser.get(test_url+'/calendar')\n",
    "test_elements = browser.find_elements_by_css_selector('#gigography-summary > ul > li')\n",
    "browser.get(test_url+'/gigography')"
   ]
  },
  {
   "cell_type": "code",
   "execution_count": 27,
   "metadata": {},
   "outputs": [
    {
     "name": "stdout",
     "output_type": "stream",
     "text": [
      "Thursday 07 March 2019 – Saturday 09 March 2019\n",
      "Andrew Combs\n",
      "Savannah Stopover Music Festival 2019\n",
      "Savannah Stopover, Savannah, GA, US\n",
      "I WAS THERE\n",
      "Thursday 07 March 2019\n",
      "Andrew Combs\n",
      "Smith's Olde Bar, Atlanta, GA, US\n",
      "I WAS THERE\n",
      "Wednesday 06 March 2019\n",
      "Andrew Combs\n",
      "The Radio Room, Greenville, SC, US\n",
      "I WAS THERE\n"
     ]
    }
   ],
   "source": [
    "for el in test_elements:\n",
    "    print(el.text)"
   ]
  },
  {
   "cell_type": "code",
   "execution_count": 35,
   "metadata": {},
   "outputs": [
    {
     "data": {
      "text/plain": [
       "'https://www.songkick.com/artists/486575-jason-aldean'"
      ]
     },
     "execution_count": 35,
     "metadata": {},
     "output_type": "execute_result"
    }
   ],
   "source": [
    "hb.get_url_for_artist(browser, 'Jason Aldean')"
   ]
  },
  {
   "cell_type": "code",
   "execution_count": 39,
   "metadata": {},
   "outputs": [],
   "source": [
    "browser.get('https://www.songkick.com/artists/9265934-nejo')"
   ]
  },
  {
   "cell_type": "code",
   "execution_count": 45,
   "metadata": {},
   "outputs": [
    {
     "data": {
      "text/plain": [
       "'https://www.songkick.com/artists/486575-jason-aldean/calendar'"
      ]
     },
     "execution_count": 45,
     "metadata": {},
     "output_type": "execute_result"
    }
   ],
   "source": [
    "browser.find_element_by_css_selector('#calendar-summary > h2 > small > a').get_attribute('href')\n",
    "\n",
    "# #calendar-summary > h2 > small > a\n",
    "# #gigography-summary > h2 > small > a"
   ]
  },
  {
   "cell_type": "code",
   "execution_count": 53,
   "metadata": {},
   "outputs": [
    {
     "name": "stdout",
     "output_type": "stream",
     "text": [
      "None\n"
     ]
    }
   ],
   "source": [
    "hb.set_url(browser, page='calendar')"
   ]
  },
  {
   "cell_type": "code",
   "execution_count": null,
   "metadata": {},
   "outputs": [],
   "source": []
  }
 ],
 "metadata": {
  "kernelspec": {
   "display_name": "learn-env",
   "language": "python",
   "name": "learn-env"
  },
  "language_info": {
   "codemirror_mode": {
    "name": "ipython",
    "version": 3
   },
   "file_extension": ".py",
   "mimetype": "text/x-python",
   "name": "python",
   "nbconvert_exporter": "python",
   "pygments_lexer": "ipython3",
   "version": "3.6.6"
  }
 },
 "nbformat": 4,
 "nbformat_minor": 2
}
