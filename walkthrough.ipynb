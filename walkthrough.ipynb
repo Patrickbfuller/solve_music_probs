{
 "cells": [
  {
   "cell_type": "markdown",
   "metadata": {},
   "source": [
    "# BUSINESS UNDERSTANDING\n",
    "Describe problem"
   ]
  },
  {
   "cell_type": "code",
   "execution_count": 1,
   "metadata": {},
   "outputs": [],
   "source": [
    "import pandas as pd\n",
    "import matplotlib.pyplot as plt\n",
    "from sklearn.preprocessing import OneHotEncoder\n",
    "import time\n",
    "import pickle\n",
    "import up_next.scrape\n",
    "import up_next.viz\n",
    "import up_next.discover\n",
    "import up_next.viz\n",
    "plt.style.use('ggplot')"
   ]
  },
  {
   "cell_type": "code",
   "execution_count": 2,
   "metadata": {},
   "outputs": [],
   "source": [
    "%load_ext autoreload\n",
    "%autoreload 2"
   ]
  },
  {
   "cell_type": "markdown",
   "metadata": {},
   "source": [
    "# DATA COLLECTION - Playlists\n",
    "\n",
    "        Collect artists in playlists\n",
    "        Use artists to collect concerts\n",
    "        \n",
    "        uses up_next.scrape"
   ]
  },
  {
   "cell_type": "code",
   "execution_count": 2,
   "metadata": {},
   "outputs": [],
   "source": [
    "with open('/Users/patrickfuller/.secrets/spotify_api.json') as f:\n",
    "    creds = json.load(f)\n",
    "client_id = creds['client_id']\n",
    "key = creds['api_key']"
   ]
  },
  {
   "cell_type": "code",
   "execution_count": 3,
   "metadata": {},
   "outputs": [],
   "source": [
    "client_credentials_manager = SpotifyClientCredentials(client_id=client_id,\n",
    "                                                      client_secret=key)\n",
    "\n",
    "spotify = spotipy.Spotify(client_credentials_manager=client_credentials_manager)"
   ]
  },
  {
   "cell_type": "code",
   "execution_count": 4,
   "metadata": {},
   "outputs": [],
   "source": [
    "cat_list = []\n",
    "response = spotify.categories(country='US', limit=50)\n",
    "items = response['categories']['items']\n",
    "for item in items:\n",
    "    category = item['id']\n",
    "    cat_list.append(category)"
   ]
  },
  {
   "cell_type": "code",
   "execution_count": 5,
   "metadata": {},
   "outputs": [],
   "source": [
    "for cat in ['family', 'comedy', 'word', 'ellen', 'sleep']:   \n",
    "    cat_list.remove(cat)"
   ]
  },
  {
   "cell_type": "code",
   "execution_count": 9,
   "metadata": {},
   "outputs": [
    {
     "data": {
      "text/plain": [
       "['toplists',\n",
       " 'summer',\n",
       " 'pop',\n",
       " 'hiphop',\n",
       " 'pride',\n",
       " 'mood',\n",
       " 'workout',\n",
       " 'decades',\n",
       " 'country',\n",
       " 'focus',\n",
       " 'latin',\n",
       " 'chill',\n",
       " 'edm_dance',\n",
       " 'rnb',\n",
       " 'rock',\n",
       " 'soul',\n",
       " 'indie_alt',\n",
       " 'roots',\n",
       " 'party',\n",
       " 'classical',\n",
       " 'jazz',\n",
       " 'inspirational',\n",
       " 'gaming',\n",
       " 'romance',\n",
       " 'kpop',\n",
       " 'popculture',\n",
       " 'arab',\n",
       " 'desi',\n",
       " 'afro',\n",
       " 'metal',\n",
       " 'reggae',\n",
       " 'blues',\n",
       " 'punk',\n",
       " 'funk',\n",
       " 'dinner',\n",
       " 'blackhistorymonth',\n",
       " 'sessions',\n",
       " 'travel',\n",
       " 'mexican']"
      ]
     },
     "execution_count": 9,
     "metadata": {},
     "output_type": "execute_result"
    }
   ],
   "source": [
    "cat_list"
   ]
  },
  {
   "cell_type": "code",
   "execution_count": 6,
   "metadata": {},
   "outputs": [],
   "source": [
    "master_playlist_dict = {}\n",
    "for category in cat_list:\n",
    "    offset = 0\n",
    "    while True:\n",
    "        response = spotify.category_playlists(category_id=category,\n",
    "                                                             offset=offset,\n",
    "                                                             limit=50, country='US',\n",
    "                                                             )\n",
    "        current_names_ids = hb.extract_name_and_id(response)\n",
    "        if current_names_ids == {}:                     # If we run out of playlists in a category\n",
    "            break                                       # we move on to the next category\n",
    "        master_playlist_dict.update(current_names_ids)\n",
    "        offset += 50"
   ]
  },
  {
   "cell_type": "code",
   "execution_count": 8,
   "metadata": {},
   "outputs": [
    {
     "data": {
      "text/plain": [
       "1763"
      ]
     },
     "execution_count": 8,
     "metadata": {},
     "output_type": "execute_result"
    }
   ],
   "source": [
    "len(master_playlist_dict.keys())"
   ]
  },
  {
   "cell_type": "code",
   "execution_count": 25,
   "metadata": {},
   "outputs": [],
   "source": [
    "# with open('up_next/data/raw/playlists_artists_redundant.json', 'w') as f:\n",
    "#     for pl_id, pl_data in list(master_playlist_dict.items()):\n",
    "#         pl_artists = []\n",
    "#         offset = 0\n",
    "#         for _ in range(2):\n",
    "#             try:\n",
    "#                 response = spotify.user_playlist_tracks(user=pl_data['owner_id'],\n",
    "#                                              playlist_id=pl_id,\n",
    "#                                              limit=100)\n",
    "#                 current_artists = up_next.scrape.get_artists_in_playlist(response)\n",
    "#                 pl_artists.extend(current_artists)\n",
    "#                 unique = set(pl_artists)\n",
    "#                 for artist in unique:\n",
    "#                     line = {\n",
    "#                         'artist':(artist),\n",
    "#                         'playlist':(pl_data['name'], pl_id),\n",
    "#                     }\n",
    "#                     json.dump(line, f)\n",
    "#                     f.write('\\n')\n",
    "#             except:\n",
    "#                 pass\n",
    "\n",
    "# # Commented out to prevent re-writing the file. Doesn't take for ever but non-negligeable"
   ]
  },
  {
   "cell_type": "markdown",
   "metadata": {},
   "source": [
    "# DATA UNDERSTANDING - Playlists"
   ]
  },
  {
   "cell_type": "code",
   "execution_count": 36,
   "metadata": {},
   "outputs": [],
   "source": [
    "playlists = pd.read_json('up_next/data/raw/playlists_artists_redundant.json', lines=True)\n",
    "concerts = pd.read_json('up_next/data/raw/artists_shows.json', lines=True)"
   ]
  },
  {
   "cell_type": "code",
   "execution_count": 37,
   "metadata": {},
   "outputs": [
    {
     "data": {
      "text/html": [
       "<div>\n",
       "<style scoped>\n",
       "    .dataframe tbody tr th:only-of-type {\n",
       "        vertical-align: middle;\n",
       "    }\n",
       "\n",
       "    .dataframe tbody tr th {\n",
       "        vertical-align: top;\n",
       "    }\n",
       "\n",
       "    .dataframe thead th {\n",
       "        text-align: right;\n",
       "    }\n",
       "</style>\n",
       "<table border=\"1\" class=\"dataframe\">\n",
       "  <thead>\n",
       "    <tr style=\"text-align: right;\">\n",
       "      <th></th>\n",
       "      <th>artist</th>\n",
       "      <th>playlist</th>\n",
       "    </tr>\n",
       "  </thead>\n",
       "  <tbody>\n",
       "    <tr>\n",
       "      <th>0</th>\n",
       "      <td>DJ Snake</td>\n",
       "      <td>[Today's Top Hits, 37i9dQZF1DXcBWIGoYBM5M]</td>\n",
       "    </tr>\n",
       "    <tr>\n",
       "      <th>1</th>\n",
       "      <td>TINI</td>\n",
       "      <td>[Today's Top Hits, 37i9dQZF1DXcBWIGoYBM5M]</td>\n",
       "    </tr>\n",
       "    <tr>\n",
       "      <th>2</th>\n",
       "      <td>Bon Iver</td>\n",
       "      <td>[Today's Top Hits, 37i9dQZF1DXcBWIGoYBM5M]</td>\n",
       "    </tr>\n",
       "    <tr>\n",
       "      <th>3</th>\n",
       "      <td>Jon Z</td>\n",
       "      <td>[Today's Top Hits, 37i9dQZF1DXcBWIGoYBM5M]</td>\n",
       "    </tr>\n",
       "    <tr>\n",
       "      <th>4</th>\n",
       "      <td>Martin Garrix</td>\n",
       "      <td>[Today's Top Hits, 37i9dQZF1DXcBWIGoYBM5M]</td>\n",
       "    </tr>\n",
       "  </tbody>\n",
       "</table>\n",
       "</div>"
      ],
      "text/plain": [
       "          artist                                    playlist\n",
       "0       DJ Snake  [Today's Top Hits, 37i9dQZF1DXcBWIGoYBM5M]\n",
       "1           TINI  [Today's Top Hits, 37i9dQZF1DXcBWIGoYBM5M]\n",
       "2       Bon Iver  [Today's Top Hits, 37i9dQZF1DXcBWIGoYBM5M]\n",
       "3          Jon Z  [Today's Top Hits, 37i9dQZF1DXcBWIGoYBM5M]\n",
       "4  Martin Garrix  [Today's Top Hits, 37i9dQZF1DXcBWIGoYBM5M]"
      ]
     },
     "execution_count": 37,
     "metadata": {},
     "output_type": "execute_result"
    }
   ],
   "source": [
    "playlists.head()"
   ]
  },
  {
   "cell_type": "markdown",
   "metadata": {},
   "source": [
    "Artists and the playlists they appear in.\n",
    "Playlist value is currently nested. In order to one hot encode this should be trimmed to just the second element, the unique playlist id."
   ]
  },
  {
   "cell_type": "markdown",
   "metadata": {},
   "source": [
    "### Artist Occurances"
   ]
  },
  {
   "cell_type": "code",
   "execution_count": 38,
   "metadata": {},
   "outputs": [
    {
     "data": {
      "text/plain": [
       "J Balvin          248\n",
       "Bad Bunny         214\n",
       "Drake             202\n",
       "Cardi B           186\n",
       "Daddy Yankee      182\n",
       "Farruko           180\n",
       "Nicky Jam         178\n",
       "Ozuna             176\n",
       "Maluma            174\n",
       "Khalid            172\n",
       "Ed Sheeran        170\n",
       "Nicki Minaj       165\n",
       "Camila Cabello    150\n",
       "Justin Bieber     146\n",
       "Marshmello        146\n",
       "Diplo             144\n",
       "Beyoncé           143\n",
       "Ty Dolla $ign     138\n",
       "Anuel Aa          136\n",
       "Zion & Lennox     132\n",
       "Shawn Mendes      132\n",
       "Rihanna           128\n",
       "Wisin             128\n",
       "Natti Natasha     124\n",
       "Post Malone       122\n",
       "Name: artist, dtype: int64"
      ]
     },
     "execution_count": 38,
     "metadata": {},
     "output_type": "execute_result"
    }
   ],
   "source": [
    "playlists.artist.value_counts()[:25]"
   ]
  },
  {
   "cell_type": "markdown",
   "metadata": {},
   "source": [
    "#### Visualize Playlist Appearances"
   ]
  },
  {
   "cell_type": "code",
   "execution_count": 39,
   "metadata": {},
   "outputs": [
    {
     "data": {
      "image/png": "[encoded data removed]",
      "text/plain": [
       "<Figure size 1008x216 with 1 Axes>"
      ]
     },
     "metadata": {},
     "output_type": "display_data"
    }
   ],
   "source": [
    "plt.figure(figsize=(14,3))\n",
    "playlists.artist.value_counts().hist(bins=100, color='g')\n",
    "plt.xlabel('# Playlist Appearances')\n",
    "plt.ylabel('# of Artists')\n",
    "plt.title('Artist Appearance in Playlists');"
   ]
  },
  {
   "cell_type": "markdown",
   "metadata": {},
   "source": [
    "We won't be able to gain much information from artists only appearing in a few playlists.\n",
    "Dropping them will reduce computational cost with little cost to predicting similar artists."
   ]
  },
  {
   "cell_type": "markdown",
   "metadata": {},
   "source": [
    "# DATA PREPARATION - Playlists\n",
    "        Trim rare artists, ohe playlists"
   ]
  },
  {
   "cell_type": "markdown",
   "metadata": {},
   "source": [
    "#### Trim rarer artists"
   ]
  },
  {
   "cell_type": "code",
   "execution_count": 43,
   "metadata": {},
   "outputs": [
    {
     "name": "stdout",
     "output_type": "stream",
     "text": [
      "There are 1697 artists appearing in 20 or more playlists\n",
      "The twelve most prevalent are ...\n"
     ]
    },
    {
     "data": {
      "text/plain": [
       "[('J Balvin', 248),\n",
       " ('Bad Bunny', 214),\n",
       " ('Drake', 202),\n",
       " ('Cardi B', 186),\n",
       " ('Daddy Yankee', 182),\n",
       " ('Farruko', 180),\n",
       " ('Nicky Jam', 178),\n",
       " ('Ozuna', 176),\n",
       " ('Maluma', 174),\n",
       " ('Khalid', 172),\n",
       " ('Ed Sheeran', 170),\n",
       " ('Nicki Minaj', 165)]"
      ]
     },
     "execution_count": 43,
     "metadata": {},
     "output_type": "execute_result"
    }
   ],
   "source": [
    "cutoff = 20\n",
    "top_artists_counts = [(v, c) for v, c in playlists['artist'].value_counts().items()\n",
    "                      if c >= cutoff]\n",
    "n_remaning_artists = len(top_artists_counts)\n",
    "print(f'There are {n_remaning_artists} artists appearing in {cutoff} or more playlists')\n",
    "print('The twelve most prevalent are ...')\n",
    "top_artists_counts[:12]"
   ]
  },
  {
   "cell_type": "code",
   "execution_count": 44,
   "metadata": {},
   "outputs": [
    {
     "data": {
      "text/plain": [
       "(65242, 2)"
      ]
     },
     "execution_count": 44,
     "metadata": {},
     "output_type": "execute_result"
    }
   ],
   "source": [
    "top_artists=[x[0] for x in top_artists_counts]\n",
    "trimmed_playlists = playlists[playlists['artist'].isin(top_artists)].copy()\n",
    "trimmed_playlists.shape"
   ]
  },
  {
   "cell_type": "code",
   "execution_count": 45,
   "metadata": {},
   "outputs": [
    {
     "data": {
      "image/png": "[encoded data removed]",
      "text/plain": [
       "<Figure size 1008x216 with 1 Axes>"
      ]
     },
     "metadata": {},
     "output_type": "display_data"
    }
   ],
   "source": [
    "plt.figure(figsize=(14,3))\n",
    "trimmed_playlists['artist'].value_counts().hist(bins=100, color='g')\n",
    "plt.xlabel('Playlist Count')\n",
    "plt.ylabel('# of Artists')\n",
    "plt.title('Artist Appearance in Playlists');"
   ]
  },
  {
   "cell_type": "markdown",
   "metadata": {},
   "source": [
    "     - Collect Concert data on artists in trimmed playlists - "
   ]
  },
  {
   "cell_type": "markdown",
   "metadata": {},
   "source": [
    "### One Hot Encoding Playlist Presence"
   ]
  },
  {
   "cell_type": "markdown",
   "metadata": {},
   "source": [
    "Cut the lists in the playlist column to just the second element (unique id)."
   ]
  },
  {
   "cell_type": "code",
   "execution_count": 90,
   "metadata": {},
   "outputs": [],
   "source": [
    "trimmed_playlists['playlist'] = trimmed_playlists['playlist'].apply(lambda x: x[1])   \n",
    "                                                    # Resetting playlist column values to only second element"
   ]
  },
  {
   "cell_type": "markdown",
   "metadata": {},
   "source": [
    "Create a dataframe of each artist and flags for their playlist presences"
   ]
  },
  {
   "cell_type": "code",
   "execution_count": 91,
   "metadata": {},
   "outputs": [],
   "source": [
    "encoder = OneHotEncoder()\n",
    "encoder.fit(trimmed_playlists[['playlist']])\n",
    "\n",
    "ohe_playlists= pd.DataFrame(\n",
    "                encoder.transform(trimmed_playlists[['playlist']]).toarray(),\n",
    "                columns=encoder.get_feature_names(['playlist'])\n",
    "                )                            # Making a column for each unique playlist"
   ]
  },
  {
   "cell_type": "code",
   "execution_count": 92,
   "metadata": {},
   "outputs": [],
   "source": [
    "artists_ohe_singles = pd.concat([trimmed_playlists.drop('playlist', axis=1),\n",
    "                                   ohe_playlists],\n",
    "                                   axis=1)          # Stitching these flags onto the artists"
   ]
  },
  {
   "cell_type": "code",
   "execution_count": 93,
   "metadata": {},
   "outputs": [],
   "source": [
    "artists_playlists = artists_ohe_singles.groupby('artist').sum()\n",
    "                                                    # Stacking the individual flags per artist"
   ]
  },
  {
   "cell_type": "code",
   "execution_count": 94,
   "metadata": {},
   "outputs": [
    {
     "data": {
      "text/plain": [
       "(1697, 1697)"
      ]
     },
     "execution_count": 94,
     "metadata": {},
     "output_type": "execute_result"
    }
   ],
   "source": [
    "len(trimmed_playlists.artist.unique()), len(artists_playlists)  # Sanity Check that we didn't lose or gain rows."
   ]
  },
  {
   "cell_type": "code",
   "execution_count": 95,
   "metadata": {},
   "outputs": [
    {
     "data": {
      "text/html": [
       "<div>\n",
       "<style scoped>\n",
       "    .dataframe tbody tr th:only-of-type {\n",
       "        vertical-align: middle;\n",
       "    }\n",
       "\n",
       "    .dataframe tbody tr th {\n",
       "        vertical-align: top;\n",
       "    }\n",
       "\n",
       "    .dataframe thead th {\n",
       "        text-align: right;\n",
       "    }\n",
       "</style>\n",
       "<table border=\"1\" class=\"dataframe\">\n",
       "  <thead>\n",
       "    <tr style=\"text-align: right;\">\n",
       "      <th></th>\n",
       "      <th>artist</th>\n",
       "      <th>playlist_03lUYFsfkESxG71B2dYosj</th>\n",
       "      <th>playlist_08CJ6fWrTA1vMfwVwAxWUl</th>\n",
       "      <th>playlist_0Gy1TwCxPFTMCiwxGLVkc1</th>\n",
       "      <th>playlist_0T22esVKW7cTZEN7XzXV14</th>\n",
       "      <th>playlist_0YMVY3uhQNd7WUf0hSByrX</th>\n",
       "      <th>playlist_0ZWYUjUMhaq0Rammqq3qu1</th>\n",
       "      <th>playlist_0bx5Dgu5yOEhST49LP67su</th>\n",
       "      <th>playlist_0fmLn46c92nP4dePQSZlsz</th>\n",
       "      <th>playlist_0k7YwkrfJ2BsRMFBP5W5xK</th>\n",
       "      <th>...</th>\n",
       "      <th>playlist_73gXbLcjix7p1pPsQClusE</th>\n",
       "      <th>playlist_7A2YimOfIrmAWkCeSIY8Rq</th>\n",
       "      <th>playlist_7EnyqmmhFgfhicejZiVV13</th>\n",
       "      <th>playlist_7EpJpnU6KrSc430F8B5tM7</th>\n",
       "      <th>playlist_7FDyC1JdV3jkGzAE9BONKt</th>\n",
       "      <th>playlist_7HQu1GUDVSx64GdCpaB88I</th>\n",
       "      <th>playlist_7JXJKP3xMvIMbEBBGApTPQ</th>\n",
       "      <th>playlist_7b9DiMN2kttG8lYQogfQBw</th>\n",
       "      <th>playlist_7fzFQUIVM4TumzRWo5UFP2</th>\n",
       "      <th>playlist_7kdOsNnHtzwncTBnI3J17w</th>\n",
       "    </tr>\n",
       "  </thead>\n",
       "  <tbody>\n",
       "    <tr>\n",
       "      <th>0</th>\n",
       "      <td>(G)I-DLE</td>\n",
       "      <td>0.0</td>\n",
       "      <td>0.0</td>\n",
       "      <td>0.0</td>\n",
       "      <td>0.0</td>\n",
       "      <td>0.0</td>\n",
       "      <td>0.0</td>\n",
       "      <td>0.0</td>\n",
       "      <td>0.0</td>\n",
       "      <td>0.0</td>\n",
       "      <td>...</td>\n",
       "      <td>0.0</td>\n",
       "      <td>0.0</td>\n",
       "      <td>0.0</td>\n",
       "      <td>0.0</td>\n",
       "      <td>0.0</td>\n",
       "      <td>0.0</td>\n",
       "      <td>0.0</td>\n",
       "      <td>0.0</td>\n",
       "      <td>0.0</td>\n",
       "      <td>0.0</td>\n",
       "    </tr>\n",
       "    <tr>\n",
       "      <th>1</th>\n",
       "      <td>*NSYNC</td>\n",
       "      <td>0.0</td>\n",
       "      <td>0.0</td>\n",
       "      <td>0.0</td>\n",
       "      <td>0.0</td>\n",
       "      <td>0.0</td>\n",
       "      <td>0.0</td>\n",
       "      <td>0.0</td>\n",
       "      <td>0.0</td>\n",
       "      <td>0.0</td>\n",
       "      <td>...</td>\n",
       "      <td>0.0</td>\n",
       "      <td>0.0</td>\n",
       "      <td>0.0</td>\n",
       "      <td>0.0</td>\n",
       "      <td>0.0</td>\n",
       "      <td>0.0</td>\n",
       "      <td>0.0</td>\n",
       "      <td>0.0</td>\n",
       "      <td>0.0</td>\n",
       "      <td>1.0</td>\n",
       "    </tr>\n",
       "    <tr>\n",
       "      <th>2</th>\n",
       "      <td>2 Chainz</td>\n",
       "      <td>0.0</td>\n",
       "      <td>0.0</td>\n",
       "      <td>0.0</td>\n",
       "      <td>0.0</td>\n",
       "      <td>0.0</td>\n",
       "      <td>0.0</td>\n",
       "      <td>0.0</td>\n",
       "      <td>0.0</td>\n",
       "      <td>0.0</td>\n",
       "      <td>...</td>\n",
       "      <td>0.0</td>\n",
       "      <td>1.0</td>\n",
       "      <td>0.0</td>\n",
       "      <td>0.0</td>\n",
       "      <td>0.0</td>\n",
       "      <td>0.0</td>\n",
       "      <td>0.0</td>\n",
       "      <td>0.0</td>\n",
       "      <td>0.0</td>\n",
       "      <td>0.0</td>\n",
       "    </tr>\n",
       "    <tr>\n",
       "      <th>3</th>\n",
       "      <td>21 Savage</td>\n",
       "      <td>0.0</td>\n",
       "      <td>0.0</td>\n",
       "      <td>0.0</td>\n",
       "      <td>0.0</td>\n",
       "      <td>0.0</td>\n",
       "      <td>0.0</td>\n",
       "      <td>0.0</td>\n",
       "      <td>0.0</td>\n",
       "      <td>0.0</td>\n",
       "      <td>...</td>\n",
       "      <td>0.0</td>\n",
       "      <td>0.0</td>\n",
       "      <td>0.0</td>\n",
       "      <td>0.0</td>\n",
       "      <td>0.0</td>\n",
       "      <td>0.0</td>\n",
       "      <td>0.0</td>\n",
       "      <td>0.0</td>\n",
       "      <td>1.0</td>\n",
       "      <td>0.0</td>\n",
       "    </tr>\n",
       "    <tr>\n",
       "      <th>4</th>\n",
       "      <td>2Pac</td>\n",
       "      <td>0.0</td>\n",
       "      <td>0.0</td>\n",
       "      <td>0.0</td>\n",
       "      <td>0.0</td>\n",
       "      <td>0.0</td>\n",
       "      <td>0.0</td>\n",
       "      <td>0.0</td>\n",
       "      <td>0.0</td>\n",
       "      <td>0.0</td>\n",
       "      <td>...</td>\n",
       "      <td>0.0</td>\n",
       "      <td>0.0</td>\n",
       "      <td>0.0</td>\n",
       "      <td>0.0</td>\n",
       "      <td>0.0</td>\n",
       "      <td>0.0</td>\n",
       "      <td>0.0</td>\n",
       "      <td>0.0</td>\n",
       "      <td>0.0</td>\n",
       "      <td>0.0</td>\n",
       "    </tr>\n",
       "  </tbody>\n",
       "</table>\n",
       "<p>5 rows × 1554 columns</p>\n",
       "</div>"
      ],
      "text/plain": [
       "      artist  playlist_03lUYFsfkESxG71B2dYosj  \\\n",
       "0   (G)I-DLE                              0.0   \n",
       "1     *NSYNC                              0.0   \n",
       "2   2 Chainz                              0.0   \n",
       "3  21 Savage                              0.0   \n",
       "4       2Pac                              0.0   \n",
       "\n",
       "   playlist_08CJ6fWrTA1vMfwVwAxWUl  playlist_0Gy1TwCxPFTMCiwxGLVkc1  \\\n",
       "0                              0.0                              0.0   \n",
       "1                              0.0                              0.0   \n",
       "2                              0.0                              0.0   \n",
       "3                              0.0                              0.0   \n",
       "4                              0.0                              0.0   \n",
       "\n",
       "   playlist_0T22esVKW7cTZEN7XzXV14  playlist_0YMVY3uhQNd7WUf0hSByrX  \\\n",
       "0                              0.0                              0.0   \n",
       "1                              0.0                              0.0   \n",
       "2                              0.0                              0.0   \n",
       "3                              0.0                              0.0   \n",
       "4                              0.0                              0.0   \n",
       "\n",
       "   playlist_0ZWYUjUMhaq0Rammqq3qu1  playlist_0bx5Dgu5yOEhST49LP67su  \\\n",
       "0                              0.0                              0.0   \n",
       "1                              0.0                              0.0   \n",
       "2                              0.0                              0.0   \n",
       "3                              0.0                              0.0   \n",
       "4                              0.0                              0.0   \n",
       "\n",
       "   playlist_0fmLn46c92nP4dePQSZlsz  playlist_0k7YwkrfJ2BsRMFBP5W5xK  \\\n",
       "0                              0.0                              0.0   \n",
       "1                              0.0                              0.0   \n",
       "2                              0.0                              0.0   \n",
       "3                              0.0                              0.0   \n",
       "4                              0.0                              0.0   \n",
       "\n",
       "                ...                 playlist_73gXbLcjix7p1pPsQClusE  \\\n",
       "0               ...                                             0.0   \n",
       "1               ...                                             0.0   \n",
       "2               ...                                             0.0   \n",
       "3               ...                                             0.0   \n",
       "4               ...                                             0.0   \n",
       "\n",
       "   playlist_7A2YimOfIrmAWkCeSIY8Rq  playlist_7EnyqmmhFgfhicejZiVV13  \\\n",
       "0                              0.0                              0.0   \n",
       "1                              0.0                              0.0   \n",
       "2                              1.0                              0.0   \n",
       "3                              0.0                              0.0   \n",
       "4                              0.0                              0.0   \n",
       "\n",
       "   playlist_7EpJpnU6KrSc430F8B5tM7  playlist_7FDyC1JdV3jkGzAE9BONKt  \\\n",
       "0                              0.0                              0.0   \n",
       "1                              0.0                              0.0   \n",
       "2                              0.0                              0.0   \n",
       "3                              0.0                              0.0   \n",
       "4                              0.0                              0.0   \n",
       "\n",
       "   playlist_7HQu1GUDVSx64GdCpaB88I  playlist_7JXJKP3xMvIMbEBBGApTPQ  \\\n",
       "0                              0.0                              0.0   \n",
       "1                              0.0                              0.0   \n",
       "2                              0.0                              0.0   \n",
       "3                              0.0                              0.0   \n",
       "4                              0.0                              0.0   \n",
       "\n",
       "   playlist_7b9DiMN2kttG8lYQogfQBw  playlist_7fzFQUIVM4TumzRWo5UFP2  \\\n",
       "0                              0.0                              0.0   \n",
       "1                              0.0                              0.0   \n",
       "2                              0.0                              0.0   \n",
       "3                              0.0                              1.0   \n",
       "4                              0.0                              0.0   \n",
       "\n",
       "   playlist_7kdOsNnHtzwncTBnI3J17w  \n",
       "0                              0.0  \n",
       "1                              1.0  \n",
       "2                              0.0  \n",
       "3                              0.0  \n",
       "4                              0.0  \n",
       "\n",
       "[5 rows x 1554 columns]"
      ]
     },
     "execution_count": 95,
     "metadata": {},
     "output_type": "execute_result"
    }
   ],
   "source": [
    "cleaned_playlists = artists_playlists.reset_index()\n",
    "cleaned_playlists.head()"
   ]
  },
  {
   "cell_type": "code",
   "execution_count": 101,
   "metadata": {},
   "outputs": [],
   "source": [
    "cleaned_playlists.to_json('up_next/data/cleaned/cleaned_playlists.json', orient='records', lines=True)"
   ]
  },
  {
   "cell_type": "markdown",
   "metadata": {},
   "source": [
    "# DATA COLLECTION - Concerts\n",
    "    Lets use our top_artists list to collect concert data with the help of selenium in our scrape module "
   ]
  },
  {
   "cell_type": "code",
   "execution_count": null,
   "metadata": {},
   "outputs": [],
   "source": [
    "# with open('up_next/data/raw/artists_shows.json', 'w') as f:\n",
    "#     for artist in top_artists:\n",
    "#         lines = up_next.scrape.get_artist_concerts(browser, artist)\n",
    "#         for line in lines:\n",
    "#             json.dump(line, f)\n",
    "#             f.write('\\n')"
   ]
  },
  {
   "cell_type": "markdown",
   "metadata": {},
   "source": [
    "# DATA UNDERSTANDING - Concerts"
   ]
  },
  {
   "cell_type": "code",
   "execution_count": 40,
   "metadata": {},
   "outputs": [
    {
     "data": {
      "text/html": [
       "<div>\n",
       "<style scoped>\n",
       "    .dataframe tbody tr th:only-of-type {\n",
       "        vertical-align: middle;\n",
       "    }\n",
       "\n",
       "    .dataframe tbody tr th {\n",
       "        vertical-align: top;\n",
       "    }\n",
       "\n",
       "    .dataframe thead th {\n",
       "        text-align: right;\n",
       "    }\n",
       "</style>\n",
       "<table border=\"1\" class=\"dataframe\">\n",
       "  <thead>\n",
       "    <tr style=\"text-align: right;\">\n",
       "      <th></th>\n",
       "      <th>artist</th>\n",
       "      <th>date</th>\n",
       "      <th>loc</th>\n",
       "    </tr>\n",
       "  </thead>\n",
       "  <tbody>\n",
       "    <tr>\n",
       "      <th>0</th>\n",
       "      <td>2 Chainz</td>\n",
       "      <td>2019-06-30 05:30:00</td>\n",
       "      <td>Las Vegas, NV, US</td>\n",
       "    </tr>\n",
       "    <tr>\n",
       "      <th>1</th>\n",
       "      <td>2 Chainz</td>\n",
       "      <td>2019-07-12 11:00:00</td>\n",
       "      <td>London, UK</td>\n",
       "    </tr>\n",
       "    <tr>\n",
       "      <th>2</th>\n",
       "      <td>2 Chainz</td>\n",
       "      <td>2019-08-10 00:00:00</td>\n",
       "      <td>Anaheim, CA, US</td>\n",
       "    </tr>\n",
       "    <tr>\n",
       "      <th>3</th>\n",
       "      <td>2 Chainz</td>\n",
       "      <td>2019-08-24 22:00:00</td>\n",
       "      <td>Atlanta, GA, US</td>\n",
       "    </tr>\n",
       "    <tr>\n",
       "      <th>4</th>\n",
       "      <td>2 Chainz</td>\n",
       "      <td>2019-05-27 05:30:00</td>\n",
       "      <td>Las Vegas, NV, US</td>\n",
       "    </tr>\n",
       "  </tbody>\n",
       "</table>\n",
       "</div>"
      ],
      "text/plain": [
       "     artist                date                loc\n",
       "0  2 Chainz 2019-06-30 05:30:00  Las Vegas, NV, US\n",
       "1  2 Chainz 2019-07-12 11:00:00         London, UK\n",
       "2  2 Chainz 2019-08-10 00:00:00    Anaheim, CA, US\n",
       "3  2 Chainz 2019-08-24 22:00:00    Atlanta, GA, US\n",
       "4  2 Chainz 2019-05-27 05:30:00  Las Vegas, NV, US"
      ]
     },
     "execution_count": 40,
     "metadata": {},
     "output_type": "execute_result"
    }
   ],
   "source": [
    "concerts.head()"
   ]
  },
  {
   "cell_type": "code",
   "execution_count": 41,
   "metadata": {},
   "outputs": [
    {
     "data": {
      "text/html": [
       "<div>\n",
       "<style scoped>\n",
       "    .dataframe tbody tr th:only-of-type {\n",
       "        vertical-align: middle;\n",
       "    }\n",
       "\n",
       "    .dataframe tbody tr th {\n",
       "        vertical-align: top;\n",
       "    }\n",
       "\n",
       "    .dataframe thead th {\n",
       "        text-align: right;\n",
       "    }\n",
       "</style>\n",
       "<table border=\"1\" class=\"dataframe\">\n",
       "  <thead>\n",
       "    <tr style=\"text-align: right;\">\n",
       "      <th></th>\n",
       "      <th>artist</th>\n",
       "      <th>date</th>\n",
       "      <th>loc</th>\n",
       "    </tr>\n",
       "  </thead>\n",
       "  <tbody>\n",
       "    <tr>\n",
       "      <th>count</th>\n",
       "      <td>134943</td>\n",
       "      <td>134943</td>\n",
       "      <td>134943</td>\n",
       "    </tr>\n",
       "    <tr>\n",
       "      <th>unique</th>\n",
       "      <td>1420</td>\n",
       "      <td>37136</td>\n",
       "      <td>4820</td>\n",
       "    </tr>\n",
       "    <tr>\n",
       "      <th>top</th>\n",
       "      <td>San Francisco Symphony</td>\n",
       "      <td>2019-07-19 00:00:00</td>\n",
       "      <td>London, UK</td>\n",
       "    </tr>\n",
       "    <tr>\n",
       "      <th>freq</th>\n",
       "      <td>194</td>\n",
       "      <td>191</td>\n",
       "      <td>4186</td>\n",
       "    </tr>\n",
       "    <tr>\n",
       "      <th>first</th>\n",
       "      <td>NaN</td>\n",
       "      <td>1973-09-29 00:00:00</td>\n",
       "      <td>NaN</td>\n",
       "    </tr>\n",
       "    <tr>\n",
       "      <th>last</th>\n",
       "      <td>NaN</td>\n",
       "      <td>2020-12-16 18:30:00</td>\n",
       "      <td>NaN</td>\n",
       "    </tr>\n",
       "  </tbody>\n",
       "</table>\n",
       "</div>"
      ],
      "text/plain": [
       "                        artist                 date         loc\n",
       "count                   134943               134943      134943\n",
       "unique                    1420                37136        4820\n",
       "top     San Francisco Symphony  2019-07-19 00:00:00  London, UK\n",
       "freq                       194                  191        4186\n",
       "first                      NaN  1973-09-29 00:00:00         NaN\n",
       "last                       NaN  2020-12-16 18:30:00         NaN"
      ]
     },
     "execution_count": 41,
     "metadata": {},
     "output_type": "execute_result"
    }
   ],
   "source": [
    "concerts.describe()"
   ]
  },
  {
   "cell_type": "code",
   "execution_count": 42,
   "metadata": {},
   "outputs": [
    {
     "data": {
      "image/png": "[encoded data removed]",
      "text/plain": [
       "<Figure size 432x288 with 1 Axes>"
      ]
     },
     "metadata": {},
     "output_type": "display_data"
    }
   ],
   "source": [
    "concerts.date.hist(bins=40)\n",
    "plt.xlabel('Year')\n",
    "plt.ylabel('Number of Concerts');"
   ]
  },
  {
   "cell_type": "markdown",
   "metadata": {},
   "source": [
    "Artists and the time and place of their concerts. The earliest time dates back to 1973 and location includes non-US concerts. For this experiment we will just focus on concerts in the United States and from 2015 or later. ALSO that loc column should be renamed to prevent ambiguation with Pandas' .loc() method."
   ]
  },
  {
   "cell_type": "markdown",
   "metadata": {},
   "source": [
    "# DATA PREPARATION - Concerts\n",
    "        Trim to recent, domestic + geocode unique locs and join"
   ]
  },
  {
   "cell_type": "code",
   "execution_count": 69,
   "metadata": {},
   "outputs": [
    {
     "data": {
      "text/plain": [
       "'There are 2023 unique locations'"
      ]
     },
     "execution_count": 69,
     "metadata": {},
     "output_type": "execute_result"
    }
   ],
   "source": [
    "concerts.columns = ['artist', 'date', 'location']          # Rename column loc -> location\n",
    "domestics = concerts[concerts['location'].str.endswith('US')]      # Drop gigs outside USA\n",
    "recent_domestics = domestics[domestics['date'] >= '2015']      # Drop gigs older than 2015\n",
    "trimmed_concerts = recent_domestics.copy()\n",
    "\n",
    "unique_locations = trimmed_concerts.location.unique()\n",
    "f'There are {len(unique_locations)} unique locations'"
   ]
  },
  {
   "cell_type": "code",
   "execution_count": 72,
   "metadata": {},
   "outputs": [
    {
     "data": {
      "image/png": "[encoded data removed]",
      "text/plain": [
       "<Figure size 432x288 with 1 Axes>"
      ]
     },
     "metadata": {},
     "output_type": "display_data"
    }
   ],
   "source": [
    "trimmed_concerts.date.hist(bins=40)\n",
    "plt.xlabel('Year')\n",
    "plt.ylabel('Number of Concerts');"
   ]
  },
  {
   "cell_type": "markdown",
   "metadata": {},
   "source": [
    "Collect geo coordinates from Google Maps"
   ]
  },
  {
   "cell_type": "code",
   "execution_count": 95,
   "metadata": {},
   "outputs": [],
   "source": [
    "# start = time.time()\n",
    "# locations_w_coords = up_next.gmap.get_multi_latlongs(unique_locations)\n",
    "# time.time() - start    \n",
    "\n",
    "# Takes a little while to run. ~7:30 min"
   ]
  },
  {
   "cell_type": "code",
   "execution_count": 98,
   "metadata": {},
   "outputs": [
    {
     "data": {
      "text/html": [
       "<div>\n",
       "<style scoped>\n",
       "    .dataframe tbody tr th:only-of-type {\n",
       "        vertical-align: middle;\n",
       "    }\n",
       "\n",
       "    .dataframe tbody tr th {\n",
       "        vertical-align: top;\n",
       "    }\n",
       "\n",
       "    .dataframe thead th {\n",
       "        text-align: right;\n",
       "    }\n",
       "</style>\n",
       "<table border=\"1\" class=\"dataframe\">\n",
       "  <thead>\n",
       "    <tr style=\"text-align: right;\">\n",
       "      <th></th>\n",
       "      <th>lat</th>\n",
       "      <th>lng</th>\n",
       "      <th>location</th>\n",
       "    </tr>\n",
       "  </thead>\n",
       "  <tbody>\n",
       "    <tr>\n",
       "      <th>0</th>\n",
       "      <td>36.169941</td>\n",
       "      <td>-115.139830</td>\n",
       "      <td>Las Vegas, NV, US</td>\n",
       "    </tr>\n",
       "    <tr>\n",
       "      <th>1</th>\n",
       "      <td>33.836593</td>\n",
       "      <td>-117.914301</td>\n",
       "      <td>Anaheim, CA, US</td>\n",
       "    </tr>\n",
       "    <tr>\n",
       "      <th>2</th>\n",
       "      <td>33.748995</td>\n",
       "      <td>-84.387982</td>\n",
       "      <td>Atlanta, GA, US</td>\n",
       "    </tr>\n",
       "    <tr>\n",
       "      <th>3</th>\n",
       "      <td>42.331427</td>\n",
       "      <td>-83.045754</td>\n",
       "      <td>Detroit, MI, US</td>\n",
       "    </tr>\n",
       "    <tr>\n",
       "      <th>4</th>\n",
       "      <td>40.691613</td>\n",
       "      <td>-112.001050</td>\n",
       "      <td>West Valley City, UT, US</td>\n",
       "    </tr>\n",
       "  </tbody>\n",
       "</table>\n",
       "</div>"
      ],
      "text/plain": [
       "         lat         lng                  location\n",
       "0  36.169941 -115.139830         Las Vegas, NV, US\n",
       "1  33.836593 -117.914301           Anaheim, CA, US\n",
       "2  33.748995  -84.387982           Atlanta, GA, US\n",
       "3  42.331427  -83.045754           Detroit, MI, US\n",
       "4  40.691613 -112.001050  West Valley City, UT, US"
      ]
     },
     "execution_count": 98,
     "metadata": {},
     "output_type": "execute_result"
    }
   ],
   "source": [
    "locations_w_coords.head()"
   ]
  },
  {
   "cell_type": "code",
   "execution_count": 102,
   "metadata": {},
   "outputs": [
    {
     "data": {
      "text/html": [
       "<div>\n",
       "<style scoped>\n",
       "    .dataframe tbody tr th:only-of-type {\n",
       "        vertical-align: middle;\n",
       "    }\n",
       "\n",
       "    .dataframe tbody tr th {\n",
       "        vertical-align: top;\n",
       "    }\n",
       "\n",
       "    .dataframe thead th {\n",
       "        text-align: right;\n",
       "    }\n",
       "</style>\n",
       "<table border=\"1\" class=\"dataframe\">\n",
       "  <thead>\n",
       "    <tr style=\"text-align: right;\">\n",
       "      <th></th>\n",
       "      <th>artist</th>\n",
       "      <th>date</th>\n",
       "      <th>location</th>\n",
       "      <th>lat</th>\n",
       "      <th>lng</th>\n",
       "    </tr>\n",
       "  </thead>\n",
       "  <tbody>\n",
       "    <tr>\n",
       "      <th>0</th>\n",
       "      <td>2 Chainz</td>\n",
       "      <td>2019-06-30 05:30:00</td>\n",
       "      <td>Las Vegas, NV, US</td>\n",
       "      <td>36.169941</td>\n",
       "      <td>-115.139830</td>\n",
       "    </tr>\n",
       "    <tr>\n",
       "      <th>1</th>\n",
       "      <td>2 Chainz</td>\n",
       "      <td>2019-08-10 00:00:00</td>\n",
       "      <td>Anaheim, CA, US</td>\n",
       "      <td>33.836593</td>\n",
       "      <td>-117.914301</td>\n",
       "    </tr>\n",
       "    <tr>\n",
       "      <th>2</th>\n",
       "      <td>2 Chainz</td>\n",
       "      <td>2019-08-24 22:00:00</td>\n",
       "      <td>Atlanta, GA, US</td>\n",
       "      <td>33.748995</td>\n",
       "      <td>-84.387982</td>\n",
       "    </tr>\n",
       "    <tr>\n",
       "      <th>3</th>\n",
       "      <td>2 Chainz</td>\n",
       "      <td>2019-05-27 05:30:00</td>\n",
       "      <td>Las Vegas, NV, US</td>\n",
       "      <td>36.169941</td>\n",
       "      <td>-115.139830</td>\n",
       "    </tr>\n",
       "    <tr>\n",
       "      <th>4</th>\n",
       "      <td>2 Chainz</td>\n",
       "      <td>2019-05-19 00:00:00</td>\n",
       "      <td>Detroit, MI, US</td>\n",
       "      <td>42.331427</td>\n",
       "      <td>-83.045754</td>\n",
       "    </tr>\n",
       "  </tbody>\n",
       "</table>\n",
       "</div>"
      ],
      "text/plain": [
       "     artist                date           location        lat         lng\n",
       "0  2 Chainz 2019-06-30 05:30:00  Las Vegas, NV, US  36.169941 -115.139830\n",
       "1  2 Chainz 2019-08-10 00:00:00    Anaheim, CA, US  33.836593 -117.914301\n",
       "2  2 Chainz 2019-08-24 22:00:00    Atlanta, GA, US  33.748995  -84.387982\n",
       "3  2 Chainz 2019-05-27 05:30:00  Las Vegas, NV, US  36.169941 -115.139830\n",
       "4  2 Chainz 2019-05-19 00:00:00    Detroit, MI, US  42.331427  -83.045754"
      ]
     },
     "metadata": {},
     "output_type": "display_data"
    },
    {
     "data": {
      "text/plain": [
       "True"
      ]
     },
     "execution_count": 102,
     "metadata": {},
     "output_type": "execute_result"
    }
   ],
   "source": [
    "concerts_w_coords = pd.merge(trimmed_concerts, locations_w_coords, on='location', how='left')\n",
    "display(concerts_w_coords.head())\n",
    "len(trimmed_concerts) == len(concerts_w_coords)     # Sanity Check for merge quality"
   ]
  },
  {
   "cell_type": "code",
   "execution_count": 51,
   "metadata": {},
   "outputs": [
    {
     "data": {
      "text/plain": [
       "(1355,)"
      ]
     },
     "execution_count": 51,
     "metadata": {},
     "output_type": "execute_result"
    }
   ],
   "source": [
    "concerts_w_coords['artist'].unique().shape"
   ]
  },
  {
   "cell_type": "markdown",
   "metadata": {},
   "source": [
    "1355 Unique artists in our concerts data out of the 1697 from the trimmed playlist.\n",
    "Re trim playlist df???"
   ]
  },
  {
   "cell_type": "code",
   "execution_count": 105,
   "metadata": {},
   "outputs": [],
   "source": [
    "concerts_w_coords.to_json('up_next/data/cleaned/concerts_w_coords.json', orient='records', lines=True)"
   ]
  },
  {
   "cell_type": "markdown",
   "metadata": {},
   "source": [
    "# MODELING"
   ]
  },
  {
   "cell_type": "code",
   "execution_count": 3,
   "metadata": {},
   "outputs": [],
   "source": [
    "cleaned_playlists = pd.read_json('up_next/data/cleaned/cleaned_playlists.json', lines=True)\n",
    "concerts_w_coords = pd.read_json('up_next/data/cleaned/concerts_w_coords.json', lines=True)"
   ]
  },
  {
   "cell_type": "code",
   "execution_count": 5,
   "metadata": {},
   "outputs": [],
   "source": [
    "# concerts_w_coords[concerts_w_coords['artist'].str.contains('Head and')]"
   ]
  },
  {
   "cell_type": "markdown",
   "metadata": {},
   "source": [
    "### Similar Artist"
   ]
  },
  {
   "cell_type": "code",
   "execution_count": 4,
   "metadata": {},
   "outputs": [],
   "source": [
    "model = up_next.discover.SimilarArtistModel(playlists_df=cleaned_playlists, concerts_df=concerts_w_coords)"
   ]
  },
  {
   "cell_type": "code",
   "execution_count": 5,
   "metadata": {},
   "outputs": [],
   "source": [
    "untapped = model.find_similar_artist_venues(cutoff_dist=100,\n",
    "                                 main_artist='Luke Bryan',\n",
    "                                 max_new_cities=5,\n",
    "                                 num_artists=10)"
   ]
  },
  {
   "cell_type": "code",
   "execution_count": 31,
   "metadata": {},
   "outputs": [],
   "source": [
    "# up_next.viz.add_multi_artist_markers('Luke Bryan', untapped)"
   ]
  },
  {
   "cell_type": "code",
   "execution_count": 44,
   "metadata": {},
   "outputs": [],
   "source": [
    "import up_next.viz"
   ]
  },
  {
   "cell_type": "code",
   "execution_count": 45,
   "metadata": {},
   "outputs": [],
   "source": [
    "artist_map = up_next.viz.AritstMap('Luke Bryan', untapped)"
   ]
  },
  {
   "cell_type": "code",
   "execution_count": 46,
   "metadata": {},
   "outputs": [],
   "source": [
    "artist_map.add_multi_artist_markers()"
   ]
  },
  {
   "cell_type": "code",
   "execution_count": 52,
   "metadata": {},
   "outputs": [
    {
     "data": {
      "text/plain": [
       "[{'artist': 'Luke Combs',\n",
       "  'cosine_sim': 0.355,\n",
       "  'new locations': [{'unplayed': {'city': 'Tulsa, OK, US',\n",
       "     'latlong': [36.1539816, -95.992775]},\n",
       "    'played': {'city': 'Norman, OK, US', 'latlong': [35.2225668, -97.4394777]},\n",
       "    'distance': 104.0},\n",
       "   {'unplayed': {'city': 'Green Bay, WI, US',\n",
       "     'latlong': [44.5133188, -88.0132958]},\n",
       "    'played': {'city': 'Madison, WI, US',\n",
       "     'latlong': [43.0730517, -89.4012302]},\n",
       "    'distance': 121.0},\n",
       "   {'unplayed': {'city': 'Bozeman, MT, US',\n",
       "     'latlong': [45.6769979, -111.0429339]},\n",
       "    'played': {'city': 'Billings, MT, US',\n",
       "     'latlong': [45.7832856, -108.5006904]},\n",
       "    'distance': 123.0},\n",
       "   {'unplayed': {'city': 'North Little Rock, AR, US',\n",
       "     'latlong': [34.769536, -92.2670941]},\n",
       "    'played': {'city': 'Memphis, TN, US',\n",
       "     'latlong': [35.1495343, -90.0489801]},\n",
       "    'distance': 128.0},\n",
       "   {'unplayed': {'city': 'Duluth, MN, US',\n",
       "     'latlong': [46.7866719, -92.1004852]},\n",
       "    'played': {'city': 'Cadott, WI, US', 'latlong': [44.9480187, -91.1507031]},\n",
       "    'distance': 135.0}]},\n",
       " {'artist': 'Dierks Bentley',\n",
       "  'cosine_sim': 0.402,\n",
       "  'new locations': [{'unplayed': {'city': 'Eugene, OR, US',\n",
       "     'latlong': [44.0520691, -123.0867536]},\n",
       "    'played': {'city': 'Portland, OR, US',\n",
       "     'latlong': [45.5154586, -122.6793461]},\n",
       "    'distance': 103.0},\n",
       "   {'unplayed': {'city': 'Columbia, MO, US',\n",
       "     'latlong': [38.9517053, -92.3340724]},\n",
       "    'played': {'city': 'Maryland Heights, MO, US',\n",
       "     'latlong': [38.7131073, -90.4298401]},\n",
       "    'distance': 104.0},\n",
       "   {'unplayed': {'city': 'Duluth, MN, US',\n",
       "     'latlong': [46.7866719, -92.1004852]},\n",
       "    'played': {'city': 'Cadott, WI, US', 'latlong': [44.9480187, -91.1507031]},\n",
       "    'distance': 135.0},\n",
       "   {'unplayed': {'city': 'Sioux Falls, SD, US',\n",
       "     'latlong': [43.5473028, -96.728333]},\n",
       "    'played': {'city': 'Omaha, NE, US', 'latlong': [41.2565369, -95.9345034]},\n",
       "    'distance': 163.0},\n",
       "   {'unplayed': {'city': 'Spokane, WA, US',\n",
       "     'latlong': [47.6587802, -117.4260465]},\n",
       "    'played': {'city': 'Missoula, MT, US',\n",
       "     'latlong': [46.8721284, -113.9940314]},\n",
       "    'distance': 170.0}]},\n",
       " {'artist': 'Jason Aldean',\n",
       "  'cosine_sim': 0.426,\n",
       "  'new locations': [{'unplayed': {'city': 'Tulsa, OK, US',\n",
       "     'latlong': [36.1539816, -95.992775]},\n",
       "    'played': {'city': 'Norman, OK, US', 'latlong': [35.2225668, -97.4394777]},\n",
       "    'distance': 104.0},\n",
       "   {'unplayed': {'city': 'Manhattan, KS, US',\n",
       "     'latlong': [39.1836082, -96.5716694]},\n",
       "    'played': {'city': 'Kansas City, MO, US',\n",
       "     'latlong': [39.0997265, -94.5785667]},\n",
       "    'distance': 107.0},\n",
       "   {'unplayed': {'city': 'North Little Rock, AR, US',\n",
       "     'latlong': [34.769536, -92.2670941]},\n",
       "    'played': {'city': 'Memphis, TN, US',\n",
       "     'latlong': [35.1495343, -90.0489801]},\n",
       "    'distance': 128.0},\n",
       "   {'unplayed': {'city': 'Baton Rouge, LA, US',\n",
       "     'latlong': [30.4514677, -91.1871466]},\n",
       "    'played': {'city': 'Brandon, MS, US',\n",
       "     'latlong': [32.2732024, -89.9859158]},\n",
       "    'distance': 144.0},\n",
       "   {'unplayed': {'city': 'New Orleans, LA, US',\n",
       "     'latlong': [29.9510658, -90.0715323]},\n",
       "    'played': {'city': 'Orange Beach, AL, US',\n",
       "     'latlong': [30.2697033, -87.5867598]},\n",
       "    'distance': 150.0}]},\n",
       " {'artist': 'Florida Georgia Line',\n",
       "  'cosine_sim': 0.435,\n",
       "  'new locations': [{'unplayed': {'city': 'Tulsa, OK, US',\n",
       "     'latlong': [36.1539816, -95.992775]},\n",
       "    'played': {'city': 'Norman, OK, US', 'latlong': [35.2225668, -97.4394777]},\n",
       "    'distance': 104.0},\n",
       "   {'unplayed': {'city': 'Manhattan, KS, US',\n",
       "     'latlong': [39.1836082, -96.5716694]},\n",
       "    'played': {'city': 'Kansas City, MO, US',\n",
       "     'latlong': [39.0997265, -94.5785667]},\n",
       "    'distance': 107.0},\n",
       "   {'unplayed': {'city': 'Bozeman, MT, US',\n",
       "     'latlong': [45.6769979, -111.0429339]},\n",
       "    'played': {'city': 'Billings, MT, US',\n",
       "     'latlong': [45.7832856, -108.5006904]},\n",
       "    'distance': 123.0},\n",
       "   {'unplayed': {'city': 'Baton Rouge, LA, US',\n",
       "     'latlong': [30.4514677, -91.1871466]},\n",
       "    'played': {'city': 'Brandon, MS, US',\n",
       "     'latlong': [32.2732024, -89.9859158]},\n",
       "    'distance': 144.0},\n",
       "   {'unplayed': {'city': 'Kennewick, WA, US',\n",
       "     'latlong': [46.2086683, -119.119948]},\n",
       "    'played': {'city': 'Auburn, WA, US',\n",
       "     'latlong': [47.3073228, -122.2284532]},\n",
       "    'distance': 166.0}]},\n",
       " {'artist': 'Dan + Shay',\n",
       "  'cosine_sim': 0.44,\n",
       "  'new locations': [{'unplayed': {'city': 'Valdosta, GA, US',\n",
       "     'latlong': [30.8327022, -83.2784851]},\n",
       "    'played': {'city': 'Archer, FL, US', 'latlong': [29.5299677, -82.5189969]},\n",
       "    'distance': 101.0},\n",
       "   {'unplayed': {'city': 'New Bern, NC, US',\n",
       "     'latlong': [35.108493, -77.0441143]},\n",
       "    'played': {'city': 'Raleigh, NC, US',\n",
       "     'latlong': [35.7795897, -78.6381787]},\n",
       "    'distance': 101.0},\n",
       "   {'unplayed': {'city': 'Baton Rouge, LA, US',\n",
       "     'latlong': [30.4514677, -91.1871466]},\n",
       "    'played': {'city': 'Brandon, MS, US',\n",
       "     'latlong': [32.2732024, -89.9859158]},\n",
       "    'distance': 144.0},\n",
       "   {'unplayed': {'city': 'New Orleans, LA, US',\n",
       "     'latlong': [29.9510658, -90.0715323]},\n",
       "    'played': {'city': 'Orange Beach, AL, US',\n",
       "     'latlong': [30.2697033, -87.5867598]},\n",
       "    'distance': 150.0},\n",
       "   {'unplayed': {'city': 'Spokane, WA, US',\n",
       "     'latlong': [47.6587802, -117.4260465]},\n",
       "    'played': {'city': 'Missoula, MT, US',\n",
       "     'latlong': [46.8721284, -113.9940314]},\n",
       "    'distance': 170.0}]},\n",
       " {'artist': 'Jordan Davis',\n",
       "  'cosine_sim': 0.45,\n",
       "  'new locations': [{'unplayed': {'city': 'Eugene, OR, US',\n",
       "     'latlong': [44.0520691, -123.0867536]},\n",
       "    'played': {'city': 'Portland, OR, US',\n",
       "     'latlong': [45.5154586, -122.6793461]},\n",
       "    'distance': 103.0},\n",
       "   {'unplayed': {'city': 'Ocean City, MD, US',\n",
       "     'latlong': [38.3365032, -75.0849058]},\n",
       "    'played': {'city': 'Camden, NJ, US', 'latlong': [39.9259463, -75.1196199]},\n",
       "    'distance': 110.0},\n",
       "   {'unplayed': {'city': 'Roanoke, VA, US',\n",
       "     'latlong': [37.2709704, -79.9414266]},\n",
       "    'played': {'city': 'Charleston, WV, US',\n",
       "     'latlong': [38.3498195, -81.6326234]},\n",
       "    'distance': 119.0},\n",
       "   {'unplayed': {'city': 'North Little Rock, AR, US',\n",
       "     'latlong': [34.769536, -92.2670941]},\n",
       "    'played': {'city': 'Memphis, TN, US',\n",
       "     'latlong': [35.1495343, -90.0489801]},\n",
       "    'distance': 128.0},\n",
       "   {'unplayed': {'city': 'Baton Rouge, LA, US',\n",
       "     'latlong': [30.4514677, -91.1871466]},\n",
       "    'played': {'city': 'Brandon, MS, US',\n",
       "     'latlong': [32.2732024, -89.9859158]},\n",
       "    'distance': 144.0}]},\n",
       " {'artist': 'Brothers Osborne',\n",
       "  'cosine_sim': 0.454,\n",
       "  'new locations': [{'unplayed': {'city': 'Columbia, MO, US',\n",
       "     'latlong': [38.9517053, -92.3340724]},\n",
       "    'played': {'city': 'Maryland Heights, MO, US',\n",
       "     'latlong': [38.7131073, -90.4298401]},\n",
       "    'distance': 104.0},\n",
       "   {'unplayed': {'city': 'Huntsville, TN, US',\n",
       "     'latlong': [36.409801, -84.4904939]},\n",
       "    'played': {'city': 'Ringgold, GA, US',\n",
       "     'latlong': [34.9159099, -85.1091173]},\n",
       "    'distance': 109.0},\n",
       "   {'unplayed': {'city': 'Savannah, GA, US',\n",
       "     'latlong': [32.0808989, -81.091203]},\n",
       "    'played': {'city': 'North Augusta, SC, US',\n",
       "     'latlong': [33.5018026, -81.9651152]},\n",
       "    'distance': 111.0},\n",
       "   {'unplayed': {'city': 'George, WA, US',\n",
       "     'latlong': [47.0790224, -119.8558822]},\n",
       "    'played': {'city': 'Auburn, WA, US',\n",
       "     'latlong': [47.3073228, -122.2284532]},\n",
       "    'distance': 113.0},\n",
       "   {'unplayed': {'city': 'Little Rock, AR, US',\n",
       "     'latlong': [34.7464809, -92.2895948]},\n",
       "    'played': {'city': 'Memphis, TN, US',\n",
       "     'latlong': [35.1495343, -90.0489801]},\n",
       "    'distance': 130.0}]},\n",
       " {'artist': 'Thomas Rhett',\n",
       "  'cosine_sim': 0.461,\n",
       "  'new locations': [{'unplayed': {'city': 'Tulsa, OK, US',\n",
       "     'latlong': [36.1539816, -95.992775]},\n",
       "    'played': {'city': 'Norman, OK, US', 'latlong': [35.2225668, -97.4394777]},\n",
       "    'distance': 104.0},\n",
       "   {'unplayed': {'city': 'Columbia, MO, US',\n",
       "     'latlong': [38.9517053, -92.3340724]},\n",
       "    'played': {'city': 'Maryland Heights, MO, US',\n",
       "     'latlong': [38.7131073, -90.4298401]},\n",
       "    'distance': 104.0},\n",
       "   {'unplayed': {'city': 'Sioux Falls, SD, US',\n",
       "     'latlong': [43.5473028, -96.728333]},\n",
       "    'played': {'city': 'Omaha, NE, US', 'latlong': [41.2565369, -95.9345034]},\n",
       "    'distance': 163.0},\n",
       "   {'unplayed': {'city': 'Spokane, WA, US',\n",
       "     'latlong': [47.6587802, -117.4260465]},\n",
       "    'played': {'city': 'Missoula, MT, US',\n",
       "     'latlong': [46.8721284, -113.9940314]},\n",
       "    'distance': 170.0},\n",
       "   {'unplayed': {'city': 'Bossier City, LA, US',\n",
       "     'latlong': [32.5159852, -93.7321228]},\n",
       "    'played': {'city': 'Dallas, TX, US', 'latlong': [32.7766642, -96.7969879]},\n",
       "    'distance': 179.0}]},\n",
       " {'artist': 'Lauren Alaina',\n",
       "  'cosine_sim': 0.47,\n",
       "  'new locations': [{'unplayed': {'city': 'Columbia, MO, US',\n",
       "     'latlong': [38.9517053, -92.3340724]},\n",
       "    'played': {'city': 'Maryland Heights, MO, US',\n",
       "     'latlong': [38.7131073, -90.4298401]},\n",
       "    'distance': 104.0},\n",
       "   {'unplayed': {'city': 'Roanoke, VA, US',\n",
       "     'latlong': [37.2709704, -79.9414266]},\n",
       "    'played': {'city': 'Charleston, WV, US',\n",
       "     'latlong': [38.3498195, -81.6326234]},\n",
       "    'distance': 119.0},\n",
       "   {'unplayed': {'city': 'Green Bay, WI, US',\n",
       "     'latlong': [44.5133188, -88.0132958]},\n",
       "    'played': {'city': 'Madison, WI, US',\n",
       "     'latlong': [43.0730517, -89.4012302]},\n",
       "    'distance': 121.0},\n",
       "   {'unplayed': {'city': 'Bozeman, MT, US',\n",
       "     'latlong': [45.6769979, -111.0429339]},\n",
       "    'played': {'city': 'Billings, MT, US',\n",
       "     'latlong': [45.7832856, -108.5006904]},\n",
       "    'distance': 123.0},\n",
       "   {'unplayed': {'city': 'Corbin, KY, US',\n",
       "     'latlong': [36.9486986, -84.0968761]},\n",
       "    'played': {'city': 'Louisville, KY, US',\n",
       "     'latlong': [38.2526647, -85.7584557]},\n",
       "    'distance': 128.0}]},\n",
       " {'artist': 'Chris Young',\n",
       "  'cosine_sim': 0.493,\n",
       "  'new locations': [{'unplayed': {'city': 'Eugene, OR, US',\n",
       "     'latlong': [44.0520691, -123.0867536]},\n",
       "    'played': {'city': 'Portland, OR, US',\n",
       "     'latlong': [45.5154586, -122.6793461]},\n",
       "    'distance': 103.0},\n",
       "   {'unplayed': {'city': 'Tulsa, OK, US', 'latlong': [36.1539816, -95.992775]},\n",
       "    'played': {'city': 'Norman, OK, US', 'latlong': [35.2225668, -97.4394777]},\n",
       "    'distance': 104.0},\n",
       "   {'unplayed': {'city': 'Cherokee, NC, US',\n",
       "     'latlong': [35.4770574, -83.3205859]},\n",
       "    'played': {'city': 'Ringgold, GA, US',\n",
       "     'latlong': [34.9159099, -85.1091173]},\n",
       "    'distance': 108.0},\n",
       "   {'unplayed': {'city': 'Estero, FL, US',\n",
       "     'latlong': [26.438136, -81.8067523]},\n",
       "    'played': {'city': 'West Palm Beach, FL, US',\n",
       "     'latlong': [26.7153424, -80.0533746]},\n",
       "    'distance': 110.0},\n",
       "   {'unplayed': {'city': 'Corpus Christi, TX, US',\n",
       "     'latlong': [27.8005828, -97.396381]},\n",
       "    'played': {'city': 'San Antonio, TX, US',\n",
       "     'latlong': [29.4241219, -98.4936282]},\n",
       "    'distance': 130.0}]}]"
      ]
     },
     "execution_count": 52,
     "metadata": {},
     "output_type": "execute_result"
    }
   ],
   "source": [
    "artist_map.sim_artist_cities"
   ]
  },
  {
   "cell_type": "markdown",
   "metadata": {},
   "source": [
    "### EVALUATION"
   ]
  },
  {
   "cell_type": "code",
   "execution_count": 31,
   "metadata": {},
   "outputs": [
    {
     "data": {
      "text/plain": [
       "'Arcade Fire: No Recent Shows OR Not In 20 Of Top Playlists'"
      ]
     },
     "execution_count": 31,
     "metadata": {},
     "output_type": "execute_result"
    }
   ],
   "source": [
    "main_artist = 'Arcade Fire'\n",
    "untapped = model.find_similar_artist_venues(main_artist, cutoff_dist=5, max_new_cities=10)\n",
    "up_next.viz.add_multi_artist_markers(main_artist, untapped)"
   ]
  },
  {
   "cell_type": "code",
   "execution_count": 43,
   "metadata": {},
   "outputs": [
    {
     "data": {
      "text/plain": [
       "(False, True)"
      ]
     },
     "execution_count": 43,
     "metadata": {},
     "output_type": "execute_result"
    }
   ],
   "source": [
    "main_artist in top_artists, main_artist in playlists.artist.unique()"
   ]
  },
  {
   "cell_type": "markdown",
   "metadata": {},
   "source": [
    "Always need more data!"
   ]
  },
  {
   "cell_type": "markdown",
   "metadata": {},
   "source": [
    "### DEPLOYMENT"
   ]
  },
  {
   "cell_type": "code",
   "execution_count": 61,
   "metadata": {},
   "outputs": [],
   "source": [
    "# pickle the model\n",
    "with open('up_next/webapp/sim_artist_model.pkl', 'wb') as f:\n",
    "    pickle.dump(model, f)"
   ]
  },
  {
   "cell_type": "code",
   "execution_count": 24,
   "metadata": {},
   "outputs": [
    {
     "data": {
      "text/plain": [
       "'<div style=\"width:100%;\"><div style=\"position:relative;width:100%;height:0;padding-bottom:60%;\"><iframe src=\"data:text/html;charset=utf-8;base64,PCFET0NUWVBFIGh0bWw+CjxoZWFkPiAgICAKICAgIDxtZXRhIGh0dHAtZXF1aXY9ImNvbnRlbnQtdHlwZSIgY29udGVudD0idGV4dC9odG1sOyBjaGFyc2V0PVVURi04IiAvPgogICAgPHNjcmlwdD5MX1BSRUZFUl9DQU5WQVM9ZmFsc2U7IExfTk9fVE9VQ0g9ZmFsc2U7IExfRElTQUJMRV8zRD1mYWxzZTs8L3NjcmlwdD4KICAgIDxzY3JpcHQgc3JjPSJodHRwczovL2Nkbi5qc2RlbGl2ci5uZXQvbnBtL2xlYWZsZXRAMS40LjAvZGlzdC9sZWFmbGV0LmpzIj48L3Njcml'"
      ]
     },
     "execution_count": 24,
     "metadata": {},
     "output_type": "execute_result"
    }
   ],
   "source": [
    "# stand up w flask at url with html\n",
    "m._repr_html_()[:500]"
   ]
  },
  {
   "cell_type": "markdown",
   "metadata": {},
   "source": [
    "Lets get a list of unique artist names to implement into the options."
   ]
  },
  {
   "cell_type": "code",
   "execution_count": 8,
   "metadata": {},
   "outputs": [],
   "source": [
    "artists_list = concerts_w_coords.drop_duplicates(subset='artist')['artist']\n",
    "artists_list.to_csv('up_next/data/cleaned/artists_list.csv', header=True)"
   ]
  }
 ],
 "metadata": {
  "kernelspec": {
   "display_name": "learn-env",
   "language": "python",
   "name": "learn-env"
  },
  "language_info": {
   "codemirror_mode": {
    "name": "ipython",
    "version": 3
   },
   "file_extension": ".py",
   "mimetype": "text/x-python",
   "name": "python",
   "nbconvert_exporter": "python",
   "pygments_lexer": "ipython3",
   "version": "3.6.6"
  }
 },
 "nbformat": 4,
 "nbformat_minor": 2
}
