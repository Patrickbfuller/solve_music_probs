{
 "cells": [
  {
   "cell_type": "markdown",
   "metadata": {},
   "source": [
    "# BUSINESS UNDERSTANDING\n",
    "Describe problem"
   ]
  },
  {
   "cell_type": "code",
   "execution_count": 1,
   "metadata": {},
   "outputs": [],
   "source": [
    "import pandas as pd\n",
    "import matplotlib.pyplot as plt\n",
    "from sklearn.preprocessing import OneHotEncoder\n",
    "import time\n",
    "import pickle\n",
    "import up_next.scrape\n",
    "import up_next.viz\n",
    "import up_next.discover\n",
    "import up_next.viz\n",
    "plt.style.use('ggplot')"
   ]
  },
  {
   "cell_type": "code",
   "execution_count": 2,
   "metadata": {},
   "outputs": [],
   "source": [
    "%load_ext autoreload\n",
    "%autoreload 2"
   ]
  },
  {
   "cell_type": "markdown",
   "metadata": {},
   "source": [
    "# DATA COLLECTION - Playlists\n",
    "\n",
    "        Collect artists in playlists\n",
    "        Use artists to collect concerts\n",
    "        \n",
    "        uses up_next.scrape"
   ]
  },
  {
   "cell_type": "code",
   "execution_count": 2,
   "metadata": {},
   "outputs": [],
   "source": [
    "with open('/Users/patrickfuller/.secrets/spotify_api.json') as f:\n",
    "    creds = json.load(f)\n",
    "client_id = creds['client_id']\n",
    "key = creds['api_key']"
   ]
  },
  {
   "cell_type": "code",
   "execution_count": 3,
   "metadata": {},
   "outputs": [],
   "source": [
    "client_credentials_manager = SpotifyClientCredentials(client_id=client_id,\n",
    "                                                      client_secret=key)\n",
    "\n",
    "spotify = spotipy.Spotify(client_credentials_manager=client_credentials_manager)"
   ]
  },
  {
   "cell_type": "code",
   "execution_count": 4,
   "metadata": {},
   "outputs": [],
   "source": [
    "cat_list = []\n",
    "response = spotify.categories(country='US', limit=50)\n",
    "items = response['categories']['items']\n",
    "for item in items:\n",
    "    category = item['id']\n",
    "    cat_list.append(category)"
   ]
  },
  {
   "cell_type": "code",
   "execution_count": 5,
   "metadata": {},
   "outputs": [],
   "source": [
    "for cat in ['family', 'comedy', 'word', 'ellen', 'sleep']:   \n",
    "    cat_list.remove(cat)"
   ]
  },
  {
   "cell_type": "code",
   "execution_count": 9,
   "metadata": {},
   "outputs": [
    {
     "data": {
      "text/plain": [
       "['toplists',\n",
       " 'summer',\n",
       " 'pop',\n",
       " 'hiphop',\n",
       " 'pride',\n",
       " 'mood',\n",
       " 'workout',\n",
       " 'decades',\n",
       " 'country',\n",
       " 'focus',\n",
       " 'latin',\n",
       " 'chill',\n",
       " 'edm_dance',\n",
       " 'rnb',\n",
       " 'rock',\n",
       " 'soul',\n",
       " 'indie_alt',\n",
       " 'roots',\n",
       " 'party',\n",
       " 'classical',\n",
       " 'jazz',\n",
       " 'inspirational',\n",
       " 'gaming',\n",
       " 'romance',\n",
       " 'kpop',\n",
       " 'popculture',\n",
       " 'arab',\n",
       " 'desi',\n",
       " 'afro',\n",
       " 'metal',\n",
       " 'reggae',\n",
       " 'blues',\n",
       " 'punk',\n",
       " 'funk',\n",
       " 'dinner',\n",
       " 'blackhistorymonth',\n",
       " 'sessions',\n",
       " 'travel',\n",
       " 'mexican']"
      ]
     },
     "execution_count": 9,
     "metadata": {},
     "output_type": "execute_result"
    }
   ],
   "source": [
    "cat_list"
   ]
  },
  {
   "cell_type": "code",
   "execution_count": 6,
   "metadata": {},
   "outputs": [],
   "source": [
    "master_playlist_dict = {}\n",
    "for category in cat_list:\n",
    "    offset = 0\n",
    "    while True:\n",
    "        response = spotify.category_playlists(category_id=category,\n",
    "                                                             offset=offset,\n",
    "                                                             limit=50, country='US',\n",
    "                                                             )\n",
    "        current_names_ids = hb.extract_name_and_id(response)\n",
    "        if current_names_ids == {}:                     # If we run out of playlists in a category\n",
    "            break                                       # we move on to the next category\n",
    "        master_playlist_dict.update(current_names_ids)\n",
    "        offset += 50"
   ]
  },
  {
   "cell_type": "code",
   "execution_count": 8,
   "metadata": {},
   "outputs": [
    {
     "data": {
      "text/plain": [
       "1763"
      ]
     },
     "execution_count": 8,
     "metadata": {},
     "output_type": "execute_result"
    }
   ],
   "source": [
    "len(master_playlist_dict.keys())"
   ]
  },
  {
   "cell_type": "code",
   "execution_count": 25,
   "metadata": {},
   "outputs": [],
   "source": [
    "# with open('up_next/data/raw/playlists_artists_redundant.json', 'w') as f:\n",
    "#     for pl_id, pl_data in list(master_playlist_dict.items()):\n",
    "#         pl_artists = []\n",
    "#         offset = 0\n",
    "#         for _ in range(2):\n",
    "#             try:\n",
    "#                 response = spotify.user_playlist_tracks(user=pl_data['owner_id'],\n",
    "#                                              playlist_id=pl_id,\n",
    "#                                              limit=100)\n",
    "#                 current_artists = up_next.scrape.get_artists_in_playlist(response)\n",
    "#                 pl_artists.extend(current_artists)\n",
    "#                 unique = set(pl_artists)\n",
    "#                 for artist in unique:\n",
    "#                     line = {\n",
    "#                         'artist':(artist),\n",
    "#                         'playlist':(pl_data['name'], pl_id),\n",
    "#                     }\n",
    "#                     json.dump(line, f)\n",
    "#                     f.write('\\n')\n",
    "#             except:\n",
    "#                 pass\n",
    "\n",
    "# # Commented out to prevent re-writing the file. Doesn't take for ever but non-negligeable"
   ]
  },
  {
   "cell_type": "markdown",
   "metadata": {},
   "source": [
    "# DATA UNDERSTANDING - Playlists"
   ]
  },
  {
   "cell_type": "code",
   "execution_count": 36,
   "metadata": {},
   "outputs": [],
   "source": [
    "playlists = pd.read_json('up_next/data/raw/playlists_artists_redundant.json', lines=True)\n",
    "concerts = pd.read_json('up_next/data/raw/artists_shows.json', lines=True)"
   ]
  },
  {
   "cell_type": "code",
   "execution_count": 37,
   "metadata": {},
   "outputs": [
    {
     "data": {
      "text/html": [
       "<div>\n",
       "<style scoped>\n",
       "    .dataframe tbody tr th:only-of-type {\n",
       "        vertical-align: middle;\n",
       "    }\n",
       "\n",
       "    .dataframe tbody tr th {\n",
       "        vertical-align: top;\n",
       "    }\n",
       "\n",
       "    .dataframe thead th {\n",
       "        text-align: right;\n",
       "    }\n",
       "</style>\n",
       "<table border=\"1\" class=\"dataframe\">\n",
       "  <thead>\n",
       "    <tr style=\"text-align: right;\">\n",
       "      <th></th>\n",
       "      <th>artist</th>\n",
       "      <th>playlist</th>\n",
       "    </tr>\n",
       "  </thead>\n",
       "  <tbody>\n",
       "    <tr>\n",
       "      <th>0</th>\n",
       "      <td>DJ Snake</td>\n",
       "      <td>[Today's Top Hits, 37i9dQZF1DXcBWIGoYBM5M]</td>\n",
       "    </tr>\n",
       "    <tr>\n",
       "      <th>1</th>\n",
       "      <td>TINI</td>\n",
       "      <td>[Today's Top Hits, 37i9dQZF1DXcBWIGoYBM5M]</td>\n",
       "    </tr>\n",
       "    <tr>\n",
       "      <th>2</th>\n",
       "      <td>Bon Iver</td>\n",
       "      <td>[Today's Top Hits, 37i9dQZF1DXcBWIGoYBM5M]</td>\n",
       "    </tr>\n",
       "    <tr>\n",
       "      <th>3</th>\n",
       "      <td>Jon Z</td>\n",
       "      <td>[Today's Top Hits, 37i9dQZF1DXcBWIGoYBM5M]</td>\n",
       "    </tr>\n",
       "    <tr>\n",
       "      <th>4</th>\n",
       "      <td>Martin Garrix</td>\n",
       "      <td>[Today's Top Hits, 37i9dQZF1DXcBWIGoYBM5M]</td>\n",
       "    </tr>\n",
       "  </tbody>\n",
       "</table>\n",
       "</div>"
      ],
      "text/plain": [
       "          artist                                    playlist\n",
       "0       DJ Snake  [Today's Top Hits, 37i9dQZF1DXcBWIGoYBM5M]\n",
       "1           TINI  [Today's Top Hits, 37i9dQZF1DXcBWIGoYBM5M]\n",
       "2       Bon Iver  [Today's Top Hits, 37i9dQZF1DXcBWIGoYBM5M]\n",
       "3          Jon Z  [Today's Top Hits, 37i9dQZF1DXcBWIGoYBM5M]\n",
       "4  Martin Garrix  [Today's Top Hits, 37i9dQZF1DXcBWIGoYBM5M]"
      ]
     },
     "execution_count": 37,
     "metadata": {},
     "output_type": "execute_result"
    }
   ],
   "source": [
    "playlists.head()"
   ]
  },
  {
   "cell_type": "markdown",
   "metadata": {},
   "source": [
    "Artists and the playlists they appear in.\n",
    "Playlist value is currently nested. In order to one hot encode this should be trimmed to just the second element, the unique playlist id."
   ]
  },
  {
   "cell_type": "markdown",
   "metadata": {},
   "source": [
    "### Artist Occurances"
   ]
  },
  {
   "cell_type": "code",
   "execution_count": 38,
   "metadata": {},
   "outputs": [
    {
     "data": {
      "text/plain": [
       "J Balvin          248\n",
       "Bad Bunny         214\n",
       "Drake             202\n",
       "Cardi B           186\n",
       "Daddy Yankee      182\n",
       "Farruko           180\n",
       "Nicky Jam         178\n",
       "Ozuna             176\n",
       "Maluma            174\n",
       "Khalid            172\n",
       "Ed Sheeran        170\n",
       "Nicki Minaj       165\n",
       "Camila Cabello    150\n",
       "Justin Bieber     146\n",
       "Marshmello        146\n",
       "Diplo             144\n",
       "Beyoncé           143\n",
       "Ty Dolla $ign     138\n",
       "Anuel Aa          136\n",
       "Zion & Lennox     132\n",
       "Shawn Mendes      132\n",
       "Rihanna           128\n",
       "Wisin             128\n",
       "Natti Natasha     124\n",
       "Post Malone       122\n",
       "Name: artist, dtype: int64"
      ]
     },
     "execution_count": 38,
     "metadata": {},
     "output_type": "execute_result"
    }
   ],
   "source": [
    "playlists.artist.value_counts()[:25]"
   ]
  },
  {
   "cell_type": "markdown",
   "metadata": {},
   "source": [
    "#### Visualize Playlist Appearances"
   ]
  },
  {
   "cell_type": "code",
   "execution_count": 39,
   "metadata": {},
   "outputs": [
    {
     "data": {
      "image/png": "[encoded data removed]",
      "text/plain": [
       "<Figure size 1008x216 with 1 Axes>"
      ]
     },
     "metadata": {},
     "output_type": "display_data"
    }
   ],
   "source": [
    "plt.figure(figsize=(14,3))\n",
    "playlists.artist.value_counts().hist(bins=100, color='g')\n",
    "plt.xlabel('# Playlist Appearances')\n",
    "plt.ylabel('# of Artists')\n",
    "plt.title('Artist Appearance in Playlists');"
   ]
  },
  {
   "cell_type": "markdown",
   "metadata": {},
   "source": [
    "We won't be able to gain much information from artists only appearing in a few playlists.\n",
    "Dropping them will reduce computational cost with little cost to predicting similar artists."
   ]
  },
  {
   "cell_type": "markdown",
   "metadata": {},
   "source": [
    "# DATA PREPARATION - Playlists\n",
    "        Trim rare artists, ohe playlists"
   ]
  },
  {
   "cell_type": "markdown",
   "metadata": {},
   "source": [
    "#### Trim rarer artists"
   ]
  },
  {
   "cell_type": "code",
   "execution_count": 43,
   "metadata": {},
   "outputs": [
    {
     "name": "stdout",
     "output_type": "stream",
     "text": [
      "There are 1697 artists appearing in 20 or more playlists\n",
      "The twelve most prevalent are ...\n"
     ]
    },
    {
     "data": {
      "text/plain": [
       "[('J Balvin', 248),\n",
       " ('Bad Bunny', 214),\n",
       " ('Drake', 202),\n",
       " ('Cardi B', 186),\n",
       " ('Daddy Yankee', 182),\n",
       " ('Farruko', 180),\n",
       " ('Nicky Jam', 178),\n",
       " ('Ozuna', 176),\n",
       " ('Maluma', 174),\n",
       " ('Khalid', 172),\n",
       " ('Ed Sheeran', 170),\n",
       " ('Nicki Minaj', 165)]"
      ]
     },
     "execution_count": 43,
     "metadata": {},
     "output_type": "execute_result"
    }
   ],
   "source": [
    "cutoff = 20\n",
    "top_artists_counts = [(v, c) for v, c in playlists['artist'].value_counts().items()\n",
    "                      if c >= cutoff]\n",
    "n_remaning_artists = len(top_artists_counts)\n",
    "print(f'There are {n_remaning_artists} artists appearing in {cutoff} or more playlists')\n",
    "print('The twelve most prevalent are ...')\n",
    "top_artists_counts[:12]"
   ]
  },
  {
   "cell_type": "code",
   "execution_count": 44,
   "metadata": {},
   "outputs": [
    {
     "data": {
      "text/plain": [
       "(65242, 2)"
      ]
     },
     "execution_count": 44,
     "metadata": {},
     "output_type": "execute_result"
    }
   ],
   "source": [
    "top_artists=[x[0] for x in top_artists_counts]\n",
    "trimmed_playlists = playlists[playlists['artist'].isin(top_artists)].copy()\n",
    "trimmed_playlists.shape"
   ]
  },
  {
   "cell_type": "code",
   "execution_count": 45,
   "metadata": {},
   "outputs": [
    {
     "data": {
      "image/png": "[encoded data removed]",
      "text/plain": [
       "<Figure size 1008x216 with 1 Axes>"
      ]
     },
     "metadata": {},
     "output_type": "display_data"
    }
   ],
   "source": [
    "plt.figure(figsize=(14,3))\n",
    "trimmed_playlists['artist'].value_counts().hist(bins=100, color='g')\n",
    "plt.xlabel('Playlist Count')\n",
    "plt.ylabel('# of Artists')\n",
    "plt.title('Artist Appearance in Playlists');"
   ]
  },
  {
   "cell_type": "markdown",
   "metadata": {},
   "source": [
    "     - Collect Concert data on artists in trimmed playlists - "
   ]
  },
  {
   "cell_type": "markdown",
   "metadata": {},
   "source": [
    "### One Hot Encoding Playlist Presence"
   ]
  },
  {
   "cell_type": "markdown",
   "metadata": {},
   "source": [
    "Cut the lists in the playlist column to just the second element (unique id)."
   ]
  },
  {
   "cell_type": "code",
   "execution_count": 90,
   "metadata": {},
   "outputs": [],
   "source": [
    "trimmed_playlists['playlist'] = trimmed_playlists['playlist'].apply(lambda x: x[1])   \n",
    "                                                    # Resetting playlist column values to only second element"
   ]
  },
  {
   "cell_type": "markdown",
   "metadata": {},
   "source": [
    "Create a dataframe of each artist and flags for their playlist presences"
   ]
  },
  {
   "cell_type": "code",
   "execution_count": 91,
   "metadata": {},
   "outputs": [],
   "source": [
    "encoder = OneHotEncoder()\n",
    "encoder.fit(trimmed_playlists[['playlist']])\n",
    "\n",
    "ohe_playlists= pd.DataFrame(\n",
    "                encoder.transform(trimmed_playlists[['playlist']]).toarray(),\n",
    "                columns=encoder.get_feature_names(['playlist'])\n",
    "                )                            # Making a column for each unique playlist"
   ]
  },
  {
   "cell_type": "code",
   "execution_count": 92,
   "metadata": {},
   "outputs": [],
   "source": [
    "artists_ohe_singles = pd.concat([trimmed_playlists.drop('playlist', axis=1),\n",
    "                                   ohe_playlists],\n",
    "                                   axis=1)          # Stitching these flags onto the artists"
   ]
  },
  {
   "cell_type": "code",
   "execution_count": 93,
   "metadata": {},
   "outputs": [],
   "source": [
    "artists_playlists = artists_ohe_singles.groupby('artist').sum()\n",
    "                                                    # Stacking the individual flags per artist"
   ]
  },
  {
   "cell_type": "code",
   "execution_count": 94,
   "metadata": {},
   "outputs": [
    {
     "data": {
      "text/plain": [
       "(1697, 1697)"
      ]
     },
     "execution_count": 94,
     "metadata": {},
     "output_type": "execute_result"
    }
   ],
   "source": [
    "len(trimmed_playlists.artist.unique()), len(artists_playlists)  # Sanity Check that we didn't lose or gain rows."
   ]
  },
  {
   "cell_type": "code",
   "execution_count": 95,
   "metadata": {},
   "outputs": [
    {
     "data": {
      "text/html": [
       "<div>\n",
       "<style scoped>\n",
       "    .dataframe tbody tr th:only-of-type {\n",
       "        vertical-align: middle;\n",
       "    }\n",
       "\n",
       "    .dataframe tbody tr th {\n",
       "        vertical-align: top;\n",
       "    }\n",
       "\n",
       "    .dataframe thead th {\n",
       "        text-align: right;\n",
       "    }\n",
       "</style>\n",
       "<table border=\"1\" class=\"dataframe\">\n",
       "  <thead>\n",
       "    <tr style=\"text-align: right;\">\n",
       "      <th></th>\n",
       "      <th>artist</th>\n",
       "      <th>playlist_03lUYFsfkESxG71B2dYosj</th>\n",
       "      <th>playlist_08CJ6fWrTA1vMfwVwAxWUl</th>\n",
       "      <th>playlist_0Gy1TwCxPFTMCiwxGLVkc1</th>\n",
       "      <th>playlist_0T22esVKW7cTZEN7XzXV14</th>\n",
       "      <th>playlist_0YMVY3uhQNd7WUf0hSByrX</th>\n",
       "      <th>playlist_0ZWYUjUMhaq0Rammqq3qu1</th>\n",
       "      <th>playlist_0bx5Dgu5yOEhST49LP67su</th>\n",
       "      <th>playlist_0fmLn46c92nP4dePQSZlsz</th>\n",
       "      <th>playlist_0k7YwkrfJ2BsRMFBP5W5xK</th>\n",
       "      <th>...</th>\n",
       "      <th>playlist_73gXbLcjix7p1pPsQClusE</th>\n",
       "      <th>playlist_7A2YimOfIrmAWkCeSIY8Rq</th>\n",
       "      <th>playlist_7EnyqmmhFgfhicejZiVV13</th>\n",
       "      <th>playlist_7EpJpnU6KrSc430F8B5tM7</th>\n",
       "      <th>playlist_7FDyC1JdV3jkGzAE9BONKt</th>\n",
       "      <th>playlist_7HQu1GUDVSx64GdCpaB88I</th>\n",
       "      <th>playlist_7JXJKP3xMvIMbEBBGApTPQ</th>\n",
       "      <th>playlist_7b9DiMN2kttG8lYQogfQBw</th>\n",
       "      <th>playlist_7fzFQUIVM4TumzRWo5UFP2</th>\n",
       "      <th>playlist_7kdOsNnHtzwncTBnI3J17w</th>\n",
       "    </tr>\n",
       "  </thead>\n",
       "  <tbody>\n",
       "    <tr>\n",
       "      <th>0</th>\n",
       "      <td>(G)I-DLE</td>\n",
       "      <td>0.0</td>\n",
       "      <td>0.0</td>\n",
       "      <td>0.0</td>\n",
       "      <td>0.0</td>\n",
       "      <td>0.0</td>\n",
       "      <td>0.0</td>\n",
       "      <td>0.0</td>\n",
       "      <td>0.0</td>\n",
       "      <td>0.0</td>\n",
       "      <td>...</td>\n",
       "      <td>0.0</td>\n",
       "      <td>0.0</td>\n",
       "      <td>0.0</td>\n",
       "      <td>0.0</td>\n",
       "      <td>0.0</td>\n",
       "      <td>0.0</td>\n",
       "      <td>0.0</td>\n",
       "      <td>0.0</td>\n",
       "      <td>0.0</td>\n",
       "      <td>0.0</td>\n",
       "    </tr>\n",
       "    <tr>\n",
       "      <th>1</th>\n",
       "      <td>*NSYNC</td>\n",
       "      <td>0.0</td>\n",
       "      <td>0.0</td>\n",
       "      <td>0.0</td>\n",
       "      <td>0.0</td>\n",
       "      <td>0.0</td>\n",
       "      <td>0.0</td>\n",
       "      <td>0.0</td>\n",
       "      <td>0.0</td>\n",
       "      <td>0.0</td>\n",
       "      <td>...</td>\n",
       "      <td>0.0</td>\n",
       "      <td>0.0</td>\n",
       "      <td>0.0</td>\n",
       "      <td>0.0</td>\n",
       "      <td>0.0</td>\n",
       "      <td>0.0</td>\n",
       "      <td>0.0</td>\n",
       "      <td>0.0</td>\n",
       "      <td>0.0</td>\n",
       "      <td>1.0</td>\n",
       "    </tr>\n",
       "    <tr>\n",
       "      <th>2</th>\n",
       "      <td>2 Chainz</td>\n",
       "      <td>0.0</td>\n",
       "      <td>0.0</td>\n",
       "      <td>0.0</td>\n",
       "      <td>0.0</td>\n",
       "      <td>0.0</td>\n",
       "      <td>0.0</td>\n",
       "      <td>0.0</td>\n",
       "      <td>0.0</td>\n",
       "      <td>0.0</td>\n",
       "      <td>...</td>\n",
       "      <td>0.0</td>\n",
       "      <td>1.0</td>\n",
       "      <td>0.0</td>\n",
       "      <td>0.0</td>\n",
       "      <td>0.0</td>\n",
       "      <td>0.0</td>\n",
       "      <td>0.0</td>\n",
       "      <td>0.0</td>\n",
       "      <td>0.0</td>\n",
       "      <td>0.0</td>\n",
       "    </tr>\n",
       "    <tr>\n",
       "      <th>3</th>\n",
       "      <td>21 Savage</td>\n",
       "      <td>0.0</td>\n",
       "      <td>0.0</td>\n",
       "      <td>0.0</td>\n",
       "      <td>0.0</td>\n",
       "      <td>0.0</td>\n",
       "      <td>0.0</td>\n",
       "      <td>0.0</td>\n",
       "      <td>0.0</td>\n",
       "      <td>0.0</td>\n",
       "      <td>...</td>\n",
       "      <td>0.0</td>\n",
       "      <td>0.0</td>\n",
       "      <td>0.0</td>\n",
       "      <td>0.0</td>\n",
       "      <td>0.0</td>\n",
       "      <td>0.0</td>\n",
       "      <td>0.0</td>\n",
       "      <td>0.0</td>\n",
       "      <td>1.0</td>\n",
       "      <td>0.0</td>\n",
       "    </tr>\n",
       "    <tr>\n",
       "      <th>4</th>\n",
       "      <td>2Pac</td>\n",
       "      <td>0.0</td>\n",
       "      <td>0.0</td>\n",
       "      <td>0.0</td>\n",
       "      <td>0.0</td>\n",
       "      <td>0.0</td>\n",
       "      <td>0.0</td>\n",
       "      <td>0.0</td>\n",
       "      <td>0.0</td>\n",
       "      <td>0.0</td>\n",
       "      <td>...</td>\n",
       "      <td>0.0</td>\n",
       "      <td>0.0</td>\n",
       "      <td>0.0</td>\n",
       "      <td>0.0</td>\n",
       "      <td>0.0</td>\n",
       "      <td>0.0</td>\n",
       "      <td>0.0</td>\n",
       "      <td>0.0</td>\n",
       "      <td>0.0</td>\n",
       "      <td>0.0</td>\n",
       "    </tr>\n",
       "  </tbody>\n",
       "</table>\n",
       "<p>5 rows × 1554 columns</p>\n",
       "</div>"
      ],
      "text/plain": [
       "      artist  playlist_03lUYFsfkESxG71B2dYosj  \\\n",
       "0   (G)I-DLE                              0.0   \n",
       "1     *NSYNC                              0.0   \n",
       "2   2 Chainz                              0.0   \n",
       "3  21 Savage                              0.0   \n",
       "4       2Pac                              0.0   \n",
       "\n",
       "   playlist_08CJ6fWrTA1vMfwVwAxWUl  playlist_0Gy1TwCxPFTMCiwxGLVkc1  \\\n",
       "0                              0.0                              0.0   \n",
       "1                              0.0                              0.0   \n",
       "2                              0.0                              0.0   \n",
       "3                              0.0                              0.0   \n",
       "4                              0.0                              0.0   \n",
       "\n",
       "   playlist_0T22esVKW7cTZEN7XzXV14  playlist_0YMVY3uhQNd7WUf0hSByrX  \\\n",
       "0                              0.0                              0.0   \n",
       "1                              0.0                              0.0   \n",
       "2                              0.0                              0.0   \n",
       "3                              0.0                              0.0   \n",
       "4                              0.0                              0.0   \n",
       "\n",
       "   playlist_0ZWYUjUMhaq0Rammqq3qu1  playlist_0bx5Dgu5yOEhST49LP67su  \\\n",
       "0                              0.0                              0.0   \n",
       "1                              0.0                              0.0   \n",
       "2                              0.0                              0.0   \n",
       "3                              0.0                              0.0   \n",
       "4                              0.0                              0.0   \n",
       "\n",
       "   playlist_0fmLn46c92nP4dePQSZlsz  playlist_0k7YwkrfJ2BsRMFBP5W5xK  \\\n",
       "0                              0.0                              0.0   \n",
       "1                              0.0                              0.0   \n",
       "2                              0.0                              0.0   \n",
       "3                              0.0                              0.0   \n",
       "4                              0.0                              0.0   \n",
       "\n",
       "                ...                 playlist_73gXbLcjix7p1pPsQClusE  \\\n",
       "0               ...                                             0.0   \n",
       "1               ...                                             0.0   \n",
       "2               ...                                             0.0   \n",
       "3               ...                                             0.0   \n",
       "4               ...                                             0.0   \n",
       "\n",
       "   playlist_7A2YimOfIrmAWkCeSIY8Rq  playlist_7EnyqmmhFgfhicejZiVV13  \\\n",
       "0                              0.0                              0.0   \n",
       "1                              0.0                              0.0   \n",
       "2                              1.0                              0.0   \n",
       "3                              0.0                              0.0   \n",
       "4                              0.0                              0.0   \n",
       "\n",
       "   playlist_7EpJpnU6KrSc430F8B5tM7  playlist_7FDyC1JdV3jkGzAE9BONKt  \\\n",
       "0                              0.0                              0.0   \n",
       "1                              0.0                              0.0   \n",
       "2                              0.0                              0.0   \n",
       "3                              0.0                              0.0   \n",
       "4                              0.0                              0.0   \n",
       "\n",
       "   playlist_7HQu1GUDVSx64GdCpaB88I  playlist_7JXJKP3xMvIMbEBBGApTPQ  \\\n",
       "0                              0.0                              0.0   \n",
       "1                              0.0                              0.0   \n",
       "2                              0.0                              0.0   \n",
       "3                              0.0                              0.0   \n",
       "4                              0.0                              0.0   \n",
       "\n",
       "   playlist_7b9DiMN2kttG8lYQogfQBw  playlist_7fzFQUIVM4TumzRWo5UFP2  \\\n",
       "0                              0.0                              0.0   \n",
       "1                              0.0                              0.0   \n",
       "2                              0.0                              0.0   \n",
       "3                              0.0                              1.0   \n",
       "4                              0.0                              0.0   \n",
       "\n",
       "   playlist_7kdOsNnHtzwncTBnI3J17w  \n",
       "0                              0.0  \n",
       "1                              1.0  \n",
       "2                              0.0  \n",
       "3                              0.0  \n",
       "4                              0.0  \n",
       "\n",
       "[5 rows x 1554 columns]"
      ]
     },
     "execution_count": 95,
     "metadata": {},
     "output_type": "execute_result"
    }
   ],
   "source": [
    "cleaned_playlists = artists_playlists.reset_index()\n",
    "cleaned_playlists.head()"
   ]
  },
  {
   "cell_type": "code",
   "execution_count": 101,
   "metadata": {},
   "outputs": [],
   "source": [
    "cleaned_playlists.to_json('up_next/data/cleaned/cleaned_playlists.json', orient='records', lines=True)"
   ]
  },
  {
   "cell_type": "markdown",
   "metadata": {},
   "source": [
    "# DATA COLLECTION - Concerts\n",
    "    Lets use our top_artists list to collect concert data with the help of selenium in our scrape module "
   ]
  },
  {
   "cell_type": "code",
   "execution_count": null,
   "metadata": {},
   "outputs": [],
   "source": [
    "# with open('up_next/data/raw/artists_shows.json', 'w') as f:\n",
    "#     for artist in top_artists:\n",
    "#         lines = up_next.scrape.get_artist_concerts(browser, artist)\n",
    "#         for line in lines:\n",
    "#             json.dump(line, f)\n",
    "#             f.write('\\n')"
   ]
  },
  {
   "cell_type": "markdown",
   "metadata": {},
   "source": [
    "# DATA UNDERSTANDING - Concerts"
   ]
  },
  {
   "cell_type": "code",
   "execution_count": 40,
   "metadata": {},
   "outputs": [
    {
     "data": {
      "text/html": [
       "<div>\n",
       "<style scoped>\n",
       "    .dataframe tbody tr th:only-of-type {\n",
       "        vertical-align: middle;\n",
       "    }\n",
       "\n",
       "    .dataframe tbody tr th {\n",
       "        vertical-align: top;\n",
       "    }\n",
       "\n",
       "    .dataframe thead th {\n",
       "        text-align: right;\n",
       "    }\n",
       "</style>\n",
       "<table border=\"1\" class=\"dataframe\">\n",
       "  <thead>\n",
       "    <tr style=\"text-align: right;\">\n",
       "      <th></th>\n",
       "      <th>artist</th>\n",
       "      <th>date</th>\n",
       "      <th>loc</th>\n",
       "    </tr>\n",
       "  </thead>\n",
       "  <tbody>\n",
       "    <tr>\n",
       "      <th>0</th>\n",
       "      <td>2 Chainz</td>\n",
       "      <td>2019-06-30 05:30:00</td>\n",
       "      <td>Las Vegas, NV, US</td>\n",
       "    </tr>\n",
       "    <tr>\n",
       "      <th>1</th>\n",
       "      <td>2 Chainz</td>\n",
       "      <td>2019-07-12 11:00:00</td>\n",
       "      <td>London, UK</td>\n",
       "    </tr>\n",
       "    <tr>\n",
       "      <th>2</th>\n",
       "      <td>2 Chainz</td>\n",
       "      <td>2019-08-10 00:00:00</td>\n",
       "      <td>Anaheim, CA, US</td>\n",
       "    </tr>\n",
       "    <tr>\n",
       "      <th>3</th>\n",
       "      <td>2 Chainz</td>\n",
       "      <td>2019-08-24 22:00:00</td>\n",
       "      <td>Atlanta, GA, US</td>\n",
       "    </tr>\n",
       "    <tr>\n",
       "      <th>4</th>\n",
       "      <td>2 Chainz</td>\n",
       "      <td>2019-05-27 05:30:00</td>\n",
       "      <td>Las Vegas, NV, US</td>\n",
       "    </tr>\n",
       "  </tbody>\n",
       "</table>\n",
       "</div>"
      ],
      "text/plain": [
       "     artist                date                loc\n",
       "0  2 Chainz 2019-06-30 05:30:00  Las Vegas, NV, US\n",
       "1  2 Chainz 2019-07-12 11:00:00         London, UK\n",
       "2  2 Chainz 2019-08-10 00:00:00    Anaheim, CA, US\n",
       "3  2 Chainz 2019-08-24 22:00:00    Atlanta, GA, US\n",
       "4  2 Chainz 2019-05-27 05:30:00  Las Vegas, NV, US"
      ]
     },
     "execution_count": 40,
     "metadata": {},
     "output_type": "execute_result"
    }
   ],
   "source": [
    "concerts.head()"
   ]
  },
  {
   "cell_type": "code",
   "execution_count": 41,
   "metadata": {},
   "outputs": [
    {
     "data": {
      "text/html": [
       "<div>\n",
       "<style scoped>\n",
       "    .dataframe tbody tr th:only-of-type {\n",
       "        vertical-align: middle;\n",
       "    }\n",
       "\n",
       "    .dataframe tbody tr th {\n",
       "        vertical-align: top;\n",
       "    }\n",
       "\n",
       "    .dataframe thead th {\n",
       "        text-align: right;\n",
       "    }\n",
       "</style>\n",
       "<table border=\"1\" class=\"dataframe\">\n",
       "  <thead>\n",
       "    <tr style=\"text-align: right;\">\n",
       "      <th></th>\n",
       "      <th>artist</th>\n",
       "      <th>date</th>\n",
       "      <th>loc</th>\n",
       "    </tr>\n",
       "  </thead>\n",
       "  <tbody>\n",
       "    <tr>\n",
       "      <th>count</th>\n",
       "      <td>134943</td>\n",
       "      <td>134943</td>\n",
       "      <td>134943</td>\n",
       "    </tr>\n",
       "    <tr>\n",
       "      <th>unique</th>\n",
       "      <td>1420</td>\n",
       "      <td>37136</td>\n",
       "      <td>4820</td>\n",
       "    </tr>\n",
       "    <tr>\n",
       "      <th>top</th>\n",
       "      <td>San Francisco Symphony</td>\n",
       "      <td>2019-07-19 00:00:00</td>\n",
       "      <td>London, UK</td>\n",
       "    </tr>\n",
       "    <tr>\n",
       "      <th>freq</th>\n",
       "      <td>194</td>\n",
       "      <td>191</td>\n",
       "      <td>4186</td>\n",
       "    </tr>\n",
       "    <tr>\n",
       "      <th>first</th>\n",
       "      <td>NaN</td>\n",
       "      <td>1973-09-29 00:00:00</td>\n",
       "      <td>NaN</td>\n",
       "    </tr>\n",
       "    <tr>\n",
       "      <th>last</th>\n",
       "      <td>NaN</td>\n",
       "      <td>2020-12-16 18:30:00</td>\n",
       "      <td>NaN</td>\n",
       "    </tr>\n",
       "  </tbody>\n",
       "</table>\n",
       "</div>"
      ],
      "text/plain": [
       "                        artist                 date         loc\n",
       "count                   134943               134943      134943\n",
       "unique                    1420                37136        4820\n",
       "top     San Francisco Symphony  2019-07-19 00:00:00  London, UK\n",
       "freq                       194                  191        4186\n",
       "first                      NaN  1973-09-29 00:00:00         NaN\n",
       "last                       NaN  2020-12-16 18:30:00         NaN"
      ]
     },
     "execution_count": 41,
     "metadata": {},
     "output_type": "execute_result"
    }
   ],
   "source": [
    "concerts.describe()"
   ]
  },
  {
   "cell_type": "code",
   "execution_count": 42,
   "metadata": {},
   "outputs": [
    {
     "data": {
      "image/png": "[encoded data removed]",
      "text/plain": [
       "<Figure size 432x288 with 1 Axes>"
      ]
     },
     "metadata": {},
     "output_type": "display_data"
    }
   ],
   "source": [
    "concerts.date.hist(bins=40)\n",
    "plt.xlabel('Year')\n",
    "plt.ylabel('Number of Concerts');"
   ]
  },
  {
   "cell_type": "markdown",
   "metadata": {},
   "source": [
    "Artists and the time and place of their concerts. The earliest time dates back to 1973 and location includes non-US concerts. For this experiment we will just focus on concerts in the United States and from 2015 or later. ALSO that loc column should be renamed to prevent ambiguation with Pandas' .loc() method."
   ]
  },
  {
   "cell_type": "markdown",
   "metadata": {},
   "source": [
    "# DATA PREPARATION - Concerts\n",
    "        Trim to recent, domestic + geocode unique locs and join"
   ]
  },
  {
   "cell_type": "code",
   "execution_count": 69,
   "metadata": {},
   "outputs": [
    {
     "data": {
      "text/plain": [
       "'There are 2023 unique locations'"
      ]
     },
     "execution_count": 69,
     "metadata": {},
     "output_type": "execute_result"
    }
   ],
   "source": [
    "concerts.columns = ['artist', 'date', 'location']          # Rename column loc -> location\n",
    "domestics = concerts[concerts['location'].str.endswith('US')]      # Drop gigs outside USA\n",
    "recent_domestics = domestics[domestics['date'] >= '2015']      # Drop gigs older than 2015\n",
    "trimmed_concerts = recent_domestics.copy()\n",
    "\n",
    "unique_locations = trimmed_concerts.location.unique()\n",
    "f'There are {len(unique_locations)} unique locations'"
   ]
  },
  {
   "cell_type": "code",
   "execution_count": 72,
   "metadata": {},
   "outputs": [
    {
     "data": {
      "image/png": "[encoded data removed]",
      "text/plain": [
       "<Figure size 432x288 with 1 Axes>"
      ]
     },
     "metadata": {},
     "output_type": "display_data"
    }
   ],
   "source": [
    "trimmed_concerts.date.hist(bins=40)\n",
    "plt.xlabel('Year')\n",
    "plt.ylabel('Number of Concerts');"
   ]
  },
  {
   "cell_type": "markdown",
   "metadata": {},
   "source": [
    "Collect geo coordinates from Google Maps"
   ]
  },
  {
   "cell_type": "code",
   "execution_count": 95,
   "metadata": {},
   "outputs": [],
   "source": [
    "# start = time.time()\n",
    "# locations_w_coords = up_next.gmap.get_multi_latlongs(unique_locations)\n",
    "# time.time() - start    \n",
    "\n",
    "# Takes a little while to run. ~7:30 min"
   ]
  },
  {
   "cell_type": "code",
   "execution_count": 98,
   "metadata": {},
   "outputs": [
    {
     "data": {
      "text/html": [
       "<div>\n",
       "<style scoped>\n",
       "    .dataframe tbody tr th:only-of-type {\n",
       "        vertical-align: middle;\n",
       "    }\n",
       "\n",
       "    .dataframe tbody tr th {\n",
       "        vertical-align: top;\n",
       "    }\n",
       "\n",
       "    .dataframe thead th {\n",
       "        text-align: right;\n",
       "    }\n",
       "</style>\n",
       "<table border=\"1\" class=\"dataframe\">\n",
       "  <thead>\n",
       "    <tr style=\"text-align: right;\">\n",
       "      <th></th>\n",
       "      <th>lat</th>\n",
       "      <th>lng</th>\n",
       "      <th>location</th>\n",
       "    </tr>\n",
       "  </thead>\n",
       "  <tbody>\n",
       "    <tr>\n",
       "      <th>0</th>\n",
       "      <td>36.169941</td>\n",
       "      <td>-115.139830</td>\n",
       "      <td>Las Vegas, NV, US</td>\n",
       "    </tr>\n",
       "    <tr>\n",
       "      <th>1</th>\n",
       "      <td>33.836593</td>\n",
       "      <td>-117.914301</td>\n",
       "      <td>Anaheim, CA, US</td>\n",
       "    </tr>\n",
       "    <tr>\n",
       "      <th>2</th>\n",
       "      <td>33.748995</td>\n",
       "      <td>-84.387982</td>\n",
       "      <td>Atlanta, GA, US</td>\n",
       "    </tr>\n",
       "    <tr>\n",
       "      <th>3</th>\n",
       "      <td>42.331427</td>\n",
       "      <td>-83.045754</td>\n",
       "      <td>Detroit, MI, US</td>\n",
       "    </tr>\n",
       "    <tr>\n",
       "      <th>4</th>\n",
       "      <td>40.691613</td>\n",
       "      <td>-112.001050</td>\n",
       "      <td>West Valley City, UT, US</td>\n",
       "    </tr>\n",
       "  </tbody>\n",
       "</table>\n",
       "</div>"
      ],
      "text/plain": [
       "         lat         lng                  location\n",
       "0  36.169941 -115.139830         Las Vegas, NV, US\n",
       "1  33.836593 -117.914301           Anaheim, CA, US\n",
       "2  33.748995  -84.387982           Atlanta, GA, US\n",
       "3  42.331427  -83.045754           Detroit, MI, US\n",
       "4  40.691613 -112.001050  West Valley City, UT, US"
      ]
     },
     "execution_count": 98,
     "metadata": {},
     "output_type": "execute_result"
    }
   ],
   "source": [
    "locations_w_coords.head()"
   ]
  },
  {
   "cell_type": "code",
   "execution_count": 102,
   "metadata": {},
   "outputs": [
    {
     "data": {
      "text/html": [
       "<div>\n",
       "<style scoped>\n",
       "    .dataframe tbody tr th:only-of-type {\n",
       "        vertical-align: middle;\n",
       "    }\n",
       "\n",
       "    .dataframe tbody tr th {\n",
       "        vertical-align: top;\n",
       "    }\n",
       "\n",
       "    .dataframe thead th {\n",
       "        text-align: right;\n",
       "    }\n",
       "</style>\n",
       "<table border=\"1\" class=\"dataframe\">\n",
       "  <thead>\n",
       "    <tr style=\"text-align: right;\">\n",
       "      <th></th>\n",
       "      <th>artist</th>\n",
       "      <th>date</th>\n",
       "      <th>location</th>\n",
       "      <th>lat</th>\n",
       "      <th>lng</th>\n",
       "    </tr>\n",
       "  </thead>\n",
       "  <tbody>\n",
       "    <tr>\n",
       "      <th>0</th>\n",
       "      <td>2 Chainz</td>\n",
       "      <td>2019-06-30 05:30:00</td>\n",
       "      <td>Las Vegas, NV, US</td>\n",
       "      <td>36.169941</td>\n",
       "      <td>-115.139830</td>\n",
       "    </tr>\n",
       "    <tr>\n",
       "      <th>1</th>\n",
       "      <td>2 Chainz</td>\n",
       "      <td>2019-08-10 00:00:00</td>\n",
       "      <td>Anaheim, CA, US</td>\n",
       "      <td>33.836593</td>\n",
       "      <td>-117.914301</td>\n",
       "    </tr>\n",
       "    <tr>\n",
       "      <th>2</th>\n",
       "      <td>2 Chainz</td>\n",
       "      <td>2019-08-24 22:00:00</td>\n",
       "      <td>Atlanta, GA, US</td>\n",
       "      <td>33.748995</td>\n",
       "      <td>-84.387982</td>\n",
       "    </tr>\n",
       "    <tr>\n",
       "      <th>3</th>\n",
       "      <td>2 Chainz</td>\n",
       "      <td>2019-05-27 05:30:00</td>\n",
       "      <td>Las Vegas, NV, US</td>\n",
       "      <td>36.169941</td>\n",
       "      <td>-115.139830</td>\n",
       "    </tr>\n",
       "    <tr>\n",
       "      <th>4</th>\n",
       "      <td>2 Chainz</td>\n",
       "      <td>2019-05-19 00:00:00</td>\n",
       "      <td>Detroit, MI, US</td>\n",
       "      <td>42.331427</td>\n",
       "      <td>-83.045754</td>\n",
       "    </tr>\n",
       "  </tbody>\n",
       "</table>\n",
       "</div>"
      ],
      "text/plain": [
       "     artist                date           location        lat         lng\n",
       "0  2 Chainz 2019-06-30 05:30:00  Las Vegas, NV, US  36.169941 -115.139830\n",
       "1  2 Chainz 2019-08-10 00:00:00    Anaheim, CA, US  33.836593 -117.914301\n",
       "2  2 Chainz 2019-08-24 22:00:00    Atlanta, GA, US  33.748995  -84.387982\n",
       "3  2 Chainz 2019-05-27 05:30:00  Las Vegas, NV, US  36.169941 -115.139830\n",
       "4  2 Chainz 2019-05-19 00:00:00    Detroit, MI, US  42.331427  -83.045754"
      ]
     },
     "metadata": {},
     "output_type": "display_data"
    },
    {
     "data": {
      "text/plain": [
       "True"
      ]
     },
     "execution_count": 102,
     "metadata": {},
     "output_type": "execute_result"
    }
   ],
   "source": [
    "concerts_w_coords = pd.merge(trimmed_concerts, locations_w_coords, on='location', how='left')\n",
    "display(concerts_w_coords.head())\n",
    "len(trimmed_concerts) == len(concerts_w_coords)     # Sanity Check for merge quality"
   ]
  },
  {
   "cell_type": "code",
   "execution_count": 51,
   "metadata": {},
   "outputs": [
    {
     "data": {
      "text/plain": [
       "(1355,)"
      ]
     },
     "execution_count": 51,
     "metadata": {},
     "output_type": "execute_result"
    }
   ],
   "source": [
    "concerts_w_coords['artist'].unique().shape"
   ]
  },
  {
   "cell_type": "markdown",
   "metadata": {},
   "source": [
    "1355 Unique artists in our concerts data out of the 1697 from the trimmed playlist.\n",
    "Re trim playlist df???"
   ]
  },
  {
   "cell_type": "code",
   "execution_count": 105,
   "metadata": {},
   "outputs": [],
   "source": [
    "concerts_w_coords.to_json('up_next/data/cleaned/concerts_w_coords.json', orient='records', lines=True)"
   ]
  },
  {
   "cell_type": "markdown",
   "metadata": {},
   "source": [
    "# MODELING"
   ]
  },
  {
   "cell_type": "code",
   "execution_count": 3,
   "metadata": {},
   "outputs": [],
   "source": [
    "cleaned_playlists = pd.read_json('up_next/data/cleaned/cleaned_playlists.json', lines=True)\n",
    "concerts_w_coords = pd.read_json('up_next/data/cleaned/concerts_w_coords.json', lines=True)"
   ]
  },
  {
   "cell_type": "code",
   "execution_count": 5,
   "metadata": {},
   "outputs": [],
   "source": [
    "# concerts_w_coords[concerts_w_coords['artist'].str.contains('Head and')]"
   ]
  },
  {
   "cell_type": "markdown",
   "metadata": {},
   "source": [
    "### Similar Artist"
   ]
  },
  {
   "cell_type": "code",
   "execution_count": 4,
   "metadata": {},
   "outputs": [],
   "source": [
    "model = up_next.discover.SimilarArtistModel(playlists_df=cleaned_playlists, concerts_df=concerts_w_coords)"
   ]
  },
  {
   "cell_type": "code",
   "execution_count": 5,
   "metadata": {},
   "outputs": [],
   "source": [
    "untapped = model.find_similar_artist_venues(cutoff_dist=100,\n",
    "                                 main_artist='Luke Bryan',\n",
    "                                 max_new_cities=5,\n",
    "                                 num_artists=10)"
   ]
  },
  {
   "cell_type": "code",
   "execution_count": 275,
   "metadata": {},
   "outputs": [
    {
     "data": {
      "text/html": [
       "<div style=\"width:100%;\"><div style=\"position:relative;width:100%;height:0;padding-bottom:60%;\"><iframe src=\"data:text/html;charset=utf-8;base64,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\" style=\"position:absolute;width:100%;height:100%;left:0;top:0;border:none !important;\" allowfullscreen webkitallowfullscreen mozallowfullscreen></iframe></div></div>"
      ],
      "text/plain": [
       "<folium.folium.Map at 0x1a392f0860>"
      ]
     },
     "execution_count": 275,
     "metadata": {},
     "output_type": "execute_result"
    }
   ],
   "source": [
    "artist_map = up_next.viz.AritstMap('Luke Bryan', untapped)\n",
    "artist_map.show()"
   ]
  },
  {
   "cell_type": "markdown",
   "metadata": {},
   "source": [
    "### EVALUATION"
   ]
  },
  {
   "cell_type": "code",
   "execution_count": 31,
   "metadata": {},
   "outputs": [
    {
     "data": {
      "text/plain": [
       "'Arcade Fire: No Recent Shows OR Not In 20 Of Top Playlists'"
      ]
     },
     "execution_count": 31,
     "metadata": {},
     "output_type": "execute_result"
    }
   ],
   "source": [
    "main_artist = 'Arcade Fire'\n",
    "untapped = model.find_similar_artist_venues(main_artist, cutoff_dist=5, max_new_cities=10)\n",
    "up_next.viz.add_multi_artist_markers(main_artist, untapped)"
   ]
  },
  {
   "cell_type": "code",
   "execution_count": 43,
   "metadata": {},
   "outputs": [
    {
     "data": {
      "text/plain": [
       "(False, True)"
      ]
     },
     "execution_count": 43,
     "metadata": {},
     "output_type": "execute_result"
    }
   ],
   "source": [
    "main_artist in top_artists, main_artist in playlists.artist.unique()"
   ]
  },
  {
   "cell_type": "markdown",
   "metadata": {},
   "source": [
    "Always need more data!"
   ]
  },
  {
   "cell_type": "markdown",
   "metadata": {},
   "source": [
    "### DEPLOYMENT"
   ]
  },
  {
   "cell_type": "code",
   "execution_count": 61,
   "metadata": {},
   "outputs": [],
   "source": [
    "# pickle the model\n",
    "with open('up_next/webapp/sim_artist_model.pkl', 'wb') as f:\n",
    "    pickle.dump(model, f)"
   ]
  },
  {
   "cell_type": "code",
   "execution_count": 24,
   "metadata": {},
   "outputs": [
    {
     "data": {
      "text/plain": [
       "'<div style=\"width:100%;\"><div style=\"position:relative;width:100%;height:0;padding-bottom:60%;\"><iframe src=\"data:text/html;charset=utf-8;base64,PCFET0NUWVBFIGh0bWw+CjxoZWFkPiAgICAKICAgIDxtZXRhIGh0dHAtZXF1aXY9ImNvbnRlbnQtdHlwZSIgY29udGVudD0idGV4dC9odG1sOyBjaGFyc2V0PVVURi04IiAvPgogICAgPHNjcmlwdD5MX1BSRUZFUl9DQU5WQVM9ZmFsc2U7IExfTk9fVE9VQ0g9ZmFsc2U7IExfRElTQUJMRV8zRD1mYWxzZTs8L3NjcmlwdD4KICAgIDxzY3JpcHQgc3JjPSJodHRwczovL2Nkbi5qc2RlbGl2ci5uZXQvbnBtL2xlYWZsZXRAMS40LjAvZGlzdC9sZWFmbGV0LmpzIj48L3Njcml'"
      ]
     },
     "execution_count": 24,
     "metadata": {},
     "output_type": "execute_result"
    }
   ],
   "source": [
    "# stand up w flask at url with html\n",
    "m._repr_html_()[:500]"
   ]
  },
  {
   "cell_type": "markdown",
   "metadata": {},
   "source": [
    "Lets get a list of unique artist names to implement into the options."
   ]
  },
  {
   "cell_type": "code",
   "execution_count": 8,
   "metadata": {},
   "outputs": [],
   "source": [
    "artists_list = concerts_w_coords.drop_duplicates(subset='artist')['artist']\n",
    "artists_list.to_csv('up_next/data/cleaned/artists_list.csv', header=True)"
   ]
  }
 ],
 "metadata": {
  "kernelspec": {
   "display_name": "learn-env",
   "language": "python",
   "name": "learn-env"
  },
  "language_info": {
   "codemirror_mode": {
    "name": "ipython",
    "version": 3
   },
   "file_extension": ".py",
   "mimetype": "text/x-python",
   "name": "python",
   "nbconvert_exporter": "python",
   "pygments_lexer": "ipython3",
   "version": "3.6.6"
  }
 },
 "nbformat": 4,
 "nbformat_minor": 2
}
