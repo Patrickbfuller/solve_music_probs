{
 "cells": [
  {
   "cell_type": "markdown",
   "metadata": {},
   "source": [
    "# BUSINESS UNDERSTANDING\n",
    "Describe problem"
   ]
  },
  {
   "cell_type": "code",
   "execution_count": 2,
   "metadata": {},
   "outputs": [],
   "source": [
    "import pandas as pd\n",
    "import matplotlib.pyplot as plt\n",
    "from sklearn.preprocessing import OneHotEncoder\n",
    "from sklearn.neighbors import NearestNeighbors\n",
    "import time\n",
    "import gmap\n",
    "import discover\n",
    "plt.style.use('ggplot')"
   ]
  },
  {
   "cell_type": "code",
   "execution_count": 3,
   "metadata": {},
   "outputs": [],
   "source": [
    "%load_ext autoreload\n",
    "%autoreload 2"
   ]
  },
  {
   "cell_type": "markdown",
   "metadata": {},
   "source": [
    "# DATA COLLECTION\n",
    "\n",
    "        Collect artists in playlists\n",
    "        Trim to frequent to arists\n",
    "        Use trimmed artists to collect concerts"
   ]
  },
  {
   "cell_type": "markdown",
   "metadata": {},
   "source": [
    "# DATA UNDERSTANDING - Playlists"
   ]
  },
  {
   "cell_type": "code",
   "execution_count": 6,
   "metadata": {},
   "outputs": [],
   "source": [
    "playlists = pd.read_json('data/raw/playlists_artists_redundant.json', lines=True)\n",
    "concerts = pd.read_json('data/raw/artists_shows.json', lines=True)"
   ]
  },
  {
   "cell_type": "code",
   "execution_count": 7,
   "metadata": {},
   "outputs": [
    {
     "data": {
      "text/html": [
       "<div>\n",
       "<style scoped>\n",
       "    .dataframe tbody tr th:only-of-type {\n",
       "        vertical-align: middle;\n",
       "    }\n",
       "\n",
       "    .dataframe tbody tr th {\n",
       "        vertical-align: top;\n",
       "    }\n",
       "\n",
       "    .dataframe thead th {\n",
       "        text-align: right;\n",
       "    }\n",
       "</style>\n",
       "<table border=\"1\" class=\"dataframe\">\n",
       "  <thead>\n",
       "    <tr style=\"text-align: right;\">\n",
       "      <th></th>\n",
       "      <th>artist</th>\n",
       "      <th>playlist</th>\n",
       "    </tr>\n",
       "  </thead>\n",
       "  <tbody>\n",
       "    <tr>\n",
       "      <th>0</th>\n",
       "      <td>DJ Snake</td>\n",
       "      <td>[Today's Top Hits, 37i9dQZF1DXcBWIGoYBM5M]</td>\n",
       "    </tr>\n",
       "    <tr>\n",
       "      <th>1</th>\n",
       "      <td>TINI</td>\n",
       "      <td>[Today's Top Hits, 37i9dQZF1DXcBWIGoYBM5M]</td>\n",
       "    </tr>\n",
       "    <tr>\n",
       "      <th>2</th>\n",
       "      <td>Bon Iver</td>\n",
       "      <td>[Today's Top Hits, 37i9dQZF1DXcBWIGoYBM5M]</td>\n",
       "    </tr>\n",
       "    <tr>\n",
       "      <th>3</th>\n",
       "      <td>Jon Z</td>\n",
       "      <td>[Today's Top Hits, 37i9dQZF1DXcBWIGoYBM5M]</td>\n",
       "    </tr>\n",
       "    <tr>\n",
       "      <th>4</th>\n",
       "      <td>Martin Garrix</td>\n",
       "      <td>[Today's Top Hits, 37i9dQZF1DXcBWIGoYBM5M]</td>\n",
       "    </tr>\n",
       "  </tbody>\n",
       "</table>\n",
       "</div>"
      ],
      "text/plain": [
       "          artist                                    playlist\n",
       "0       DJ Snake  [Today's Top Hits, 37i9dQZF1DXcBWIGoYBM5M]\n",
       "1           TINI  [Today's Top Hits, 37i9dQZF1DXcBWIGoYBM5M]\n",
       "2       Bon Iver  [Today's Top Hits, 37i9dQZF1DXcBWIGoYBM5M]\n",
       "3          Jon Z  [Today's Top Hits, 37i9dQZF1DXcBWIGoYBM5M]\n",
       "4  Martin Garrix  [Today's Top Hits, 37i9dQZF1DXcBWIGoYBM5M]"
      ]
     },
     "execution_count": 7,
     "metadata": {},
     "output_type": "execute_result"
    }
   ],
   "source": [
    "playlists.head()"
   ]
  },
  {
   "cell_type": "markdown",
   "metadata": {},
   "source": [
    "Artists and the playlists they appear in.\n",
    "Playlist value is currently nested. In order to one hot encode this should be trimmed to just the second element, the unique playlist id."
   ]
  },
  {
   "cell_type": "markdown",
   "metadata": {},
   "source": [
    "### Artist Occurances"
   ]
  },
  {
   "cell_type": "code",
   "execution_count": 8,
   "metadata": {},
   "outputs": [
    {
     "data": {
      "text/plain": [
       "J Balvin          248\n",
       "Bad Bunny         214\n",
       "Drake             202\n",
       "Cardi B           186\n",
       "Daddy Yankee      182\n",
       "Farruko           180\n",
       "Nicky Jam         178\n",
       "Ozuna             176\n",
       "Maluma            174\n",
       "Khalid            172\n",
       "Ed Sheeran        170\n",
       "Nicki Minaj       165\n",
       "Camila Cabello    150\n",
       "Justin Bieber     146\n",
       "Marshmello        146\n",
       "Diplo             144\n",
       "Beyoncé           143\n",
       "Ty Dolla $ign     138\n",
       "Anuel Aa          136\n",
       "Zion & Lennox     132\n",
       "Shawn Mendes      132\n",
       "Rihanna           128\n",
       "Wisin             128\n",
       "Natti Natasha     124\n",
       "Mark Ronson       122\n",
       "Name: artist, dtype: int64"
      ]
     },
     "execution_count": 8,
     "metadata": {},
     "output_type": "execute_result"
    }
   ],
   "source": [
    "playlists.artist.value_counts()[:25]"
   ]
  },
  {
   "cell_type": "markdown",
   "metadata": {},
   "source": [
    "#### Visualize Playlist Appearances"
   ]
  },
  {
   "cell_type": "code",
   "execution_count": 10,
   "metadata": {},
   "outputs": [
    {
     "data": {
      "image/png": "[encoded data removed]",
      "text/plain": [
       "<Figure size 1008x216 with 1 Axes>"
      ]
     },
     "metadata": {
      "needs_background": "light"
     },
     "output_type": "display_data"
    }
   ],
   "source": [
    "plt.figure(figsize=(14,3))\n",
    "playlists.artist.value_counts().hist(bins=100, color='g')\n",
    "plt.xlabel('# Playlist Appearances')\n",
    "plt.ylabel('# of Artists')\n",
    "plt.title('Artist Appearance in Playlists');"
   ]
  },
  {
   "cell_type": "markdown",
   "metadata": {},
   "source": [
    "We won't be able to gain much information from artists only appearing in a few playlists.\n",
    "Dropping them will reduce computational cost with little cost to predicting similar artists."
   ]
  },
  {
   "cell_type": "markdown",
   "metadata": {},
   "source": [
    "# DATA UNDERSTANDING - Concerts"
   ]
  },
  {
   "cell_type": "code",
   "execution_count": 25,
   "metadata": {},
   "outputs": [
    {
     "data": {
      "text/html": [
       "<div>\n",
       "<style scoped>\n",
       "    .dataframe tbody tr th:only-of-type {\n",
       "        vertical-align: middle;\n",
       "    }\n",
       "\n",
       "    .dataframe tbody tr th {\n",
       "        vertical-align: top;\n",
       "    }\n",
       "\n",
       "    .dataframe thead th {\n",
       "        text-align: right;\n",
       "    }\n",
       "</style>\n",
       "<table border=\"1\" class=\"dataframe\">\n",
       "  <thead>\n",
       "    <tr style=\"text-align: right;\">\n",
       "      <th></th>\n",
       "      <th>artist</th>\n",
       "      <th>date</th>\n",
       "      <th>loc</th>\n",
       "    </tr>\n",
       "  </thead>\n",
       "  <tbody>\n",
       "    <tr>\n",
       "      <th>0</th>\n",
       "      <td>2 Chainz</td>\n",
       "      <td>2019-06-30 05:30:00</td>\n",
       "      <td>Las Vegas, NV, US</td>\n",
       "    </tr>\n",
       "    <tr>\n",
       "      <th>1</th>\n",
       "      <td>2 Chainz</td>\n",
       "      <td>2019-07-12 11:00:00</td>\n",
       "      <td>London, UK</td>\n",
       "    </tr>\n",
       "    <tr>\n",
       "      <th>2</th>\n",
       "      <td>2 Chainz</td>\n",
       "      <td>2019-08-10 00:00:00</td>\n",
       "      <td>Anaheim, CA, US</td>\n",
       "    </tr>\n",
       "    <tr>\n",
       "      <th>3</th>\n",
       "      <td>2 Chainz</td>\n",
       "      <td>2019-08-24 22:00:00</td>\n",
       "      <td>Atlanta, GA, US</td>\n",
       "    </tr>\n",
       "    <tr>\n",
       "      <th>4</th>\n",
       "      <td>2 Chainz</td>\n",
       "      <td>2019-05-27 05:30:00</td>\n",
       "      <td>Las Vegas, NV, US</td>\n",
       "    </tr>\n",
       "  </tbody>\n",
       "</table>\n",
       "</div>"
      ],
      "text/plain": [
       "     artist                date                loc\n",
       "0  2 Chainz 2019-06-30 05:30:00  Las Vegas, NV, US\n",
       "1  2 Chainz 2019-07-12 11:00:00         London, UK\n",
       "2  2 Chainz 2019-08-10 00:00:00    Anaheim, CA, US\n",
       "3  2 Chainz 2019-08-24 22:00:00    Atlanta, GA, US\n",
       "4  2 Chainz 2019-05-27 05:30:00  Las Vegas, NV, US"
      ]
     },
     "execution_count": 25,
     "metadata": {},
     "output_type": "execute_result"
    }
   ],
   "source": [
    "concerts.head()"
   ]
  },
  {
   "cell_type": "code",
   "execution_count": 29,
   "metadata": {},
   "outputs": [
    {
     "data": {
      "text/html": [
       "<div>\n",
       "<style scoped>\n",
       "    .dataframe tbody tr th:only-of-type {\n",
       "        vertical-align: middle;\n",
       "    }\n",
       "\n",
       "    .dataframe tbody tr th {\n",
       "        vertical-align: top;\n",
       "    }\n",
       "\n",
       "    .dataframe thead th {\n",
       "        text-align: right;\n",
       "    }\n",
       "</style>\n",
       "<table border=\"1\" class=\"dataframe\">\n",
       "  <thead>\n",
       "    <tr style=\"text-align: right;\">\n",
       "      <th></th>\n",
       "      <th>artist</th>\n",
       "      <th>date</th>\n",
       "      <th>loc</th>\n",
       "    </tr>\n",
       "  </thead>\n",
       "  <tbody>\n",
       "    <tr>\n",
       "      <th>count</th>\n",
       "      <td>134943</td>\n",
       "      <td>134943</td>\n",
       "      <td>134943</td>\n",
       "    </tr>\n",
       "    <tr>\n",
       "      <th>unique</th>\n",
       "      <td>1420</td>\n",
       "      <td>37136</td>\n",
       "      <td>4820</td>\n",
       "    </tr>\n",
       "    <tr>\n",
       "      <th>top</th>\n",
       "      <td>San Francisco Symphony</td>\n",
       "      <td>2019-07-19 00:00:00</td>\n",
       "      <td>London, UK</td>\n",
       "    </tr>\n",
       "    <tr>\n",
       "      <th>freq</th>\n",
       "      <td>194</td>\n",
       "      <td>191</td>\n",
       "      <td>4186</td>\n",
       "    </tr>\n",
       "    <tr>\n",
       "      <th>first</th>\n",
       "      <td>NaN</td>\n",
       "      <td>1973-09-29 00:00:00</td>\n",
       "      <td>NaN</td>\n",
       "    </tr>\n",
       "    <tr>\n",
       "      <th>last</th>\n",
       "      <td>NaN</td>\n",
       "      <td>2020-12-16 18:30:00</td>\n",
       "      <td>NaN</td>\n",
       "    </tr>\n",
       "  </tbody>\n",
       "</table>\n",
       "</div>"
      ],
      "text/plain": [
       "                        artist                 date         loc\n",
       "count                   134943               134943      134943\n",
       "unique                    1420                37136        4820\n",
       "top     San Francisco Symphony  2019-07-19 00:00:00  London, UK\n",
       "freq                       194                  191        4186\n",
       "first                      NaN  1973-09-29 00:00:00         NaN\n",
       "last                       NaN  2020-12-16 18:30:00         NaN"
      ]
     },
     "execution_count": 29,
     "metadata": {},
     "output_type": "execute_result"
    }
   ],
   "source": [
    "concerts.describe()"
   ]
  },
  {
   "cell_type": "code",
   "execution_count": 37,
   "metadata": {},
   "outputs": [
    {
     "data": {
      "image/png": "[encoded data removed]",
      "text/plain": [
       "<Figure size 432x288 with 1 Axes>"
      ]
     },
     "metadata": {},
     "output_type": "display_data"
    }
   ],
   "source": [
    "concerts.date.hist(bins=40)\n",
    "plt.xlabel('Year')\n",
    "plt.ylabel('Number of Concerts');"
   ]
  },
  {
   "cell_type": "markdown",
   "metadata": {},
   "source": [
    "Artists and the time and place of their concerts. The earliest time dates back to 1973 and location includes non-US concerts. For this experiment we will just focus on concerts in the United States and from 2015 or later. ALSO that loc column should be renamed to prevent ambiguation with Pandas' .loc() method."
   ]
  },
  {
   "cell_type": "markdown",
   "metadata": {},
   "source": [
    "# DATA PREPARATION - Playlists\n",
    "        Trim rare artists, ohe playlists"
   ]
  },
  {
   "cell_type": "markdown",
   "metadata": {},
   "source": [
    "#### Trim rarer artists"
   ]
  },
  {
   "cell_type": "code",
   "execution_count": 87,
   "metadata": {},
   "outputs": [
    {
     "name": "stdout",
     "output_type": "stream",
     "text": [
      "There are 1697 artists appearing in 20 or more playlists\n",
      "The twelve most prevalent are ...\n"
     ]
    },
    {
     "data": {
      "text/plain": [
       "[('J Balvin', 248),\n",
       " ('Bad Bunny', 214),\n",
       " ('Drake', 202),\n",
       " ('Cardi B', 186),\n",
       " ('Daddy Yankee', 182),\n",
       " ('Farruko', 180),\n",
       " ('Nicky Jam', 178),\n",
       " ('Ozuna', 176),\n",
       " ('Maluma', 174),\n",
       " ('Khalid', 172),\n",
       " ('Ed Sheeran', 170),\n",
       " ('Nicki Minaj', 165)]"
      ]
     },
     "execution_count": 87,
     "metadata": {},
     "output_type": "execute_result"
    }
   ],
   "source": [
    "cutoff = 20\n",
    "top_artists_counts = [(v, c) for v, c in playlists['artist'].value_counts().items()\n",
    "                      if c >= cutoff]\n",
    "n_remaning_artists = len(top_artists_counts)\n",
    "print(f'There are {n_remaning_artists} artists appearing in {cutoff} or more playlists')\n",
    "print('The twelve most prevalent are ...')\n",
    "top_artists_counts[:12]"
   ]
  },
  {
   "cell_type": "code",
   "execution_count": 88,
   "metadata": {},
   "outputs": [
    {
     "data": {
      "text/plain": [
       "(65242, 2)"
      ]
     },
     "execution_count": 88,
     "metadata": {},
     "output_type": "execute_result"
    }
   ],
   "source": [
    "top_artists=[x[0] for x in top_artists_counts]\n",
    "trimmed_playlists = playlists[playlists['artist'].isin(top_artists)].copy()\n",
    "trimmed_playlists.shape"
   ]
  },
  {
   "cell_type": "code",
   "execution_count": 89,
   "metadata": {},
   "outputs": [
    {
     "data": {
      "image/png": "[encoded data removed]",
      "text/plain": [
       "<Figure size 1008x216 with 1 Axes>"
      ]
     },
     "metadata": {},
     "output_type": "display_data"
    }
   ],
   "source": [
    "plt.figure(figsize=(14,3))\n",
    "trimmed_playlists['artist'].value_counts().hist(bins=100, color='g')\n",
    "plt.xlabel('Playlist Count')\n",
    "plt.ylabel('# of Artists')\n",
    "plt.title('Artist Appearance in Playlists');"
   ]
  },
  {
   "cell_type": "markdown",
   "metadata": {},
   "source": [
    "     - Collect Concert data on artists in trimmed playlists - "
   ]
  },
  {
   "cell_type": "markdown",
   "metadata": {},
   "source": [
    "### One Hot Encoding Playlist Presence"
   ]
  },
  {
   "cell_type": "markdown",
   "metadata": {},
   "source": [
    "Cut the lists in the playlist column to just the second element (unique id)."
   ]
  },
  {
   "cell_type": "code",
   "execution_count": 90,
   "metadata": {},
   "outputs": [],
   "source": [
    "trimmed_playlists['playlist'] = trimmed_playlists['playlist'].apply(lambda x: x[1])   \n",
    "                                                    # Resetting playlist column values to only second element"
   ]
  },
  {
   "cell_type": "markdown",
   "metadata": {},
   "source": [
    "Create a dataframe of each artist and flags for their playlist presences"
   ]
  },
  {
   "cell_type": "code",
   "execution_count": 91,
   "metadata": {},
   "outputs": [],
   "source": [
    "encoder = OneHotEncoder()\n",
    "encoder.fit(trimmed_playlists[['playlist']])\n",
    "\n",
    "ohe_playlists= pd.DataFrame(\n",
    "                encoder.transform(trimmed_playlists[['playlist']]).toarray(),\n",
    "                columns=encoder.get_feature_names(['playlist'])\n",
    "                )                            # Making a column for each unique playlist"
   ]
  },
  {
   "cell_type": "code",
   "execution_count": 92,
   "metadata": {},
   "outputs": [],
   "source": [
    "artists_ohe_singles = pd.concat([trimmed_playlists.drop('playlist', axis=1),\n",
    "                                   ohe_playlists],\n",
    "                                   axis=1)          # Stitching these flags onto the artists"
   ]
  },
  {
   "cell_type": "code",
   "execution_count": 93,
   "metadata": {},
   "outputs": [],
   "source": [
    "artists_playlists = artists_ohe_singles.groupby('artist').sum()\n",
    "                                                    # Stacking the individual flags per artist"
   ]
  },
  {
   "cell_type": "code",
   "execution_count": 94,
   "metadata": {},
   "outputs": [
    {
     "data": {
      "text/plain": [
       "(1697, 1697)"
      ]
     },
     "execution_count": 94,
     "metadata": {},
     "output_type": "execute_result"
    }
   ],
   "source": [
    "len(trimmed_playlists.artist.unique()), len(artists_playlists)  # Sanity Check that we didn't lose or gain rows."
   ]
  },
  {
   "cell_type": "code",
   "execution_count": 95,
   "metadata": {},
   "outputs": [
    {
     "data": {
      "text/html": [
       "<div>\n",
       "<style scoped>\n",
       "    .dataframe tbody tr th:only-of-type {\n",
       "        vertical-align: middle;\n",
       "    }\n",
       "\n",
       "    .dataframe tbody tr th {\n",
       "        vertical-align: top;\n",
       "    }\n",
       "\n",
       "    .dataframe thead th {\n",
       "        text-align: right;\n",
       "    }\n",
       "</style>\n",
       "<table border=\"1\" class=\"dataframe\">\n",
       "  <thead>\n",
       "    <tr style=\"text-align: right;\">\n",
       "      <th></th>\n",
       "      <th>artist</th>\n",
       "      <th>playlist_03lUYFsfkESxG71B2dYosj</th>\n",
       "      <th>playlist_08CJ6fWrTA1vMfwVwAxWUl</th>\n",
       "      <th>playlist_0Gy1TwCxPFTMCiwxGLVkc1</th>\n",
       "      <th>playlist_0T22esVKW7cTZEN7XzXV14</th>\n",
       "      <th>playlist_0YMVY3uhQNd7WUf0hSByrX</th>\n",
       "      <th>playlist_0ZWYUjUMhaq0Rammqq3qu1</th>\n",
       "      <th>playlist_0bx5Dgu5yOEhST49LP67su</th>\n",
       "      <th>playlist_0fmLn46c92nP4dePQSZlsz</th>\n",
       "      <th>playlist_0k7YwkrfJ2BsRMFBP5W5xK</th>\n",
       "      <th>...</th>\n",
       "      <th>playlist_73gXbLcjix7p1pPsQClusE</th>\n",
       "      <th>playlist_7A2YimOfIrmAWkCeSIY8Rq</th>\n",
       "      <th>playlist_7EnyqmmhFgfhicejZiVV13</th>\n",
       "      <th>playlist_7EpJpnU6KrSc430F8B5tM7</th>\n",
       "      <th>playlist_7FDyC1JdV3jkGzAE9BONKt</th>\n",
       "      <th>playlist_7HQu1GUDVSx64GdCpaB88I</th>\n",
       "      <th>playlist_7JXJKP3xMvIMbEBBGApTPQ</th>\n",
       "      <th>playlist_7b9DiMN2kttG8lYQogfQBw</th>\n",
       "      <th>playlist_7fzFQUIVM4TumzRWo5UFP2</th>\n",
       "      <th>playlist_7kdOsNnHtzwncTBnI3J17w</th>\n",
       "    </tr>\n",
       "  </thead>\n",
       "  <tbody>\n",
       "    <tr>\n",
       "      <th>0</th>\n",
       "      <td>(G)I-DLE</td>\n",
       "      <td>0.0</td>\n",
       "      <td>0.0</td>\n",
       "      <td>0.0</td>\n",
       "      <td>0.0</td>\n",
       "      <td>0.0</td>\n",
       "      <td>0.0</td>\n",
       "      <td>0.0</td>\n",
       "      <td>0.0</td>\n",
       "      <td>0.0</td>\n",
       "      <td>...</td>\n",
       "      <td>0.0</td>\n",
       "      <td>0.0</td>\n",
       "      <td>0.0</td>\n",
       "      <td>0.0</td>\n",
       "      <td>0.0</td>\n",
       "      <td>0.0</td>\n",
       "      <td>0.0</td>\n",
       "      <td>0.0</td>\n",
       "      <td>0.0</td>\n",
       "      <td>0.0</td>\n",
       "    </tr>\n",
       "    <tr>\n",
       "      <th>1</th>\n",
       "      <td>*NSYNC</td>\n",
       "      <td>0.0</td>\n",
       "      <td>0.0</td>\n",
       "      <td>0.0</td>\n",
       "      <td>0.0</td>\n",
       "      <td>0.0</td>\n",
       "      <td>0.0</td>\n",
       "      <td>0.0</td>\n",
       "      <td>0.0</td>\n",
       "      <td>0.0</td>\n",
       "      <td>...</td>\n",
       "      <td>0.0</td>\n",
       "      <td>0.0</td>\n",
       "      <td>0.0</td>\n",
       "      <td>0.0</td>\n",
       "      <td>0.0</td>\n",
       "      <td>0.0</td>\n",
       "      <td>0.0</td>\n",
       "      <td>0.0</td>\n",
       "      <td>0.0</td>\n",
       "      <td>1.0</td>\n",
       "    </tr>\n",
       "    <tr>\n",
       "      <th>2</th>\n",
       "      <td>2 Chainz</td>\n",
       "      <td>0.0</td>\n",
       "      <td>0.0</td>\n",
       "      <td>0.0</td>\n",
       "      <td>0.0</td>\n",
       "      <td>0.0</td>\n",
       "      <td>0.0</td>\n",
       "      <td>0.0</td>\n",
       "      <td>0.0</td>\n",
       "      <td>0.0</td>\n",
       "      <td>...</td>\n",
       "      <td>0.0</td>\n",
       "      <td>1.0</td>\n",
       "      <td>0.0</td>\n",
       "      <td>0.0</td>\n",
       "      <td>0.0</td>\n",
       "      <td>0.0</td>\n",
       "      <td>0.0</td>\n",
       "      <td>0.0</td>\n",
       "      <td>0.0</td>\n",
       "      <td>0.0</td>\n",
       "    </tr>\n",
       "    <tr>\n",
       "      <th>3</th>\n",
       "      <td>21 Savage</td>\n",
       "      <td>0.0</td>\n",
       "      <td>0.0</td>\n",
       "      <td>0.0</td>\n",
       "      <td>0.0</td>\n",
       "      <td>0.0</td>\n",
       "      <td>0.0</td>\n",
       "      <td>0.0</td>\n",
       "      <td>0.0</td>\n",
       "      <td>0.0</td>\n",
       "      <td>...</td>\n",
       "      <td>0.0</td>\n",
       "      <td>0.0</td>\n",
       "      <td>0.0</td>\n",
       "      <td>0.0</td>\n",
       "      <td>0.0</td>\n",
       "      <td>0.0</td>\n",
       "      <td>0.0</td>\n",
       "      <td>0.0</td>\n",
       "      <td>1.0</td>\n",
       "      <td>0.0</td>\n",
       "    </tr>\n",
       "    <tr>\n",
       "      <th>4</th>\n",
       "      <td>2Pac</td>\n",
       "      <td>0.0</td>\n",
       "      <td>0.0</td>\n",
       "      <td>0.0</td>\n",
       "      <td>0.0</td>\n",
       "      <td>0.0</td>\n",
       "      <td>0.0</td>\n",
       "      <td>0.0</td>\n",
       "      <td>0.0</td>\n",
       "      <td>0.0</td>\n",
       "      <td>...</td>\n",
       "      <td>0.0</td>\n",
       "      <td>0.0</td>\n",
       "      <td>0.0</td>\n",
       "      <td>0.0</td>\n",
       "      <td>0.0</td>\n",
       "      <td>0.0</td>\n",
       "      <td>0.0</td>\n",
       "      <td>0.0</td>\n",
       "      <td>0.0</td>\n",
       "      <td>0.0</td>\n",
       "    </tr>\n",
       "  </tbody>\n",
       "</table>\n",
       "<p>5 rows × 1554 columns</p>\n",
       "</div>"
      ],
      "text/plain": [
       "      artist  playlist_03lUYFsfkESxG71B2dYosj  \\\n",
       "0   (G)I-DLE                              0.0   \n",
       "1     *NSYNC                              0.0   \n",
       "2   2 Chainz                              0.0   \n",
       "3  21 Savage                              0.0   \n",
       "4       2Pac                              0.0   \n",
       "\n",
       "   playlist_08CJ6fWrTA1vMfwVwAxWUl  playlist_0Gy1TwCxPFTMCiwxGLVkc1  \\\n",
       "0                              0.0                              0.0   \n",
       "1                              0.0                              0.0   \n",
       "2                              0.0                              0.0   \n",
       "3                              0.0                              0.0   \n",
       "4                              0.0                              0.0   \n",
       "\n",
       "   playlist_0T22esVKW7cTZEN7XzXV14  playlist_0YMVY3uhQNd7WUf0hSByrX  \\\n",
       "0                              0.0                              0.0   \n",
       "1                              0.0                              0.0   \n",
       "2                              0.0                              0.0   \n",
       "3                              0.0                              0.0   \n",
       "4                              0.0                              0.0   \n",
       "\n",
       "   playlist_0ZWYUjUMhaq0Rammqq3qu1  playlist_0bx5Dgu5yOEhST49LP67su  \\\n",
       "0                              0.0                              0.0   \n",
       "1                              0.0                              0.0   \n",
       "2                              0.0                              0.0   \n",
       "3                              0.0                              0.0   \n",
       "4                              0.0                              0.0   \n",
       "\n",
       "   playlist_0fmLn46c92nP4dePQSZlsz  playlist_0k7YwkrfJ2BsRMFBP5W5xK  \\\n",
       "0                              0.0                              0.0   \n",
       "1                              0.0                              0.0   \n",
       "2                              0.0                              0.0   \n",
       "3                              0.0                              0.0   \n",
       "4                              0.0                              0.0   \n",
       "\n",
       "                ...                 playlist_73gXbLcjix7p1pPsQClusE  \\\n",
       "0               ...                                             0.0   \n",
       "1               ...                                             0.0   \n",
       "2               ...                                             0.0   \n",
       "3               ...                                             0.0   \n",
       "4               ...                                             0.0   \n",
       "\n",
       "   playlist_7A2YimOfIrmAWkCeSIY8Rq  playlist_7EnyqmmhFgfhicejZiVV13  \\\n",
       "0                              0.0                              0.0   \n",
       "1                              0.0                              0.0   \n",
       "2                              1.0                              0.0   \n",
       "3                              0.0                              0.0   \n",
       "4                              0.0                              0.0   \n",
       "\n",
       "   playlist_7EpJpnU6KrSc430F8B5tM7  playlist_7FDyC1JdV3jkGzAE9BONKt  \\\n",
       "0                              0.0                              0.0   \n",
       "1                              0.0                              0.0   \n",
       "2                              0.0                              0.0   \n",
       "3                              0.0                              0.0   \n",
       "4                              0.0                              0.0   \n",
       "\n",
       "   playlist_7HQu1GUDVSx64GdCpaB88I  playlist_7JXJKP3xMvIMbEBBGApTPQ  \\\n",
       "0                              0.0                              0.0   \n",
       "1                              0.0                              0.0   \n",
       "2                              0.0                              0.0   \n",
       "3                              0.0                              0.0   \n",
       "4                              0.0                              0.0   \n",
       "\n",
       "   playlist_7b9DiMN2kttG8lYQogfQBw  playlist_7fzFQUIVM4TumzRWo5UFP2  \\\n",
       "0                              0.0                              0.0   \n",
       "1                              0.0                              0.0   \n",
       "2                              0.0                              0.0   \n",
       "3                              0.0                              1.0   \n",
       "4                              0.0                              0.0   \n",
       "\n",
       "   playlist_7kdOsNnHtzwncTBnI3J17w  \n",
       "0                              0.0  \n",
       "1                              1.0  \n",
       "2                              0.0  \n",
       "3                              0.0  \n",
       "4                              0.0  \n",
       "\n",
       "[5 rows x 1554 columns]"
      ]
     },
     "execution_count": 95,
     "metadata": {},
     "output_type": "execute_result"
    }
   ],
   "source": [
    "cleaned_playlists = artists_playlists.reset_index()\n",
    "cleaned_playlists.head()"
   ]
  },
  {
   "cell_type": "code",
   "execution_count": 101,
   "metadata": {},
   "outputs": [],
   "source": [
    "cleaned_playlists.to_json('data/cleaned/cleaned_playlists.json', orient='records', lines=True)"
   ]
  },
  {
   "cell_type": "markdown",
   "metadata": {},
   "source": [
    "# DATA PREPARATION - Concerts\n",
    "        Trim to recent, domestic + geocode unique locs and join"
   ]
  },
  {
   "cell_type": "code",
   "execution_count": 69,
   "metadata": {},
   "outputs": [
    {
     "data": {
      "text/plain": [
       "'There are 2023 unique locations'"
      ]
     },
     "execution_count": 69,
     "metadata": {},
     "output_type": "execute_result"
    }
   ],
   "source": [
    "concerts.columns = ['artist', 'date', 'location']          # Rename column loc -> location\n",
    "domestics = concerts[concerts['location'].str.endswith('US')]      # Drop gigs outside USA\n",
    "recent_domestics = domestics[domestics['date'] >= '2015']      # Drop gigs older than 2015\n",
    "trimmed_concerts = recent_domestics.copy()\n",
    "\n",
    "unique_locations = trimmed_concerts.location.unique()\n",
    "f'There are {len(unique_locations)} unique locations'"
   ]
  },
  {
   "cell_type": "code",
   "execution_count": 72,
   "metadata": {},
   "outputs": [
    {
     "data": {
      "image/png": "[encoded data removed]",
      "text/plain": [
       "<Figure size 432x288 with 1 Axes>"
      ]
     },
     "metadata": {},
     "output_type": "display_data"
    }
   ],
   "source": [
    "trimmed_concerts.date.hist(bins=40)\n",
    "plt.xlabel('Year')\n",
    "plt.ylabel('Number of Concerts');"
   ]
  },
  {
   "cell_type": "markdown",
   "metadata": {},
   "source": [
    "Collect geo coordinates from Google Maps"
   ]
  },
  {
   "cell_type": "code",
   "execution_count": 95,
   "metadata": {},
   "outputs": [],
   "source": [
    "# start = time.time()\n",
    "# locations_w_coords = gmap.get_multi_latlongs(unique_locations)\n",
    "# time.time() - start    \n",
    "\n",
    "# Takes a little while to run. ~7:30 min"
   ]
  },
  {
   "cell_type": "code",
   "execution_count": 98,
   "metadata": {},
   "outputs": [
    {
     "data": {
      "text/html": [
       "<div>\n",
       "<style scoped>\n",
       "    .dataframe tbody tr th:only-of-type {\n",
       "        vertical-align: middle;\n",
       "    }\n",
       "\n",
       "    .dataframe tbody tr th {\n",
       "        vertical-align: top;\n",
       "    }\n",
       "\n",
       "    .dataframe thead th {\n",
       "        text-align: right;\n",
       "    }\n",
       "</style>\n",
       "<table border=\"1\" class=\"dataframe\">\n",
       "  <thead>\n",
       "    <tr style=\"text-align: right;\">\n",
       "      <th></th>\n",
       "      <th>lat</th>\n",
       "      <th>lng</th>\n",
       "      <th>location</th>\n",
       "    </tr>\n",
       "  </thead>\n",
       "  <tbody>\n",
       "    <tr>\n",
       "      <th>0</th>\n",
       "      <td>36.169941</td>\n",
       "      <td>-115.139830</td>\n",
       "      <td>Las Vegas, NV, US</td>\n",
       "    </tr>\n",
       "    <tr>\n",
       "      <th>1</th>\n",
       "      <td>33.836593</td>\n",
       "      <td>-117.914301</td>\n",
       "      <td>Anaheim, CA, US</td>\n",
       "    </tr>\n",
       "    <tr>\n",
       "      <th>2</th>\n",
       "      <td>33.748995</td>\n",
       "      <td>-84.387982</td>\n",
       "      <td>Atlanta, GA, US</td>\n",
       "    </tr>\n",
       "    <tr>\n",
       "      <th>3</th>\n",
       "      <td>42.331427</td>\n",
       "      <td>-83.045754</td>\n",
       "      <td>Detroit, MI, US</td>\n",
       "    </tr>\n",
       "    <tr>\n",
       "      <th>4</th>\n",
       "      <td>40.691613</td>\n",
       "      <td>-112.001050</td>\n",
       "      <td>West Valley City, UT, US</td>\n",
       "    </tr>\n",
       "  </tbody>\n",
       "</table>\n",
       "</div>"
      ],
      "text/plain": [
       "         lat         lng                  location\n",
       "0  36.169941 -115.139830         Las Vegas, NV, US\n",
       "1  33.836593 -117.914301           Anaheim, CA, US\n",
       "2  33.748995  -84.387982           Atlanta, GA, US\n",
       "3  42.331427  -83.045754           Detroit, MI, US\n",
       "4  40.691613 -112.001050  West Valley City, UT, US"
      ]
     },
     "execution_count": 98,
     "metadata": {},
     "output_type": "execute_result"
    }
   ],
   "source": [
    "locations_w_coords.head()"
   ]
  },
  {
   "cell_type": "code",
   "execution_count": 102,
   "metadata": {},
   "outputs": [
    {
     "data": {
      "text/html": [
       "<div>\n",
       "<style scoped>\n",
       "    .dataframe tbody tr th:only-of-type {\n",
       "        vertical-align: middle;\n",
       "    }\n",
       "\n",
       "    .dataframe tbody tr th {\n",
       "        vertical-align: top;\n",
       "    }\n",
       "\n",
       "    .dataframe thead th {\n",
       "        text-align: right;\n",
       "    }\n",
       "</style>\n",
       "<table border=\"1\" class=\"dataframe\">\n",
       "  <thead>\n",
       "    <tr style=\"text-align: right;\">\n",
       "      <th></th>\n",
       "      <th>artist</th>\n",
       "      <th>date</th>\n",
       "      <th>location</th>\n",
       "      <th>lat</th>\n",
       "      <th>lng</th>\n",
       "    </tr>\n",
       "  </thead>\n",
       "  <tbody>\n",
       "    <tr>\n",
       "      <th>0</th>\n",
       "      <td>2 Chainz</td>\n",
       "      <td>2019-06-30 05:30:00</td>\n",
       "      <td>Las Vegas, NV, US</td>\n",
       "      <td>36.169941</td>\n",
       "      <td>-115.139830</td>\n",
       "    </tr>\n",
       "    <tr>\n",
       "      <th>1</th>\n",
       "      <td>2 Chainz</td>\n",
       "      <td>2019-08-10 00:00:00</td>\n",
       "      <td>Anaheim, CA, US</td>\n",
       "      <td>33.836593</td>\n",
       "      <td>-117.914301</td>\n",
       "    </tr>\n",
       "    <tr>\n",
       "      <th>2</th>\n",
       "      <td>2 Chainz</td>\n",
       "      <td>2019-08-24 22:00:00</td>\n",
       "      <td>Atlanta, GA, US</td>\n",
       "      <td>33.748995</td>\n",
       "      <td>-84.387982</td>\n",
       "    </tr>\n",
       "    <tr>\n",
       "      <th>3</th>\n",
       "      <td>2 Chainz</td>\n",
       "      <td>2019-05-27 05:30:00</td>\n",
       "      <td>Las Vegas, NV, US</td>\n",
       "      <td>36.169941</td>\n",
       "      <td>-115.139830</td>\n",
       "    </tr>\n",
       "    <tr>\n",
       "      <th>4</th>\n",
       "      <td>2 Chainz</td>\n",
       "      <td>2019-05-19 00:00:00</td>\n",
       "      <td>Detroit, MI, US</td>\n",
       "      <td>42.331427</td>\n",
       "      <td>-83.045754</td>\n",
       "    </tr>\n",
       "  </tbody>\n",
       "</table>\n",
       "</div>"
      ],
      "text/plain": [
       "     artist                date           location        lat         lng\n",
       "0  2 Chainz 2019-06-30 05:30:00  Las Vegas, NV, US  36.169941 -115.139830\n",
       "1  2 Chainz 2019-08-10 00:00:00    Anaheim, CA, US  33.836593 -117.914301\n",
       "2  2 Chainz 2019-08-24 22:00:00    Atlanta, GA, US  33.748995  -84.387982\n",
       "3  2 Chainz 2019-05-27 05:30:00  Las Vegas, NV, US  36.169941 -115.139830\n",
       "4  2 Chainz 2019-05-19 00:00:00    Detroit, MI, US  42.331427  -83.045754"
      ]
     },
     "metadata": {},
     "output_type": "display_data"
    },
    {
     "data": {
      "text/plain": [
       "True"
      ]
     },
     "execution_count": 102,
     "metadata": {},
     "output_type": "execute_result"
    }
   ],
   "source": [
    "concerts_w_coords = pd.merge(trimmed_concerts, locations_w_coords, on='location', how='left')\n",
    "display(concerts_w_coords.head())\n",
    "len(trimmed_concerts) == len(concerts_w_coords)     # Sanity Check for merge quality"
   ]
  },
  {
   "cell_type": "code",
   "execution_count": 105,
   "metadata": {},
   "outputs": [],
   "source": [
    "concerts_w_coords.to_json('data/cleaned/concerts_w_coords.json', orient='records', lines=True)"
   ]
  },
  {
   "cell_type": "markdown",
   "metadata": {},
   "source": [
    "# MODELING"
   ]
  },
  {
   "cell_type": "code",
   "execution_count": 3,
   "metadata": {},
   "outputs": [],
   "source": [
    "cleaned_playlists = pd.read_json('data/cleaned/cleaned_playlists.json', lines=True)\n",
    "concerts_w_coords = pd.read_json('data/cleaned/concerts_w_coords.json', lines=True)"
   ]
  },
  {
   "cell_type": "markdown",
   "metadata": {},
   "source": [
    "### Similar Artist"
   ]
  },
  {
   "cell_type": "code",
   "execution_count": 50,
   "metadata": {},
   "outputs": [],
   "source": [
    "model = discover.SimilarArtistModel(playlists_df=cleaned_playlists, concerts_df=concerts_w_coords)"
   ]
  },
  {
   "cell_type": "code",
   "execution_count": 53,
   "metadata": {},
   "outputs": [
    {
     "data": {
      "text/plain": [
       "[{'artist': 'The Flaming Lips',\n",
       "  'cosine_sim': 0.436,\n",
       "  'new locations': [{'unplayed': {'city': 'Gonzales, TX, US',\n",
       "     'latlong': [29.501625699999998, -97.4524926]},\n",
       "    'played': {'city': 'Austin, TX, US', 'latlong': [30.267153, -97.7430608]},\n",
       "    'distance': 56.0},\n",
       "   {'unplayed': {'city': 'Perris, CA, US',\n",
       "     'latlong': [33.7825194, -117.2286478]},\n",
       "    'played': {'city': 'Indio, CA, US', 'latlong': [33.7205771, -116.2155619]},\n",
       "    'distance': 58.0}]},\n",
       " {'artist': 'Blur', 'cosine_sim': 0.495, 'new locations': []}]"
      ]
     },
     "execution_count": 53,
     "metadata": {},
     "output_type": "execute_result"
    }
   ],
   "source": [
    "model.find_similar_artist_venues(cutoff_dist=50,\n",
    "                                 main_artist='Radiohead',\n",
    "                                 max_new_cities=2,\n",
    "                                 num_artists=2)"
   ]
  },
  {
   "cell_type": "code",
   "execution_count": 1,
   "metadata": {},
   "outputs": [],
   "source": [
    "import folium"
   ]
  },
  {
   "cell_type": "markdown",
   "metadata": {},
   "source": [
    "### EVALUATION"
   ]
  },
  {
   "cell_type": "code",
   "execution_count": null,
   "metadata": {},
   "outputs": [],
   "source": [
    "model.find_similar_artist_venues()"
   ]
  },
  {
   "cell_type": "markdown",
   "metadata": {},
   "source": [
    "### DEPLOYMENT"
   ]
  },
  {
   "cell_type": "code",
   "execution_count": null,
   "metadata": {},
   "outputs": [],
   "source": [
    "# pickle the model"
   ]
  }
 ],
 "metadata": {
  "kernelspec": {
   "display_name": "learn-env",
   "language": "python",
   "name": "learn-env"
  },
  "language_info": {
   "codemirror_mode": {
    "name": "ipython",
    "version": 3
   },
   "file_extension": ".py",
   "mimetype": "text/x-python",
   "name": "python",
   "nbconvert_exporter": "python",
   "pygments_lexer": "ipython3",
   "version": "3.6.6"
  }
 },
 "nbformat": 4,
 "nbformat_minor": 2
}
