{
 "cells": [
  {
   "cell_type": "markdown",
   "metadata": {},
   "source": [
    "# BUSINESS UNDERSTANDING\n",
    "Describe problem"
   ]
  },
  {
   "cell_type": "code",
   "execution_count": 87,
   "metadata": {},
   "outputs": [],
   "source": [
    "import pandas as pd\n",
    "import matplotlib.pyplot as plt\n",
    "from sklearn.preprocessing import OneHotEncoder\n",
    "import time\n",
    "import concert\n",
    "plt.style.use('ggplot')"
   ]
  },
  {
   "cell_type": "code",
   "execution_count": 83,
   "metadata": {},
   "outputs": [
    {
     "name": "stdout",
     "output_type": "stream",
     "text": [
      "The autoreload extension is already loaded. To reload it, use:\n",
      "  %reload_ext autoreload\n"
     ]
    }
   ],
   "source": [
    "%load_ext autoreload\n",
    "%autoreload 2"
   ]
  },
  {
   "cell_type": "markdown",
   "metadata": {},
   "source": [
    "# DATA COLLECTION"
   ]
  },
  {
   "cell_type": "markdown",
   "metadata": {},
   "source": [
    "# DATA UNDERSTANDING - Playlists"
   ]
  },
  {
   "cell_type": "code",
   "execution_count": 4,
   "metadata": {},
   "outputs": [],
   "source": [
    "playlists = pd.read_json('data/raw/playlists_artists_redundant.json', lines=True)\n",
    "concerts = pd.read_json('data/raw/artists_shows.json', lines=True)"
   ]
  },
  {
   "cell_type": "code",
   "execution_count": 22,
   "metadata": {},
   "outputs": [
    {
     "data": {
      "text/html": [
       "<div>\n",
       "<style scoped>\n",
       "    .dataframe tbody tr th:only-of-type {\n",
       "        vertical-align: middle;\n",
       "    }\n",
       "\n",
       "    .dataframe tbody tr th {\n",
       "        vertical-align: top;\n",
       "    }\n",
       "\n",
       "    .dataframe thead th {\n",
       "        text-align: right;\n",
       "    }\n",
       "</style>\n",
       "<table border=\"1\" class=\"dataframe\">\n",
       "  <thead>\n",
       "    <tr style=\"text-align: right;\">\n",
       "      <th></th>\n",
       "      <th>artist</th>\n",
       "      <th>playlist</th>\n",
       "    </tr>\n",
       "  </thead>\n",
       "  <tbody>\n",
       "    <tr>\n",
       "      <th>0</th>\n",
       "      <td>DJ Snake</td>\n",
       "      <td>[Today's Top Hits, 37i9dQZF1DXcBWIGoYBM5M]</td>\n",
       "    </tr>\n",
       "    <tr>\n",
       "      <th>1</th>\n",
       "      <td>TINI</td>\n",
       "      <td>[Today's Top Hits, 37i9dQZF1DXcBWIGoYBM5M]</td>\n",
       "    </tr>\n",
       "    <tr>\n",
       "      <th>2</th>\n",
       "      <td>Bon Iver</td>\n",
       "      <td>[Today's Top Hits, 37i9dQZF1DXcBWIGoYBM5M]</td>\n",
       "    </tr>\n",
       "    <tr>\n",
       "      <th>3</th>\n",
       "      <td>Jon Z</td>\n",
       "      <td>[Today's Top Hits, 37i9dQZF1DXcBWIGoYBM5M]</td>\n",
       "    </tr>\n",
       "    <tr>\n",
       "      <th>4</th>\n",
       "      <td>Martin Garrix</td>\n",
       "      <td>[Today's Top Hits, 37i9dQZF1DXcBWIGoYBM5M]</td>\n",
       "    </tr>\n",
       "  </tbody>\n",
       "</table>\n",
       "</div>"
      ],
      "text/plain": [
       "          artist                                    playlist\n",
       "0       DJ Snake  [Today's Top Hits, 37i9dQZF1DXcBWIGoYBM5M]\n",
       "1           TINI  [Today's Top Hits, 37i9dQZF1DXcBWIGoYBM5M]\n",
       "2       Bon Iver  [Today's Top Hits, 37i9dQZF1DXcBWIGoYBM5M]\n",
       "3          Jon Z  [Today's Top Hits, 37i9dQZF1DXcBWIGoYBM5M]\n",
       "4  Martin Garrix  [Today's Top Hits, 37i9dQZF1DXcBWIGoYBM5M]"
      ]
     },
     "execution_count": 22,
     "metadata": {},
     "output_type": "execute_result"
    }
   ],
   "source": [
    "playlists.head()"
   ]
  },
  {
   "cell_type": "markdown",
   "metadata": {},
   "source": [
    "Artists and the playlists they appear in.\n",
    "Playlist value is currently nested. In order to one hot encode this should be trimmed to just the second element, the unique playlist id."
   ]
  },
  {
   "cell_type": "markdown",
   "metadata": {},
   "source": [
    "### Artist Occurances"
   ]
  },
  {
   "cell_type": "code",
   "execution_count": 5,
   "metadata": {},
   "outputs": [
    {
     "data": {
      "text/plain": [
       "J Balvin          248\n",
       "Bad Bunny         214\n",
       "Drake             202\n",
       "Cardi B           186\n",
       "Daddy Yankee      182\n",
       "Farruko           180\n",
       "Nicky Jam         178\n",
       "Ozuna             176\n",
       "Maluma            174\n",
       "Khalid            172\n",
       "Ed Sheeran        170\n",
       "Nicki Minaj       165\n",
       "Camila Cabello    150\n",
       "Marshmello        146\n",
       "Justin Bieber     146\n",
       "Diplo             144\n",
       "Beyoncé           143\n",
       "Ty Dolla $ign     138\n",
       "Anuel Aa          136\n",
       "Shawn Mendes      132\n",
       "Zion & Lennox     132\n",
       "Wisin             128\n",
       "Rihanna           128\n",
       "Natti Natasha     124\n",
       "Taylor Swift      122\n",
       "Name: artist, dtype: int64"
      ]
     },
     "execution_count": 5,
     "metadata": {},
     "output_type": "execute_result"
    }
   ],
   "source": [
    "playlists.artist.value_counts()[:25]"
   ]
  },
  {
   "cell_type": "markdown",
   "metadata": {},
   "source": [
    "#### Visualize Playlist Appearances"
   ]
  },
  {
   "cell_type": "code",
   "execution_count": 76,
   "metadata": {},
   "outputs": [
    {
     "data": {
      "image/png": "[encoded data removed]",
      "text/plain": [
       "<Figure size 1008x432 with 1 Axes>"
      ]
     },
     "metadata": {},
     "output_type": "display_data"
    }
   ],
   "source": [
    "plt.figure(figsize=(14,6))\n",
    "playlists.artist.value_counts().hist(bins=100, color='g')\n",
    "plt.xlabel('# Playlist Appearances')\n",
    "plt.ylabel('# of Artists')\n",
    "plt.title('Artist Appearance in Playlists');"
   ]
  },
  {
   "cell_type": "markdown",
   "metadata": {},
   "source": [
    "We won't be able to gain much information from artists only appearing in a few playlists.\n",
    "Dropping them will reduce computational cost with little cost to predicting similar artists."
   ]
  },
  {
   "cell_type": "markdown",
   "metadata": {},
   "source": [
    "# DATA UNDERSTANDING - Concerts"
   ]
  },
  {
   "cell_type": "code",
   "execution_count": 25,
   "metadata": {},
   "outputs": [
    {
     "data": {
      "text/html": [
       "<div>\n",
       "<style scoped>\n",
       "    .dataframe tbody tr th:only-of-type {\n",
       "        vertical-align: middle;\n",
       "    }\n",
       "\n",
       "    .dataframe tbody tr th {\n",
       "        vertical-align: top;\n",
       "    }\n",
       "\n",
       "    .dataframe thead th {\n",
       "        text-align: right;\n",
       "    }\n",
       "</style>\n",
       "<table border=\"1\" class=\"dataframe\">\n",
       "  <thead>\n",
       "    <tr style=\"text-align: right;\">\n",
       "      <th></th>\n",
       "      <th>artist</th>\n",
       "      <th>date</th>\n",
       "      <th>loc</th>\n",
       "    </tr>\n",
       "  </thead>\n",
       "  <tbody>\n",
       "    <tr>\n",
       "      <th>0</th>\n",
       "      <td>2 Chainz</td>\n",
       "      <td>2019-06-30 05:30:00</td>\n",
       "      <td>Las Vegas, NV, US</td>\n",
       "    </tr>\n",
       "    <tr>\n",
       "      <th>1</th>\n",
       "      <td>2 Chainz</td>\n",
       "      <td>2019-07-12 11:00:00</td>\n",
       "      <td>London, UK</td>\n",
       "    </tr>\n",
       "    <tr>\n",
       "      <th>2</th>\n",
       "      <td>2 Chainz</td>\n",
       "      <td>2019-08-10 00:00:00</td>\n",
       "      <td>Anaheim, CA, US</td>\n",
       "    </tr>\n",
       "    <tr>\n",
       "      <th>3</th>\n",
       "      <td>2 Chainz</td>\n",
       "      <td>2019-08-24 22:00:00</td>\n",
       "      <td>Atlanta, GA, US</td>\n",
       "    </tr>\n",
       "    <tr>\n",
       "      <th>4</th>\n",
       "      <td>2 Chainz</td>\n",
       "      <td>2019-05-27 05:30:00</td>\n",
       "      <td>Las Vegas, NV, US</td>\n",
       "    </tr>\n",
       "  </tbody>\n",
       "</table>\n",
       "</div>"
      ],
      "text/plain": [
       "     artist                date                loc\n",
       "0  2 Chainz 2019-06-30 05:30:00  Las Vegas, NV, US\n",
       "1  2 Chainz 2019-07-12 11:00:00         London, UK\n",
       "2  2 Chainz 2019-08-10 00:00:00    Anaheim, CA, US\n",
       "3  2 Chainz 2019-08-24 22:00:00    Atlanta, GA, US\n",
       "4  2 Chainz 2019-05-27 05:30:00  Las Vegas, NV, US"
      ]
     },
     "execution_count": 25,
     "metadata": {},
     "output_type": "execute_result"
    }
   ],
   "source": [
    "concerts.head()"
   ]
  },
  {
   "cell_type": "code",
   "execution_count": 29,
   "metadata": {},
   "outputs": [
    {
     "data": {
      "text/html": [
       "<div>\n",
       "<style scoped>\n",
       "    .dataframe tbody tr th:only-of-type {\n",
       "        vertical-align: middle;\n",
       "    }\n",
       "\n",
       "    .dataframe tbody tr th {\n",
       "        vertical-align: top;\n",
       "    }\n",
       "\n",
       "    .dataframe thead th {\n",
       "        text-align: right;\n",
       "    }\n",
       "</style>\n",
       "<table border=\"1\" class=\"dataframe\">\n",
       "  <thead>\n",
       "    <tr style=\"text-align: right;\">\n",
       "      <th></th>\n",
       "      <th>artist</th>\n",
       "      <th>date</th>\n",
       "      <th>loc</th>\n",
       "    </tr>\n",
       "  </thead>\n",
       "  <tbody>\n",
       "    <tr>\n",
       "      <th>count</th>\n",
       "      <td>134943</td>\n",
       "      <td>134943</td>\n",
       "      <td>134943</td>\n",
       "    </tr>\n",
       "    <tr>\n",
       "      <th>unique</th>\n",
       "      <td>1420</td>\n",
       "      <td>37136</td>\n",
       "      <td>4820</td>\n",
       "    </tr>\n",
       "    <tr>\n",
       "      <th>top</th>\n",
       "      <td>San Francisco Symphony</td>\n",
       "      <td>2019-07-19 00:00:00</td>\n",
       "      <td>London, UK</td>\n",
       "    </tr>\n",
       "    <tr>\n",
       "      <th>freq</th>\n",
       "      <td>194</td>\n",
       "      <td>191</td>\n",
       "      <td>4186</td>\n",
       "    </tr>\n",
       "    <tr>\n",
       "      <th>first</th>\n",
       "      <td>NaN</td>\n",
       "      <td>1973-09-29 00:00:00</td>\n",
       "      <td>NaN</td>\n",
       "    </tr>\n",
       "    <tr>\n",
       "      <th>last</th>\n",
       "      <td>NaN</td>\n",
       "      <td>2020-12-16 18:30:00</td>\n",
       "      <td>NaN</td>\n",
       "    </tr>\n",
       "  </tbody>\n",
       "</table>\n",
       "</div>"
      ],
      "text/plain": [
       "                        artist                 date         loc\n",
       "count                   134943               134943      134943\n",
       "unique                    1420                37136        4820\n",
       "top     San Francisco Symphony  2019-07-19 00:00:00  London, UK\n",
       "freq                       194                  191        4186\n",
       "first                      NaN  1973-09-29 00:00:00         NaN\n",
       "last                       NaN  2020-12-16 18:30:00         NaN"
      ]
     },
     "execution_count": 29,
     "metadata": {},
     "output_type": "execute_result"
    }
   ],
   "source": [
    "concerts.describe()"
   ]
  },
  {
   "cell_type": "code",
   "execution_count": 37,
   "metadata": {},
   "outputs": [
    {
     "data": {
      "image/png": "[encoded data removed]",
      "text/plain": [
       "<Figure size 432x288 with 1 Axes>"
      ]
     },
     "metadata": {},
     "output_type": "display_data"
    }
   ],
   "source": [
    "concerts.date.hist(bins=40)\n",
    "plt.xlabel('Year')\n",
    "plt.ylabel('Number of Concerts');"
   ]
  },
  {
   "cell_type": "markdown",
   "metadata": {},
   "source": [
    "Artists and the time and place of their concerts. The earliest time dates back to 1973 and location includes non-US concerts. For this experiment we will just focus on concerts in the United States and from 2015 or later. ALSO that loc column should be renamed to prevent ambiguation with Pandas' .loc() method."
   ]
  },
  {
   "cell_type": "markdown",
   "metadata": {},
   "source": [
    "# DATA PREPARATION - Playlists"
   ]
  },
  {
   "cell_type": "markdown",
   "metadata": {},
   "source": [
    "#### Trim rarer artists"
   ]
  },
  {
   "cell_type": "code",
   "execution_count": 46,
   "metadata": {},
   "outputs": [
    {
     "name": "stdout",
     "output_type": "stream",
     "text": [
      "There are 1697 artists appearing in 20 or more playlists\n",
      "The twelve most prevalent are ...\n"
     ]
    },
    {
     "data": {
      "text/plain": [
       "[('J Balvin', 248),\n",
       " ('Bad Bunny', 214),\n",
       " ('Drake', 202),\n",
       " ('Cardi B', 186),\n",
       " ('Daddy Yankee', 182),\n",
       " ('Farruko', 180),\n",
       " ('Nicky Jam', 178),\n",
       " ('Ozuna', 176),\n",
       " ('Maluma', 174),\n",
       " ('Khalid', 172),\n",
       " ('Ed Sheeran', 170),\n",
       " ('Nicki Minaj', 165)]"
      ]
     },
     "execution_count": 46,
     "metadata": {},
     "output_type": "execute_result"
    }
   ],
   "source": [
    "cutoff = 20\n",
    "top_artists_counts = [(v, c) for v, c in playlists['artist'].value_counts().items()\n",
    "                      if c >= cutoff]\n",
    "n_remaning_artists = len(top_artists_counts)\n",
    "print(f'There are {n_remaning_artists} artists appearing in {cutoff} or more playlists')\n",
    "print('The twelve most prevalent are ...')\n",
    "top_artists_counts[:12]"
   ]
  },
  {
   "cell_type": "code",
   "execution_count": 47,
   "metadata": {},
   "outputs": [
    {
     "data": {
      "text/plain": [
       "(65242, 2)"
      ]
     },
     "execution_count": 47,
     "metadata": {},
     "output_type": "execute_result"
    }
   ],
   "source": [
    "top_artists=[x[0] for x in top_artists_counts]\n",
    "trimmed_playlists = playlists[playlists['artist'].isin(top_artists)].copy()\n",
    "trimmed_playlists.shape"
   ]
  },
  {
   "cell_type": "code",
   "execution_count": 75,
   "metadata": {},
   "outputs": [
    {
     "data": {
      "image/png": "[encoded data removed]",
      "text/plain": [
       "<Figure size 1008x432 with 1 Axes>"
      ]
     },
     "metadata": {},
     "output_type": "display_data"
    }
   ],
   "source": [
    "plt.figure(figsize=(14,6))\n",
    "trimmed_playlists['artist'].value_counts().hist(bins=100, color='g')\n",
    "plt.xlabel('Playlist Count')\n",
    "plt.ylabel('# of Artists')\n",
    "plt.title('Artist Appearance in Playlists');"
   ]
  },
  {
   "cell_type": "markdown",
   "metadata": {},
   "source": [
    "### One Hot Encoding Playlist Presence"
   ]
  },
  {
   "cell_type": "markdown",
   "metadata": {},
   "source": [
    "Cut the lists in the playlist column to just the second element."
   ]
  },
  {
   "cell_type": "code",
   "execution_count": 58,
   "metadata": {},
   "outputs": [],
   "source": [
    "trimmed_playlists['playlist'] = trimmed_playlists['playlist'].apply(lambda x: x[0])"
   ]
  },
  {
   "cell_type": "markdown",
   "metadata": {},
   "source": [
    "Create a dataframe of each artist and flags for their playlist presences"
   ]
  },
  {
   "cell_type": "code",
   "execution_count": 59,
   "metadata": {},
   "outputs": [],
   "source": [
    "encoder = OneHotEncoder()\n",
    "encoder.fit(trimmed_playlists[['playlist']])\n",
    "\n",
    "ohe_playlists= pd.DataFrame(\n",
    "                encoder.transform(trimmed_playlists[['playlist']]).toarray(),\n",
    "                columns=encoder.get_feature_names(['playlist'])\n",
    "                )                            # Making a column for each unique playlist"
   ]
  },
  {
   "cell_type": "code",
   "execution_count": 60,
   "metadata": {},
   "outputs": [],
   "source": [
    "artists_ohe_singles = pd.concat([trimmed_playlists.drop('playlist', axis=1),\n",
    "                                   ohe_playlists],\n",
    "                                   axis=1)          # Stitching these flags onto the artists"
   ]
  },
  {
   "cell_type": "code",
   "execution_count": 61,
   "metadata": {},
   "outputs": [],
   "source": [
    "artists_playlists = artists_ohe_singles.groupby('artist').sum()\n",
    "                                                    # Stacking the individual flags per artist"
   ]
  },
  {
   "cell_type": "code",
   "execution_count": 65,
   "metadata": {},
   "outputs": [
    {
     "data": {
      "text/plain": [
       "(1697, 1697)"
      ]
     },
     "execution_count": 65,
     "metadata": {},
     "output_type": "execute_result"
    }
   ],
   "source": [
    "len(trimmed_playlists.artist.unique()), len(artists_playlists)  # Sanity Check"
   ]
  },
  {
   "cell_type": "markdown",
   "metadata": {},
   "source": [
    "# DATA PREPARATION - Concerts"
   ]
  },
  {
   "cell_type": "code",
   "execution_count": 69,
   "metadata": {},
   "outputs": [
    {
     "data": {
      "text/plain": [
       "'There are 2023 unique locations'"
      ]
     },
     "execution_count": 69,
     "metadata": {},
     "output_type": "execute_result"
    }
   ],
   "source": [
    "concerts.columns = ['artist', 'date', 'location']          # Rename column loc -> location\n",
    "domestics = concerts[concerts['location'].str.endswith('US')]      # Drop gigs outside USA\n",
    "recent_domestics = domestics[domestics['date'] >= '2015']      # Drop gigs older than 2015\n",
    "trimmed_concerts = recent_domestics.copy()\n",
    "\n",
    "unique_locations = trimmed_concerts.location.unique()\n",
    "f'There are {len(unique_locations)} unique locations'"
   ]
  },
  {
   "cell_type": "code",
   "execution_count": 72,
   "metadata": {},
   "outputs": [
    {
     "data": {
      "image/png": "[encoded data removed]",
      "text/plain": [
       "<Figure size 432x288 with 1 Axes>"
      ]
     },
     "metadata": {},
     "output_type": "display_data"
    }
   ],
   "source": [
    "trimmed_concerts.date.hist(bins=40)\n",
    "plt.xlabel('Year')\n",
    "plt.ylabel('Number of Concerts');"
   ]
  },
  {
   "cell_type": "markdown",
   "metadata": {},
   "source": [
    "Collect geo coordinates from Google Maps"
   ]
  },
  {
   "cell_type": "code",
   "execution_count": 95,
   "metadata": {},
   "outputs": [],
   "source": [
    "# start = time.time()\n",
    "# locations_w_coords = concert.get_multi_latlongs(unique_locations)\n",
    "# time.time() - start    \n",
    "\n",
    "# Takes a little while to run. ~7:30 min"
   ]
  },
  {
   "cell_type": "code",
   "execution_count": 98,
   "metadata": {},
   "outputs": [
    {
     "data": {
      "text/html": [
       "<div>\n",
       "<style scoped>\n",
       "    .dataframe tbody tr th:only-of-type {\n",
       "        vertical-align: middle;\n",
       "    }\n",
       "\n",
       "    .dataframe tbody tr th {\n",
       "        vertical-align: top;\n",
       "    }\n",
       "\n",
       "    .dataframe thead th {\n",
       "        text-align: right;\n",
       "    }\n",
       "</style>\n",
       "<table border=\"1\" class=\"dataframe\">\n",
       "  <thead>\n",
       "    <tr style=\"text-align: right;\">\n",
       "      <th></th>\n",
       "      <th>lat</th>\n",
       "      <th>lng</th>\n",
       "      <th>location</th>\n",
       "    </tr>\n",
       "  </thead>\n",
       "  <tbody>\n",
       "    <tr>\n",
       "      <th>0</th>\n",
       "      <td>36.169941</td>\n",
       "      <td>-115.139830</td>\n",
       "      <td>Las Vegas, NV, US</td>\n",
       "    </tr>\n",
       "    <tr>\n",
       "      <th>1</th>\n",
       "      <td>33.836593</td>\n",
       "      <td>-117.914301</td>\n",
       "      <td>Anaheim, CA, US</td>\n",
       "    </tr>\n",
       "    <tr>\n",
       "      <th>2</th>\n",
       "      <td>33.748995</td>\n",
       "      <td>-84.387982</td>\n",
       "      <td>Atlanta, GA, US</td>\n",
       "    </tr>\n",
       "    <tr>\n",
       "      <th>3</th>\n",
       "      <td>42.331427</td>\n",
       "      <td>-83.045754</td>\n",
       "      <td>Detroit, MI, US</td>\n",
       "    </tr>\n",
       "    <tr>\n",
       "      <th>4</th>\n",
       "      <td>40.691613</td>\n",
       "      <td>-112.001050</td>\n",
       "      <td>West Valley City, UT, US</td>\n",
       "    </tr>\n",
       "  </tbody>\n",
       "</table>\n",
       "</div>"
      ],
      "text/plain": [
       "         lat         lng                  location\n",
       "0  36.169941 -115.139830         Las Vegas, NV, US\n",
       "1  33.836593 -117.914301           Anaheim, CA, US\n",
       "2  33.748995  -84.387982           Atlanta, GA, US\n",
       "3  42.331427  -83.045754           Detroit, MI, US\n",
       "4  40.691613 -112.001050  West Valley City, UT, US"
      ]
     },
     "execution_count": 98,
     "metadata": {},
     "output_type": "execute_result"
    }
   ],
   "source": [
    "locations_w_coords.head()"
   ]
  },
  {
   "cell_type": "code",
   "execution_count": 102,
   "metadata": {},
   "outputs": [
    {
     "data": {
      "text/html": [
       "<div>\n",
       "<style scoped>\n",
       "    .dataframe tbody tr th:only-of-type {\n",
       "        vertical-align: middle;\n",
       "    }\n",
       "\n",
       "    .dataframe tbody tr th {\n",
       "        vertical-align: top;\n",
       "    }\n",
       "\n",
       "    .dataframe thead th {\n",
       "        text-align: right;\n",
       "    }\n",
       "</style>\n",
       "<table border=\"1\" class=\"dataframe\">\n",
       "  <thead>\n",
       "    <tr style=\"text-align: right;\">\n",
       "      <th></th>\n",
       "      <th>artist</th>\n",
       "      <th>date</th>\n",
       "      <th>location</th>\n",
       "      <th>lat</th>\n",
       "      <th>lng</th>\n",
       "    </tr>\n",
       "  </thead>\n",
       "  <tbody>\n",
       "    <tr>\n",
       "      <th>0</th>\n",
       "      <td>2 Chainz</td>\n",
       "      <td>2019-06-30 05:30:00</td>\n",
       "      <td>Las Vegas, NV, US</td>\n",
       "      <td>36.169941</td>\n",
       "      <td>-115.139830</td>\n",
       "    </tr>\n",
       "    <tr>\n",
       "      <th>1</th>\n",
       "      <td>2 Chainz</td>\n",
       "      <td>2019-08-10 00:00:00</td>\n",
       "      <td>Anaheim, CA, US</td>\n",
       "      <td>33.836593</td>\n",
       "      <td>-117.914301</td>\n",
       "    </tr>\n",
       "    <tr>\n",
       "      <th>2</th>\n",
       "      <td>2 Chainz</td>\n",
       "      <td>2019-08-24 22:00:00</td>\n",
       "      <td>Atlanta, GA, US</td>\n",
       "      <td>33.748995</td>\n",
       "      <td>-84.387982</td>\n",
       "    </tr>\n",
       "    <tr>\n",
       "      <th>3</th>\n",
       "      <td>2 Chainz</td>\n",
       "      <td>2019-05-27 05:30:00</td>\n",
       "      <td>Las Vegas, NV, US</td>\n",
       "      <td>36.169941</td>\n",
       "      <td>-115.139830</td>\n",
       "    </tr>\n",
       "    <tr>\n",
       "      <th>4</th>\n",
       "      <td>2 Chainz</td>\n",
       "      <td>2019-05-19 00:00:00</td>\n",
       "      <td>Detroit, MI, US</td>\n",
       "      <td>42.331427</td>\n",
       "      <td>-83.045754</td>\n",
       "    </tr>\n",
       "  </tbody>\n",
       "</table>\n",
       "</div>"
      ],
      "text/plain": [
       "     artist                date           location        lat         lng\n",
       "0  2 Chainz 2019-06-30 05:30:00  Las Vegas, NV, US  36.169941 -115.139830\n",
       "1  2 Chainz 2019-08-10 00:00:00    Anaheim, CA, US  33.836593 -117.914301\n",
       "2  2 Chainz 2019-08-24 22:00:00    Atlanta, GA, US  33.748995  -84.387982\n",
       "3  2 Chainz 2019-05-27 05:30:00  Las Vegas, NV, US  36.169941 -115.139830\n",
       "4  2 Chainz 2019-05-19 00:00:00    Detroit, MI, US  42.331427  -83.045754"
      ]
     },
     "metadata": {},
     "output_type": "display_data"
    },
    {
     "data": {
      "text/plain": [
       "True"
      ]
     },
     "execution_count": 102,
     "metadata": {},
     "output_type": "execute_result"
    }
   ],
   "source": [
    "concerts_w_coords = pd.merge(trimmed_concerts, locations_w_coords, on='location', how='left')\n",
    "display(concerts_w_coords.head())\n",
    "len(trimmed_concerts) == len(concerts_w_coords)     # Sanity Check for merge quality"
   ]
  },
  {
   "cell_type": "code",
   "execution_count": 105,
   "metadata": {},
   "outputs": [],
   "source": [
    "concerts_w_coords.to_json('concerts_w_coords', orient='records', lines=True)"
   ]
  },
  {
   "cell_type": "markdown",
   "metadata": {},
   "source": [
    "### MODELING"
   ]
  },
  {
   "cell_type": "code",
   "execution_count": 94,
   "metadata": {},
   "outputs": [
    {
     "data": {
      "text/plain": [
       "7.433333333333334"
      ]
     },
     "execution_count": 94,
     "metadata": {},
     "output_type": "execute_result"
    }
   ],
   "source": [
    "446/60"
   ]
  },
  {
   "cell_type": "markdown",
   "metadata": {},
   "source": [
    "### EVALUATION"
   ]
  },
  {
   "cell_type": "markdown",
   "metadata": {},
   "source": [
    "### DEPLOYMENT"
   ]
  },
  {
   "cell_type": "code",
   "execution_count": null,
   "metadata": {},
   "outputs": [],
   "source": [
    "# pickle the model"
   ]
  }
 ],
 "metadata": {
  "kernelspec": {
   "display_name": "learn-env",
   "language": "python",
   "name": "learn-env"
  },
  "language_info": {
   "codemirror_mode": {
    "name": "ipython",
    "version": 3
   },
   "file_extension": ".py",
   "mimetype": "text/x-python",
   "name": "python",
   "nbconvert_exporter": "python",
   "pygments_lexer": "ipython3",
   "version": "3.6.6"
  }
 },
 "nbformat": 4,
 "nbformat_minor": 2
}
