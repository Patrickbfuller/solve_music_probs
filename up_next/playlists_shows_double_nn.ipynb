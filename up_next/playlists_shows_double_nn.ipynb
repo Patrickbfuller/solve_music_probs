{
 "cells": [
  {
   "cell_type": "markdown",
   "metadata": {},
   "source": [
    "# Connect Playlists and Locations"
   ]
  },
  {
   "cell_type": "code",
   "execution_count": 3,
   "metadata": {},
   "outputs": [],
   "source": [
    "import pandas as pd\n",
    "import time\n",
    "import json\n",
    "import googlemaps\n",
    "import homebrew as hb\n",
    "from sklearn.neighbors import NearestNeighbors"
   ]
  },
  {
   "cell_type": "code",
   "execution_count": 60,
   "metadata": {},
   "outputs": [
    {
     "name": "stdout",
     "output_type": "stream",
     "text": [
      "The autoreload extension is already loaded. To reload it, use:\n",
      "  %reload_ext autoreload\n"
     ]
    }
   ],
   "source": [
    "%load_ext autoreload\n",
    "%autoreload 2"
   ]
  },
  {
   "cell_type": "code",
   "execution_count": 3,
   "metadata": {},
   "outputs": [],
   "source": [
    "df = pd.read_json('artists_shows.json', lines=True)"
   ]
  },
  {
   "cell_type": "code",
   "execution_count": 4,
   "metadata": {},
   "outputs": [
    {
     "name": "stdout",
     "output_type": "stream",
     "text": [
      "(134943, 3)\n"
     ]
    },
    {
     "data": {
      "text/html": [
       "<div>\n",
       "<style scoped>\n",
       "    .dataframe tbody tr th:only-of-type {\n",
       "        vertical-align: middle;\n",
       "    }\n",
       "\n",
       "    .dataframe tbody tr th {\n",
       "        vertical-align: top;\n",
       "    }\n",
       "\n",
       "    .dataframe thead th {\n",
       "        text-align: right;\n",
       "    }\n",
       "</style>\n",
       "<table border=\"1\" class=\"dataframe\">\n",
       "  <thead>\n",
       "    <tr style=\"text-align: right;\">\n",
       "      <th></th>\n",
       "      <th>artist</th>\n",
       "      <th>date</th>\n",
       "      <th>loc</th>\n",
       "    </tr>\n",
       "  </thead>\n",
       "  <tbody>\n",
       "    <tr>\n",
       "      <th>0</th>\n",
       "      <td>2 Chainz</td>\n",
       "      <td>2019-06-30 05:30:00</td>\n",
       "      <td>Las Vegas, NV, US</td>\n",
       "    </tr>\n",
       "    <tr>\n",
       "      <th>1</th>\n",
       "      <td>2 Chainz</td>\n",
       "      <td>2019-07-12 11:00:00</td>\n",
       "      <td>London, UK</td>\n",
       "    </tr>\n",
       "    <tr>\n",
       "      <th>2</th>\n",
       "      <td>2 Chainz</td>\n",
       "      <td>2019-08-10 00:00:00</td>\n",
       "      <td>Anaheim, CA, US</td>\n",
       "    </tr>\n",
       "    <tr>\n",
       "      <th>3</th>\n",
       "      <td>2 Chainz</td>\n",
       "      <td>2019-08-24 22:00:00</td>\n",
       "      <td>Atlanta, GA, US</td>\n",
       "    </tr>\n",
       "    <tr>\n",
       "      <th>4</th>\n",
       "      <td>2 Chainz</td>\n",
       "      <td>2019-05-27 05:30:00</td>\n",
       "      <td>Las Vegas, NV, US</td>\n",
       "    </tr>\n",
       "  </tbody>\n",
       "</table>\n",
       "</div>"
      ],
      "text/plain": [
       "     artist                date                loc\n",
       "0  2 Chainz 2019-06-30 05:30:00  Las Vegas, NV, US\n",
       "1  2 Chainz 2019-07-12 11:00:00         London, UK\n",
       "2  2 Chainz 2019-08-10 00:00:00    Anaheim, CA, US\n",
       "3  2 Chainz 2019-08-24 22:00:00    Atlanta, GA, US\n",
       "4  2 Chainz 2019-05-27 05:30:00  Las Vegas, NV, US"
      ]
     },
     "execution_count": 4,
     "metadata": {},
     "output_type": "execute_result"
    }
   ],
   "source": [
    "print(df.shape)\n",
    "df.head()"
   ]
  },
  {
   "cell_type": "code",
   "execution_count": 5,
   "metadata": {},
   "outputs": [
    {
     "data": {
      "text/plain": [
       "count                  134943\n",
       "unique                  37136\n",
       "top       2019-07-19 00:00:00\n",
       "freq                      191\n",
       "first     1973-09-29 00:00:00\n",
       "last      2020-12-16 18:30:00\n",
       "Name: date, dtype: object"
      ]
     },
     "execution_count": 5,
     "metadata": {},
     "output_type": "execute_result"
    }
   ],
   "source": [
    "df.date.describe()"
   ]
  },
  {
   "cell_type": "code",
   "execution_count": 6,
   "metadata": {},
   "outputs": [],
   "source": [
    "df.columns = ['artist', 'date', 'location']    # rename loc -> location\n",
    "domestics = df[df['location'].str.endswith('US')]    # drop any foreign gigs\n",
    "recent_domestics = domestics[domestics['date'] >= '2015']    #  drop any gigs older than 5 yrs\n",
    "locations = recent_domestics.copy()"
   ]
  },
  {
   "cell_type": "code",
   "execution_count": 7,
   "metadata": {},
   "outputs": [
    {
     "data": {
      "text/plain": [
       "'There are 2023 unique locations'"
      ]
     },
     "execution_count": 7,
     "metadata": {},
     "output_type": "execute_result"
    }
   ],
   "source": [
    "unique_locations = locations['location'].unique()\n",
    "f'There are {unique_locations.shape[0]} unique locations'"
   ]
  },
  {
   "cell_type": "markdown",
   "metadata": {},
   "source": [
    "Get lat longs from googlemaps"
   ]
  },
  {
   "cell_type": "code",
   "execution_count": 8,
   "metadata": {},
   "outputs": [],
   "source": [
    "# unique_loc_w_latlong = []\n",
    "\n",
    "# for i, location in enumerate(unique_locations):\n",
    "#     row = {}\n",
    "#     lat, lng = hb.get_latlong(location)\n",
    "#     row['location'] = location\n",
    "#     row['lat'] = lat\n",
    "#     row['lng'] = lng\n",
    "#     unique_loc_w_latlong.append(row)\n",
    "#     if i % 50 == 0:\n",
    "#         time.sleep(2)\n",
    "#     if i % 100 == 0:\n",
    "#         print(i)                # Slowish "
   ]
  },
  {
   "cell_type": "code",
   "execution_count": 9,
   "metadata": {},
   "outputs": [
    {
     "ename": "NameError",
     "evalue": "name 'unique_loc_w_latlong' is not defined",
     "output_type": "error",
     "traceback": [
      "\u001b[0;31m---------------------------------------------------------------------------\u001b[0m",
      "\u001b[0;31mNameError\u001b[0m                                 Traceback (most recent call last)",
      "\u001b[0;32m<ipython-input-9-d216906840c9>\u001b[0m in \u001b[0;36m<module>\u001b[0;34m()\u001b[0m\n\u001b[0;32m----> 1\u001b[0;31m \u001b[0mlatlongs_df\u001b[0m \u001b[0;34m=\u001b[0m \u001b[0mpd\u001b[0m\u001b[0;34m.\u001b[0m\u001b[0mDataFrame\u001b[0m\u001b[0;34m(\u001b[0m\u001b[0munique_loc_w_latlong\u001b[0m\u001b[0;34m)\u001b[0m\u001b[0;34m\u001b[0m\u001b[0m\n\u001b[0m\u001b[1;32m      2\u001b[0m \u001b[0mlatlongs_df\u001b[0m\u001b[0;34m.\u001b[0m\u001b[0mhead\u001b[0m\u001b[0;34m(\u001b[0m\u001b[0;34m)\u001b[0m\u001b[0;34m\u001b[0m\u001b[0m\n",
      "\u001b[0;31mNameError\u001b[0m: name 'unique_loc_w_latlong' is not defined"
     ]
    }
   ],
   "source": [
    "latlongs_df = pd.DataFrame(unique_loc_w_latlong)\n",
    "latlongs_df.head()"
   ]
  },
  {
   "cell_type": "code",
   "execution_count": 61,
   "metadata": {},
   "outputs": [
    {
     "name": "stdout",
     "output_type": "stream",
     "text": [
      "(75699, 3)\n"
     ]
    },
    {
     "data": {
      "text/plain": [
       "(75699, 5)"
      ]
     },
     "execution_count": 61,
     "metadata": {},
     "output_type": "execute_result"
    }
   ],
   "source": [
    "shows_w_latlong = pd.merge(locations, latlongs_df, on='location', how='left')\n",
    "print(locations.shape)\n",
    "shows_w_latlong.shape"
   ]
  },
  {
   "cell_type": "code",
   "execution_count": 62,
   "metadata": {},
   "outputs": [],
   "source": [
    "shows_w_latlong.to_json('shows_w_latlong.json')"
   ]
  },
  {
   "cell_type": "markdown",
   "metadata": {},
   "source": [
    "### Look for Similar Artists"
   ]
  },
  {
   "cell_type": "code",
   "execution_count": 4,
   "metadata": {},
   "outputs": [],
   "source": [
    "shows_w_latlong = pd.read_json('shows_w_latlong.json')"
   ]
  },
  {
   "cell_type": "code",
   "execution_count": 5,
   "metadata": {},
   "outputs": [],
   "source": [
    "artists_playlists = pd.read_json('trimmed_artists_w_flags.json', lines=True)"
   ]
  },
  {
   "cell_type": "code",
   "execution_count": 6,
   "metadata": {},
   "outputs": [],
   "source": [
    "artists_playlists['artist'] = artists_playlists['artist'].map(str.lower)\n",
    "shows_w_latlong['artist'] = shows_w_latlong['artist'].map(str.lower)"
   ]
  },
  {
   "cell_type": "code",
   "execution_count": 7,
   "metadata": {},
   "outputs": [],
   "source": [
    "similar_artist_model = hb.SimilarArtistModel(artists_playlists)"
   ]
  },
  {
   "cell_type": "code",
   "execution_count": 8,
   "metadata": {},
   "outputs": [
    {
     "data": {
      "text/html": [
       "<div>\n",
       "<style scoped>\n",
       "    .dataframe tbody tr th:only-of-type {\n",
       "        vertical-align: middle;\n",
       "    }\n",
       "\n",
       "    .dataframe tbody tr th {\n",
       "        vertical-align: top;\n",
       "    }\n",
       "\n",
       "    .dataframe thead th {\n",
       "        text-align: right;\n",
       "    }\n",
       "</style>\n",
       "<table border=\"1\" class=\"dataframe\">\n",
       "  <thead>\n",
       "    <tr style=\"text-align: right;\">\n",
       "      <th></th>\n",
       "      <th>artist</th>\n",
       "      <th>playlist_08CJ6fWrTA1vMfwVwAxWUl</th>\n",
       "      <th>playlist_0Gy1TwCxPFTMCiwxGLVkc1</th>\n",
       "      <th>playlist_0T22esVKW7cTZEN7XzXV14</th>\n",
       "      <th>playlist_0YMVY3uhQNd7WUf0hSByrX</th>\n",
       "      <th>playlist_0ZWYUjUMhaq0Rammqq3qu1</th>\n",
       "      <th>playlist_0bx5Dgu5yOEhST49LP67su</th>\n",
       "      <th>playlist_0fmLn46c92nP4dePQSZlsz</th>\n",
       "      <th>playlist_0k7YwkrfJ2BsRMFBP5W5xK</th>\n",
       "      <th>playlist_0yfTPCk6Cnhm9wtoEaXXlo</th>\n",
       "      <th>...</th>\n",
       "      <th>playlist_73gXbLcjix7p1pPsQClusE</th>\n",
       "      <th>playlist_7A2YimOfIrmAWkCeSIY8Rq</th>\n",
       "      <th>playlist_7EnyqmmhFgfhicejZiVV13</th>\n",
       "      <th>playlist_7EpJpnU6KrSc430F8B5tM7</th>\n",
       "      <th>playlist_7FDyC1JdV3jkGzAE9BONKt</th>\n",
       "      <th>playlist_7HQu1GUDVSx64GdCpaB88I</th>\n",
       "      <th>playlist_7JXJKP3xMvIMbEBBGApTPQ</th>\n",
       "      <th>playlist_7b9DiMN2kttG8lYQogfQBw</th>\n",
       "      <th>playlist_7fzFQUIVM4TumzRWo5UFP2</th>\n",
       "      <th>playlist_7kdOsNnHtzwncTBnI3J17w</th>\n",
       "    </tr>\n",
       "  </thead>\n",
       "  <tbody>\n",
       "    <tr>\n",
       "      <th>1601</th>\n",
       "      <td>van morrison</td>\n",
       "      <td>0</td>\n",
       "      <td>0</td>\n",
       "      <td>0</td>\n",
       "      <td>0</td>\n",
       "      <td>0</td>\n",
       "      <td>0</td>\n",
       "      <td>0</td>\n",
       "      <td>0</td>\n",
       "      <td>0</td>\n",
       "      <td>...</td>\n",
       "      <td>0</td>\n",
       "      <td>0</td>\n",
       "      <td>0</td>\n",
       "      <td>0</td>\n",
       "      <td>0</td>\n",
       "      <td>0</td>\n",
       "      <td>0</td>\n",
       "      <td>0</td>\n",
       "      <td>0</td>\n",
       "      <td>0</td>\n",
       "    </tr>\n",
       "  </tbody>\n",
       "</table>\n",
       "<p>1 rows × 1553 columns</p>\n",
       "</div>"
      ],
      "text/plain": [
       "            artist  playlist_08CJ6fWrTA1vMfwVwAxWUl  \\\n",
       "1601  van morrison                                0   \n",
       "\n",
       "      playlist_0Gy1TwCxPFTMCiwxGLVkc1  playlist_0T22esVKW7cTZEN7XzXV14  \\\n",
       "1601                                0                                0   \n",
       "\n",
       "      playlist_0YMVY3uhQNd7WUf0hSByrX  playlist_0ZWYUjUMhaq0Rammqq3qu1  \\\n",
       "1601                                0                                0   \n",
       "\n",
       "      playlist_0bx5Dgu5yOEhST49LP67su  playlist_0fmLn46c92nP4dePQSZlsz  \\\n",
       "1601                                0                                0   \n",
       "\n",
       "      playlist_0k7YwkrfJ2BsRMFBP5W5xK  playlist_0yfTPCk6Cnhm9wtoEaXXlo  \\\n",
       "1601                                0                                0   \n",
       "\n",
       "                   ...                 playlist_73gXbLcjix7p1pPsQClusE  \\\n",
       "1601               ...                                               0   \n",
       "\n",
       "      playlist_7A2YimOfIrmAWkCeSIY8Rq  playlist_7EnyqmmhFgfhicejZiVV13  \\\n",
       "1601                                0                                0   \n",
       "\n",
       "      playlist_7EpJpnU6KrSc430F8B5tM7  playlist_7FDyC1JdV3jkGzAE9BONKt  \\\n",
       "1601                                0                                0   \n",
       "\n",
       "      playlist_7HQu1GUDVSx64GdCpaB88I  playlist_7JXJKP3xMvIMbEBBGApTPQ  \\\n",
       "1601                                0                                0   \n",
       "\n",
       "      playlist_7b9DiMN2kttG8lYQogfQBw  playlist_7fzFQUIVM4TumzRWo5UFP2  \\\n",
       "1601                                0                                0   \n",
       "\n",
       "      playlist_7kdOsNnHtzwncTBnI3J17w  \n",
       "1601                                0  \n",
       "\n",
       "[1 rows x 1553 columns]"
      ]
     },
     "execution_count": 8,
     "metadata": {},
     "output_type": "execute_result"
    }
   ],
   "source": [
    "artists_playlists[artists_playlists['artist']=='van morrison']\n",
    "# shows_w_latlong[shows_w_latlong['artist']=='van morrison']"
   ]
  },
  {
   "cell_type": "code",
   "execution_count": 13,
   "metadata": {},
   "outputs": [
    {
     "name": "stdin",
     "output_type": "stream",
     "text": [
      "Enter Artist: the black keys\n"
     ]
    },
    {
     "name": "stdout",
     "output_type": "stream",
     "text": [
      "Similar Band: THE STRUTS - - Cosine Similarity: 0.345\n",
      "\t {'new': 'Missoula, MT, US', 'played': 'Tacoma, WA, US', 'distance': 398.0}\n",
      "\t {'new': 'Salt Lake City, UT, US', 'played': 'Denver, CO, US', 'distance': 371.0}\n",
      "\t {'new': 'New Orleans, LA, US', 'played': 'Houston, TX, US', 'distance': 318.0}\n",
      "\t {'new': 'Mobile, AL, US', 'played': 'Atlanta, GA, US', 'distance': 300.0}\n",
      "\t {'new': 'Destin, FL, US', 'played': 'Atlanta, GA, US', 'distance': 263.0}\n",
      "\t {'new': 'Fort Smith, AR, US', 'played': 'Fort Worth, TX, US', 'distance': 247.0}\n",
      "\t {'new': 'Las Vegas, NV, US', 'played': 'Inglewood, CA, US', 'distance': 237.0}\n",
      "\t {'new': 'Sioux City, IA, US', 'played': 'Minneapolis, MN, US', 'distance': 232.0}\n",
      "\t {'new': 'Charleston, SC, US', 'played': 'Raleigh, NC, US', 'distance': 220.0}\n",
      "\t {'new': 'Tulsa, OK, US', 'played': 'Kansas City, MO, US', 'distance': 218.0}\n",
      "Similar Band: DES ROCS - - Cosine Similarity: 0.402\n",
      "\t {'new': 'New Orleans, LA, US', 'played': 'Houston, TX, US', 'distance': 318.0}\n",
      "\t {'new': 'South Burlington, VT, US', 'played': 'Hunter, NY, US', 'distance': 164.0}\n",
      "\t {'new': 'Wilmington, NC, US', 'played': 'Raleigh, NC, US', 'distance': 116.0}\n",
      "\t {'new': 'Harrisburg, PA, US', 'played': 'Philadelphia, PA, US', 'distance': 94.0}\n",
      "\t {'new': 'Hartford, CT, US', 'played': 'Hunter, NY, US', 'distance': 85.0}\n",
      "\t {'new': 'West Palm Beach, FL, US', 'played': 'Sunrise, FL, US', 'distance': 40.0}\n",
      "\t {'new': 'Dallas, TX, US', 'played': 'Fort Worth, TX, US', 'distance': 31.0}\n",
      "\t {'new': 'Del Mar, CA, US', 'played': 'San Diego, CA, US', 'distance': 18.0}\n",
      "\t {'new': 'St. Paul, MN, US', 'played': 'Minneapolis, MN, US', 'distance': 9.0}\n",
      "\t {'new': 'Los Angeles, CA, US', 'played': 'Inglewood, CA, US', 'distance': 9.0}\n"
     ]
    }
   ],
   "source": [
    "main_artist = input(\"Enter Artist:\").lower()\n",
    "num_artists = 2\n",
    "if main_artist in shows_w_latlong['artist'].values:\n",
    "    similar_artists = similar_artist_model.find_artists_sim_to(main_artist, n_neighbors=num_artists)\n",
    "\n",
    "    for artist_tup in similar_artists:\n",
    "        artist, cosine_sim = artist_tup\n",
    "        print(f'Similar Band: {artist.upper()} - - Cosine Similarity: {cosine_sim}')\n",
    "        new_spots = hb.pilfer_similar_artist(ref_df=shows_w_latlong,\n",
    "                                             main_artist=main_artist,\n",
    "                                             similar_artist=artist,\n",
    "                                             max_new_cities=10)\n",
    "        for spot in new_spots:\n",
    "            print('\\t', spot)\n",
    "else:\n",
    "    print(f'{main_artist.title()}: No Recent Shows OR Not In 20 Of Top Playlists')"
   ]
  },
  {
   "cell_type": "code",
   "execution_count": 84,
   "metadata": {},
   "outputs": [
    {
     "name": "stdin",
     "output_type": "stream",
     "text": [
      "Greg added this arcade fire\n"
     ]
    },
    {
     "name": "stdout",
     "output_type": "stream",
     "text": [
      "Arcade Fire: No Recent Shows OR Not In 20 Of Top Playlists\n"
     ]
    }
   ],
   "source": [
    "main_artist = input(\"Greg added this\").lower()\n",
    "num_artists = 5\n",
    "if main_artist in shows_w_latlong['artist'].values:\n",
    "    similar_artists = similar_artist_model.find_artists_sim_to(main_artist, n_neighbors=num_artists)\n",
    "    for artist, cosine_sim in similar_artists:\n",
    "        print(f'Similar Band: {artist.upper()} - - Cosine Similarity: {cosine_sim}')\n",
    "        new_spots = hb.pilfer_similar_artist(ref_df=shows_w_latlong,\n",
    "                                             main_artist=main_artist,\n",
    "                                             similar_artist=artist,\n",
    "                                             max_new_cities=3)\n",
    "        for spot in new_spots:\n",
    "            print('\\t', spot)\n",
    "else:\n",
    "    print(f'{main_artist.title()}: No Recent Shows OR Not In 20 Of Top Playlists')"
   ]
  },
  {
   "cell_type": "code",
   "execution_count": 90,
   "metadata": {},
   "outputs": [
    {
     "data": {
      "text/plain": [
       "'Arcade Fire: No Recent Shows OR Not In 20 Of Top Playlists'"
      ]
     },
     "execution_count": 90,
     "metadata": {},
     "output_type": "execute_result"
    }
   ],
   "source": [
    "artist_in_question = 'arcade fire'\n",
    "similar_artist_model.find_similar_artist_venues(artist_in_question, shows_w_latlong)"
   ]
  },
  {
   "cell_type": "code",
   "execution_count": 89,
   "metadata": {},
   "outputs": [],
   "source": []
  },
  {
   "cell_type": "code",
   "execution_count": 68,
   "metadata": {},
   "outputs": [
    {
     "name": "stdout",
     "output_type": "stream",
     "text": [
      "/Users/patrickfuller/flatiron/capstone/solve_music_probs\n"
     ]
    }
   ],
   "source": [
    "import pickle\n",
    "!pwd"
   ]
  },
  {
   "cell_type": "code",
   "execution_count": 94,
   "metadata": {},
   "outputs": [],
   "source": [
    "with open('sim_artist_model.pkl', 'wb') as f:\n",
    "    pickle.dump(similar_artist_model, f)"
   ]
  },
  {
   "cell_type": "code",
   "execution_count": null,
   "metadata": {},
   "outputs": [],
   "source": []
  }
 ],
 "metadata": {
  "kernelspec": {
   "display_name": "learn-env",
   "language": "python",
   "name": "learn-env"
  },
  "language_info": {
   "codemirror_mode": {
    "name": "ipython",
    "version": 3
   },
   "file_extension": ".py",
   "mimetype": "text/x-python",
   "name": "python",
   "nbconvert_exporter": "python",
   "pygments_lexer": "ipython3",
   "version": "3.6.6"
  }
 },
 "nbformat": 4,
 "nbformat_minor": 2
}
