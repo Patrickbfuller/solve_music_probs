{
 "cells": [
  {
   "cell_type": "code",
   "execution_count": 2,
   "metadata": {},
   "outputs": [],
   "source": [
    "import requests\n",
    "import json\n",
    "import googlemaps"
   ]
  },
  {
   "cell_type": "code",
   "execution_count": 3,
   "metadata": {},
   "outputs": [],
   "source": [
    "with open('/Users/patrickfuller/.secrets/googlemap_api.json') as f:\n",
    "    api_key = json.load(f)['api_key']"
   ]
  },
  {
   "cell_type": "code",
   "execution_count": 4,
   "metadata": {},
   "outputs": [],
   "source": [
    "gmaps = googlemaps.Client(key=api_key)"
   ]
  },
  {
   "cell_type": "code",
   "execution_count": 18,
   "metadata": {},
   "outputs": [],
   "source": [
    "response = gmaps.geocode(address=['gilford, nh', 'pinehurst, nx'])"
   ]
  },
  {
   "cell_type": "code",
   "execution_count": 19,
   "metadata": {},
   "outputs": [
    {
     "data": {
      "text/plain": [
       "[{'address_components': [{'long_name': 'Gilford',\n",
       "    'short_name': 'Gilford',\n",
       "    'types': ['locality', 'political']},\n",
       "   {'long_name': 'Meredith Town',\n",
       "    'short_name': 'Meredith Town',\n",
       "    'types': ['administrative_area_level_3', 'political']},\n",
       "   {'long_name': 'Belknap County',\n",
       "    'short_name': 'Belknap County',\n",
       "    'types': ['administrative_area_level_2', 'political']},\n",
       "   {'long_name': 'New Hampshire',\n",
       "    'short_name': 'NH',\n",
       "    'types': ['administrative_area_level_1', 'political']},\n",
       "   {'long_name': 'United States',\n",
       "    'short_name': 'US',\n",
       "    'types': ['country', 'political']},\n",
       "   {'long_name': '03249', 'short_name': '03249', 'types': ['postal_code']}],\n",
       "  'formatted_address': 'Gilford, NH 03249, USA',\n",
       "  'geometry': {'bounds': {'northeast': {'lat': 43.6409419, 'lng': -71.3112989},\n",
       "    'southwest': {'lat': 43.4810949, 'lng': -71.4585599}},\n",
       "   'location': {'lat': 43.5475771, 'lng': -71.4067385},\n",
       "   'location_type': 'APPROXIMATE',\n",
       "   'viewport': {'northeast': {'lat': 43.6409419, 'lng': -71.3112989},\n",
       "    'southwest': {'lat': 43.4810949, 'lng': -71.4585599}}},\n",
       "  'partial_match': True,\n",
       "  'place_id': 'ChIJBfZYDxExs0wRT5xv57UQm8E',\n",
       "  'types': ['locality', 'political']},\n",
       " {'address_components': [{'long_name': 'Pinehurst',\n",
       "    'short_name': 'Pinehurst',\n",
       "    'types': ['locality', 'political']},\n",
       "   {'long_name': '9, Mineral Springs',\n",
       "    'short_name': '9, Mineral Springs',\n",
       "    'types': ['administrative_area_level_3', 'political']},\n",
       "   {'long_name': 'Moore County',\n",
       "    'short_name': 'Moore County',\n",
       "    'types': ['administrative_area_level_2', 'political']},\n",
       "   {'long_name': 'North Carolina',\n",
       "    'short_name': 'NC',\n",
       "    'types': ['administrative_area_level_1', 'political']},\n",
       "   {'long_name': 'United States',\n",
       "    'short_name': 'US',\n",
       "    'types': ['country', 'political']}],\n",
       "  'formatted_address': 'Pinehurst, NC, USA',\n",
       "  'geometry': {'bounds': {'northeast': {'lat': 35.247934, 'lng': -79.4219408},\n",
       "    'southwest': {'lat': 35.153372, 'lng': -79.529315}},\n",
       "   'location': {'lat': 35.1954345, 'lng': -79.4694767},\n",
       "   'location_type': 'APPROXIMATE',\n",
       "   'viewport': {'northeast': {'lat': 35.247934, 'lng': -79.4219408},\n",
       "    'southwest': {'lat': 35.153372, 'lng': -79.529315}}},\n",
       "  'partial_match': True,\n",
       "  'place_id': 'ChIJA1NYiPuzVIgRQEyY3vcTFgc',\n",
       "  'types': ['locality', 'political']}]"
      ]
     },
     "execution_count": 19,
     "metadata": {},
     "output_type": "execute_result"
    }
   ],
   "source": [
    "response"
   ]
  },
  {
   "cell_type": "code",
   "execution_count": null,
   "metadata": {},
   "outputs": [],
   "source": []
  }
 ],
 "metadata": {
  "kernelspec": {
   "display_name": "learn-env",
   "language": "python",
   "name": "learn-env"
  },
  "language_info": {
   "codemirror_mode": {
    "name": "ipython",
    "version": 3
   },
   "file_extension": ".py",
   "mimetype": "text/x-python",
   "name": "python",
   "nbconvert_exporter": "python",
   "pygments_lexer": "ipython3",
   "version": "3.6.6"
  }
 },
 "nbformat": 4,
 "nbformat_minor": 2
}
